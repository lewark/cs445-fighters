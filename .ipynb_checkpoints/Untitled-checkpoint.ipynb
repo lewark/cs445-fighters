{
 "cells": [
  {
   "cell_type": "markdown",
   "id": "c94f10f1-4298-4646-867c-d8e8b7c30c27",
   "metadata": {},
   "source": [
    "# PPO Tuning for Street Fighter II: Special Champions"
   ]
  },
  {
   "cell_type": "code",
   "execution_count": 1,
   "id": "7abcd248-4582-42f0-993d-ae89cc07f83e",
   "metadata": {},
   "outputs": [],
   "source": [
    "import os\n",
    "import gc\n",
    "import sys\n",
    "import copy\n",
    "import time\n",
    "import torch\n",
    "import numpy as np\n",
    "import pandas as pd\n",
    "import matplotlib.pyplot as plt\n",
    "from mpl_toolkits.mplot3d import Axes3D\n",
    "from itertools import product\n",
    "from typing import Any, Optional, Union\n",
    "\n",
    "import cv2\n",
    "import retro\n",
    "from gymnasium import Env\n",
    "from gymnasium.spaces import MultiBinary, Box\n",
    "from gymnasium.core import ActType, ObsType, RenderFrame, SupportsFloat\n",
    "\n",
    "from stable_baselines3 import PPO, A2C\n",
    "from stable_baselines3.common.monitor import Monitor\n",
    "from stable_baselines3.common.env_util import make_vec_env\n",
    "from stable_baselines3.common.evaluation import evaluate_policy\n",
    "from stable_baselines3.common.vec_env import DummyVecEnv, VecFrameStack, SubprocVecEnv\n",
    "\n",
    "sys.path.append('/home/ulkryxx/cs445-fighters')\n",
    "\n",
    "from fighters.common.ppo_fighter_envs import StreetFighter, make_env\n",
    "from fighters.common.train import train_model\n",
    "from fighters.common import fighter_plots\n"
   ]
  },
  {
   "cell_type": "code",
   "execution_count": null,
   "id": "3d03669f-6506-4f31-9ade-175b0aa086cc",
   "metadata": {},
   "outputs": [],
   "source": [
    "sys.path\n"
   ]
  },
  {
   "cell_type": "markdown",
   "id": "59e1b84f-6183-4142-8eb7-559d55600cd0",
   "metadata": {},
   "source": [
    "## PPO Baseline Testing: 0 Timesteps\n",
    "\n",
    "Check model performance consistancy with a random seed, to see how it performs with different policies using default hyperparameters. \n",
    "Having this baseline will help in deducing if an improvement of model performance is reached through our hyperparameter experiments using grid search."
   ]
  },
  {
   "cell_type": "code",
   "execution_count": null,
   "id": "3dcd8825-fdc7-4ba9-af1b-a2529b70be6f",
   "metadata": {},
   "outputs": [],
   "source": [
    "n_policy = ['CnnPolicy', 'MlpPolicy']\n",
    "param_options = []\n",
    "for policy in n_policy:\n",
    "    param_options.append({\"policy\": policy})\n",
    "    \n",
    "total_timesteps = 0\n",
    "n_procs = 10\n",
    "render_mode = None\n",
    "archs = []\n",
    "count = 1\n",
    "total = 3\n",
    "\n",
    "for model_options in param_options:\n",
    "    for _ in range(0, total):\n",
    "        Env = make_env(StreetFighter, n_procs, render_mode = render_mode)\n",
    "        print(f'Starting architecture {count} of {total*2}')\n",
    "        archs.append(train_model(PPO, Env, model_options, total_timesteps = total_timesteps))\n",
    "        count+=1\n",
    "        Env.close()"
   ]
  },
  {
   "cell_type": "code",
   "execution_count": null,
   "id": "f1f32ffa-e70e-426e-b3b2-c58be7266612",
   "metadata": {},
   "outputs": [],
   "source": [
    "archs"
   ]
  },
  {
   "cell_type": "code",
   "execution_count": null,
   "id": "9e6e53c8-0893-4b2d-886b-a0be79cc95c5",
   "metadata": {},
   "outputs": [],
   "source": [
    "base_run = pd.DataFrame(archs)\n",
    "base_run.columns = ['Policy', 'Board', 'Episode Rewards', 'Episode Stds', 'Mean Reward', 'Std Mean', 'Total Reward', 'Elapsed Time']\n",
    "\n",
    "cols_to_numeric = ['Mean Reward', 'Std Mean', 'Total Reward', 'Elapsed Time']\n",
    "arrs_to_numeric = ['Episode Rewards', 'Episode Stds']\n",
    "for col in cols_to_numeric:\n",
    "    base_run[col] = pd.to_numeric(base_run[col], errors='coerce')\n",
    "    \n",
    "total_time = base_run['Elapsed Time'].sum() / 60 / 60\n",
    "print(f'total time: {total_time} hours')"
   ]
  },
  {
   "cell_type": "code",
   "execution_count": null,
   "id": "10ec93b8-a3bd-4216-9eb5-072d3e333073",
   "metadata": {},
   "outputs": [],
   "source": [
    "base_run"
   ]
  },
  {
   "cell_type": "code",
   "execution_count": null,
   "id": "ebfdc419-9b99-4e66-9182-20008e8a8a83",
   "metadata": {},
   "outputs": [],
   "source": [
    "%store base_run"
   ]
  },
  {
   "cell_type": "code",
   "execution_count": null,
   "id": "e58c74de-7b9d-4694-add8-623dee30ddcd",
   "metadata": {},
   "outputs": [],
   "source": [
    "%store -r base_run"
   ]
  },
  {
   "cell_type": "code",
   "execution_count": null,
   "id": "6c6d17d5-7e43-4be9-8baf-a89822d8d0b1",
   "metadata": {},
   "outputs": [],
   "source": [
    "mlp_base_run = base_run[base_run['Policy'] == 'MlpPolicy']\n",
    "mlp_base_run"
   ]
  },
  {
   "cell_type": "code",
   "execution_count": null,
   "id": "c2e89649-b643-46fb-b019-d7b7e99d67cf",
   "metadata": {},
   "outputs": [],
   "source": [
    "cnn_base_run = base_run[base_run['Policy'] == 'CnnPolicy']\n",
    "cnn_base_run"
   ]
  },
  {
   "cell_type": "code",
   "execution_count": null,
   "id": "14f54524-f583-4d6b-a0ce-c22a150c6b1f",
   "metadata": {},
   "outputs": [],
   "source": [
    "fighter_plots.plot_reward_mean(base_run, 'Policy')"
   ]
  },
  {
   "cell_type": "code",
   "execution_count": null,
   "id": "f969b73b-e5e8-4151-b013-8f65a84415b8",
   "metadata": {},
   "outputs": [],
   "source": [
    "fighter_plots.plot_reward_std(base_run, 'Policy')"
   ]
  },
  {
   "cell_type": "code",
   "execution_count": null,
   "id": "9d96cb91-ac46-45d9-8a4a-f38a55316912",
   "metadata": {},
   "outputs": [],
   "source": [
    "mlp_i = np.argmax(mlp_base_run['Mean Reward'])\n",
    "mlp_winner = mlp_base_run.iloc[mlp_i]\n",
    "print(\"The MlpPolicy model with the highest reward mean, during the 0 time step base run, is:\")\n",
    "print(mlp_winner)"
   ]
  },
  {
   "cell_type": "code",
   "execution_count": null,
   "id": "fe10f777-8ddc-4f5a-ab18-bdb5425e54bb",
   "metadata": {},
   "outputs": [],
   "source": [
    "cnn_i = np.argmax(cnn_base_run['Mean Reward'])\n",
    "cnn_winner = cnn_base_run.iloc[cnn_i]\n",
    "print(\"The CnnPolicy model with the highest reward mean, during 0 time step base run, is:\")\n",
    "print(cnn_winner)"
   ]
  },
  {
   "cell_type": "code",
   "execution_count": null,
   "id": "d8d701cb-344e-482c-91f5-d54335985cc7",
   "metadata": {},
   "outputs": [],
   "source": [
    "# del n_policy, archs, cnn_base_run, mlp_base_run\n",
    "# torch.cuda.empty_cache()\n",
    "gc.collect()"
   ]
  },
  {
   "cell_type": "code",
   "execution_count": null,
   "id": "62f5d488-95a8-4523-9a47-974db73bfaf8",
   "metadata": {},
   "outputs": [],
   "source": [
    "#Env.close()"
   ]
  },
  {
   "cell_type": "markdown",
   "id": "fc7b4463-cd48-4af3-bdae-a421d383f928",
   "metadata": {},
   "source": [
    "## PPO Defaulting Testing: 1,000,000 Timesteps"
   ]
  },
  {
   "cell_type": "code",
   "execution_count": 2,
   "id": "9a2d6375-3b65-464c-afeb-a7babd7b0cc9",
   "metadata": {},
   "outputs": [],
   "source": [
    "total_timesteps = 1000000\n",
    "n_procs = 10\n",
    "render_mode = \"human\"\n",
    "archs = []\n",
    "count = 1\n",
    "total = 3\n",
    "\n",
    "# Env = StreetFighter()\n",
    "# fighter_envs.run(Env)"
   ]
  },
  {
   "cell_type": "code",
   "execution_count": 3,
   "id": "1f3121c9-46e6-4f33-8358-ee87cb3a5b6c",
   "metadata": {
    "scrolled": true
   },
   "outputs": [
    {
     "name": "stdout",
     "output_type": "stream",
     "text": [
      "Starting architecture 1 of 4\n",
      "Learning...\n"
     ]
    },
    {
     "data": {
      "application/vnd.jupyter.widget-view+json": {
       "model_id": "63061ca6a0a94515b180ac21b137b0f3",
       "version_major": 2,
       "version_minor": 0
      },
      "text/plain": [
       "Output()"
      ]
     },
     "metadata": {},
     "output_type": "display_data"
    },
    {
     "data": {
      "text/html": [
       "<pre style=\"white-space:pre;overflow-x:auto;line-height:normal;font-family:Menlo,'DejaVu Sans Mono',consolas,'Courier New',monospace\"></pre>\n"
      ],
      "text/plain": []
     },
     "metadata": {},
     "output_type": "display_data"
    },
    {
     "data": {
      "text/html": [
       "<pre style=\"white-space:pre;overflow-x:auto;line-height:normal;font-family:Menlo,'DejaVu Sans Mono',consolas,'Courier New',monospace\">\n",
       "</pre>\n"
      ],
      "text/plain": [
       "\n"
      ]
     },
     "metadata": {},
     "output_type": "display_data"
    },
    {
     "name": "stdout",
     "output_type": "stream",
     "text": [
      "Learn time: 54.064 minutes\n",
      "Evaluating over 25 episodes...\n",
      "Evaluation time: 15.230 minutes\n",
      "Mean episode reward: -170.45000000000005, Standard deviation: 388.80734058914067\n",
      "Mean episode length: 10961.76, Standard deviation: 4621.530121334275\n",
      "finished architecture ['CnnPolicy', [-471.002, 180.998, -473.902, -411.102, -703.302, -852.802, 229.898, 524.998, -575.502, -547.202, 470.598, -250.302, -44.302, -751.302, -509.402, -43.002, -246.902, 280.998, 164.398, -307.402, -84.302, -247.202, -179.202, 166.698, 418.298], [5769, 5888, 6121, 7471, 5802, 14020, 14098, 14584, 9690, 15594, 15819, 8726, 14860, 5610, 10845, 8651, 8476, 23727, 9273, 13628, 4866, 15140, 8454, 9385, 17547], -170.45000000000005, 10961.76, 3243.844344854355, 913.7936248779297] at 69.294 minutes.\n",
      "Starting architecture 2 of 4\n"
     ]
    },
    {
     "data": {
      "application/vnd.jupyter.widget-view+json": {
       "model_id": "fb3356e872ed479a828147bbbf5c8574",
       "version_major": 2,
       "version_minor": 0
      },
      "text/plain": [
       "Output()"
      ]
     },
     "metadata": {},
     "output_type": "display_data"
    },
    {
     "name": "stdout",
     "output_type": "stream",
     "text": [
      "Learning...\n"
     ]
    },
    {
     "data": {
      "text/html": [
       "<pre style=\"white-space:pre;overflow-x:auto;line-height:normal;font-family:Menlo,'DejaVu Sans Mono',consolas,'Courier New',monospace\"></pre>\n"
      ],
      "text/plain": []
     },
     "metadata": {},
     "output_type": "display_data"
    },
    {
     "data": {
      "text/html": [
       "<pre style=\"white-space:pre;overflow-x:auto;line-height:normal;font-family:Menlo,'DejaVu Sans Mono',consolas,'Courier New',monospace\">\n",
       "</pre>\n"
      ],
      "text/plain": [
       "\n"
      ]
     },
     "metadata": {},
     "output_type": "display_data"
    },
    {
     "name": "stdout",
     "output_type": "stream",
     "text": [
      "Learn time: 53.913 minutes\n",
      "Evaluating over 25 episodes...\n",
      "Evaluation time: 10.795 minutes\n",
      "Mean episode reward: -67.838, Standard deviation: 441.18650467121046\n",
      "Mean episode length: 9655.08, Standard deviation: 3382.9720533282566\n",
      "finished architecture ['CnnPolicy', [47.198, -477.402, -587.302, -89.402, 576.498, 100.198, -135.202, -701.702, 154.298, -578.802, -74.602, -616.502, -352.102, 124.698, 665.998, 557.498, -256.602, 73.298, 364.298, 482.198, 385.898, -773.302, 227.098, 7.398, -819.602], [5783, 6207, 7845, 9213, 10082, 11670, 12428, 5239, 14370, 5501, 15032, 5554, 15757, 11074, 11839, 8053, 7792, 6780, 9363, 8655, 12235, 14157, 5995, 14755, 5998], -67.838, 9655.08, 3234.7584357261658, 647.7200131416321] at 64.708 minutes.\n",
      "Starting architecture 3 of 4\n",
      "Learning...\n"
     ]
    },
    {
     "data": {
      "application/vnd.jupyter.widget-view+json": {
       "model_id": "e91481aa0e714fb99f73f67ffc5eca42",
       "version_major": 2,
       "version_minor": 0
      },
      "text/plain": [
       "Output()"
      ]
     },
     "metadata": {},
     "output_type": "display_data"
    },
    {
     "data": {
      "text/html": [
       "<pre style=\"white-space:pre;overflow-x:auto;line-height:normal;font-family:Menlo,'DejaVu Sans Mono',consolas,'Courier New',monospace\"></pre>\n"
      ],
      "text/plain": []
     },
     "metadata": {},
     "output_type": "display_data"
    },
    {
     "data": {
      "text/html": [
       "<pre style=\"white-space:pre;overflow-x:auto;line-height:normal;font-family:Menlo,'DejaVu Sans Mono',consolas,'Courier New',monospace\">\n",
       "</pre>\n"
      ],
      "text/plain": [
       "\n"
      ]
     },
     "metadata": {},
     "output_type": "display_data"
    },
    {
     "name": "stdout",
     "output_type": "stream",
     "text": [
      "Learn time: 51.992 minutes\n",
      "Evaluating over 25 episodes...\n",
      "Evaluation time: 16.900 minutes\n",
      "Mean episode reward: 72.04199999999999, Standard deviation: 612.0947129848453\n",
      "Mean episode length: 13256.44, Standard deviation: 6486.413357657681\n",
      "finished architecture ['MlpPolicy', [223.998, 134.198, -481.602, -55.602, 121.798, -199.602, -963.402, -258.902, -578.402, -754.302, 56.798, 535.698, 140.598, 75.198, 826.898, -448.302, -627.402, -37.402, -345.702, 544.798, -252.502, 1218.898, 1691.398, 784.898, 448.998], [7240, 7560, 8724, 9293, 11112, 11946, 12487, 12893, 8079, 4484, 11306, 9525, 10150, 10265, 25201, 25294, 16735, 6565, 12822, 27969, 10272, 12429, 23675, 24065, 11320], 72.04199999999999, 13256.44, 3119.5392582416534, 1014.0065989494324] at 68.892 minutes.\n",
      "Starting architecture 4 of 4\n",
      "Learning...\n"
     ]
    },
    {
     "data": {
      "application/vnd.jupyter.widget-view+json": {
       "model_id": "6ff8e1c27d054e2a8f90be67814bac45",
       "version_major": 2,
       "version_minor": 0
      },
      "text/plain": [
       "Output()"
      ]
     },
     "metadata": {},
     "output_type": "display_data"
    },
    {
     "data": {
      "text/html": [
       "<pre style=\"white-space:pre;overflow-x:auto;line-height:normal;font-family:Menlo,'DejaVu Sans Mono',consolas,'Courier New',monospace\"></pre>\n"
      ],
      "text/plain": []
     },
     "metadata": {},
     "output_type": "display_data"
    },
    {
     "data": {
      "text/html": [
       "<pre style=\"white-space:pre;overflow-x:auto;line-height:normal;font-family:Menlo,'DejaVu Sans Mono',consolas,'Courier New',monospace\">\n",
       "</pre>\n"
      ],
      "text/plain": [
       "\n"
      ]
     },
     "metadata": {},
     "output_type": "display_data"
    },
    {
     "name": "stdout",
     "output_type": "stream",
     "text": [
      "Learn time: 50.475 minutes\n",
      "Evaluating over 25 episodes...\n",
      "Evaluation time: 9.788 minutes\n",
      "Mean episode reward: 126.274, Standard deviation: 482.22712763178305\n",
      "Mean episode length: 10876.72, Standard deviation: 2628.8606280288045\n",
      "finished architecture ['MlpPolicy', [-900.802, -73.402, 965.998, 535.698, 34.598, -96.202, 305.698, -401.702, 733.998, 276.498, 1025.198, 79.298, 156.498, 670.098, -640.802, 475.098, 176.098, 166.198, 103.898, 235.498, -399.402, -469.602, 239.898, 510.398, -551.902], [5080, 7521, 8564, 9179, 10697, 11687, 12232, 12532, 13307, 15021, 11539, 9377, 11898, 16375, 14454, 9098, 10474, 12405, 11501, 9829, 5021, 9814, 11491, 10684, 12138], 126.274, 10876.72, 3028.5089190006256, 587.2704253196716] at 60.263 minutes.\n"
     ]
    }
   ],
   "source": [
    "n_policy = ['CnnPolicy', 'MlpPolicy']\n",
    "param_options = []\n",
    "for policy in n_policy:\n",
    "    param_options.append({\"policy\": policy})\n",
    "\n",
    "for model_options in param_options:\n",
    "    for _ in range(0, total):\n",
    "        Env = make_env(StreetFighter, n_procs = n_procs, render_mode = render_mode)\n",
    "        print(f'Starting architecture {count} of {total*2}')\n",
    "        archs.append(train_model(PPO, Env, model_options, total_timesteps = total_timesteps))\n",
    "        count+=1\n",
    "        Env.close()"
   ]
  },
  {
   "cell_type": "code",
   "execution_count": 11,
   "id": "b994c5f7-a376-43af-8fcb-229bb3924476",
   "metadata": {},
   "outputs": [
    {
     "name": "stdout",
     "output_type": "stream",
     "text": [
      "total time: 4.385956005586518 hours\n"
     ]
    }
   ],
   "source": [
    "#base_run_50K = pd.DataFrame(archs)\n",
    "base_run_50K.columns = ['Policy', 'Episode Rewards', 'Episode Lengths', 'Mean Reward', \n",
    "                        'Episode Length Mean', 'Learning Time', 'Evaluation Time']\n",
    "\n",
    "    \n",
    "learn_time = base_run_50K['Learning Time'].sum() / 60 / 60\n",
    "eval_time = base_run_50K['Evaluation Time'].sum() / 60 / 60\n",
    "total_time = learn_time + eval_time\n",
    "print(f'total time: {total_time} hours')"
   ]
  },
  {
   "cell_type": "code",
   "execution_count": 12,
   "id": "60878a3e-de1c-4dfa-bb85-4af415860ee9",
   "metadata": {},
   "outputs": [
    {
     "name": "stdout",
     "output_type": "stream",
     "text": [
      "Stored 'base_run_50K' (DataFrame)\n"
     ]
    }
   ],
   "source": [
    "%store base_run_50K"
   ]
  },
  {
   "cell_type": "code",
   "execution_count": 2,
   "id": "44184b8c-c7cf-4533-9566-92a1db0cf537",
   "metadata": {},
   "outputs": [],
   "source": [
    "%store -r base_run_50K"
   ]
  },
  {
   "cell_type": "code",
   "execution_count": 13,
   "id": "df3a69c6-a7cc-4b9d-8edf-64409db493f5",
   "metadata": {},
   "outputs": [
    {
     "data": {
      "text/html": [
       "<div>\n",
       "<style scoped>\n",
       "    .dataframe tbody tr th:only-of-type {\n",
       "        vertical-align: middle;\n",
       "    }\n",
       "\n",
       "    .dataframe tbody tr th {\n",
       "        vertical-align: top;\n",
       "    }\n",
       "\n",
       "    .dataframe thead th {\n",
       "        text-align: right;\n",
       "    }\n",
       "</style>\n",
       "<table border=\"1\" class=\"dataframe\">\n",
       "  <thead>\n",
       "    <tr style=\"text-align: right;\">\n",
       "      <th></th>\n",
       "      <th>Policy</th>\n",
       "      <th>Episode Rewards</th>\n",
       "      <th>Episode Lengths</th>\n",
       "      <th>Mean Reward</th>\n",
       "      <th>Episode Length Mean</th>\n",
       "      <th>Learning Time</th>\n",
       "      <th>Evaluation Time</th>\n",
       "    </tr>\n",
       "  </thead>\n",
       "  <tbody>\n",
       "    <tr>\n",
       "      <th>2</th>\n",
       "      <td>MlpPolicy</td>\n",
       "      <td>[223.998, 134.198, -481.602, -55.602, 121.798,...</td>\n",
       "      <td>[7240, 7560, 8724, 9293, 11112, 11946, 12487, ...</td>\n",
       "      <td>72.042</td>\n",
       "      <td>13256.44</td>\n",
       "      <td>3119.539258</td>\n",
       "      <td>1014.006599</td>\n",
       "    </tr>\n",
       "    <tr>\n",
       "      <th>3</th>\n",
       "      <td>MlpPolicy</td>\n",
       "      <td>[-900.802, -73.402, 965.998, 535.698, 34.598, ...</td>\n",
       "      <td>[5080, 7521, 8564, 9179, 10697, 11687, 12232, ...</td>\n",
       "      <td>126.274</td>\n",
       "      <td>10876.72</td>\n",
       "      <td>3028.508919</td>\n",
       "      <td>587.270425</td>\n",
       "    </tr>\n",
       "  </tbody>\n",
       "</table>\n",
       "</div>"
      ],
      "text/plain": [
       "      Policy                                    Episode Rewards  \\\n",
       "2  MlpPolicy  [223.998, 134.198, -481.602, -55.602, 121.798,...   \n",
       "3  MlpPolicy  [-900.802, -73.402, 965.998, 535.698, 34.598, ...   \n",
       "\n",
       "                                     Episode Lengths  Mean Reward  \\\n",
       "2  [7240, 7560, 8724, 9293, 11112, 11946, 12487, ...       72.042   \n",
       "3  [5080, 7521, 8564, 9179, 10697, 11687, 12232, ...      126.274   \n",
       "\n",
       "   Episode Length Mean  Learning Time  Evaluation Time  \n",
       "2             13256.44    3119.539258      1014.006599  \n",
       "3             10876.72    3028.508919       587.270425  "
      ]
     },
     "execution_count": 13,
     "metadata": {},
     "output_type": "execute_result"
    }
   ],
   "source": [
    "mlp_base_run = base_run_50K[base_run_50K['Policy'] == 'MlpPolicy']\n",
    "mlp_base_run"
   ]
  },
  {
   "cell_type": "code",
   "execution_count": 14,
   "id": "39b082f7-3010-45f9-b5b8-107a2abdf289",
   "metadata": {},
   "outputs": [
    {
     "data": {
      "text/html": [
       "<div>\n",
       "<style scoped>\n",
       "    .dataframe tbody tr th:only-of-type {\n",
       "        vertical-align: middle;\n",
       "    }\n",
       "\n",
       "    .dataframe tbody tr th {\n",
       "        vertical-align: top;\n",
       "    }\n",
       "\n",
       "    .dataframe thead th {\n",
       "        text-align: right;\n",
       "    }\n",
       "</style>\n",
       "<table border=\"1\" class=\"dataframe\">\n",
       "  <thead>\n",
       "    <tr style=\"text-align: right;\">\n",
       "      <th></th>\n",
       "      <th>Policy</th>\n",
       "      <th>Episode Rewards</th>\n",
       "      <th>Episode Lengths</th>\n",
       "      <th>Mean Reward</th>\n",
       "      <th>Episode Length Mean</th>\n",
       "      <th>Learning Time</th>\n",
       "      <th>Evaluation Time</th>\n",
       "    </tr>\n",
       "  </thead>\n",
       "  <tbody>\n",
       "    <tr>\n",
       "      <th>0</th>\n",
       "      <td>CnnPolicy</td>\n",
       "      <td>[-471.002, 180.998, -473.902, -411.102, -703.3...</td>\n",
       "      <td>[5769, 5888, 6121, 7471, 5802, 14020, 14098, 1...</td>\n",
       "      <td>-170.450</td>\n",
       "      <td>10961.76</td>\n",
       "      <td>3243.844345</td>\n",
       "      <td>913.793625</td>\n",
       "    </tr>\n",
       "    <tr>\n",
       "      <th>1</th>\n",
       "      <td>CnnPolicy</td>\n",
       "      <td>[47.198, -477.402, -587.302, -89.402, 576.498,...</td>\n",
       "      <td>[5783, 6207, 7845, 9213, 10082, 11670, 12428, ...</td>\n",
       "      <td>-67.838</td>\n",
       "      <td>9655.08</td>\n",
       "      <td>3234.758436</td>\n",
       "      <td>647.720013</td>\n",
       "    </tr>\n",
       "  </tbody>\n",
       "</table>\n",
       "</div>"
      ],
      "text/plain": [
       "      Policy                                    Episode Rewards  \\\n",
       "0  CnnPolicy  [-471.002, 180.998, -473.902, -411.102, -703.3...   \n",
       "1  CnnPolicy  [47.198, -477.402, -587.302, -89.402, 576.498,...   \n",
       "\n",
       "                                     Episode Lengths  Mean Reward  \\\n",
       "0  [5769, 5888, 6121, 7471, 5802, 14020, 14098, 1...     -170.450   \n",
       "1  [5783, 6207, 7845, 9213, 10082, 11670, 12428, ...      -67.838   \n",
       "\n",
       "   Episode Length Mean  Learning Time  Evaluation Time  \n",
       "0             10961.76    3243.844345       913.793625  \n",
       "1              9655.08    3234.758436       647.720013  "
      ]
     },
     "execution_count": 14,
     "metadata": {},
     "output_type": "execute_result"
    }
   ],
   "source": [
    "cnn_base_run = base_run_50K[base_run_50K['Policy'] == 'CnnPolicy']\n",
    "cnn_base_run"
   ]
  },
  {
   "cell_type": "code",
   "execution_count": 15,
   "id": "63a2b700-e5c5-49af-a6f8-e9ebd1d53383",
   "metadata": {},
   "outputs": [
    {
     "name": "stdout",
     "output_type": "stream",
     "text": [
      "The MlpPolicy model with the highest reward mean, during the 0 time step base run, is:\n",
      "Policy                                                         MlpPolicy\n",
      "Episode Rewards        [-900.802, -73.402, 965.998, 535.698, 34.598, ...\n",
      "Episode Lengths        [5080, 7521, 8564, 9179, 10697, 11687, 12232, ...\n",
      "Mean Reward                                                      126.274\n",
      "Episode Length Mean                                             10876.72\n",
      "Learning Time                                                3028.508919\n",
      "Evaluation Time                                               587.270425\n",
      "Name: 3, dtype: object\n"
     ]
    }
   ],
   "source": [
    "mlp_i = np.argmax(mlp_base_run['Mean Reward'])\n",
    "mlp_winner = mlp_base_run.iloc[mlp_i]\n",
    "print(\"The MlpPolicy model with the highest reward mean, during the 0 time step base run, is:\")\n",
    "print(mlp_winner)"
   ]
  },
  {
   "cell_type": "code",
   "execution_count": 16,
   "id": "796e7de8-20e5-46f2-9891-fae4f9d17049",
   "metadata": {},
   "outputs": [
    {
     "name": "stdout",
     "output_type": "stream",
     "text": [
      "The CnnPolicy model with the highest reward mean, during 0 time step base run, is:\n",
      "Policy                                                         CnnPolicy\n",
      "Episode Rewards        [47.198, -477.402, -587.302, -89.402, 576.498,...\n",
      "Episode Lengths        [5783, 6207, 7845, 9213, 10082, 11670, 12428, ...\n",
      "Mean Reward                                                      -67.838\n",
      "Episode Length Mean                                              9655.08\n",
      "Learning Time                                                3234.758436\n",
      "Evaluation Time                                               647.720013\n",
      "Name: 1, dtype: object\n"
     ]
    }
   ],
   "source": [
    "cnn_i = np.argmax(cnn_base_run['Mean Reward'])\n",
    "cnn_winner = cnn_base_run.iloc[cnn_i]\n",
    "print(\"The CnnPolicy model with the highest reward mean, during 0 time step base run, is:\")\n",
    "print(cnn_winner)"
   ]
  },
  {
   "cell_type": "code",
   "execution_count": 17,
   "id": "d63bd7ec-a00d-4101-964d-52a067f83554",
   "metadata": {},
   "outputs": [
    {
     "data": {
      "image/png": "[encoded data removed]",
      "text/plain": [
       "<Figure size 432x432 with 1 Axes>"
      ]
     },
     "metadata": {
      "needs_background": "light"
     },
     "output_type": "display_data"
    }
   ],
   "source": [
    "fighter_plots.plot_reward_mean(base_run_50K, 'Policy')"
   ]
  },
  {
   "cell_type": "code",
   "execution_count": 18,
   "id": "2c2475b0-69ed-4038-a93a-95f8521168b4",
   "metadata": {},
   "outputs": [
    {
     "data": {
      "image/png": "[encoded data removed]",
      "text/plain": [
       "<Figure size 432x432 with 1 Axes>"
      ]
     },
     "metadata": {
      "needs_background": "light"
     },
     "output_type": "display_data"
    }
   ],
   "source": [
    "fighter_plots.plot_length_mean(base_run_50K, 'Policy')"
   ]
  },
  {
   "cell_type": "code",
   "execution_count": 11,
   "id": "b0013f9a-d0e4-45e7-9af3-d28c1df2538f",
   "metadata": {},
   "outputs": [],
   "source": [
    "del n_policy, param_options, archs, cnn_base_run, mlp_base_run\n"
   ]
  },
  {
   "cell_type": "code",
   "execution_count": 19,
   "id": "5f7892aa-c2e5-4ed8-bab3-5359231b3660",
   "metadata": {},
   "outputs": [
    {
     "data": {
      "text/plain": [
       "5154"
      ]
     },
     "execution_count": 19,
     "metadata": {},
     "output_type": "execute_result"
    }
   ],
   "source": [
    "gc.collect()"
   ]
  },
  {
   "cell_type": "markdown",
   "id": "428e77c0-b1cd-407d-9482-23cee560e698",
   "metadata": {},
   "source": [
    "## Hyperparameter Testing: Policy, Learning Rate, Batches, and Steps\n",
    "\n",
    "Warning: Kernel will restart during these trainings **unless** Jupyter Notebook's max buffer size has been increased or memory requirements are met. The max buffer size was raised to 7GB for this experiment."
   ]
  },
  {
   "cell_type": "markdown",
   "id": "ef6e3dbc-b3a1-420a-b1dd-462cc75a2e95",
   "metadata": {},
   "source": [
    "Below is a method for creating the first round of model options for the expiriment. The hope was to create a function that would work well in the second round of expiriments. Since the second round requires an assignment of all hyperparamters, a function would have to many input variables."
   ]
  },
  {
   "cell_type": "code",
   "execution_count": 13,
   "id": "ddd8eeb5-2349-4bb2-8772-2f0a478bc1d8",
   "metadata": {},
   "outputs": [],
   "source": [
    "def create_ppo_first_options(n_policy, n_learning_rate, n_batch_size, n_batches):\n",
    "    models = []\n",
    "    for policy in n_policy:\n",
    "        for learning_rate in n_learning_rate:\n",
    "            for batch_size in n_batch_size:\n",
    "                for batches in n_batches:\n",
    "                        models.append({\"policy\": policy, \"learning_rate\": learning_rate, \n",
    "                                       \"n_steps\": batch_size * batches, \"batch_size\": batch_size, \"seed\": 2})\n",
    "    return models"
   ]
  },
  {
   "cell_type": "code",
   "execution_count": 14,
   "id": "a4574880-95aa-43c0-a3a6-272b78aad3c4",
   "metadata": {},
   "outputs": [
    {
     "data": {
      "application/vnd.jupyter.widget-view+json": {
       "model_id": "8fb9b1e164c64ee98b2db09399680c7c",
       "version_major": 2,
       "version_minor": 0
      },
      "text/plain": [
       "Output()"
      ]
     },
     "metadata": {},
     "output_type": "display_data"
    },
    {
     "name": "stdout",
     "output_type": "stream",
     "text": [
      "------------\n",
      "Starting architecture 1 of 54\n",
      "Learning...\n"
     ]
    },
    {
     "data": {
      "text/html": [
       "<pre style=\"white-space:pre;overflow-x:auto;line-height:normal;font-family:Menlo,'DejaVu Sans Mono',consolas,'Courier New',monospace\"></pre>\n"
      ],
      "text/plain": []
     },
     "metadata": {},
     "output_type": "display_data"
    },
    {
     "data": {
      "text/html": [
       "<pre style=\"white-space:pre;overflow-x:auto;line-height:normal;font-family:Menlo,'DejaVu Sans Mono',consolas,'Courier New',monospace\">\n",
       "</pre>\n"
      ],
      "text/plain": [
       "\n"
      ]
     },
     "metadata": {},
     "output_type": "display_data"
    },
    {
     "name": "stdout",
     "output_type": "stream",
     "text": [
      "Learn time: 20.763 minutes\n",
      "Evaluating over 25 episodes...\n",
      "Evaluation time: 2.228 minutes\n",
      "Mean episode reward: -299.766, Standard deviation: 672.1924235693228\n",
      "Mean episode length: 9902.96, Standard deviation: 4266.941335242377\n",
      "finished architecture ['CnnPolicy', 0.0001, 128, 32, 2, [-780.402, -1170.002, 85.898, -280.002, -246.502, -626.802, -385.602, -1103.502, -872.902, 1278.498, -512.402, 612.498, 38.598, 469.998, -396.402, 356.698, -506.202, -290.002, -1049.902, -511.502, -949.402, -621.002, 1249.298, -1250.902, -32.202], [6320, 6377, 6542, 7554, 7832, 7856, 8161, 6196, 5000, 14887, 11015, 17917, 10875, 11398, 12269, 20905, 6892, 16862, 5841, 7447, 5658, 8627, 16191, 10906, 8046], -299.766, 9902.96, 1245.803025484085, 133.65368914604187] at 22.991 minutes.\n"
     ]
    },
    {
     "data": {
      "application/vnd.jupyter.widget-view+json": {
       "model_id": "ce3f98c6947145af87d1236ee6e05456",
       "version_major": 2,
       "version_minor": 0
      },
      "text/plain": [
       "Output()"
      ]
     },
     "metadata": {},
     "output_type": "display_data"
    },
    {
     "name": "stdout",
     "output_type": "stream",
     "text": [
      "------------\n",
      "Starting architecture 2 of 54\n",
      "Learning...\n"
     ]
    },
    {
     "data": {
      "text/html": [
       "<pre style=\"white-space:pre;overflow-x:auto;line-height:normal;font-family:Menlo,'DejaVu Sans Mono',consolas,'Courier New',monospace\"></pre>\n"
      ],
      "text/plain": []
     },
     "metadata": {},
     "output_type": "display_data"
    },
    {
     "data": {
      "text/html": [
       "<pre style=\"white-space:pre;overflow-x:auto;line-height:normal;font-family:Menlo,'DejaVu Sans Mono',consolas,'Courier New',monospace\">\n",
       "</pre>\n"
      ],
      "text/plain": [
       "\n"
      ]
     },
     "metadata": {},
     "output_type": "display_data"
    },
    {
     "name": "stdout",
     "output_type": "stream",
     "text": [
      "Learn time: 21.188 minutes\n",
      "Evaluating over 25 episodes...\n",
      "Evaluation time: 2.245 minutes\n",
      "Mean episode reward: -558.778, Standard deviation: 576.9605950357442\n",
      "Mean episode length: 9612.6, Standard deviation: 3415.4644076611307\n",
      "finished architecture ['CnnPolicy', 0.0001, 512, 32, 2, [-811.802, -550.402, -720.002, -847.102, 124.898, -534.302, -119.602, 9.398, -1015.902, -356.302, 1019.898, -903.602, -673.702, -1301.802, 381.298, -132.302, -1172.602, -551.002, -657.302, -731.702, -51.902, -1593.102, -1195.802, -1247.902, -336.802], [5771, 6323, 7207, 8731, 8900, 10449, 10677, 6174, 6061, 13785, 14710, 5745, 5195, 18014, 10600, 11120, 10637, 16299, 6089, 8243, 12777, 10876, 9857, 9510, 6565], -558.778, 9612.6, 1271.2714149951935, 134.67453742027283] at 23.432 minutes.\n"
     ]
    },
    {
     "data": {
      "application/vnd.jupyter.widget-view+json": {
       "model_id": "c40d146b5a8449f884a0fd0e3663d8d2",
       "version_major": 2,
       "version_minor": 0
      },
      "text/plain": [
       "Output()"
      ]
     },
     "metadata": {},
     "output_type": "display_data"
    },
    {
     "name": "stdout",
     "output_type": "stream",
     "text": [
      "------------\n",
      "Starting architecture 3 of 54\n",
      "Learning...\n"
     ]
    },
    {
     "data": {
      "text/html": [
       "<pre style=\"white-space:pre;overflow-x:auto;line-height:normal;font-family:Menlo,'DejaVu Sans Mono',consolas,'Courier New',monospace\"></pre>\n"
      ],
      "text/plain": []
     },
     "metadata": {},
     "output_type": "display_data"
    },
    {
     "data": {
      "text/html": [
       "<pre style=\"white-space:pre;overflow-x:auto;line-height:normal;font-family:Menlo,'DejaVu Sans Mono',consolas,'Courier New',monospace\">\n",
       "</pre>\n"
      ],
      "text/plain": [
       "\n"
      ]
     },
     "metadata": {},
     "output_type": "display_data"
    },
    {
     "name": "stdout",
     "output_type": "stream",
     "text": [
      "Learn time: 21.059 minutes\n",
      "Evaluating over 25 episodes...\n",
      "Evaluation time: 3.210 minutes\n",
      "Mean episode reward: -315.47, Standard deviation: 642.9348892197405\n",
      "Mean episode length: 10832.0, Standard deviation: 5392.340553043734\n",
      "finished architecture ['CnnPolicy', 0.0001, 1024, 32, 2, [-659.002, 525.498, 37.098, 25.998, -155.802, -1099.502, -319.702, -333.702, 399.898, -444.602, -914.402, -676.302, 155.498, 284.198, -810.102, -379.202, 224.898, -563.302, 11.698, -743.402, -1978.302, 1428.898, -520.902, -645.602, -736.602], [6551, 9178, 9555, 9594, 9931, 11637, 11646, 12016, 14373, 5078, 6098, 9207, 8344, 9301, 14838, 6707, 11318, 14532, 9223, 6083, 16500, 32843, 5568, 11567, 9112], -315.47, 10832.0, 1263.547908782959, 192.62189054489136] at 24.269 minutes.\n"
     ]
    },
    {
     "data": {
      "application/vnd.jupyter.widget-view+json": {
       "model_id": "95fe77b8c6fd4591a8ecd3e2bcd5c155",
       "version_major": 2,
       "version_minor": 0
      },
      "text/plain": [
       "Output()"
      ]
     },
     "metadata": {},
     "output_type": "display_data"
    },
    {
     "name": "stdout",
     "output_type": "stream",
     "text": [
      "------------\n",
      "Starting architecture 4 of 54\n",
      "Learning...\n"
     ]
    },
    {
     "data": {
      "text/html": [
       "<pre style=\"white-space:pre;overflow-x:auto;line-height:normal;font-family:Menlo,'DejaVu Sans Mono',consolas,'Courier New',monospace\"></pre>\n"
      ],
      "text/plain": []
     },
     "metadata": {},
     "output_type": "display_data"
    },
    {
     "data": {
      "text/html": [
       "<pre style=\"white-space:pre;overflow-x:auto;line-height:normal;font-family:Menlo,'DejaVu Sans Mono',consolas,'Courier New',monospace\">\n",
       "</pre>\n"
      ],
      "text/plain": [
       "\n"
      ]
     },
     "metadata": {},
     "output_type": "display_data"
    },
    {
     "name": "stdout",
     "output_type": "stream",
     "text": [
      "Learn time: 13.171 minutes\n",
      "Evaluating over 25 episodes...\n",
      "Evaluation time: 2.913 minutes\n",
      "Mean episode reward: -38.797999999999995, Standard deviation: 552.2009145084785\n",
      "Mean episode length: 11458.24, Standard deviation: 3194.5223527782678\n",
      "finished architecture ['CnnPolicy', 0.0001, 256, 64, 2, [116.198, -786.502, -856.802, -12.702, -689.102, -638.302, 326.298, 243.098, 522.998, -874.402, -654.302, -613.002, -230.102, 651.698, 340.998, -399.502, 435.998, 523.998, -516.402, 13.398, 462.698, -94.602, 1130.098, 647.298, -19.002], [6851, 9248, 9463, 9526, 11855, 12377, 12607, 13507, 14234, 5421, 6479, 16009, 12918, 10938, 8509, 11044, 12385, 12678, 6701, 13847, 14546, 9837, 13242, 19611, 12623], -38.797999999999995, 11458.24, 790.2424917221069, 174.79400157928467] at 16.084 minutes.\n"
     ]
    },
    {
     "data": {
      "application/vnd.jupyter.widget-view+json": {
       "model_id": "866d7230fc3946dcb78190e22dee033a",
       "version_major": 2,
       "version_minor": 0
      },
      "text/plain": [
       "Output()"
      ]
     },
     "metadata": {},
     "output_type": "display_data"
    },
    {
     "name": "stdout",
     "output_type": "stream",
     "text": [
      "------------\n",
      "Starting architecture 5 of 54\n",
      "Learning...\n"
     ]
    },
    {
     "data": {
      "text/html": [
       "<pre style=\"white-space:pre;overflow-x:auto;line-height:normal;font-family:Menlo,'DejaVu Sans Mono',consolas,'Courier New',monospace\"></pre>\n"
      ],
      "text/plain": []
     },
     "metadata": {},
     "output_type": "display_data"
    },
    {
     "data": {
      "text/html": [
       "<pre style=\"white-space:pre;overflow-x:auto;line-height:normal;font-family:Menlo,'DejaVu Sans Mono',consolas,'Courier New',monospace\">\n",
       "</pre>\n"
      ],
      "text/plain": [
       "\n"
      ]
     },
     "metadata": {},
     "output_type": "display_data"
    },
    {
     "name": "stdout",
     "output_type": "stream",
     "text": [
      "Learn time: 13.414 minutes\n",
      "Evaluating over 25 episodes...\n",
      "Evaluation time: 3.051 minutes\n",
      "Mean episode reward: -155.246, Standard deviation: 466.5061020651284\n",
      "Mean episode length: 11634.2, Standard deviation: 3775.3175230700795\n",
      "finished architecture ['CnnPolicy', 0.0001, 1024, 64, 2, [-10.602, -166.802, -982.902, -1084.902, -509.502, -547.502, -216.502, -539.702, 13.598, 101.998, -222.802, 192.598, 50.998, 332.998, 1009.698, -673.402, -765.202, 200.498, -169.002, -254.402, 414.198, 233.098, 275.098, -518.002, -44.702], [5682, 5877, 6849, 7317, 10867, 10928, 5048, 13479, 15439, 15458, 11445, 11456, 13071, 20119, 11600, 12773, 9263, 14723, 8415, 12047, 15193, 10976, 15471, 9683, 17676], -155.246, 11634.2, 804.827555179596, 183.07257056236267] at 16.465 minutes.\n"
     ]
    },
    {
     "data": {
      "application/vnd.jupyter.widget-view+json": {
       "model_id": "49600345eb834289b691ba0dfdacf0cd",
       "version_major": 2,
       "version_minor": 0
      },
      "text/plain": [
       "Output()"
      ]
     },
     "metadata": {},
     "output_type": "display_data"
    },
    {
     "name": "stdout",
     "output_type": "stream",
     "text": [
      "------------\n",
      "Starting architecture 6 of 54\n",
      "Learning...\n"
     ]
    },
    {
     "data": {
      "text/html": [
       "<pre style=\"white-space:pre;overflow-x:auto;line-height:normal;font-family:Menlo,'DejaVu Sans Mono',consolas,'Courier New',monospace\"></pre>\n"
      ],
      "text/plain": []
     },
     "metadata": {},
     "output_type": "display_data"
    },
    {
     "data": {
      "text/html": [
       "<pre style=\"white-space:pre;overflow-x:auto;line-height:normal;font-family:Menlo,'DejaVu Sans Mono',consolas,'Courier New',monospace\">\n",
       "</pre>\n"
      ],
      "text/plain": [
       "\n"
      ]
     },
     "metadata": {},
     "output_type": "display_data"
    },
    {
     "name": "stdout",
     "output_type": "stream",
     "text": [
      "Learn time: 14.092 minutes\n",
      "Evaluating over 25 episodes...\n",
      "Evaluation time: 2.440 minutes\n",
      "Mean episode reward: -323.11, Standard deviation: 352.1415339547438\n",
      "Mean episode length: 9792.52, Standard deviation: 3786.794994398297\n",
      "finished architecture ['CnnPolicy', 0.0001, 2048, 64, 2, [-169.102, -589.602, -266.102, -688.802, -452.802, -254.902, -582.302, -388.002, -510.502, -383.902, -200.402, -885.202, -341.302, -76.702, -762.202, -325.002, -271.402, 139.698, 536.298, -240.902, -422.102, -1045.302, -353.502, 70.698, 385.598], [5014, 6111, 6448, 9456, 4912, 10521, 12123, 6642, 14028, 14229, 15508, 5865, 17211, 10796, 7047, 7099, 4805, 9838, 15504, 16014, 10492, 10626, 7645, 6331, 10548], -323.11, 9792.52, 845.5096731185913, 146.4032986164093] at 16.532 minutes.\n"
     ]
    },
    {
     "data": {
      "application/vnd.jupyter.widget-view+json": {
       "model_id": "0d0e7b9e9425469fadf01918358aa968",
       "version_major": 2,
       "version_minor": 0
      },
      "text/plain": [
       "Output()"
      ]
     },
     "metadata": {},
     "output_type": "display_data"
    },
    {
     "name": "stdout",
     "output_type": "stream",
     "text": [
      "------------\n",
      "Starting architecture 7 of 54\n",
      "Learning...\n"
     ]
    },
    {
     "data": {
      "text/html": [
       "<pre style=\"white-space:pre;overflow-x:auto;line-height:normal;font-family:Menlo,'DejaVu Sans Mono',consolas,'Courier New',monospace\"></pre>\n"
      ],
      "text/plain": []
     },
     "metadata": {},
     "output_type": "display_data"
    },
    {
     "data": {
      "text/html": [
       "<pre style=\"white-space:pre;overflow-x:auto;line-height:normal;font-family:Menlo,'DejaVu Sans Mono',consolas,'Courier New',monospace\">\n",
       "</pre>\n"
      ],
      "text/plain": [
       "\n"
      ]
     },
     "metadata": {},
     "output_type": "display_data"
    },
    {
     "name": "stdout",
     "output_type": "stream",
     "text": [
      "Learn time: 9.851 minutes\n",
      "Evaluating over 25 episodes...\n",
      "Evaluation time: 2.408 minutes\n",
      "Mean episode reward: -229.954, Standard deviation: 468.3122292829859\n",
      "Mean episode length: 9439.24, Standard deviation: 4164.620724916015\n",
      "finished architecture ['CnnPolicy', 0.0001, 512, 128, 2, [-135.902, -289.202, -934.102, -1074.702, -192.802, 147.398, -450.602, -54.602, -508.002, 136.898, 94.098, -2.602, -892.702, 724.098, -3.602, 128.198, -739.202, -237.102, -778.002, -839.302, 210.798, 80.598, -446.002, -383.602, 691.098], [5401, 5410, 6299, 7018, 4987, 12019, 12214, 12604, 5772, 14750, 15156, 16152, 5836, 11248, 5144, 11914, 5533, 5904, 4968, 6283, 10280, 14609, 5172, 15254, 16054], -229.954, 9439.24, 591.0694513320923, 144.45275902748108] at 12.259 minutes.\n"
     ]
    },
    {
     "data": {
      "application/vnd.jupyter.widget-view+json": {
       "model_id": "3a1921809ef94fb095f7e456ad5dd63c",
       "version_major": 2,
       "version_minor": 0
      },
      "text/plain": [
       "Output()"
      ]
     },
     "metadata": {},
     "output_type": "display_data"
    },
    {
     "name": "stdout",
     "output_type": "stream",
     "text": [
      "------------\n",
      "Starting architecture 8 of 54\n",
      "Learning...\n"
     ]
    },
    {
     "data": {
      "text/html": [
       "<pre style=\"white-space:pre;overflow-x:auto;line-height:normal;font-family:Menlo,'DejaVu Sans Mono',consolas,'Courier New',monospace\"></pre>\n"
      ],
      "text/plain": []
     },
     "metadata": {},
     "output_type": "display_data"
    },
    {
     "data": {
      "text/html": [
       "<pre style=\"white-space:pre;overflow-x:auto;line-height:normal;font-family:Menlo,'DejaVu Sans Mono',consolas,'Courier New',monospace\">\n",
       "</pre>\n"
      ],
      "text/plain": [
       "\n"
      ]
     },
     "metadata": {},
     "output_type": "display_data"
    },
    {
     "name": "stdout",
     "output_type": "stream",
     "text": [
      "Learn time: 10.602 minutes\n",
      "Evaluating over 25 episodes...\n",
      "Evaluation time: 3.602 minutes\n",
      "Mean episode reward: -170.31, Standard deviation: 595.7471812237134\n",
      "Mean episode length: 11693.96, Standard deviation: 8048.580244887915\n",
      "finished architecture ['CnnPolicy', 0.0001, 2048, 128, 2, [-825.602, -648.702, -574.302, -86.902, 24.098, 198.998, 612.398, 78.898, -788.202, -352.302, 200.398, 60.198, 202.098, 127.798, -975.702, -973.602, -461.502, -367.602, -602.302, 317.498, -945.902, -90.602, -727.402, 1232.798, 1107.698], [5489, 5512, 6587, 6998, 7282, 9525, 10308, 13562, 13772, 5534, 8499, 8528, 16565, 11938, 5848, 9605, 4335, 15855, 16798, 6924, 7047, 8502, 15759, 38087, 33490], -170.31, 11693.96, 636.1180624961853, 216.1330852508545] at 14.204 minutes.\n"
     ]
    },
    {
     "data": {
      "application/vnd.jupyter.widget-view+json": {
       "model_id": "4d58d52d7c434ff39243c5dd91274a1a",
       "version_major": 2,
       "version_minor": 0
      },
      "text/plain": [
       "Output()"
      ]
     },
     "metadata": {},
     "output_type": "display_data"
    },
    {
     "name": "stdout",
     "output_type": "stream",
     "text": [
      "------------\n",
      "Starting architecture 9 of 54\n",
      "Learning...\n"
     ]
    },
    {
     "data": {
      "text/html": [
       "<pre style=\"white-space:pre;overflow-x:auto;line-height:normal;font-family:Menlo,'DejaVu Sans Mono',consolas,'Courier New',monospace\"></pre>\n"
      ],
      "text/plain": []
     },
     "metadata": {},
     "output_type": "display_data"
    },
    {
     "data": {
      "text/html": [
       "<pre style=\"white-space:pre;overflow-x:auto;line-height:normal;font-family:Menlo,'DejaVu Sans Mono',consolas,'Courier New',monospace\">\n",
       "</pre>\n"
      ],
      "text/plain": [
       "\n"
      ]
     },
     "metadata": {},
     "output_type": "display_data"
    },
    {
     "name": "stdout",
     "output_type": "stream",
     "text": [
      "Learn time: 11.679 minutes\n",
      "Evaluating over 25 episodes...\n",
      "Evaluation time: 4.113 minutes\n",
      "Mean episode reward: -105.81, Standard deviation: 504.1910756211379\n",
      "Mean episode length: 11817.68, Standard deviation: 7331.979807500837\n",
      "finished architecture ['CnnPolicy', 0.0001, 4096, 128, 2, [86.398, -788.102, -908.802, -635.302, -382.802, 602.998, 87.698, 225.098, 147.098, -548.902, 4.098, -203.202, 208.698, -167.502, -210.902, 330.998, 91.698, -497.202, 128.998, 94.898, -274.602, -388.002, -942.102, -186.102, 1479.598], [8073, 8239, 9501, 9933, 11541, 12886, 13791, 14107, 14451, 7740, 10049, 18140, 11668, 8691, 5850, 8053, 7933, 5000, 13446, 16879, 6649, 10293, 6045, 12752, 43732], -105.81, 11817.68, 700.7355878353119, 246.79860472679138] at 15.792 minutes.\n"
     ]
    },
    {
     "data": {
      "application/vnd.jupyter.widget-view+json": {
       "model_id": "a0efc8c7ad694eb4a6a977cd3324bc58",
       "version_major": 2,
       "version_minor": 0
      },
      "text/plain": [
       "Output()"
      ]
     },
     "metadata": {},
     "output_type": "display_data"
    },
    {
     "name": "stdout",
     "output_type": "stream",
     "text": [
      "------------\n",
      "Starting architecture 10 of 54\n",
      "Learning...\n"
     ]
    },
    {
     "data": {
      "text/html": [
       "<pre style=\"white-space:pre;overflow-x:auto;line-height:normal;font-family:Menlo,'DejaVu Sans Mono',consolas,'Courier New',monospace\"></pre>\n"
      ],
      "text/plain": []
     },
     "metadata": {},
     "output_type": "display_data"
    },
    {
     "data": {
      "text/html": [
       "<pre style=\"white-space:pre;overflow-x:auto;line-height:normal;font-family:Menlo,'DejaVu Sans Mono',consolas,'Courier New',monospace\">\n",
       "</pre>\n"
      ],
      "text/plain": [
       "\n"
      ]
     },
     "metadata": {},
     "output_type": "display_data"
    },
    {
     "name": "stdout",
     "output_type": "stream",
     "text": [
      "Learn time: 20.638 minutes\n",
      "Evaluating over 25 episodes...\n",
      "Evaluation time: 2.120 minutes\n",
      "Mean episode reward: -14.293999999999988, Standard deviation: 568.147920823442\n",
      "Mean episode length: 9642.48, Standard deviation: 3540.273821274281\n",
      "finished architecture ['CnnPolicy', 1e-05, 128, 32, 2, [-449.902, -512.602, -753.702, 38.398, 23.698, -182.802, -154.802, -319.102, -701.402, 188.898, 330.898, -206.702, -29.202, 417.498, 397.798, 1043.898, 1152.998, 1443.898, -298.702, -263.602, -875.502, -570.602, -181.502, -139.902, 244.698], [4936, 5282, 5335, 6545, 7674, 9649, 9746, 4976, 12854, 8831, 14555, 9474, 6894, 13127, 19289, 12278, 11824, 13218, 9330, 11898, 6189, 7897, 7118, 8299, 13844], -14.293999999999988, 9642.48, 1238.2825238704681, 127.17237949371338] at 22.758 minutes.\n"
     ]
    },
    {
     "data": {
      "application/vnd.jupyter.widget-view+json": {
       "model_id": "659e926c2b904011905b4a746938c6ed",
       "version_major": 2,
       "version_minor": 0
      },
      "text/plain": [
       "Output()"
      ]
     },
     "metadata": {},
     "output_type": "display_data"
    },
    {
     "name": "stdout",
     "output_type": "stream",
     "text": [
      "------------\n",
      "Starting architecture 11 of 54\n",
      "Learning...\n"
     ]
    },
    {
     "data": {
      "text/html": [
       "<pre style=\"white-space:pre;overflow-x:auto;line-height:normal;font-family:Menlo,'DejaVu Sans Mono',consolas,'Courier New',monospace\"></pre>\n"
      ],
      "text/plain": []
     },
     "metadata": {},
     "output_type": "display_data"
    },
    {
     "data": {
      "text/html": [
       "<pre style=\"white-space:pre;overflow-x:auto;line-height:normal;font-family:Menlo,'DejaVu Sans Mono',consolas,'Courier New',monospace\">\n",
       "</pre>\n"
      ],
      "text/plain": [
       "\n"
      ]
     },
     "metadata": {},
     "output_type": "display_data"
    },
    {
     "name": "stdout",
     "output_type": "stream",
     "text": [
      "Learn time: 20.762 minutes\n",
      "Evaluating over 25 episodes...\n",
      "Evaluation time: 2.615 minutes\n",
      "Mean episode reward: -45.202000000000005, Standard deviation: 457.77379566768565\n",
      "Mean episode length: 10963.52, Standard deviation: 3246.2674211469393\n",
      "finished architecture ['CnnPolicy', 1e-05, 512, 32, 2, [219.698, -18.202, -491.902, -419.002, 36.398, 488.798, -658.202, -12.902, 757.398, -761.702, -250.402, -498.202, -112.302, 29.398, -480.002, 641.498, -672.202, -200.402, 551.798, 189.298, -222.202, 713.498, -555.802, 21.198, 574.398], [7967, 8037, 8249, 9265, 10300, 10770, 10794, 12871, 14082, 7639, 16433, 5963, 7844, 10957, 7134, 12492, 12243, 8372, 14283, 12207, 7003, 10679, 15234, 18852, 14418], -45.202000000000005, 10963.52, 1245.7462663650513, 156.92950749397278] at 23.378 minutes.\n"
     ]
    },
    {
     "data": {
      "application/vnd.jupyter.widget-view+json": {
       "model_id": "4e38a72328c543fd99c89241f5818b7c",
       "version_major": 2,
       "version_minor": 0
      },
      "text/plain": [
       "Output()"
      ]
     },
     "metadata": {},
     "output_type": "display_data"
    },
    {
     "name": "stdout",
     "output_type": "stream",
     "text": [
      "------------\n",
      "Starting architecture 12 of 54\n",
      "Learning...\n"
     ]
    },
    {
     "data": {
      "text/html": [
       "<pre style=\"white-space:pre;overflow-x:auto;line-height:normal;font-family:Menlo,'DejaVu Sans Mono',consolas,'Courier New',monospace\"></pre>\n"
      ],
      "text/plain": []
     },
     "metadata": {},
     "output_type": "display_data"
    },
    {
     "data": {
      "text/html": [
       "<pre style=\"white-space:pre;overflow-x:auto;line-height:normal;font-family:Menlo,'DejaVu Sans Mono',consolas,'Courier New',monospace\">\n",
       "</pre>\n"
      ],
      "text/plain": [
       "\n"
      ]
     },
     "metadata": {},
     "output_type": "display_data"
    },
    {
     "name": "stdout",
     "output_type": "stream",
     "text": [
      "Learn time: 21.109 minutes\n",
      "Evaluating over 25 episodes...\n",
      "Evaluation time: 2.620 minutes\n",
      "Mean episode reward: -43.522, Standard deviation: 481.23606182413226\n",
      "Mean episode length: 9721.0, Standard deviation: 3340.8207135373186\n",
      "finished architecture ['CnnPolicy', 1e-05, 1024, 32, 2, [-509.402, -174.402, -859.602, 16.698, 54.598, 176.498, 625.298, -272.202, -681.102, 714.998, 1015.098, -456.402, 562.198, 573.098, -582.902, 149.298, -218.702, 430.598, -509.102, -589.402, -83.002, 147.698, -35.802, -134.402, -447.702], [5752, 5872, 6520, 7267, 8056, 8795, 8959, 5747, 6135, 13352, 13637, 7864, 15650, 7538, 10625, 10035, 7945, 14210, 7683, 5511, 10210, 11176, 15013, 14157, 15316], -43.522, 9721.0, 1266.5191791057587, 157.1821813583374] at 23.728 minutes.\n"
     ]
    },
    {
     "data": {
      "application/vnd.jupyter.widget-view+json": {
       "model_id": "f00c4b84b4a347bda8a228b9af434f1a",
       "version_major": 2,
       "version_minor": 0
      },
      "text/plain": [
       "Output()"
      ]
     },
     "metadata": {},
     "output_type": "display_data"
    },
    {
     "name": "stdout",
     "output_type": "stream",
     "text": [
      "------------\n",
      "Starting architecture 13 of 54\n",
      "Learning...\n"
     ]
    },
    {
     "data": {
      "text/html": [
       "<pre style=\"white-space:pre;overflow-x:auto;line-height:normal;font-family:Menlo,'DejaVu Sans Mono',consolas,'Courier New',monospace\"></pre>\n"
      ],
      "text/plain": []
     },
     "metadata": {},
     "output_type": "display_data"
    },
    {
     "data": {
      "text/html": [
       "<pre style=\"white-space:pre;overflow-x:auto;line-height:normal;font-family:Menlo,'DejaVu Sans Mono',consolas,'Courier New',monospace\">\n",
       "</pre>\n"
      ],
      "text/plain": [
       "\n"
      ]
     },
     "metadata": {},
     "output_type": "display_data"
    },
    {
     "name": "stdout",
     "output_type": "stream",
     "text": [
      "Learn time: 13.108 minutes\n",
      "Evaluating over 25 episodes...\n",
      "Evaluation time: 3.820 minutes\n",
      "Mean episode reward: 216.05399999999997, Standard deviation: 737.8028430847904\n",
      "Mean episode length: 14638.36, Standard deviation: 9743.673733782345\n",
      "finished architecture ['CnnPolicy', 1e-05, 256, 64, 2, [-182.402, -251.202, 435.898, -421.902, 81.498, 318.098, 119.298, 320.398, 370.898, 52.298, -450.302, 599.698, -645.302, 1004.498, -601.702, -544.702, -465.202, 129.398, -159.502, 2206.698, 1409.398, 1991.998, 329.998, 74.198, -320.702], [4754, 6650, 7873, 8667, 11899, 12594, 12597, 13122, 14095, 10581, 11864, 9023, 8813, 10070, 8013, 22798, 6446, 11350, 12355, 33237, 18336, 32453, 29671, 43276, 5422], 216.05399999999997, 14638.36, 786.4560191631317, 229.20935320854187] at 16.928 minutes.\n"
     ]
    },
    {
     "data": {
      "application/vnd.jupyter.widget-view+json": {
       "model_id": "d032e28939514cd38518949c9238dd8d",
       "version_major": 2,
       "version_minor": 0
      },
      "text/plain": [
       "Output()"
      ]
     },
     "metadata": {},
     "output_type": "display_data"
    },
    {
     "name": "stdout",
     "output_type": "stream",
     "text": [
      "------------\n",
      "Starting architecture 14 of 54\n",
      "Learning...\n"
     ]
    },
    {
     "data": {
      "text/html": [
       "<pre style=\"white-space:pre;overflow-x:auto;line-height:normal;font-family:Menlo,'DejaVu Sans Mono',consolas,'Courier New',monospace\"></pre>\n"
      ],
      "text/plain": []
     },
     "metadata": {},
     "output_type": "display_data"
    },
    {
     "data": {
      "text/html": [
       "<pre style=\"white-space:pre;overflow-x:auto;line-height:normal;font-family:Menlo,'DejaVu Sans Mono',consolas,'Courier New',monospace\">\n",
       "</pre>\n"
      ],
      "text/plain": [
       "\n"
      ]
     },
     "metadata": {},
     "output_type": "display_data"
    },
    {
     "name": "stdout",
     "output_type": "stream",
     "text": [
      "Learn time: 13.608 minutes\n",
      "Evaluating over 25 episodes...\n",
      "Evaluation time: 3.215 minutes\n",
      "Mean episode reward: 8.185999999999986, Standard deviation: 731.9737330369171\n",
      "Mean episode length: 11789.44, Standard deviation: 7229.08102087672\n",
      "finished architecture ['CnnPolicy', 1e-05, 1024, 64, 2, [-193.902, 78.698, -326.102, 271.998, 230.698, 1136.298, -145.502, -749.802, -516.202, 61.098, 273.798, -893.302, -649.502, 374.398, -914.802, 322.998, -1359.402, 406.698, -488.602, 32.398, -519.402, 1865.198, 230.298, 84.098, 1592.498], [5128, 9041, 9653, 10391, 10483, 12232, 12372, 12603, 12809, 13307, 5563, 6071, 7022, 9736, 10042, 13935, 14532, 5901, 10008, 13716, 5332, 20993, 9570, 11599, 42697], 8.185999999999986, 11789.44, 816.4720933437347, 192.91685032844543] at 16.823 minutes.\n"
     ]
    },
    {
     "data": {
      "application/vnd.jupyter.widget-view+json": {
       "model_id": "6f92e1a4567840a886096bffeb974c89",
       "version_major": 2,
       "version_minor": 0
      },
      "text/plain": [
       "Output()"
      ]
     },
     "metadata": {},
     "output_type": "display_data"
    },
    {
     "name": "stdout",
     "output_type": "stream",
     "text": [
      "------------\n",
      "Starting architecture 15 of 54\n",
      "Learning...\n"
     ]
    },
    {
     "data": {
      "text/html": [
       "<pre style=\"white-space:pre;overflow-x:auto;line-height:normal;font-family:Menlo,'DejaVu Sans Mono',consolas,'Courier New',monospace\"></pre>\n"
      ],
      "text/plain": []
     },
     "metadata": {},
     "output_type": "display_data"
    },
    {
     "data": {
      "text/html": [
       "<pre style=\"white-space:pre;overflow-x:auto;line-height:normal;font-family:Menlo,'DejaVu Sans Mono',consolas,'Courier New',monospace\">\n",
       "</pre>\n"
      ],
      "text/plain": [
       "\n"
      ]
     },
     "metadata": {},
     "output_type": "display_data"
    },
    {
     "name": "stdout",
     "output_type": "stream",
     "text": [
      "Learn time: 13.963 minutes\n",
      "Evaluating over 25 episodes...\n",
      "Evaluation time: 2.557 minutes\n",
      "Mean episode reward: -43.42200000000002, Standard deviation: 504.3247176175286\n",
      "Mean episode length: 11667.56, Standard deviation: 3642.7232239630835\n",
      "finished architecture ['CnnPolicy', 1e-05, 2048, 64, 2, [-164.102, -1075.102, -715.102, -28.902, -252.202, -223.602, 526.898, 489.298, 629.398, -452.402, -116.302, -361.502, -535.302, -108.502, 295.398, 1233.098, -540.102, -217.502, -45.902, -646.502, 546.798, -24.102, -48.002, 164.898, 583.798], [6563, 8198, 8428, 9183, 10259, 11512, 11700, 14488, 14576, 16082, 10237, 13392, 12594, 8920, 12209, 16321, 15613, 11546, 10491, 7358, 8280, 9916, 8637, 23684, 11502], -43.42200000000002, 11667.56, 837.8046581745148, 153.43718576431274] at 16.521 minutes.\n"
     ]
    },
    {
     "data": {
      "application/vnd.jupyter.widget-view+json": {
       "model_id": "e219ddf25a7f4f039e4fdd9999366f04",
       "version_major": 2,
       "version_minor": 0
      },
      "text/plain": [
       "Output()"
      ]
     },
     "metadata": {},
     "output_type": "display_data"
    },
    {
     "name": "stdout",
     "output_type": "stream",
     "text": [
      "------------\n",
      "Starting architecture 16 of 54\n",
      "Learning...\n"
     ]
    },
    {
     "data": {
      "text/html": [
       "<pre style=\"white-space:pre;overflow-x:auto;line-height:normal;font-family:Menlo,'DejaVu Sans Mono',consolas,'Courier New',monospace\"></pre>\n"
      ],
      "text/plain": []
     },
     "metadata": {},
     "output_type": "display_data"
    },
    {
     "data": {
      "text/html": [
       "<pre style=\"white-space:pre;overflow-x:auto;line-height:normal;font-family:Menlo,'DejaVu Sans Mono',consolas,'Courier New',monospace\">\n",
       "</pre>\n"
      ],
      "text/plain": [
       "\n"
      ]
     },
     "metadata": {},
     "output_type": "display_data"
    },
    {
     "name": "stdout",
     "output_type": "stream",
     "text": [
      "Learn time: 9.761 minutes\n",
      "Evaluating over 25 episodes...\n",
      "Evaluation time: 2.899 minutes\n",
      "Mean episode reward: 19.366, Standard deviation: 433.38741164920793\n",
      "Mean episode length: 10527.6, Standard deviation: 5177.252020135779\n",
      "finished architecture ['CnnPolicy', 1e-05, 512, 128, 2, [100.798, -979.502, -415.802, -425.002, 61.098, 576.198, -356.302, 213.498, 224.098, 613.598, -149.702, 159.798, -64.502, 195.498, 222.698, -68.402, 234.598, -27.702, 84.798, 1052.198, 526.098, -828.802, 95.598, -247.502, -313.202], [5531, 6051, 6741, 7063, 8844, 9244, 10467, 10580, 6350, 7751, 7767, 9142, 11483, 20498, 11031, 8142, 16091, 7401, 16459, 29012, 9944, 4702, 11281, 10212, 11403], 19.366, 10527.6, 585.6667444705963, 173.9636058807373] at 12.661 minutes.\n"
     ]
    },
    {
     "data": {
      "application/vnd.jupyter.widget-view+json": {
       "model_id": "75b8e91c9a344db78754db047562c6ef",
       "version_major": 2,
       "version_minor": 0
      },
      "text/plain": [
       "Output()"
      ]
     },
     "metadata": {},
     "output_type": "display_data"
    },
    {
     "name": "stdout",
     "output_type": "stream",
     "text": [
      "------------\n",
      "Starting architecture 17 of 54\n",
      "Learning...\n"
     ]
    },
    {
     "data": {
      "text/html": [
       "<pre style=\"white-space:pre;overflow-x:auto;line-height:normal;font-family:Menlo,'DejaVu Sans Mono',consolas,'Courier New',monospace\"></pre>\n"
      ],
      "text/plain": []
     },
     "metadata": {},
     "output_type": "display_data"
    },
    {
     "data": {
      "text/html": [
       "<pre style=\"white-space:pre;overflow-x:auto;line-height:normal;font-family:Menlo,'DejaVu Sans Mono',consolas,'Courier New',monospace\">\n",
       "</pre>\n"
      ],
      "text/plain": [
       "\n"
      ]
     },
     "metadata": {},
     "output_type": "display_data"
    },
    {
     "name": "stdout",
     "output_type": "stream",
     "text": [
      "Learn time: 10.632 minutes\n",
      "Evaluating over 25 episodes...\n",
      "Evaluation time: 2.952 minutes\n",
      "Mean episode reward: -58.714, Standard deviation: 524.576861342549\n",
      "Mean episode length: 12160.56, Standard deviation: 5844.906090468863\n",
      "finished architecture ['CnnPolicy', 1e-05, 2048, 128, 2, [-374.402, -453.402, 478.698, 237.498, -1274.702, 537.198, 595.698, -494.502, 377.898, 59.898, -524.602, -87.102, 60.698, 409.098, -783.202, -735.702, -385.402, -27.102, -181.002, 196.898, -158.402, -194.902, 776.298, -491.902, 968.598], [5472, 9546, 10510, 11358, 11645, 12813, 15457, 15574, 15659, 16612, 7281, 8225, 9229, 17473, 7386, 6526, 4980, 10867, 11429, 15474, 9550, 6758, 13681, 16110, 34399], -58.714, 12160.56, 637.8970668315887, 177.11990761756897] at 13.584 minutes.\n"
     ]
    },
    {
     "data": {
      "application/vnd.jupyter.widget-view+json": {
       "model_id": "97dde92676a142bc824d835af26adbfd",
       "version_major": 2,
       "version_minor": 0
      },
      "text/plain": [
       "Output()"
      ]
     },
     "metadata": {},
     "output_type": "display_data"
    },
    {
     "name": "stdout",
     "output_type": "stream",
     "text": [
      "------------\n",
      "Starting architecture 18 of 54\n",
      "Learning...\n"
     ]
    },
    {
     "data": {
      "text/html": [
       "<pre style=\"white-space:pre;overflow-x:auto;line-height:normal;font-family:Menlo,'DejaVu Sans Mono',consolas,'Courier New',monospace\"></pre>\n"
      ],
      "text/plain": []
     },
     "metadata": {},
     "output_type": "display_data"
    },
    {
     "data": {
      "text/html": [
       "<pre style=\"white-space:pre;overflow-x:auto;line-height:normal;font-family:Menlo,'DejaVu Sans Mono',consolas,'Courier New',monospace\">\n",
       "</pre>\n"
      ],
      "text/plain": [
       "\n"
      ]
     },
     "metadata": {},
     "output_type": "display_data"
    },
    {
     "name": "stdout",
     "output_type": "stream",
     "text": [
      "Learn time: 11.662 minutes\n",
      "Evaluating over 25 episodes...\n",
      "Evaluation time: 2.455 minutes\n",
      "Mean episode reward: -318.682, Standard deviation: 538.2540017501032\n",
      "Mean episode length: 9244.84, Standard deviation: 3028.1993551283904\n",
      "finished architecture ['CnnPolicy', 1e-05, 4096, 128, 2, [-254.402, -638.602, 380.598, 239.298, -437.402, -157.202, 85.698, -1158.902, -153.902, -116.202, -1692.502, -590.902, -921.902, -19.602, 42.498, 429.598, -781.902, -193.102, -681.402, 336.598, -328.002, -9.602, 106.198, -72.602, -1379.402], [5587, 6359, 7760, 7913, 7919, 8118, 8779, 9059, 11819, 5011, 12847, 5928, 6499, 9973, 12095, 9719, 6970, 7009, 11910, 17160, 6109, 11997, 11523, 8184, 14874], -318.682, 9244.84, 699.6916260719299, 147.3041296005249] at 14.117 minutes.\n"
     ]
    },
    {
     "data": {
      "application/vnd.jupyter.widget-view+json": {
       "model_id": "b937d7c8e58c4cd18a5ce506cb21a779",
       "version_major": 2,
       "version_minor": 0
      },
      "text/plain": [
       "Output()"
      ]
     },
     "metadata": {},
     "output_type": "display_data"
    },
    {
     "name": "stdout",
     "output_type": "stream",
     "text": [
      "------------\n",
      "Starting architecture 19 of 54\n",
      "Learning...\n"
     ]
    },
    {
     "data": {
      "text/html": [
       "<pre style=\"white-space:pre;overflow-x:auto;line-height:normal;font-family:Menlo,'DejaVu Sans Mono',consolas,'Courier New',monospace\"></pre>\n"
      ],
      "text/plain": []
     },
     "metadata": {},
     "output_type": "display_data"
    },
    {
     "data": {
      "text/html": [
       "<pre style=\"white-space:pre;overflow-x:auto;line-height:normal;font-family:Menlo,'DejaVu Sans Mono',consolas,'Courier New',monospace\">\n",
       "</pre>\n"
      ],
      "text/plain": [
       "\n"
      ]
     },
     "metadata": {},
     "output_type": "display_data"
    },
    {
     "name": "stdout",
     "output_type": "stream",
     "text": [
      "Learn time: 20.552 minutes\n",
      "Evaluating over 25 episodes...\n",
      "Evaluation time: 1.711 minutes\n",
      "Mean episode reward: -1145.682, Standard deviation: 270.26086953164344\n",
      "Mean episode length: 8098.2, Standard deviation: 1038.347648911481\n",
      "finished architecture ['CnnPolicy', 1e-06, 128, 32, 2, [-1096.802, -740.902, -950.802, -1225.102, -1041.002, -1253.302, -931.302, -1223.902, -988.902, -1322.102, -1162.802, -1236.802, -1120.102, -650.802, -1494.502, -1398.902, -1171.802, -1346.002, -1503.402, -319.802, -1154.402, -1251.902, -1171.002, -1496.502, -1389.202], [6471, 6548, 6621, 6985, 7259, 7497, 7776, 7878, 8402, 9098, 8074, 8320, 6810, 7736, 8432, 8156, 7197, 9451, 9472, 10789, 8787, 9289, 8692, 8541, 8174], -1145.682, 8098.2, 1233.1439368724823, 102.68392181396484] at 22.264 minutes.\n"
     ]
    },
    {
     "data": {
      "application/vnd.jupyter.widget-view+json": {
       "model_id": "5358b9629e55403e9fd5bc79ce995d4c",
       "version_major": 2,
       "version_minor": 0
      },
      "text/plain": [
       "Output()"
      ]
     },
     "metadata": {},
     "output_type": "display_data"
    },
    {
     "name": "stdout",
     "output_type": "stream",
     "text": [
      "------------\n",
      "Starting architecture 20 of 54\n",
      "Learning...\n"
     ]
    },
    {
     "data": {
      "text/html": [
       "<pre style=\"white-space:pre;overflow-x:auto;line-height:normal;font-family:Menlo,'DejaVu Sans Mono',consolas,'Courier New',monospace\"></pre>\n"
      ],
      "text/plain": []
     },
     "metadata": {},
     "output_type": "display_data"
    },
    {
     "data": {
      "text/html": [
       "<pre style=\"white-space:pre;overflow-x:auto;line-height:normal;font-family:Menlo,'DejaVu Sans Mono',consolas,'Courier New',monospace\">\n",
       "</pre>\n"
      ],
      "text/plain": [
       "\n"
      ]
     },
     "metadata": {},
     "output_type": "display_data"
    },
    {
     "name": "stdout",
     "output_type": "stream",
     "text": [
      "Learn time: 20.979 minutes\n",
      "Evaluating over 25 episodes...\n",
      "Evaluation time: 3.119 minutes\n",
      "Mean episode reward: -148.31, Standard deviation: 449.6772112704846\n",
      "Mean episode length: 11411.84, Standard deviation: 3249.161266296273\n",
      "finished architecture ['CnnPolicy', 1e-06, 512, 32, 2, [-534.902, -375.002, 367.598, -677.202, 692.198, 990.898, -139.702, 523.798, -448.402, -79.502, -931.802, -125.002, 0.198, -743.502, 283.498, -697.502, -260.202, -308.002, -417.802, -108.902, -20.602, -327.102, 154.098, -283.702, -241.202], [7343, 8212, 9891, 10103, 11388, 12284, 13027, 13109, 14378, 9173, 6704, 18829, 6144, 5477, 16015, 14204, 14865, 12006, 13016, 10381, 11813, 7396, 13398, 12006, 14134], -148.31, 11411.84, 1258.751115322113, 187.1400809288025] at 24.098 minutes.\n"
     ]
    },
    {
     "data": {
      "application/vnd.jupyter.widget-view+json": {
       "model_id": "77292eb49d424227938e9d1b585e3230",
       "version_major": 2,
       "version_minor": 0
      },
      "text/plain": [
       "Output()"
      ]
     },
     "metadata": {},
     "output_type": "display_data"
    },
    {
     "name": "stdout",
     "output_type": "stream",
     "text": [
      "------------\n",
      "Starting architecture 21 of 54\n",
      "Learning...\n"
     ]
    },
    {
     "data": {
      "text/html": [
       "<pre style=\"white-space:pre;overflow-x:auto;line-height:normal;font-family:Menlo,'DejaVu Sans Mono',consolas,'Courier New',monospace\"></pre>\n"
      ],
      "text/plain": []
     },
     "metadata": {},
     "output_type": "display_data"
    },
    {
     "data": {
      "text/html": [
       "<pre style=\"white-space:pre;overflow-x:auto;line-height:normal;font-family:Menlo,'DejaVu Sans Mono',consolas,'Courier New',monospace\">\n",
       "</pre>\n"
      ],
      "text/plain": [
       "\n"
      ]
     },
     "metadata": {},
     "output_type": "display_data"
    },
    {
     "name": "stdout",
     "output_type": "stream",
     "text": [
      "Learn time: 20.918 minutes\n",
      "Evaluating over 25 episodes...\n",
      "Evaluation time: 2.264 minutes\n",
      "Mean episode reward: -107.45, Standard deviation: 427.6049439564515\n",
      "Mean episode length: 9633.16, Standard deviation: 3361.479729880875\n",
      "finished architecture ['CnnPolicy', 1e-06, 1024, 32, 2, [-662.102, -610.202, -458.002, 13.598, 270.198, 107.898, 205.998, 3.098, 247.498, -70.402, -99.202, -196.502, 31.798, -513.602, 168.698, -391.902, -596.202, -1081.502, -232.302, -443.602, 695.698, 273.298, 750.198, -401.702, 302.998], [5106, 5282, 5580, 7005, 9395, 12486, 13110, 13198, 13433, 14366, 8872, 7867, 9820, 5437, 5951, 4776, 6527, 15567, 7354, 13085, 11117, 9170, 12210, 14134, 9981], -107.45, 9633.16, 1255.0620713233948, 135.83182430267334] at 23.182 minutes.\n"
     ]
    },
    {
     "data": {
      "application/vnd.jupyter.widget-view+json": {
       "model_id": "f4a0fe8db6f344439f8c4565603f2ed5",
       "version_major": 2,
       "version_minor": 0
      },
      "text/plain": [
       "Output()"
      ]
     },
     "metadata": {},
     "output_type": "display_data"
    },
    {
     "name": "stdout",
     "output_type": "stream",
     "text": [
      "------------\n",
      "Starting architecture 22 of 54\n",
      "Learning...\n"
     ]
    },
    {
     "data": {
      "text/html": [
       "<pre style=\"white-space:pre;overflow-x:auto;line-height:normal;font-family:Menlo,'DejaVu Sans Mono',consolas,'Courier New',monospace\"></pre>\n"
      ],
      "text/plain": []
     },
     "metadata": {},
     "output_type": "display_data"
    },
    {
     "data": {
      "text/html": [
       "<pre style=\"white-space:pre;overflow-x:auto;line-height:normal;font-family:Menlo,'DejaVu Sans Mono',consolas,'Courier New',monospace\">\n",
       "</pre>\n"
      ],
      "text/plain": [
       "\n"
      ]
     },
     "metadata": {},
     "output_type": "display_data"
    },
    {
     "name": "stdout",
     "output_type": "stream",
     "text": [
      "Learn time: 13.022 minutes\n",
      "Evaluating over 25 episodes...\n",
      "Evaluation time: 1.492 minutes\n",
      "Mean episode reward: -953.118, Standard deviation: 338.6740588589566\n",
      "Mean episode length: 7593.72, Standard deviation: 1149.2174213785659\n",
      "finished architecture ['CnnPolicy', 1e-06, 256, 64, 2, [-1031.502, -587.902, -1005.902, -687.002, -1232.202, -1249.602, -1373.202, -842.402, -1086.302, -1289.002, -947.102, -1252.402, -976.802, -962.602, -1133.002, -1220.002, -793.502, -470.402, 39.298, -444.602, -855.802, -760.702, -1305.202, -863.802, -1496.302], [5945, 6121, 6337, 7154, 7361, 7472, 7662, 7903, 7974, 8017, 7108, 7482, 6856, 6674, 6926, 7649, 7197, 8544, 9488, 11056, 5754, 8120, 7723, 7889, 9431], -953.118, 7593.72, 781.2943253517151, 89.5380916595459] at 14.514 minutes.\n"
     ]
    },
    {
     "data": {
      "application/vnd.jupyter.widget-view+json": {
       "model_id": "8fdd7cc088264935ab2de1a3ffc2d63c",
       "version_major": 2,
       "version_minor": 0
      },
      "text/plain": [
       "Output()"
      ]
     },
     "metadata": {},
     "output_type": "display_data"
    },
    {
     "name": "stdout",
     "output_type": "stream",
     "text": [
      "------------\n",
      "Starting architecture 23 of 54\n",
      "Learning...\n"
     ]
    },
    {
     "data": {
      "text/html": [
       "<pre style=\"white-space:pre;overflow-x:auto;line-height:normal;font-family:Menlo,'DejaVu Sans Mono',consolas,'Courier New',monospace\"></pre>\n"
      ],
      "text/plain": []
     },
     "metadata": {},
     "output_type": "display_data"
    },
    {
     "data": {
      "text/html": [
       "<pre style=\"white-space:pre;overflow-x:auto;line-height:normal;font-family:Menlo,'DejaVu Sans Mono',consolas,'Courier New',monospace\">\n",
       "</pre>\n"
      ],
      "text/plain": [
       "\n"
      ]
     },
     "metadata": {},
     "output_type": "display_data"
    },
    {
     "name": "stdout",
     "output_type": "stream",
     "text": [
      "Learn time: 13.554 minutes\n",
      "Evaluating over 25 episodes...\n",
      "Evaluation time: 4.763 minutes\n",
      "Mean episode reward: 282.76599999999996, Standard deviation: 505.39355414963495\n",
      "Mean episode length: 12894.52, Standard deviation: 6789.547261018219\n",
      "finished architecture ['CnnPolicy', 1e-06, 1024, 64, 2, [875.698, 286.998, -212.902, 435.798, 706.798, -562.602, 984.898, 138.998, -420.502, -346.302, 302.898, 343.198, -336.602, 40.198, 893.298, 880.098, -31.602, -242.202, 231.898, 351.998, -103.802, 439.398, 381.198, 1585.898, 446.398], [8329, 10296, 10454, 10596, 12829, 14510, 15630, 17006, 8177, 6531, 10031, 12641, 6484, 10926, 23283, 24618, 6932, 10638, 12044, 9215, 11937, 11708, 11623, 38189, 7736], 282.76599999999996, 12894.52, 813.2294626235962, 285.7768337726593] at 18.317 minutes.\n"
     ]
    },
    {
     "data": {
      "application/vnd.jupyter.widget-view+json": {
       "model_id": "da044877a11c491d92179fb4f6f9ef34",
       "version_major": 2,
       "version_minor": 0
      },
      "text/plain": [
       "Output()"
      ]
     },
     "metadata": {},
     "output_type": "display_data"
    },
    {
     "name": "stdout",
     "output_type": "stream",
     "text": [
      "------------\n",
      "Starting architecture 24 of 54\n",
      "Learning...\n"
     ]
    },
    {
     "data": {
      "text/html": [
       "<pre style=\"white-space:pre;overflow-x:auto;line-height:normal;font-family:Menlo,'DejaVu Sans Mono',consolas,'Courier New',monospace\"></pre>\n"
      ],
      "text/plain": []
     },
     "metadata": {},
     "output_type": "display_data"
    },
    {
     "data": {
      "text/html": [
       "<pre style=\"white-space:pre;overflow-x:auto;line-height:normal;font-family:Menlo,'DejaVu Sans Mono',consolas,'Courier New',monospace\">\n",
       "</pre>\n"
      ],
      "text/plain": [
       "\n"
      ]
     },
     "metadata": {},
     "output_type": "display_data"
    },
    {
     "name": "stdout",
     "output_type": "stream",
     "text": [
      "Learn time: 13.950 minutes\n",
      "Evaluating over 25 episodes...\n",
      "Evaluation time: 2.727 minutes\n",
      "Mean episode reward: -176.542, Standard deviation: 380.375814162783\n",
      "Mean episode length: 10253.0, Standard deviation: 3253.8059069342166\n",
      "finished architecture ['CnnPolicy', 1e-06, 2048, 64, 2, [-327.302, -118.302, -571.302, 205.798, -440.802, -257.302, 367.098, 432.498, -156.002, -16.802, -363.202, -78.502, -583.702, -221.102, -669.402, -858.902, 346.698, 135.898, 165.198, 518.998, -713.202, -155.502, -502.202, 50.398, -602.602], [4724, 5861, 6306, 10151, 5453, 10326, 11801, 12040, 13116, 14186, 14373, 8720, 7309, 12640, 9347, 5800, 10578, 8707, 13342, 15414, 7081, 9426, 16166, 10341, 13117], -176.542, 10253.0, 836.9910635948181, 163.62551975250244] at 16.677 minutes.\n"
     ]
    },
    {
     "data": {
      "application/vnd.jupyter.widget-view+json": {
       "model_id": "8b35db3d0d63426e8fc195cc06d8b1fc",
       "version_major": 2,
       "version_minor": 0
      },
      "text/plain": [
       "Output()"
      ]
     },
     "metadata": {},
     "output_type": "display_data"
    },
    {
     "name": "stdout",
     "output_type": "stream",
     "text": [
      "------------\n",
      "Starting architecture 25 of 54\n",
      "Learning...\n"
     ]
    },
    {
     "data": {
      "text/html": [
       "<pre style=\"white-space:pre;overflow-x:auto;line-height:normal;font-family:Menlo,'DejaVu Sans Mono',consolas,'Courier New',monospace\"></pre>\n"
      ],
      "text/plain": []
     },
     "metadata": {},
     "output_type": "display_data"
    },
    {
     "data": {
      "text/html": [
       "<pre style=\"white-space:pre;overflow-x:auto;line-height:normal;font-family:Menlo,'DejaVu Sans Mono',consolas,'Courier New',monospace\">\n",
       "</pre>\n"
      ],
      "text/plain": [
       "\n"
      ]
     },
     "metadata": {},
     "output_type": "display_data"
    },
    {
     "name": "stdout",
     "output_type": "stream",
     "text": [
      "Learn time: 9.878 minutes\n",
      "Evaluating over 25 episodes...\n",
      "Evaluation time: 3.122 minutes\n",
      "Mean episode reward: -128.14600000000002, Standard deviation: 436.11903978615743\n",
      "Mean episode length: 11250.28, Standard deviation: 6716.378253314802\n",
      "finished architecture ['CnnPolicy', 1e-06, 512, 128, 2, [-422.202, -328.202, -631.702, -296.602, -825.102, -241.102, 334.198, 27.998, -464.902, -113.302, 5.198, -141.802, -164.602, -632.002, -452.102, 402.998, -340.102, 23.398, -546.202, -182.002, 90.898, 89.098, 548.398, -238.902, 1294.998], [5357, 6746, 7104, 8278, 10560, 10591, 12276, 12581, 5903, 13265, 7779, 17200, 6938, 12218, 7258, 10115, 7560, 11675, 8473, 11748, 8766, 9478, 14460, 14067, 40861], -128.14600000000002, 11250.28, 592.6887943744659, 187.3111572265625] at 13.000 minutes.\n"
     ]
    },
    {
     "data": {
      "application/vnd.jupyter.widget-view+json": {
       "model_id": "88125d4f4e8e46aa83605445f32ffaa0",
       "version_major": 2,
       "version_minor": 0
      },
      "text/plain": [
       "Output()"
      ]
     },
     "metadata": {},
     "output_type": "display_data"
    },
    {
     "name": "stdout",
     "output_type": "stream",
     "text": [
      "------------\n",
      "Starting architecture 26 of 54\n",
      "Learning...\n"
     ]
    },
    {
     "data": {
      "text/html": [
       "<pre style=\"white-space:pre;overflow-x:auto;line-height:normal;font-family:Menlo,'DejaVu Sans Mono',consolas,'Courier New',monospace\"></pre>\n"
      ],
      "text/plain": []
     },
     "metadata": {},
     "output_type": "display_data"
    },
    {
     "data": {
      "text/html": [
       "<pre style=\"white-space:pre;overflow-x:auto;line-height:normal;font-family:Menlo,'DejaVu Sans Mono',consolas,'Courier New',monospace\">\n",
       "</pre>\n"
      ],
      "text/plain": [
       "\n"
      ]
     },
     "metadata": {},
     "output_type": "display_data"
    },
    {
     "name": "stdout",
     "output_type": "stream",
     "text": [
      "Learn time: 10.593 minutes\n",
      "Evaluating over 25 episodes...\n",
      "Evaluation time: 2.804 minutes\n",
      "Mean episode reward: -190.37, Standard deviation: 445.16750709817086\n",
      "Mean episode length: 11926.76, Standard deviation: 4762.102756388191\n",
      "finished architecture ['CnnPolicy', 1e-06, 2048, 128, 2, [-1002.002, 72.998, -133.802, -578.302, -63.702, -523.402, 747.998, -651.402, 254.398, 74.198, 84.298, -871.102, -297.202, -688.802, 49.298, 411.198, -230.402, 524.198, 331.098, -186.002, -663.002, -770.502, -228.402, -311.302, -109.602], [6583, 7888, 8404, 10855, 11091, 11992, 12290, 12473, 13976, 6666, 15749, 9728, 4377, 5537, 9188, 11039, 14171, 16945, 23992, 9373, 17682, 5768, 19197, 16595, 16610], -190.37, 11926.76, 635.5904545783997, 168.21394109725952] at 13.397 minutes.\n"
     ]
    },
    {
     "data": {
      "application/vnd.jupyter.widget-view+json": {
       "model_id": "5ba34a823dbc4dc49df6a1339baf530e",
       "version_major": 2,
       "version_minor": 0
      },
      "text/plain": [
       "Output()"
      ]
     },
     "metadata": {},
     "output_type": "display_data"
    },
    {
     "name": "stdout",
     "output_type": "stream",
     "text": [
      "------------\n",
      "Starting architecture 27 of 54\n",
      "Learning...\n"
     ]
    },
    {
     "data": {
      "text/html": [
       "<pre style=\"white-space:pre;overflow-x:auto;line-height:normal;font-family:Menlo,'DejaVu Sans Mono',consolas,'Courier New',monospace\"></pre>\n"
      ],
      "text/plain": []
     },
     "metadata": {},
     "output_type": "display_data"
    },
    {
     "data": {
      "text/html": [
       "<pre style=\"white-space:pre;overflow-x:auto;line-height:normal;font-family:Menlo,'DejaVu Sans Mono',consolas,'Courier New',monospace\">\n",
       "</pre>\n"
      ],
      "text/plain": [
       "\n"
      ]
     },
     "metadata": {},
     "output_type": "display_data"
    },
    {
     "name": "stdout",
     "output_type": "stream",
     "text": [
      "Learn time: 11.837 minutes\n",
      "Evaluating over 25 episodes...\n",
      "Evaluation time: 2.933 minutes\n",
      "Mean episode reward: -78.06199999999998, Standard deviation: 474.20212989821124\n",
      "Mean episode length: 12261.4, Standard deviation: 3994.606674004338\n",
      "finished architecture ['CnnPolicy', 1e-06, 4096, 128, 2, [251.398, -679.202, -439.702, 20.498, 324.498, -35.602, -1060.002, -257.002, -449.802, -277.702, -889.802, -889.902, -156.302, 67.998, 271.798, 253.798, 28.498, -150.602, 515.398, 206.998, 624.798, -378.902, 547.898, -138.102, 737.498], [6133, 7304, 7710, 12226, 12893, 14295, 14384, 15283, 15438, 18454, 6667, 5637, 14248, 14807, 14406, 11141, 11592, 14364, 9587, 12355, 11612, 8111, 18152, 8542, 21194], -78.06199999999998, 12261.4, 710.2165253162384, 175.99943661689758] at 14.770 minutes.\n"
     ]
    },
    {
     "data": {
      "application/vnd.jupyter.widget-view+json": {
       "model_id": "53dfa58af4124ce59f1847cbd91b2783",
       "version_major": 2,
       "version_minor": 0
      },
      "text/plain": [
       "Output()"
      ]
     },
     "metadata": {},
     "output_type": "display_data"
    },
    {
     "name": "stdout",
     "output_type": "stream",
     "text": [
      "------------\n",
      "Starting architecture 28 of 54\n",
      "Learning...\n"
     ]
    },
    {
     "data": {
      "text/html": [
       "<pre style=\"white-space:pre;overflow-x:auto;line-height:normal;font-family:Menlo,'DejaVu Sans Mono',consolas,'Courier New',monospace\"></pre>\n"
      ],
      "text/plain": []
     },
     "metadata": {},
     "output_type": "display_data"
    },
    {
     "data": {
      "text/html": [
       "<pre style=\"white-space:pre;overflow-x:auto;line-height:normal;font-family:Menlo,'DejaVu Sans Mono',consolas,'Courier New',monospace\">\n",
       "</pre>\n"
      ],
      "text/plain": [
       "\n"
      ]
     },
     "metadata": {},
     "output_type": "display_data"
    },
    {
     "name": "stdout",
     "output_type": "stream",
     "text": [
      "Learn time: 20.076 minutes\n",
      "Evaluating over 25 episodes...\n",
      "Evaluation time: 1.303 minutes\n",
      "Mean episode reward: -1119.502, Standard deviation: 347.52807541262047\n",
      "Mean episode length: 8398.2, Standard deviation: 644.8039081767417\n",
      "finished architecture ['MlpPolicy', 0.0001, 128, 32, 2, [-1210.002, -1342.802, -496.502, -1244.002, -1249.202, -1344.602, -10.002, -1303.302, -1038.202, -997.602, -982.402, -922.302, -1466.902, -951.902, -1205.402, -1401.402, -1324.302, -1101.202, -1548.202, -523.002, -911.402, -1490.202, -1196.102, -1471.302, -1255.302], [7430, 7627, 7798, 7897, 7958, 7991, 8241, 8667, 8681, 9192, 7202, 7858, 8849, 7703, 8662, 8234, 8626, 8647, 9494, 9498, 9156, 8288, 8029, 9506, 8721], -1119.502, 8398.2, 1204.5540494918823, 78.16600728034973] at 21.379 minutes.\n"
     ]
    },
    {
     "data": {
      "application/vnd.jupyter.widget-view+json": {
       "model_id": "4756d166838344eaa92257163841d21e",
       "version_major": 2,
       "version_minor": 0
      },
      "text/plain": [
       "Output()"
      ]
     },
     "metadata": {},
     "output_type": "display_data"
    },
    {
     "name": "stdout",
     "output_type": "stream",
     "text": [
      "------------\n",
      "Starting architecture 29 of 54\n",
      "Learning...\n"
     ]
    },
    {
     "data": {
      "text/html": [
       "<pre style=\"white-space:pre;overflow-x:auto;line-height:normal;font-family:Menlo,'DejaVu Sans Mono',consolas,'Courier New',monospace\"></pre>\n"
      ],
      "text/plain": []
     },
     "metadata": {},
     "output_type": "display_data"
    },
    {
     "data": {
      "text/html": [
       "<pre style=\"white-space:pre;overflow-x:auto;line-height:normal;font-family:Menlo,'DejaVu Sans Mono',consolas,'Courier New',monospace\">\n",
       "</pre>\n"
      ],
      "text/plain": [
       "\n"
      ]
     },
     "metadata": {},
     "output_type": "display_data"
    },
    {
     "name": "stdout",
     "output_type": "stream",
     "text": [
      "Learn time: 20.565 minutes\n",
      "Evaluating over 25 episodes...\n",
      "Evaluation time: 1.815 minutes\n",
      "Mean episode reward: -450.20200000000006, Standard deviation: 466.2842377777743\n",
      "Mean episode length: 9875.36, Standard deviation: 3446.9072268339337\n",
      "finished architecture ['MlpPolicy', 0.0001, 512, 32, 2, [-283.602, -902.902, -472.502, -919.802, -182.702, -430.002, -140.302, -884.502, -869.902, -1640.002, -808.002, -851.402, -581.802, -165.302, 346.598, 352.598, -776.602, -362.602, 522.698, -725.002, -295.002, -123.002, -513.202, -145.202, -403.602], [6046, 6415, 7175, 8577, 9347, 9516, 11732, 5358, 6327, 14143, 5417, 14937, 16337, 7962, 12149, 9110, 6769, 7680, 10979, 10836, 14233, 9032, 12095, 7058, 17654], -450.20200000000006, 9875.36, 1233.8917760849, 108.88911938667297] at 22.380 minutes.\n"
     ]
    },
    {
     "data": {
      "application/vnd.jupyter.widget-view+json": {
       "model_id": "df47a6cce8a144c69d5e71fb69b9fa59",
       "version_major": 2,
       "version_minor": 0
      },
      "text/plain": [
       "Output()"
      ]
     },
     "metadata": {},
     "output_type": "display_data"
    },
    {
     "name": "stdout",
     "output_type": "stream",
     "text": [
      "------------\n",
      "Starting architecture 30 of 54\n",
      "Learning...\n"
     ]
    },
    {
     "data": {
      "text/html": [
       "<pre style=\"white-space:pre;overflow-x:auto;line-height:normal;font-family:Menlo,'DejaVu Sans Mono',consolas,'Courier New',monospace\"></pre>\n"
      ],
      "text/plain": []
     },
     "metadata": {},
     "output_type": "display_data"
    },
    {
     "data": {
      "text/html": [
       "<pre style=\"white-space:pre;overflow-x:auto;line-height:normal;font-family:Menlo,'DejaVu Sans Mono',consolas,'Courier New',monospace\">\n",
       "</pre>\n"
      ],
      "text/plain": [
       "\n"
      ]
     },
     "metadata": {},
     "output_type": "display_data"
    },
    {
     "name": "stdout",
     "output_type": "stream",
     "text": [
      "Learn time: 20.862 minutes\n",
      "Evaluating over 25 episodes...\n",
      "Evaluation time: 2.100 minutes\n",
      "Mean episode reward: 165.806, Standard deviation: 485.5004526630227\n",
      "Mean episode length: 11029.52, Standard deviation: 3434.5270547194705\n",
      "finished architecture ['MlpPolicy', 0.0001, 1024, 32, 2, [-427.902, -331.402, 755.098, -284.102, 121.198, 568.998, 648.098, -352.502, 423.598, -280.402, 445.998, 1223.498, -23.902, -1030.902, -218.102, 33.698, 357.598, -26.902, 529.898, 127.898, 534.698, 845.698, 6.798, 510.398, -11.902], [5594, 7313, 10681, 4304, 12047, 12581, 13674, 14085, 14521, 16507, 16950, 12604, 4928, 9656, 8884, 10985, 7883, 12713, 13366, 7155, 10006, 14696, 14636, 9779, 10190], 165.806, 11029.52, 1251.7189645767212, 125.98732566833496] at 22.962 minutes.\n"
     ]
    },
    {
     "data": {
      "application/vnd.jupyter.widget-view+json": {
       "model_id": "a40f7fe6c25a4a6881c5307592db44ce",
       "version_major": 2,
       "version_minor": 0
      },
      "text/plain": [
       "Output()"
      ]
     },
     "metadata": {},
     "output_type": "display_data"
    },
    {
     "name": "stdout",
     "output_type": "stream",
     "text": [
      "------------\n",
      "Starting architecture 31 of 54\n",
      "Learning...\n"
     ]
    },
    {
     "data": {
      "text/html": [
       "<pre style=\"white-space:pre;overflow-x:auto;line-height:normal;font-family:Menlo,'DejaVu Sans Mono',consolas,'Courier New',monospace\"></pre>\n"
      ],
      "text/plain": []
     },
     "metadata": {},
     "output_type": "display_data"
    },
    {
     "data": {
      "text/html": [
       "<pre style=\"white-space:pre;overflow-x:auto;line-height:normal;font-family:Menlo,'DejaVu Sans Mono',consolas,'Courier New',monospace\">\n",
       "</pre>\n"
      ],
      "text/plain": [
       "\n"
      ]
     },
     "metadata": {},
     "output_type": "display_data"
    },
    {
     "name": "stdout",
     "output_type": "stream",
     "text": [
      "Learn time: 13.218 minutes\n",
      "Evaluating over 25 episodes...\n",
      "Evaluation time: 2.975 minutes\n",
      "Mean episode reward: 156.85399999999998, Standard deviation: 523.5659790933707\n",
      "Mean episode length: 12510.2, Standard deviation: 7207.197791097453\n",
      "finished architecture ['MlpPolicy', 0.0001, 256, 64, 2, [436.598, -285.402, 50.998, 80.698, -97.602, 451.698, -741.102, -283.102, 224.898, -160.302, -552.102, 227.098, 838.498, -889.202, 716.798, -178.002, 227.298, -361.102, 586.198, 884.698, 506.898, 1447.598, 311.698, 241.498, 236.098], [8304, 8772, 9165, 9275, 10292, 10334, 12245, 14307, 14659, 6304, 8269, 10951, 11559, 12833, 10857, 11745, 15589, 7023, 12811, 26268, 11378, 42443, 10674, 8017, 8681], 156.85399999999998, 12510.2, 793.1001851558685, 178.4751787185669] at 16.193 minutes.\n"
     ]
    },
    {
     "data": {
      "application/vnd.jupyter.widget-view+json": {
       "model_id": "a7d9e81d86024d959403b8f060a36d97",
       "version_major": 2,
       "version_minor": 0
      },
      "text/plain": [
       "Output()"
      ]
     },
     "metadata": {},
     "output_type": "display_data"
    },
    {
     "name": "stdout",
     "output_type": "stream",
     "text": [
      "------------\n",
      "Starting architecture 32 of 54\n",
      "Learning...\n"
     ]
    },
    {
     "data": {
      "text/html": [
       "<pre style=\"white-space:pre;overflow-x:auto;line-height:normal;font-family:Menlo,'DejaVu Sans Mono',consolas,'Courier New',monospace\"></pre>\n"
      ],
      "text/plain": []
     },
     "metadata": {},
     "output_type": "display_data"
    },
    {
     "data": {
      "text/html": [
       "<pre style=\"white-space:pre;overflow-x:auto;line-height:normal;font-family:Menlo,'DejaVu Sans Mono',consolas,'Courier New',monospace\">\n",
       "</pre>\n"
      ],
      "text/plain": [
       "\n"
      ]
     },
     "metadata": {},
     "output_type": "display_data"
    },
    {
     "name": "stdout",
     "output_type": "stream",
     "text": [
      "Learn time: 13.276 minutes\n",
      "Evaluating over 25 episodes...\n",
      "Evaluation time: 1.837 minutes\n",
      "Mean episode reward: -79.84200000000003, Standard deviation: 565.121286804877\n",
      "Mean episode length: 10308.8, Standard deviation: 3626.751780863973\n",
      "finished architecture ['MlpPolicy', 0.0001, 1024, 64, 2, [-433.302, -91.402, -243.502, -55.502, 182.498, 24.898, 446.698, -523.602, 101.898, -344.402, -128.102, -246.102, -22.102, -419.102, -242.902, -157.902, 138.898, -807.902, -438.302, -1512.102, 955.798, 316.298, 1368.698, 724.798, -590.302], [4776, 5705, 8074, 8731, 9240, 10159, 10475, 5827, 12211, 7602, 13248, 14700, 6081, 8627, 12409, 11952, 12109, 10263, 5365, 9949, 10966, 11000, 22017, 13173, 13061], -79.84200000000003, 10308.8, 796.5510754585266, 110.23862671852112] at 15.113 minutes.\n"
     ]
    },
    {
     "data": {
      "application/vnd.jupyter.widget-view+json": {
       "model_id": "05147eac64254ffb9fd516197cc4752b",
       "version_major": 2,
       "version_minor": 0
      },
      "text/plain": [
       "Output()"
      ]
     },
     "metadata": {},
     "output_type": "display_data"
    },
    {
     "name": "stdout",
     "output_type": "stream",
     "text": [
      "------------\n",
      "Starting architecture 33 of 54\n",
      "Learning...\n"
     ]
    },
    {
     "data": {
      "text/html": [
       "<pre style=\"white-space:pre;overflow-x:auto;line-height:normal;font-family:Menlo,'DejaVu Sans Mono',consolas,'Courier New',monospace\"></pre>\n"
      ],
      "text/plain": []
     },
     "metadata": {},
     "output_type": "display_data"
    },
    {
     "data": {
      "text/html": [
       "<pre style=\"white-space:pre;overflow-x:auto;line-height:normal;font-family:Menlo,'DejaVu Sans Mono',consolas,'Courier New',monospace\">\n",
       "</pre>\n"
      ],
      "text/plain": [
       "\n"
      ]
     },
     "metadata": {},
     "output_type": "display_data"
    },
    {
     "name": "stdout",
     "output_type": "stream",
     "text": [
      "Learn time: 14.072 minutes\n",
      "Evaluating over 25 episodes...\n",
      "Evaluation time: 1.860 minutes\n",
      "Mean episode reward: -180.73, Standard deviation: 485.9831013687616\n",
      "Mean episode length: 9726.92, Standard deviation: 3952.5905319929107\n",
      "finished architecture ['MlpPolicy', 0.0001, 2048, 64, 2, [-410.102, -463.702, 143.598, 218.598, -30.702, 432.398, -689.802, 166.798, -1139.602, 111.198, -954.202, 129.198, 963.198, -436.102, -595.502, -173.902, -357.402, -575.902, -2.902, 265.798, -345.302, -187.602, -81.902, -965.802, 461.398], [5693, 6271, 6334, 6736, 7660, 10171, 10264, 5696, 6906, 13204, 15559, 7966, 16786, 7497, 6313, 5006, 9407, 15920, 16351, 15789, 5780, 10258, 14610, 5931, 11065], -180.73, 9726.92, 844.3177211284637, 111.60468292236328] at 15.932 minutes.\n"
     ]
    },
    {
     "data": {
      "application/vnd.jupyter.widget-view+json": {
       "model_id": "61ff3b6e5b5c4d90befcbcbe324eb4d9",
       "version_major": 2,
       "version_minor": 0
      },
      "text/plain": [
       "Output()"
      ]
     },
     "metadata": {},
     "output_type": "display_data"
    },
    {
     "name": "stdout",
     "output_type": "stream",
     "text": [
      "------------\n",
      "Starting architecture 34 of 54\n",
      "Learning...\n"
     ]
    },
    {
     "data": {
      "text/html": [
       "<pre style=\"white-space:pre;overflow-x:auto;line-height:normal;font-family:Menlo,'DejaVu Sans Mono',consolas,'Courier New',monospace\"></pre>\n"
      ],
      "text/plain": []
     },
     "metadata": {},
     "output_type": "display_data"
    },
    {
     "data": {
      "text/html": [
       "<pre style=\"white-space:pre;overflow-x:auto;line-height:normal;font-family:Menlo,'DejaVu Sans Mono',consolas,'Courier New',monospace\">\n",
       "</pre>\n"
      ],
      "text/plain": [
       "\n"
      ]
     },
     "metadata": {},
     "output_type": "display_data"
    },
    {
     "name": "stdout",
     "output_type": "stream",
     "text": [
      "Learn time: 9.328 minutes\n",
      "Evaluating over 25 episodes...\n",
      "Evaluation time: 2.017 minutes\n",
      "Mean episode reward: -242.10199999999998, Standard deviation: 510.05514133277785\n",
      "Mean episode length: 10370.8, Standard deviation: 4036.6812903671253\n",
      "finished architecture ['MlpPolicy', 0.0001, 512, 128, 2, [-704.102, -447.602, -604.902, -433.202, 243.198, 352.398, 219.798, 184.598, -961.502, -859.402, -411.902, -774.002, -224.402, -216.202, 316.298, -546.102, -98.902, -842.202, 129.398, 514.298, 522.098, -920.302, -512.702, 767.598, -744.802], [5105, 5401, 7081, 7327, 9341, 9510, 9893, 11731, 13650, 9066, 7609, 15639, 6341, 9429, 12362, 14759, 12896, 10344, 12716, 9661, 16051, 8436, 6553, 22866, 5503], -242.10199999999998, 10370.8, 559.6928474903107, 121.01444840431213] at 11.345 minutes.\n"
     ]
    },
    {
     "data": {
      "application/vnd.jupyter.widget-view+json": {
       "model_id": "adebf5f2da0e4108bcf0f7ef63da697a",
       "version_major": 2,
       "version_minor": 0
      },
      "text/plain": [
       "Output()"
      ]
     },
     "metadata": {},
     "output_type": "display_data"
    },
    {
     "name": "stdout",
     "output_type": "stream",
     "text": [
      "------------\n",
      "Starting architecture 35 of 54\n",
      "Learning...\n"
     ]
    },
    {
     "data": {
      "text/html": [
       "<pre style=\"white-space:pre;overflow-x:auto;line-height:normal;font-family:Menlo,'DejaVu Sans Mono',consolas,'Courier New',monospace\"></pre>\n"
      ],
      "text/plain": []
     },
     "metadata": {},
     "output_type": "display_data"
    },
    {
     "data": {
      "text/html": [
       "<pre style=\"white-space:pre;overflow-x:auto;line-height:normal;font-family:Menlo,'DejaVu Sans Mono',consolas,'Courier New',monospace\">\n",
       "</pre>\n"
      ],
      "text/plain": [
       "\n"
      ]
     },
     "metadata": {},
     "output_type": "display_data"
    },
    {
     "name": "stdout",
     "output_type": "stream",
     "text": [
      "Learn time: 10.306 minutes\n",
      "Evaluating over 25 episodes...\n",
      "Evaluation time: 2.152 minutes\n",
      "Mean episode reward: -77.49000000000001, Standard deviation: 595.2029894548582\n",
      "Mean episode length: 10106.48, Standard deviation: 4814.452493233265\n",
      "finished architecture ['MlpPolicy', 0.0001, 2048, 128, 2, [-815.802, 87.698, -431.902, -83.502, 163.798, 186.398, 418.498, -383.802, 318.198, -696.402, 141.998, -773.202, -738.402, -503.702, -19.202, 164.998, -529.802, 263.498, -364.202, 124.398, 1791.398, 636.998, 548.898, -355.902, -1088.202], [5265, 5503, 6943, 9493, 10334, 11969, 11982, 5153, 13306, 8516, 14490, 5706, 11099, 7214, 7348, 10564, 6069, 10579, 12523, 7940, 28186, 10078, 17200, 5656, 9546], -77.49000000000001, 10106.48, 618.3519706726074, 129.13311553001404] at 12.458 minutes.\n"
     ]
    },
    {
     "data": {
      "application/vnd.jupyter.widget-view+json": {
       "model_id": "6ea38e5fec3f443db4eabc51cd8f8d18",
       "version_major": 2,
       "version_minor": 0
      },
      "text/plain": [
       "Output()"
      ]
     },
     "metadata": {},
     "output_type": "display_data"
    },
    {
     "name": "stdout",
     "output_type": "stream",
     "text": [
      "------------\n",
      "Starting architecture 36 of 54\n",
      "Learning...\n"
     ]
    },
    {
     "data": {
      "text/html": [
       "<pre style=\"white-space:pre;overflow-x:auto;line-height:normal;font-family:Menlo,'DejaVu Sans Mono',consolas,'Courier New',monospace\"></pre>\n"
      ],
      "text/plain": []
     },
     "metadata": {},
     "output_type": "display_data"
    },
    {
     "data": {
      "text/html": [
       "<pre style=\"white-space:pre;overflow-x:auto;line-height:normal;font-family:Menlo,'DejaVu Sans Mono',consolas,'Courier New',monospace\">\n",
       "</pre>\n"
      ],
      "text/plain": [
       "\n"
      ]
     },
     "metadata": {},
     "output_type": "display_data"
    },
    {
     "name": "stdout",
     "output_type": "stream",
     "text": [
      "Learn time: 11.208 minutes\n",
      "Evaluating over 25 episodes...\n",
      "Evaluation time: 1.815 minutes\n",
      "Mean episode reward: -128.234, Standard deviation: 491.0512093213904\n",
      "Mean episode length: 10738.48, Standard deviation: 3881.4523376694965\n",
      "finished architecture ['MlpPolicy', 0.0001, 4096, 128, 2, [-514.202, -189.102, -18.402, -549.102, 314.198, 1061.098, -230.102, 342.998, -583.202, -567.702, -441.002, -553.202, 947.198, 373.498, 1.898, -935.202, -168.202, -229.402, -74.902, 396.298, 210.898, -296.902, -210.402, -410.202, -882.702], [5947, 7802, 8954, 9165, 9239, 10727, 5407, 14080, 14416, 6945, 16018, 9567, 18281, 7964, 9617, 8017, 8034, 9867, 5876, 6747, 16459, 16673, 12891, 17389, 12380], -128.234, 10738.48, 672.4705934524536, 108.88458371162415] at 13.023 minutes.\n"
     ]
    },
    {
     "data": {
      "application/vnd.jupyter.widget-view+json": {
       "model_id": "76907958474f4617ab657b631d92e7e3",
       "version_major": 2,
       "version_minor": 0
      },
      "text/plain": [
       "Output()"
      ]
     },
     "metadata": {},
     "output_type": "display_data"
    },
    {
     "name": "stdout",
     "output_type": "stream",
     "text": [
      "------------\n",
      "Starting architecture 37 of 54\n",
      "Learning...\n"
     ]
    },
    {
     "data": {
      "text/html": [
       "<pre style=\"white-space:pre;overflow-x:auto;line-height:normal;font-family:Menlo,'DejaVu Sans Mono',consolas,'Courier New',monospace\"></pre>\n"
      ],
      "text/plain": []
     },
     "metadata": {},
     "output_type": "display_data"
    },
    {
     "data": {
      "text/html": [
       "<pre style=\"white-space:pre;overflow-x:auto;line-height:normal;font-family:Menlo,'DejaVu Sans Mono',consolas,'Courier New',monospace\">\n",
       "</pre>\n"
      ],
      "text/plain": [
       "\n"
      ]
     },
     "metadata": {},
     "output_type": "display_data"
    },
    {
     "name": "stdout",
     "output_type": "stream",
     "text": [
      "Learn time: 20.325 minutes\n",
      "Evaluating over 25 episodes...\n",
      "Evaluation time: 2.755 minutes\n",
      "Mean episode reward: -21.86199999999998, Standard deviation: 576.4685358282792\n",
      "Mean episode length: 11709.04, Standard deviation: 4008.2347583942733\n",
      "finished architecture ['MlpPolicy', 1e-05, 128, 32, 2, [-715.402, -577.002, -597.602, -117.502, 662.998, 507.598, -74.102, -133.702, -511.702, -221.802, -839.202, 632.698, 574.498, -611.002, 269.598, 397.398, 1254.798, -321.202, 26.698, -439.902, -465.302, 204.698, 211.898, -781.302, 1117.298], [5367, 7060, 7148, 8026, 9303, 10118, 12725, 13911, 8472, 16524, 8761, 13024, 14516, 9215, 13053, 14146, 24789, 8564, 11237, 10131, 11791, 10427, 13424, 17539, 13455], -21.86199999999998, 11709.04, 1219.501487493515, 165.29722809791565] at 23.080 minutes.\n"
     ]
    },
    {
     "data": {
      "application/vnd.jupyter.widget-view+json": {
       "model_id": "74bd8feb179a46679428d9e1df818f3a",
       "version_major": 2,
       "version_minor": 0
      },
      "text/plain": [
       "Output()"
      ]
     },
     "metadata": {},
     "output_type": "display_data"
    },
    {
     "name": "stdout",
     "output_type": "stream",
     "text": [
      "------------\n",
      "Starting architecture 38 of 54\n",
      "Learning...\n"
     ]
    },
    {
     "data": {
      "text/html": [
       "<pre style=\"white-space:pre;overflow-x:auto;line-height:normal;font-family:Menlo,'DejaVu Sans Mono',consolas,'Courier New',monospace\"></pre>\n"
      ],
      "text/plain": []
     },
     "metadata": {},
     "output_type": "display_data"
    },
    {
     "data": {
      "text/html": [
       "<pre style=\"white-space:pre;overflow-x:auto;line-height:normal;font-family:Menlo,'DejaVu Sans Mono',consolas,'Courier New',monospace\">\n",
       "</pre>\n"
      ],
      "text/plain": [
       "\n"
      ]
     },
     "metadata": {},
     "output_type": "display_data"
    },
    {
     "name": "stdout",
     "output_type": "stream",
     "text": [
      "Learn time: 20.572 minutes\n",
      "Evaluating over 25 episodes...\n",
      "Evaluation time: 2.019 minutes\n",
      "Mean episode reward: 34.41, Standard deviation: 439.434044489045\n",
      "Mean episode length: 10490.32, Standard deviation: 3799.575246998012\n",
      "finished architecture ['MlpPolicy', 1e-05, 512, 32, 2, [223.098, -420.402, -900.602, -90.302, -431.502, -319.802, 102.198, -287.402, 122.198, -387.302, 364.498, 333.098, -311.302, 685.398, 265.898, 485.598, -117.702, 637.398, 489.198, 622.598, -687.202, 625.198, -304.102, 337.898, -176.402], [5663, 5775, 5854, 7461, 7626, 7805, 9658, 10165, 10900, 11367, 7141, 8965, 6384, 14325, 10881, 12749, 10331, 16391, 12786, 8436, 10995, 20800, 8281, 14041, 17478], 34.41, 10490.32, 1234.3207523822784, 121.12812829017639] at 22.591 minutes.\n"
     ]
    },
    {
     "data": {
      "application/vnd.jupyter.widget-view+json": {
       "model_id": "123e0517af934fa1bd9ae9f1b3dd88eb",
       "version_major": 2,
       "version_minor": 0
      },
      "text/plain": [
       "Output()"
      ]
     },
     "metadata": {},
     "output_type": "display_data"
    },
    {
     "name": "stdout",
     "output_type": "stream",
     "text": [
      "------------\n",
      "Starting architecture 39 of 54\n",
      "Learning...\n"
     ]
    },
    {
     "data": {
      "text/html": [
       "<pre style=\"white-space:pre;overflow-x:auto;line-height:normal;font-family:Menlo,'DejaVu Sans Mono',consolas,'Courier New',monospace\"></pre>\n"
      ],
      "text/plain": []
     },
     "metadata": {},
     "output_type": "display_data"
    },
    {
     "data": {
      "text/html": [
       "<pre style=\"white-space:pre;overflow-x:auto;line-height:normal;font-family:Menlo,'DejaVu Sans Mono',consolas,'Courier New',monospace\">\n",
       "</pre>\n"
      ],
      "text/plain": [
       "\n"
      ]
     },
     "metadata": {},
     "output_type": "display_data"
    },
    {
     "name": "stdout",
     "output_type": "stream",
     "text": [
      "Learn time: 21.000 minutes\n",
      "Evaluating over 25 episodes...\n",
      "Evaluation time: 2.225 minutes\n",
      "Mean episode reward: 83.14599999999999, Standard deviation: 456.6634989749016\n",
      "Mean episode length: 11602.48, Standard deviation: 4159.125572713572\n",
      "finished architecture ['MlpPolicy', 1e-05, 1024, 32, 2, [-94.202, 107.598, -469.602, -319.802, -66.702, 530.398, 300.498, 422.798, 456.898, 346.898, -8.502, -764.402, 236.498, 454.298, 226.598, -644.802, 1047.298, 546.898, -559.002, -344.902, 459.798, 146.098, 441.798, -696.902, 323.098], [5950, 6258, 7534, 9625, 10950, 11697, 12168, 12651, 10063, 18292, 6402, 12905, 14052, 9935, 13828, 15297, 24928, 14125, 10228, 4706, 12935, 14020, 9781, 11565, 10167], 83.14599999999999, 11602.48, 1260.016191959381, 133.49353313446045] at 23.225 minutes.\n"
     ]
    },
    {
     "data": {
      "application/vnd.jupyter.widget-view+json": {
       "model_id": "ae66986c34f24e1b9b046827914f77cb",
       "version_major": 2,
       "version_minor": 0
      },
      "text/plain": [
       "Output()"
      ]
     },
     "metadata": {},
     "output_type": "display_data"
    },
    {
     "name": "stdout",
     "output_type": "stream",
     "text": [
      "------------\n",
      "Starting architecture 40 of 54\n",
      "Learning...\n"
     ]
    },
    {
     "data": {
      "text/html": [
       "<pre style=\"white-space:pre;overflow-x:auto;line-height:normal;font-family:Menlo,'DejaVu Sans Mono',consolas,'Courier New',monospace\"></pre>\n"
      ],
      "text/plain": []
     },
     "metadata": {},
     "output_type": "display_data"
    },
    {
     "data": {
      "text/html": [
       "<pre style=\"white-space:pre;overflow-x:auto;line-height:normal;font-family:Menlo,'DejaVu Sans Mono',consolas,'Courier New',monospace\">\n",
       "</pre>\n"
      ],
      "text/plain": [
       "\n"
      ]
     },
     "metadata": {},
     "output_type": "display_data"
    },
    {
     "name": "stdout",
     "output_type": "stream",
     "text": [
      "Learn time: 12.989 minutes\n",
      "Evaluating over 25 episodes...\n",
      "Evaluation time: 1.842 minutes\n",
      "Mean episode reward: -122.57400000000001, Standard deviation: 574.8527168031826\n",
      "Mean episode length: 10647.84, Standard deviation: 4050.6932115873697\n",
      "finished architecture ['MlpPolicy', 1e-05, 256, 64, 2, [-1100.302, -819.602, -526.302, -534.102, -488.802, -196.702, -26.902, 153.198, 514.298, 658.698, 318.998, -1119.902, 829.798, -336.302, -618.402, -140.102, 30.098, -46.902, 551.098, 855.098, -811.102, -226.502, -372.602, -384.702, 773.598], [6072, 6974, 8081, 8482, 8819, 9360, 11738, 6471, 14360, 15546, 9011, 8710, 11278, 8878, 12224, 12969, 8518, 8676, 26656, 11330, 8068, 10863, 13893, 9017, 10202], -122.57400000000001, 10647.84, 779.3350291252136, 110.49352383613586] at 14.830 minutes.\n"
     ]
    },
    {
     "data": {
      "application/vnd.jupyter.widget-view+json": {
       "model_id": "cbd0b9f218174df9a54eeb88a12e4121",
       "version_major": 2,
       "version_minor": 0
      },
      "text/plain": [
       "Output()"
      ]
     },
     "metadata": {},
     "output_type": "display_data"
    },
    {
     "name": "stdout",
     "output_type": "stream",
     "text": [
      "------------\n",
      "Starting architecture 41 of 54\n",
      "Learning...\n"
     ]
    },
    {
     "data": {
      "text/html": [
       "<pre style=\"white-space:pre;overflow-x:auto;line-height:normal;font-family:Menlo,'DejaVu Sans Mono',consolas,'Courier New',monospace\"></pre>\n"
      ],
      "text/plain": []
     },
     "metadata": {},
     "output_type": "display_data"
    },
    {
     "data": {
      "text/html": [
       "<pre style=\"white-space:pre;overflow-x:auto;line-height:normal;font-family:Menlo,'DejaVu Sans Mono',consolas,'Courier New',monospace\">\n",
       "</pre>\n"
      ],
      "text/plain": [
       "\n"
      ]
     },
     "metadata": {},
     "output_type": "display_data"
    },
    {
     "name": "stdout",
     "output_type": "stream",
     "text": [
      "Learn time: 13.337 minutes\n",
      "Evaluating over 25 episodes...\n",
      "Evaluation time: 1.892 minutes\n",
      "Mean episode reward: -135.37, Standard deviation: 493.2200666801788\n",
      "Mean episode length: 10907.2, Standard deviation: 3341.258768787596\n",
      "finished architecture ['MlpPolicy', 1e-05, 1024, 64, 2, [-312.102, -932.502, 116.598, -856.802, -524.702, 444.398, 317.398, 292.898, 244.098, 418.598, -72.202, -433.202, -1289.302, 692.298, -526.802, -573.202, 241.598, 30.198, -73.602, 16.698, 607.698, -458.102, -47.402, -570.502, -136.302], [5535, 7099, 7988, 8562, 9624, 10274, 11699, 7207, 13005, 15187, 8815, 7441, 17041, 8665, 7294, 10491, 9917, 15380, 15156, 10480, 13322, 8996, 16151, 16744, 10607], -135.37, 10907.2, 800.2118005752563, 113.50540113449097] at 15.229 minutes.\n"
     ]
    },
    {
     "data": {
      "application/vnd.jupyter.widget-view+json": {
       "model_id": "402cb1706d724f068d7f5934da5d8372",
       "version_major": 2,
       "version_minor": 0
      },
      "text/plain": [
       "Output()"
      ]
     },
     "metadata": {},
     "output_type": "display_data"
    },
    {
     "name": "stdout",
     "output_type": "stream",
     "text": [
      "------------\n",
      "Starting architecture 42 of 54\n",
      "Learning...\n"
     ]
    },
    {
     "data": {
      "text/html": [
       "<pre style=\"white-space:pre;overflow-x:auto;line-height:normal;font-family:Menlo,'DejaVu Sans Mono',consolas,'Courier New',monospace\"></pre>\n"
      ],
      "text/plain": []
     },
     "metadata": {},
     "output_type": "display_data"
    },
    {
     "data": {
      "text/html": [
       "<pre style=\"white-space:pre;overflow-x:auto;line-height:normal;font-family:Menlo,'DejaVu Sans Mono',consolas,'Courier New',monospace\">\n",
       "</pre>\n"
      ],
      "text/plain": [
       "\n"
      ]
     },
     "metadata": {},
     "output_type": "display_data"
    },
    {
     "name": "stdout",
     "output_type": "stream",
     "text": [
      "Learn time: 14.211 minutes\n",
      "Evaluating over 25 episodes...\n",
      "Evaluation time: 2.070 minutes\n",
      "Mean episode reward: -187.46200000000002, Standard deviation: 471.7153260177159\n",
      "Mean episode length: 10552.2, Standard deviation: 3365.3516309592374\n",
      "finished architecture ['MlpPolicy', 1e-05, 2048, 64, 2, [-60.102, -365.802, 43.598, -516.402, -585.602, 431.398, -460.302, -419.702, -350.202, -385.002, -980.802, -147.802, -559.002, -143.802, 77.798, -196.202, -690.502, 571.498, -460.502, 98.598, -412.502, -26.002, -190.302, 1445.698, -404.602], [6718, 7472, 8259, 8881, 8917, 12106, 12693, 12930, 12936, 13278, 8161, 9009, 11641, 10695, 13376, 9456, 5491, 10444, 6412, 12615, 8184, 15288, 10224, 21401, 7218], -187.46200000000002, 10552.2, 852.6466574668884, 124.2166006565094] at 16.281 minutes.\n"
     ]
    },
    {
     "data": {
      "application/vnd.jupyter.widget-view+json": {
       "model_id": "3062c61f708a4f1d8af8f19a9ab92747",
       "version_major": 2,
       "version_minor": 0
      },
      "text/plain": [
       "Output()"
      ]
     },
     "metadata": {},
     "output_type": "display_data"
    },
    {
     "name": "stdout",
     "output_type": "stream",
     "text": [
      "------------\n",
      "Starting architecture 43 of 54\n",
      "Learning...\n"
     ]
    },
    {
     "data": {
      "text/html": [
       "<pre style=\"white-space:pre;overflow-x:auto;line-height:normal;font-family:Menlo,'DejaVu Sans Mono',consolas,'Courier New',monospace\"></pre>\n"
      ],
      "text/plain": []
     },
     "metadata": {},
     "output_type": "display_data"
    },
    {
     "data": {
      "text/html": [
       "<pre style=\"white-space:pre;overflow-x:auto;line-height:normal;font-family:Menlo,'DejaVu Sans Mono',consolas,'Courier New',monospace\">\n",
       "</pre>\n"
      ],
      "text/plain": [
       "\n"
      ]
     },
     "metadata": {},
     "output_type": "display_data"
    },
    {
     "name": "stdout",
     "output_type": "stream",
     "text": [
      "Learn time: 9.247 minutes\n",
      "Evaluating over 25 episodes...\n",
      "Evaluation time: 2.127 minutes\n",
      "Mean episode reward: -341.57800000000003, Standard deviation: 378.83743244827326\n",
      "Mean episode length: 10605.0, Standard deviation: 3362.5088966425055\n",
      "finished architecture ['MlpPolicy', 1e-05, 512, 128, 2, [-124.402, -882.002, -277.302, -978.902, -752.502, 119.898, -459.502, -387.602, -619.502, -739.502, -892.502, -37.302, 34.798, 121.298, -440.002, 163.498, 45.798, -350.002, -273.302, 368.898, -601.802, -707.402, -362.302, 140.598, -648.402], [5454, 5630, 6152, 6659, 6932, 10286, 10983, 13519, 9550, 15780, 16171, 10126, 6139, 11655, 12861, 12133, 12474, 9209, 15215, 12838, 11309, 14868, 6783, 7997, 14402], -341.57800000000003, 10605.0, 554.8311848640442, 127.60147905349731] at 11.374 minutes.\n"
     ]
    },
    {
     "data": {
      "application/vnd.jupyter.widget-view+json": {
       "model_id": "037febf74b134e8fb7c26fb702b336ce",
       "version_major": 2,
       "version_minor": 0
      },
      "text/plain": [
       "Output()"
      ]
     },
     "metadata": {},
     "output_type": "display_data"
    },
    {
     "name": "stdout",
     "output_type": "stream",
     "text": [
      "------------\n",
      "Starting architecture 44 of 54\n",
      "Learning...\n"
     ]
    },
    {
     "data": {
      "text/html": [
       "<pre style=\"white-space:pre;overflow-x:auto;line-height:normal;font-family:Menlo,'DejaVu Sans Mono',consolas,'Courier New',monospace\"></pre>\n"
      ],
      "text/plain": []
     },
     "metadata": {},
     "output_type": "display_data"
    },
    {
     "data": {
      "text/html": [
       "<pre style=\"white-space:pre;overflow-x:auto;line-height:normal;font-family:Menlo,'DejaVu Sans Mono',consolas,'Courier New',monospace\">\n",
       "</pre>\n"
      ],
      "text/plain": [
       "\n"
      ]
     },
     "metadata": {},
     "output_type": "display_data"
    },
    {
     "name": "stdout",
     "output_type": "stream",
     "text": [
      "Learn time: 10.340 minutes\n",
      "Evaluating over 25 episodes...\n",
      "Evaluation time: 1.908 minutes\n",
      "Mean episode reward: -96.274, Standard deviation: 400.0702433523393\n",
      "Mean episode length: 10913.92, Standard deviation: 2806.5899297189817\n",
      "finished architecture ['MlpPolicy', 1e-05, 2048, 128, 2, [-620.302, -174.402, -573.502, 692.498, 408.298, 83.598, 353.098, -199.602, -69.002, 164.898, -122.602, -863.802, -380.302, -510.902, -203.702, -776.502, -25.902, 266.598, -29.902, 242.498, -464.402, 184.698, 401.698, -460.602, 270.698], [4963, 7400, 9621, 9890, 10163, 10800, 11312, 8176, 13927, 15032, 9163, 16638, 9582, 11561, 10210, 4967, 11868, 11873, 8295, 10963, 13942, 12888, 12579, 13835, 13200], -96.274, 10913.92, 620.4291999340057, 114.46708369255066] at 12.248 minutes.\n"
     ]
    },
    {
     "data": {
      "application/vnd.jupyter.widget-view+json": {
       "model_id": "eeaf174dfae4475fbde444acd9d7e5a8",
       "version_major": 2,
       "version_minor": 0
      },
      "text/plain": [
       "Output()"
      ]
     },
     "metadata": {},
     "output_type": "display_data"
    },
    {
     "name": "stdout",
     "output_type": "stream",
     "text": [
      "------------\n",
      "Starting architecture 45 of 54\n",
      "Learning...\n"
     ]
    },
    {
     "data": {
      "text/html": [
       "<pre style=\"white-space:pre;overflow-x:auto;line-height:normal;font-family:Menlo,'DejaVu Sans Mono',consolas,'Courier New',monospace\"></pre>\n"
      ],
      "text/plain": []
     },
     "metadata": {},
     "output_type": "display_data"
    },
    {
     "data": {
      "text/html": [
       "<pre style=\"white-space:pre;overflow-x:auto;line-height:normal;font-family:Menlo,'DejaVu Sans Mono',consolas,'Courier New',monospace\">\n",
       "</pre>\n"
      ],
      "text/plain": [
       "\n"
      ]
     },
     "metadata": {},
     "output_type": "display_data"
    },
    {
     "name": "stdout",
     "output_type": "stream",
     "text": [
      "Learn time: 11.208 minutes\n",
      "Evaluating over 25 episodes...\n",
      "Evaluation time: 2.236 minutes\n",
      "Mean episode reward: -179.24599999999998, Standard deviation: 413.8423642692951\n",
      "Mean episode length: 10444.96, Standard deviation: 2979.4066587829193\n",
      "finished architecture ['MlpPolicy', 1e-05, 4096, 128, 2, [-470.502, -310.402, -104.802, -877.002, -765.402, -529.102, 453.698, -242.102, -757.602, -104.502, -334.002, 663.098, 211.998, -370.902, -512.102, -329.802, -152.702, 73.998, -686.502, 171.798, 510.998, -494.302, 352.298, 75.998, 46.698], [5262, 8119, 8356, 8658, 9866, 4839, 10775, 11752, 12188, 13991, 6202, 15657, 9201, 9887, 8444, 11347, 12889, 12376, 11111, 11102, 13095, 6923, 13766, 8772, 16546], -179.24599999999998, 10444.96, 672.50657081604, 134.15532994270325] at 13.444 minutes.\n"
     ]
    },
    {
     "data": {
      "application/vnd.jupyter.widget-view+json": {
       "model_id": "7e0622b6d08944b69dfda3916492ff60",
       "version_major": 2,
       "version_minor": 0
      },
      "text/plain": [
       "Output()"
      ]
     },
     "metadata": {},
     "output_type": "display_data"
    },
    {
     "name": "stdout",
     "output_type": "stream",
     "text": [
      "------------\n",
      "Starting architecture 46 of 54\n",
      "Learning...\n"
     ]
    },
    {
     "data": {
      "text/html": [
       "<pre style=\"white-space:pre;overflow-x:auto;line-height:normal;font-family:Menlo,'DejaVu Sans Mono',consolas,'Courier New',monospace\"></pre>\n"
      ],
      "text/plain": []
     },
     "metadata": {},
     "output_type": "display_data"
    },
    {
     "data": {
      "text/html": [
       "<pre style=\"white-space:pre;overflow-x:auto;line-height:normal;font-family:Menlo,'DejaVu Sans Mono',consolas,'Courier New',monospace\">\n",
       "</pre>\n"
      ],
      "text/plain": [
       "\n"
      ]
     },
     "metadata": {},
     "output_type": "display_data"
    },
    {
     "name": "stdout",
     "output_type": "stream",
     "text": [
      "Learn time: 20.804 minutes\n",
      "Evaluating over 25 episodes...\n",
      "Evaluation time: 1.614 minutes\n",
      "Mean episode reward: -277.742, Standard deviation: 310.49580609083915\n",
      "Mean episode length: 9735.96, Standard deviation: 3073.597195209548\n",
      "finished architecture ['MlpPolicy', 1e-06, 128, 32, 2, [-221.302, 35.598, -300.202, -511.902, -47.102, -262.902, -379.202, -321.902, -774.502, -276.402, -768.202, -38.402, 160.298, -609.202, -4.802, 263.298, -233.702, -541.802, -774.702, -434.602, 119.798, -298.302, 314.998, -567.202, -471.202], [5829, 6016, 6238, 6435, 7213, 8091, 9932, 10016, 6184, 5442, 6957, 14318, 10153, 16769, 11763, 11428, 12225, 8212, 12318, 14670, 11609, 8295, 12735, 8919, 11632], -277.742, 9735.96, 1248.214878320694, 96.8154149055481] at 22.417 minutes.\n"
     ]
    },
    {
     "data": {
      "application/vnd.jupyter.widget-view+json": {
       "model_id": "88705f3c3dae4275b3b51362f8c225dd",
       "version_major": 2,
       "version_minor": 0
      },
      "text/plain": [
       "Output()"
      ]
     },
     "metadata": {},
     "output_type": "display_data"
    },
    {
     "name": "stdout",
     "output_type": "stream",
     "text": [
      "------------\n",
      "Starting architecture 47 of 54\n",
      "Learning...\n"
     ]
    },
    {
     "data": {
      "text/html": [
       "<pre style=\"white-space:pre;overflow-x:auto;line-height:normal;font-family:Menlo,'DejaVu Sans Mono',consolas,'Courier New',monospace\"></pre>\n"
      ],
      "text/plain": []
     },
     "metadata": {},
     "output_type": "display_data"
    },
    {
     "data": {
      "text/html": [
       "<pre style=\"white-space:pre;overflow-x:auto;line-height:normal;font-family:Menlo,'DejaVu Sans Mono',consolas,'Courier New',monospace\">\n",
       "</pre>\n"
      ],
      "text/plain": [
       "\n"
      ]
     },
     "metadata": {},
     "output_type": "display_data"
    },
    {
     "name": "stdout",
     "output_type": "stream",
     "text": [
      "Learn time: 21.766 minutes\n",
      "Evaluating over 25 episodes...\n",
      "Evaluation time: 2.602 minutes\n",
      "Mean episode reward: -147.77399999999997, Standard deviation: 497.1373311430152\n",
      "Mean episode length: 11082.44, Standard deviation: 3772.4006264446516\n",
      "finished architecture ['MlpPolicy', 1e-06, 512, 32, 2, [-718.102, -147.502, -22.702, -478.602, 281.198, 70.398, -242.102, -1136.502, -446.602, -222.802, 390.998, 739.198, 207.598, 624.998, -135.402, -1148.402, -716.802, -20.702, -185.702, 230.698, -363.202, -286.102, -590.002, -161.802, 783.598], [5638, 7174, 9226, 9452, 9717, 10083, 10558, 6615, 12695, 8716, 17214, 8889, 18715, 10350, 10823, 8644, 11512, 7516, 16959, 11860, 9163, 14960, 6354, 15637, 18591], -147.77399999999997, 11082.44, 1305.9575726985931, 156.13843178749084] at 24.368 minutes.\n"
     ]
    },
    {
     "data": {
      "application/vnd.jupyter.widget-view+json": {
       "model_id": "0efa05f2dbff44119b9f1068ac9bb99d",
       "version_major": 2,
       "version_minor": 0
      },
      "text/plain": [
       "Output()"
      ]
     },
     "metadata": {},
     "output_type": "display_data"
    },
    {
     "name": "stdout",
     "output_type": "stream",
     "text": [
      "------------\n",
      "Starting architecture 48 of 54\n",
      "Learning...\n"
     ]
    },
    {
     "data": {
      "text/html": [
       "<pre style=\"white-space:pre;overflow-x:auto;line-height:normal;font-family:Menlo,'DejaVu Sans Mono',consolas,'Courier New',monospace\"></pre>\n"
      ],
      "text/plain": []
     },
     "metadata": {},
     "output_type": "display_data"
    },
    {
     "data": {
      "text/html": [
       "<pre style=\"white-space:pre;overflow-x:auto;line-height:normal;font-family:Menlo,'DejaVu Sans Mono',consolas,'Courier New',monospace\">\n",
       "</pre>\n"
      ],
      "text/plain": [
       "\n"
      ]
     },
     "metadata": {},
     "output_type": "display_data"
    },
    {
     "name": "stdout",
     "output_type": "stream",
     "text": [
      "Learn time: 22.355 minutes\n",
      "Evaluating over 25 episodes...\n",
      "Evaluation time: 2.724 minutes\n",
      "Mean episode reward: -29.241999999999997, Standard deviation: 548.2733077580925\n",
      "Mean episode length: 11753.08, Standard deviation: 3939.333455497262\n",
      "finished architecture ['MlpPolicy', 1e-06, 1024, 32, 2, [-445.902, -213.302, -214.602, -379.502, 41.898, 890.798, 451.098, -1342.702, 273.998, 1.998, 82.498, -110.602, -1075.802, -183.002, -48.802, 795.498, -1011.702, 414.698, -466.802, 285.098, 471.798, -256.702, 523.698, 477.798, 307.498], [5476, 7315, 8347, 8473, 10246, 10752, 13163, 14518, 14551, 14931, 11098, 7202, 6261, 13595, 11189, 15769, 16765, 15125, 6115, 12284, 14697, 8856, 11589, 12916, 22594], -29.241999999999997, 11753.08, 1341.2838530540466, 163.46817255020142] at 25.079 minutes.\n"
     ]
    },
    {
     "data": {
      "application/vnd.jupyter.widget-view+json": {
       "model_id": "a1fd9e44ec154119ab7c395e6d4e06c0",
       "version_major": 2,
       "version_minor": 0
      },
      "text/plain": [
       "Output()"
      ]
     },
     "metadata": {},
     "output_type": "display_data"
    },
    {
     "name": "stdout",
     "output_type": "stream",
     "text": [
      "------------\n",
      "Starting architecture 49 of 54\n",
      "Learning...\n"
     ]
    },
    {
     "data": {
      "text/html": [
       "<pre style=\"white-space:pre;overflow-x:auto;line-height:normal;font-family:Menlo,'DejaVu Sans Mono',consolas,'Courier New',monospace\"></pre>\n"
      ],
      "text/plain": []
     },
     "metadata": {},
     "output_type": "display_data"
    },
    {
     "data": {
      "text/html": [
       "<pre style=\"white-space:pre;overflow-x:auto;line-height:normal;font-family:Menlo,'DejaVu Sans Mono',consolas,'Courier New',monospace\">\n",
       "</pre>\n"
      ],
      "text/plain": [
       "\n"
      ]
     },
     "metadata": {},
     "output_type": "display_data"
    },
    {
     "name": "stdout",
     "output_type": "stream",
     "text": [
      "Learn time: 14.170 minutes\n",
      "Evaluating over 25 episodes...\n",
      "Evaluation time: 2.801 minutes\n",
      "Mean episode reward: -50.51800000000001, Standard deviation: 411.54945722719646\n",
      "Mean episode length: 11244.84, Standard deviation: 6343.6126721608725\n",
      "finished architecture ['MlpPolicy', 1e-06, 256, 64, 2, [-421.602, -108.202, 210.498, -598.402, 179.298, 146.298, 994.898, -97.202, -432.202, -450.202, 11.598, -359.202, -338.702, -109.602, -680.702, 94.698, -350.502, 416.798, 434.198, -229.602, -21.402, -412.702, 62.898, -105.102, 901.198], [4828, 6026, 6133, 6322, 9271, 9763, 10376, 6539, 13043, 13340, 13806, 7824, 10136, 12168, 9381, 10669, 10748, 14557, 15339, 6457, 16205, 11292, 6152, 12609, 38137], -50.51800000000001, 11244.84, 850.1848967075348, 168.0364282131195] at 16.970 minutes.\n"
     ]
    },
    {
     "data": {
      "application/vnd.jupyter.widget-view+json": {
       "model_id": "1a9304438faa443b992499c7638c500f",
       "version_major": 2,
       "version_minor": 0
      },
      "text/plain": [
       "Output()"
      ]
     },
     "metadata": {},
     "output_type": "display_data"
    },
    {
     "name": "stdout",
     "output_type": "stream",
     "text": [
      "------------\n",
      "Starting architecture 50 of 54\n",
      "Learning...\n"
     ]
    },
    {
     "data": {
      "text/html": [
       "<pre style=\"white-space:pre;overflow-x:auto;line-height:normal;font-family:Menlo,'DejaVu Sans Mono',consolas,'Courier New',monospace\"></pre>\n"
      ],
      "text/plain": []
     },
     "metadata": {},
     "output_type": "display_data"
    },
    {
     "data": {
      "text/html": [
       "<pre style=\"white-space:pre;overflow-x:auto;line-height:normal;font-family:Menlo,'DejaVu Sans Mono',consolas,'Courier New',monospace\">\n",
       "</pre>\n"
      ],
      "text/plain": [
       "\n"
      ]
     },
     "metadata": {},
     "output_type": "display_data"
    },
    {
     "name": "stdout",
     "output_type": "stream",
     "text": [
      "Learn time: 13.936 minutes\n",
      "Evaluating over 25 episodes...\n",
      "Evaluation time: 1.976 minutes\n",
      "Mean episode reward: -130.306, Standard deviation: 579.3245767132618\n",
      "Mean episode length: 10596.72, Standard deviation: 3884.2767102254697\n",
      "finished architecture ['MlpPolicy', 1e-06, 1024, 64, 2, [-398.302, -251.002, -768.702, -214.602, 397.398, 680.898, -333.102, -431.002, 1082.298, 385.998, -780.402, 218.398, 997.598, -417.602, -518.002, -309.502, 53.298, -242.202, -886.602, 1070.598, -195.102, -764.802, -642.002, -436.002, -555.202], [5429, 5453, 8949, 10465, 10532, 11699, 7515, 8382, 15743, 15746, 16323, 5998, 18855, 9044, 11064, 7827, 9026, 15897, 6325, 13571, 10653, 13571, 4794, 7891, 14166], -130.306, 10596.72, 836.1302664279938, 118.54059338569641] at 15.911 minutes.\n"
     ]
    },
    {
     "data": {
      "application/vnd.jupyter.widget-view+json": {
       "model_id": "73f01e1f4a204dbfbc9b3e5518086db0",
       "version_major": 2,
       "version_minor": 0
      },
      "text/plain": [
       "Output()"
      ]
     },
     "metadata": {},
     "output_type": "display_data"
    },
    {
     "name": "stdout",
     "output_type": "stream",
     "text": [
      "------------\n",
      "Starting architecture 51 of 54\n",
      "Learning...\n"
     ]
    },
    {
     "data": {
      "text/html": [
       "<pre style=\"white-space:pre;overflow-x:auto;line-height:normal;font-family:Menlo,'DejaVu Sans Mono',consolas,'Courier New',monospace\"></pre>\n"
      ],
      "text/plain": []
     },
     "metadata": {},
     "output_type": "display_data"
    },
    {
     "data": {
      "text/html": [
       "<pre style=\"white-space:pre;overflow-x:auto;line-height:normal;font-family:Menlo,'DejaVu Sans Mono',consolas,'Courier New',monospace\">\n",
       "</pre>\n"
      ],
      "text/plain": [
       "\n"
      ]
     },
     "metadata": {},
     "output_type": "display_data"
    },
    {
     "name": "stdout",
     "output_type": "stream",
     "text": [
      "Learn time: 14.185 minutes\n",
      "Evaluating over 25 episodes...\n",
      "Evaluation time: 2.110 minutes\n",
      "Mean episode reward: -209.09800000000004, Standard deviation: 514.0355501169156\n",
      "Mean episode length: 11022.88, Standard deviation: 3451.548421447974\n",
      "finished architecture ['MlpPolicy', 1e-06, 2048, 64, 2, [-65.202, -662.102, 221.098, -438.502, -848.402, 426.198, -768.302, -371.302, -521.202, 911.298, 494.598, -161.602, -445.402, -1415.102, 271.698, 411.198, 17.798, -683.302, 23.598, -450.602, -599.402, -617.602, -228.202, 320.598, -49.302], [5154, 6412, 7115, 7904, 11288, 12555, 13628, 7714, 14736, 15857, 9162, 16585, 5339, 16038, 14136, 10413, 9099, 8681, 14478, 13514, 14342, 13473, 8306, 8541, 11102], -209.09800000000004, 11022.88, 851.110582113266, 126.58309125900269] at 16.295 minutes.\n"
     ]
    },
    {
     "data": {
      "application/vnd.jupyter.widget-view+json": {
       "model_id": "4ae810b35bfb43dd8d456ff30fe6a7bd",
       "version_major": 2,
       "version_minor": 0
      },
      "text/plain": [
       "Output()"
      ]
     },
     "metadata": {},
     "output_type": "display_data"
    },
    {
     "name": "stdout",
     "output_type": "stream",
     "text": [
      "------------\n",
      "Starting architecture 52 of 54\n",
      "Learning...\n"
     ]
    },
    {
     "data": {
      "text/html": [
       "<pre style=\"white-space:pre;overflow-x:auto;line-height:normal;font-family:Menlo,'DejaVu Sans Mono',consolas,'Courier New',monospace\"></pre>\n"
      ],
      "text/plain": []
     },
     "metadata": {},
     "output_type": "display_data"
    },
    {
     "data": {
      "text/html": [
       "<pre style=\"white-space:pre;overflow-x:auto;line-height:normal;font-family:Menlo,'DejaVu Sans Mono',consolas,'Courier New',monospace\">\n",
       "</pre>\n"
      ],
      "text/plain": [
       "\n"
      ]
     },
     "metadata": {},
     "output_type": "display_data"
    },
    {
     "name": "stdout",
     "output_type": "stream",
     "text": [
      "Learn time: 9.779 minutes\n",
      "Evaluating over 25 episodes...\n",
      "Evaluation time: 2.319 minutes\n",
      "Mean episode reward: -284.054, Standard deviation: 410.5610708481748\n",
      "Mean episode length: 11664.24, Standard deviation: 4020.2108828269197\n",
      "finished architecture ['MlpPolicy', 1e-06, 512, 128, 2, [-1072.902, 24.398, 195.998, -116.902, 38.498, -123.502, 60.598, -1118.702, -132.502, 311.798, -549.402, -784.602, -46.402, -658.502, -456.702, -764.702, -120.302, 343.398, -469.302, -90.102, -922.602, -243.202, -5.702, 67.398, -467.402], [6235, 6547, 9999, 10400, 10490, 11615, 12387, 15051, 15455, 16535, 10303, 6213, 12596, 6352, 11894, 5106, 6409, 11616, 16459, 18590, 16422, 10748, 13003, 11458, 19723], -284.054, 11664.24, 586.7525207996368, 139.16724348068237] at 12.099 minutes.\n"
     ]
    },
    {
     "data": {
      "application/vnd.jupyter.widget-view+json": {
       "model_id": "dbeef2e1fe9444f08a027858ef92d564",
       "version_major": 2,
       "version_minor": 0
      },
      "text/plain": [
       "Output()"
      ]
     },
     "metadata": {},
     "output_type": "display_data"
    },
    {
     "name": "stdout",
     "output_type": "stream",
     "text": [
      "------------\n",
      "Starting architecture 53 of 54\n",
      "Learning...\n"
     ]
    },
    {
     "data": {
      "text/html": [
       "<pre style=\"white-space:pre;overflow-x:auto;line-height:normal;font-family:Menlo,'DejaVu Sans Mono',consolas,'Courier New',monospace\"></pre>\n"
      ],
      "text/plain": []
     },
     "metadata": {},
     "output_type": "display_data"
    },
    {
     "data": {
      "text/html": [
       "<pre style=\"white-space:pre;overflow-x:auto;line-height:normal;font-family:Menlo,'DejaVu Sans Mono',consolas,'Courier New',monospace\">\n",
       "</pre>\n"
      ],
      "text/plain": [
       "\n"
      ]
     },
     "metadata": {},
     "output_type": "display_data"
    },
    {
     "name": "stdout",
     "output_type": "stream",
     "text": [
      "Learn time: 10.479 minutes\n",
      "Evaluating over 25 episodes...\n",
      "Evaluation time: 1.997 minutes\n",
      "Mean episode reward: -124.17400000000002, Standard deviation: 470.21055923490275\n",
      "Mean episode length: 10404.6, Standard deviation: 2744.196713065592\n",
      "finished architecture ['MlpPolicy', 1e-06, 2048, 128, 2, [-542.902, -553.902, -363.102, 33.598, -405.702, 252.798, 55.298, 218.198, -285.702, -213.402, -536.302, -274.602, -57.502, 31.198, -801.702, 763.698, 775.098, -1037.302, -319.602, -595.302, -505.002, -1.802, 47.498, 769.798, 442.298], [6059, 7067, 7814, 8917, 9453, 9936, 10924, 12767, 13005, 13996, 7940, 8396, 9330, 11607, 5873, 10409, 15064, 5864, 14798, 12890, 13577, 8520, 11304, 12274, 12331], -124.17400000000002, 10404.6, 628.741448879242, 119.80207180976868] at 12.476 minutes.\n"
     ]
    },
    {
     "data": {
      "application/vnd.jupyter.widget-view+json": {
       "model_id": "02fd7dc679ad456b9b99147d652237e3",
       "version_major": 2,
       "version_minor": 0
      },
      "text/plain": [
       "Output()"
      ]
     },
     "metadata": {},
     "output_type": "display_data"
    },
    {
     "name": "stdout",
     "output_type": "stream",
     "text": [
      "------------\n",
      "Starting architecture 54 of 54\n",
      "Learning...\n"
     ]
    },
    {
     "data": {
      "text/html": [
       "<pre style=\"white-space:pre;overflow-x:auto;line-height:normal;font-family:Menlo,'DejaVu Sans Mono',consolas,'Courier New',monospace\"></pre>\n"
      ],
      "text/plain": []
     },
     "metadata": {},
     "output_type": "display_data"
    },
    {
     "data": {
      "text/html": [
       "<pre style=\"white-space:pre;overflow-x:auto;line-height:normal;font-family:Menlo,'DejaVu Sans Mono',consolas,'Courier New',monospace\">\n",
       "</pre>\n"
      ],
      "text/plain": [
       "\n"
      ]
     },
     "metadata": {},
     "output_type": "display_data"
    },
    {
     "name": "stdout",
     "output_type": "stream",
     "text": [
      "Learn time: 11.325 minutes\n",
      "Evaluating over 25 episodes...\n",
      "Evaluation time: 1.995 minutes\n",
      "Mean episode reward: -108.34600000000002, Standard deviation: 437.0980659577436\n",
      "Mean episode length: 9890.84, Standard deviation: 3858.362478357885\n",
      "finished architecture ['MlpPolicy', 1e-06, 4096, 128, 2, [-373.202, -219.502, -386.602, -871.302, -272.102, -380.302, -274.102, 26.398, -169.702, 799.298, -696.202, -202.002, -924.802, 968.198, 109.598, -463.502, 418.798, 82.698, -160.402, 106.598, 204.498, 286.498, 131.898, -274.502, -174.902], [5761, 6427, 7558, 8037, 8449, 8891, 10385, 4712, 12169, 13565, 5671, 6433, 5827, 18606, 10676, 7029, 15782, 8021, 16528, 11354, 6112, 11081, 16627, 12696, 8874], -108.34600000000002, 9890.84, 679.4747090339661, 119.6964066028595] at 13.320 minutes.\n"
     ]
    }
   ],
   "source": [
    "n_policy = ['CnnPolicy', 'MlpPolicy']\n",
    "n_learning_rate = [0.0001, 0.00001, 0.000001]\n",
    "batch_size = [32, 64, 128]\n",
    "n_batches = [4, 16, 32]\n",
    "\n",
    "'''\n",
    "Stochastic Episodes are used to collect mean and standard deviation reward values for analysis. \n",
    "\n",
    "DEFAULT VALUES FOR MODEL HYPERPARAMETERS NOT TESTED HERE\n",
    "\n",
    "n_epochs = 10\n",
    "gamma = 0.9\n",
    "gae_lambda = 0.95\n",
    "clip_range = 0.2\n",
    "\n",
    "THESE ARE TO BE TESTED IN A LATER EXPERIMENT\n",
    "\n",
    "'''\n",
    "total_timesteps = 500000\n",
    "n_procs = 10\n",
    "render_mode = None\n",
    "archs = []\n",
    "\n",
    "models = create_ppo_first_options(n_policy, n_learning_rate, batch_size, n_batches)\n",
    "count = 1\n",
    "total = len(models)\n",
    "for model_options in models:\n",
    "    Env = make_env(StreetFighter, n_procs, render_mode = render_mode)\n",
    "    print(\"------------\")\n",
    "    print(f'Starting architecture {count} of {total}')\n",
    "    archs.append(train_model(PPO, Env, model_options, total_timesteps = total_timesteps))\n",
    "    count+=1\n",
    "    Env.close()"
   ]
  },
  {
   "cell_type": "code",
   "execution_count": 21,
   "id": "4ecb5c03-16bd-4a75-b0d9-281b08364d15",
   "metadata": {},
   "outputs": [
    {
     "name": "stdout",
     "output_type": "stream",
     "text": [
      "total time: 15.746079855230118 hours\n"
     ]
    },
    {
     "data": {
      "text/html": [
       "<div>\n",
       "<style scoped>\n",
       "    .dataframe tbody tr th:only-of-type {\n",
       "        vertical-align: middle;\n",
       "    }\n",
       "\n",
       "    .dataframe tbody tr th {\n",
       "        vertical-align: top;\n",
       "    }\n",
       "\n",
       "    .dataframe thead th {\n",
       "        text-align: right;\n",
       "    }\n",
       "</style>\n",
       "<table border=\"1\" class=\"dataframe\">\n",
       "  <thead>\n",
       "    <tr style=\"text-align: right;\">\n",
       "      <th></th>\n",
       "      <th>Policy</th>\n",
       "      <th>Learning Rate</th>\n",
       "      <th>Steps</th>\n",
       "      <th>Batch Size</th>\n",
       "      <th>Seed</th>\n",
       "      <th>Episode Rewards</th>\n",
       "      <th>Episode Lengths</th>\n",
       "      <th>Mean Reward</th>\n",
       "      <th>Episode Length Mean</th>\n",
       "      <th>Learning Time</th>\n",
       "      <th>Evaluation Time</th>\n",
       "    </tr>\n",
       "  </thead>\n",
       "  <tbody>\n",
       "    <tr>\n",
       "      <th>0</th>\n",
       "      <td>CnnPolicy</td>\n",
       "      <td>0.000100</td>\n",
       "      <td>128</td>\n",
       "      <td>32</td>\n",
       "      <td>2</td>\n",
       "      <td>[-780.402, -1170.002, 85.898, -280.002, -246.5...</td>\n",
       "      <td>[6320, 6377, 6542, 7554, 7832, 7856, 8161, 619...</td>\n",
       "      <td>-299.766</td>\n",
       "      <td>9902.96</td>\n",
       "      <td>1245.803025</td>\n",
       "      <td>133.653689</td>\n",
       "    </tr>\n",
       "    <tr>\n",
       "      <th>1</th>\n",
       "      <td>CnnPolicy</td>\n",
       "      <td>0.000100</td>\n",
       "      <td>512</td>\n",
       "      <td>32</td>\n",
       "      <td>2</td>\n",
       "      <td>[-811.802, -550.402, -720.002, -847.102, 124.8...</td>\n",
       "      <td>[5771, 6323, 7207, 8731, 8900, 10449, 10677, 6...</td>\n",
       "      <td>-558.778</td>\n",
       "      <td>9612.60</td>\n",
       "      <td>1271.271415</td>\n",
       "      <td>134.674537</td>\n",
       "    </tr>\n",
       "    <tr>\n",
       "      <th>2</th>\n",
       "      <td>CnnPolicy</td>\n",
       "      <td>0.000100</td>\n",
       "      <td>1024</td>\n",
       "      <td>32</td>\n",
       "      <td>2</td>\n",
       "      <td>[-659.002, 525.498, 37.098, 25.998, -155.802, ...</td>\n",
       "      <td>[6551, 9178, 9555, 9594, 9931, 11637, 11646, 1...</td>\n",
       "      <td>-315.470</td>\n",
       "      <td>10832.00</td>\n",
       "      <td>1263.547909</td>\n",
       "      <td>192.621891</td>\n",
       "    </tr>\n",
       "    <tr>\n",
       "      <th>3</th>\n",
       "      <td>CnnPolicy</td>\n",
       "      <td>0.000100</td>\n",
       "      <td>256</td>\n",
       "      <td>64</td>\n",
       "      <td>2</td>\n",
       "      <td>[116.198, -786.502, -856.802, -12.702, -689.10...</td>\n",
       "      <td>[6851, 9248, 9463, 9526, 11855, 12377, 12607, ...</td>\n",
       "      <td>-38.798</td>\n",
       "      <td>11458.24</td>\n",
       "      <td>790.242492</td>\n",
       "      <td>174.794002</td>\n",
       "    </tr>\n",
       "    <tr>\n",
       "      <th>4</th>\n",
       "      <td>CnnPolicy</td>\n",
       "      <td>0.000100</td>\n",
       "      <td>1024</td>\n",
       "      <td>64</td>\n",
       "      <td>2</td>\n",
       "      <td>[-10.602, -166.802, -982.902, -1084.902, -509....</td>\n",
       "      <td>[5682, 5877, 6849, 7317, 10867, 10928, 5048, 1...</td>\n",
       "      <td>-155.246</td>\n",
       "      <td>11634.20</td>\n",
       "      <td>804.827555</td>\n",
       "      <td>183.072571</td>\n",
       "    </tr>\n",
       "    <tr>\n",
       "      <th>5</th>\n",
       "      <td>CnnPolicy</td>\n",
       "      <td>0.000100</td>\n",
       "      <td>2048</td>\n",
       "      <td>64</td>\n",
       "      <td>2</td>\n",
       "      <td>[-169.102, -589.602, -266.102, -688.802, -452....</td>\n",
       "      <td>[5014, 6111, 6448, 9456, 4912, 10521, 12123, 6...</td>\n",
       "      <td>-323.110</td>\n",
       "      <td>9792.52</td>\n",
       "      <td>845.509673</td>\n",
       "      <td>146.403299</td>\n",
       "    </tr>\n",
       "    <tr>\n",
       "      <th>6</th>\n",
       "      <td>CnnPolicy</td>\n",
       "      <td>0.000100</td>\n",
       "      <td>512</td>\n",
       "      <td>128</td>\n",
       "      <td>2</td>\n",
       "      <td>[-135.902, -289.202, -934.102, -1074.702, -192...</td>\n",
       "      <td>[5401, 5410, 6299, 7018, 4987, 12019, 12214, 1...</td>\n",
       "      <td>-229.954</td>\n",
       "      <td>9439.24</td>\n",
       "      <td>591.069451</td>\n",
       "      <td>144.452759</td>\n",
       "    </tr>\n",
       "    <tr>\n",
       "      <th>7</th>\n",
       "      <td>CnnPolicy</td>\n",
       "      <td>0.000100</td>\n",
       "      <td>2048</td>\n",
       "      <td>128</td>\n",
       "      <td>2</td>\n",
       "      <td>[-825.602, -648.702, -574.302, -86.902, 24.098...</td>\n",
       "      <td>[5489, 5512, 6587, 6998, 7282, 9525, 10308, 13...</td>\n",
       "      <td>-170.310</td>\n",
       "      <td>11693.96</td>\n",
       "      <td>636.118062</td>\n",
       "      <td>216.133085</td>\n",
       "    </tr>\n",
       "    <tr>\n",
       "      <th>8</th>\n",
       "      <td>CnnPolicy</td>\n",
       "      <td>0.000100</td>\n",
       "      <td>4096</td>\n",
       "      <td>128</td>\n",
       "      <td>2</td>\n",
       "      <td>[86.398, -788.102, -908.802, -635.302, -382.80...</td>\n",
       "      <td>[8073, 8239, 9501, 9933, 11541, 12886, 13791, ...</td>\n",
       "      <td>-105.810</td>\n",
       "      <td>11817.68</td>\n",
       "      <td>700.735588</td>\n",
       "      <td>246.798605</td>\n",
       "    </tr>\n",
       "    <tr>\n",
       "      <th>9</th>\n",
       "      <td>CnnPolicy</td>\n",
       "      <td>0.000010</td>\n",
       "      <td>128</td>\n",
       "      <td>32</td>\n",
       "      <td>2</td>\n",
       "      <td>[-449.902, -512.602, -753.702, 38.398, 23.698,...</td>\n",
       "      <td>[4936, 5282, 5335, 6545, 7674, 9649, 9746, 497...</td>\n",
       "      <td>-14.294</td>\n",
       "      <td>9642.48</td>\n",
       "      <td>1238.282524</td>\n",
       "      <td>127.172379</td>\n",
       "    </tr>\n",
       "    <tr>\n",
       "      <th>10</th>\n",
       "      <td>CnnPolicy</td>\n",
       "      <td>0.000010</td>\n",
       "      <td>512</td>\n",
       "      <td>32</td>\n",
       "      <td>2</td>\n",
       "      <td>[219.698, -18.202, -491.902, -419.002, 36.398,...</td>\n",
       "      <td>[7967, 8037, 8249, 9265, 10300, 10770, 10794, ...</td>\n",
       "      <td>-45.202</td>\n",
       "      <td>10963.52</td>\n",
       "      <td>1245.746266</td>\n",
       "      <td>156.929507</td>\n",
       "    </tr>\n",
       "    <tr>\n",
       "      <th>11</th>\n",
       "      <td>CnnPolicy</td>\n",
       "      <td>0.000010</td>\n",
       "      <td>1024</td>\n",
       "      <td>32</td>\n",
       "      <td>2</td>\n",
       "      <td>[-509.402, -174.402, -859.602, 16.698, 54.598,...</td>\n",
       "      <td>[5752, 5872, 6520, 7267, 8056, 8795, 8959, 574...</td>\n",
       "      <td>-43.522</td>\n",
       "      <td>9721.00</td>\n",
       "      <td>1266.519179</td>\n",
       "      <td>157.182181</td>\n",
       "    </tr>\n",
       "    <tr>\n",
       "      <th>12</th>\n",
       "      <td>CnnPolicy</td>\n",
       "      <td>0.000010</td>\n",
       "      <td>256</td>\n",
       "      <td>64</td>\n",
       "      <td>2</td>\n",
       "      <td>[-182.402, -251.202, 435.898, -421.902, 81.498...</td>\n",
       "      <td>[4754, 6650, 7873, 8667, 11899, 12594, 12597, ...</td>\n",
       "      <td>216.054</td>\n",
       "      <td>14638.36</td>\n",
       "      <td>786.456019</td>\n",
       "      <td>229.209353</td>\n",
       "    </tr>\n",
       "    <tr>\n",
       "      <th>13</th>\n",
       "      <td>CnnPolicy</td>\n",
       "      <td>0.000010</td>\n",
       "      <td>1024</td>\n",
       "      <td>64</td>\n",
       "      <td>2</td>\n",
       "      <td>[-193.902, 78.698, -326.102, 271.998, 230.698,...</td>\n",
       "      <td>[5128, 9041, 9653, 10391, 10483, 12232, 12372,...</td>\n",
       "      <td>8.186</td>\n",
       "      <td>11789.44</td>\n",
       "      <td>816.472093</td>\n",
       "      <td>192.916850</td>\n",
       "    </tr>\n",
       "    <tr>\n",
       "      <th>14</th>\n",
       "      <td>CnnPolicy</td>\n",
       "      <td>0.000010</td>\n",
       "      <td>2048</td>\n",
       "      <td>64</td>\n",
       "      <td>2</td>\n",
       "      <td>[-164.102, -1075.102, -715.102, -28.902, -252....</td>\n",
       "      <td>[6563, 8198, 8428, 9183, 10259, 11512, 11700, ...</td>\n",
       "      <td>-43.422</td>\n",
       "      <td>11667.56</td>\n",
       "      <td>837.804658</td>\n",
       "      <td>153.437186</td>\n",
       "    </tr>\n",
       "    <tr>\n",
       "      <th>15</th>\n",
       "      <td>CnnPolicy</td>\n",
       "      <td>0.000010</td>\n",
       "      <td>512</td>\n",
       "      <td>128</td>\n",
       "      <td>2</td>\n",
       "      <td>[100.798, -979.502, -415.802, -425.002, 61.098...</td>\n",
       "      <td>[5531, 6051, 6741, 7063, 8844, 9244, 10467, 10...</td>\n",
       "      <td>19.366</td>\n",
       "      <td>10527.60</td>\n",
       "      <td>585.666744</td>\n",
       "      <td>173.963606</td>\n",
       "    </tr>\n",
       "    <tr>\n",
       "      <th>16</th>\n",
       "      <td>CnnPolicy</td>\n",
       "      <td>0.000010</td>\n",
       "      <td>2048</td>\n",
       "      <td>128</td>\n",
       "      <td>2</td>\n",
       "      <td>[-374.402, -453.402, 478.698, 237.498, -1274.7...</td>\n",
       "      <td>[5472, 9546, 10510, 11358, 11645, 12813, 15457...</td>\n",
       "      <td>-58.714</td>\n",
       "      <td>12160.56</td>\n",
       "      <td>637.897067</td>\n",
       "      <td>177.119908</td>\n",
       "    </tr>\n",
       "    <tr>\n",
       "      <th>17</th>\n",
       "      <td>CnnPolicy</td>\n",
       "      <td>0.000010</td>\n",
       "      <td>4096</td>\n",
       "      <td>128</td>\n",
       "      <td>2</td>\n",
       "      <td>[-254.402, -638.602, 380.598, 239.298, -437.40...</td>\n",
       "      <td>[5587, 6359, 7760, 7913, 7919, 8118, 8779, 905...</td>\n",
       "      <td>-318.682</td>\n",
       "      <td>9244.84</td>\n",
       "      <td>699.691626</td>\n",
       "      <td>147.304130</td>\n",
       "    </tr>\n",
       "    <tr>\n",
       "      <th>18</th>\n",
       "      <td>CnnPolicy</td>\n",
       "      <td>0.000001</td>\n",
       "      <td>128</td>\n",
       "      <td>32</td>\n",
       "      <td>2</td>\n",
       "      <td>[-1096.802, -740.902, -950.802, -1225.102, -10...</td>\n",
       "      <td>[6471, 6548, 6621, 6985, 7259, 7497, 7776, 787...</td>\n",
       "      <td>-1145.682</td>\n",
       "      <td>8098.20</td>\n",
       "      <td>1233.143937</td>\n",
       "      <td>102.683922</td>\n",
       "    </tr>\n",
       "    <tr>\n",
       "      <th>19</th>\n",
       "      <td>CnnPolicy</td>\n",
       "      <td>0.000001</td>\n",
       "      <td>512</td>\n",
       "      <td>32</td>\n",
       "      <td>2</td>\n",
       "      <td>[-534.902, -375.002, 367.598, -677.202, 692.19...</td>\n",
       "      <td>[7343, 8212, 9891, 10103, 11388, 12284, 13027,...</td>\n",
       "      <td>-148.310</td>\n",
       "      <td>11411.84</td>\n",
       "      <td>1258.751115</td>\n",
       "      <td>187.140081</td>\n",
       "    </tr>\n",
       "    <tr>\n",
       "      <th>20</th>\n",
       "      <td>CnnPolicy</td>\n",
       "      <td>0.000001</td>\n",
       "      <td>1024</td>\n",
       "      <td>32</td>\n",
       "      <td>2</td>\n",
       "      <td>[-662.102, -610.202, -458.002, 13.598, 270.198...</td>\n",
       "      <td>[5106, 5282, 5580, 7005, 9395, 12486, 13110, 1...</td>\n",
       "      <td>-107.450</td>\n",
       "      <td>9633.16</td>\n",
       "      <td>1255.062071</td>\n",
       "      <td>135.831824</td>\n",
       "    </tr>\n",
       "    <tr>\n",
       "      <th>21</th>\n",
       "      <td>CnnPolicy</td>\n",
       "      <td>0.000001</td>\n",
       "      <td>256</td>\n",
       "      <td>64</td>\n",
       "      <td>2</td>\n",
       "      <td>[-1031.502, -587.902, -1005.902, -687.002, -12...</td>\n",
       "      <td>[5945, 6121, 6337, 7154, 7361, 7472, 7662, 790...</td>\n",
       "      <td>-953.118</td>\n",
       "      <td>7593.72</td>\n",
       "      <td>781.294325</td>\n",
       "      <td>89.538092</td>\n",
       "    </tr>\n",
       "    <tr>\n",
       "      <th>22</th>\n",
       "      <td>CnnPolicy</td>\n",
       "      <td>0.000001</td>\n",
       "      <td>1024</td>\n",
       "      <td>64</td>\n",
       "      <td>2</td>\n",
       "      <td>[875.698, 286.998, -212.902, 435.798, 706.798,...</td>\n",
       "      <td>[8329, 10296, 10454, 10596, 12829, 14510, 1563...</td>\n",
       "      <td>282.766</td>\n",
       "      <td>12894.52</td>\n",
       "      <td>813.229463</td>\n",
       "      <td>285.776834</td>\n",
       "    </tr>\n",
       "    <tr>\n",
       "      <th>23</th>\n",
       "      <td>CnnPolicy</td>\n",
       "      <td>0.000001</td>\n",
       "      <td>2048</td>\n",
       "      <td>64</td>\n",
       "      <td>2</td>\n",
       "      <td>[-327.302, -118.302, -571.302, 205.798, -440.8...</td>\n",
       "      <td>[4724, 5861, 6306, 10151, 5453, 10326, 11801, ...</td>\n",
       "      <td>-176.542</td>\n",
       "      <td>10253.00</td>\n",
       "      <td>836.991064</td>\n",
       "      <td>163.625520</td>\n",
       "    </tr>\n",
       "    <tr>\n",
       "      <th>24</th>\n",
       "      <td>CnnPolicy</td>\n",
       "      <td>0.000001</td>\n",
       "      <td>512</td>\n",
       "      <td>128</td>\n",
       "      <td>2</td>\n",
       "      <td>[-422.202, -328.202, -631.702, -296.602, -825....</td>\n",
       "      <td>[5357, 6746, 7104, 8278, 10560, 10591, 12276, ...</td>\n",
       "      <td>-128.146</td>\n",
       "      <td>11250.28</td>\n",
       "      <td>592.688794</td>\n",
       "      <td>187.311157</td>\n",
       "    </tr>\n",
       "    <tr>\n",
       "      <th>25</th>\n",
       "      <td>CnnPolicy</td>\n",
       "      <td>0.000001</td>\n",
       "      <td>2048</td>\n",
       "      <td>128</td>\n",
       "      <td>2</td>\n",
       "      <td>[-1002.002, 72.998, -133.802, -578.302, -63.70...</td>\n",
       "      <td>[6583, 7888, 8404, 10855, 11091, 11992, 12290,...</td>\n",
       "      <td>-190.370</td>\n",
       "      <td>11926.76</td>\n",
       "      <td>635.590455</td>\n",
       "      <td>168.213941</td>\n",
       "    </tr>\n",
       "    <tr>\n",
       "      <th>26</th>\n",
       "      <td>CnnPolicy</td>\n",
       "      <td>0.000001</td>\n",
       "      <td>4096</td>\n",
       "      <td>128</td>\n",
       "      <td>2</td>\n",
       "      <td>[251.398, -679.202, -439.702, 20.498, 324.498,...</td>\n",
       "      <td>[6133, 7304, 7710, 12226, 12893, 14295, 14384,...</td>\n",
       "      <td>-78.062</td>\n",
       "      <td>12261.40</td>\n",
       "      <td>710.216525</td>\n",
       "      <td>175.999437</td>\n",
       "    </tr>\n",
       "    <tr>\n",
       "      <th>27</th>\n",
       "      <td>MlpPolicy</td>\n",
       "      <td>0.000100</td>\n",
       "      <td>128</td>\n",
       "      <td>32</td>\n",
       "      <td>2</td>\n",
       "      <td>[-1210.002, -1342.802, -496.502, -1244.002, -1...</td>\n",
       "      <td>[7430, 7627, 7798, 7897, 7958, 7991, 8241, 866...</td>\n",
       "      <td>-1119.502</td>\n",
       "      <td>8398.20</td>\n",
       "      <td>1204.554049</td>\n",
       "      <td>78.166007</td>\n",
       "    </tr>\n",
       "    <tr>\n",
       "      <th>28</th>\n",
       "      <td>MlpPolicy</td>\n",
       "      <td>0.000100</td>\n",
       "      <td>512</td>\n",
       "      <td>32</td>\n",
       "      <td>2</td>\n",
       "      <td>[-283.602, -902.902, -472.502, -919.802, -182....</td>\n",
       "      <td>[6046, 6415, 7175, 8577, 9347, 9516, 11732, 53...</td>\n",
       "      <td>-450.202</td>\n",
       "      <td>9875.36</td>\n",
       "      <td>1233.891776</td>\n",
       "      <td>108.889119</td>\n",
       "    </tr>\n",
       "    <tr>\n",
       "      <th>29</th>\n",
       "      <td>MlpPolicy</td>\n",
       "      <td>0.000100</td>\n",
       "      <td>1024</td>\n",
       "      <td>32</td>\n",
       "      <td>2</td>\n",
       "      <td>[-427.902, -331.402, 755.098, -284.102, 121.19...</td>\n",
       "      <td>[5594, 7313, 10681, 4304, 12047, 12581, 13674,...</td>\n",
       "      <td>165.806</td>\n",
       "      <td>11029.52</td>\n",
       "      <td>1251.718965</td>\n",
       "      <td>125.987326</td>\n",
       "    </tr>\n",
       "    <tr>\n",
       "      <th>30</th>\n",
       "      <td>MlpPolicy</td>\n",
       "      <td>0.000100</td>\n",
       "      <td>256</td>\n",
       "      <td>64</td>\n",
       "      <td>2</td>\n",
       "      <td>[436.598, -285.402, 50.998, 80.698, -97.602, 4...</td>\n",
       "      <td>[8304, 8772, 9165, 9275, 10292, 10334, 12245, ...</td>\n",
       "      <td>156.854</td>\n",
       "      <td>12510.20</td>\n",
       "      <td>793.100185</td>\n",
       "      <td>178.475179</td>\n",
       "    </tr>\n",
       "    <tr>\n",
       "      <th>31</th>\n",
       "      <td>MlpPolicy</td>\n",
       "      <td>0.000100</td>\n",
       "      <td>1024</td>\n",
       "      <td>64</td>\n",
       "      <td>2</td>\n",
       "      <td>[-433.302, -91.402, -243.502, -55.502, 182.498...</td>\n",
       "      <td>[4776, 5705, 8074, 8731, 9240, 10159, 10475, 5...</td>\n",
       "      <td>-79.842</td>\n",
       "      <td>10308.80</td>\n",
       "      <td>796.551075</td>\n",
       "      <td>110.238627</td>\n",
       "    </tr>\n",
       "    <tr>\n",
       "      <th>32</th>\n",
       "      <td>MlpPolicy</td>\n",
       "      <td>0.000100</td>\n",
       "      <td>2048</td>\n",
       "      <td>64</td>\n",
       "      <td>2</td>\n",
       "      <td>[-410.102, -463.702, 143.598, 218.598, -30.702...</td>\n",
       "      <td>[5693, 6271, 6334, 6736, 7660, 10171, 10264, 5...</td>\n",
       "      <td>-180.730</td>\n",
       "      <td>9726.92</td>\n",
       "      <td>844.317721</td>\n",
       "      <td>111.604683</td>\n",
       "    </tr>\n",
       "    <tr>\n",
       "      <th>33</th>\n",
       "      <td>MlpPolicy</td>\n",
       "      <td>0.000100</td>\n",
       "      <td>512</td>\n",
       "      <td>128</td>\n",
       "      <td>2</td>\n",
       "      <td>[-704.102, -447.602, -604.902, -433.202, 243.1...</td>\n",
       "      <td>[5105, 5401, 7081, 7327, 9341, 9510, 9893, 117...</td>\n",
       "      <td>-242.102</td>\n",
       "      <td>10370.80</td>\n",
       "      <td>559.692847</td>\n",
       "      <td>121.014448</td>\n",
       "    </tr>\n",
       "    <tr>\n",
       "      <th>34</th>\n",
       "      <td>MlpPolicy</td>\n",
       "      <td>0.000100</td>\n",
       "      <td>2048</td>\n",
       "      <td>128</td>\n",
       "      <td>2</td>\n",
       "      <td>[-815.802, 87.698, -431.902, -83.502, 163.798,...</td>\n",
       "      <td>[5265, 5503, 6943, 9493, 10334, 11969, 11982, ...</td>\n",
       "      <td>-77.490</td>\n",
       "      <td>10106.48</td>\n",
       "      <td>618.351971</td>\n",
       "      <td>129.133116</td>\n",
       "    </tr>\n",
       "    <tr>\n",
       "      <th>35</th>\n",
       "      <td>MlpPolicy</td>\n",
       "      <td>0.000100</td>\n",
       "      <td>4096</td>\n",
       "      <td>128</td>\n",
       "      <td>2</td>\n",
       "      <td>[-514.202, -189.102, -18.402, -549.102, 314.19...</td>\n",
       "      <td>[5947, 7802, 8954, 9165, 9239, 10727, 5407, 14...</td>\n",
       "      <td>-128.234</td>\n",
       "      <td>10738.48</td>\n",
       "      <td>672.470593</td>\n",
       "      <td>108.884584</td>\n",
       "    </tr>\n",
       "    <tr>\n",
       "      <th>36</th>\n",
       "      <td>MlpPolicy</td>\n",
       "      <td>0.000010</td>\n",
       "      <td>128</td>\n",
       "      <td>32</td>\n",
       "      <td>2</td>\n",
       "      <td>[-715.402, -577.002, -597.602, -117.502, 662.9...</td>\n",
       "      <td>[5367, 7060, 7148, 8026, 9303, 10118, 12725, 1...</td>\n",
       "      <td>-21.862</td>\n",
       "      <td>11709.04</td>\n",
       "      <td>1219.501487</td>\n",
       "      <td>165.297228</td>\n",
       "    </tr>\n",
       "    <tr>\n",
       "      <th>37</th>\n",
       "      <td>MlpPolicy</td>\n",
       "      <td>0.000010</td>\n",
       "      <td>512</td>\n",
       "      <td>32</td>\n",
       "      <td>2</td>\n",
       "      <td>[223.098, -420.402, -900.602, -90.302, -431.50...</td>\n",
       "      <td>[5663, 5775, 5854, 7461, 7626, 7805, 9658, 101...</td>\n",
       "      <td>34.410</td>\n",
       "      <td>10490.32</td>\n",
       "      <td>1234.320752</td>\n",
       "      <td>121.128128</td>\n",
       "    </tr>\n",
       "    <tr>\n",
       "      <th>38</th>\n",
       "      <td>MlpPolicy</td>\n",
       "      <td>0.000010</td>\n",
       "      <td>1024</td>\n",
       "      <td>32</td>\n",
       "      <td>2</td>\n",
       "      <td>[-94.202, 107.598, -469.602, -319.802, -66.702...</td>\n",
       "      <td>[5950, 6258, 7534, 9625, 10950, 11697, 12168, ...</td>\n",
       "      <td>83.146</td>\n",
       "      <td>11602.48</td>\n",
       "      <td>1260.016192</td>\n",
       "      <td>133.493533</td>\n",
       "    </tr>\n",
       "    <tr>\n",
       "      <th>39</th>\n",
       "      <td>MlpPolicy</td>\n",
       "      <td>0.000010</td>\n",
       "      <td>256</td>\n",
       "      <td>64</td>\n",
       "      <td>2</td>\n",
       "      <td>[-1100.302, -819.602, -526.302, -534.102, -488...</td>\n",
       "      <td>[6072, 6974, 8081, 8482, 8819, 9360, 11738, 64...</td>\n",
       "      <td>-122.574</td>\n",
       "      <td>10647.84</td>\n",
       "      <td>779.335029</td>\n",
       "      <td>110.493524</td>\n",
       "    </tr>\n",
       "    <tr>\n",
       "      <th>40</th>\n",
       "      <td>MlpPolicy</td>\n",
       "      <td>0.000010</td>\n",
       "      <td>1024</td>\n",
       "      <td>64</td>\n",
       "      <td>2</td>\n",
       "      <td>[-312.102, -932.502, 116.598, -856.802, -524.7...</td>\n",
       "      <td>[5535, 7099, 7988, 8562, 9624, 10274, 11699, 7...</td>\n",
       "      <td>-135.370</td>\n",
       "      <td>10907.20</td>\n",
       "      <td>800.211801</td>\n",
       "      <td>113.505401</td>\n",
       "    </tr>\n",
       "    <tr>\n",
       "      <th>41</th>\n",
       "      <td>MlpPolicy</td>\n",
       "      <td>0.000010</td>\n",
       "      <td>2048</td>\n",
       "      <td>64</td>\n",
       "      <td>2</td>\n",
       "      <td>[-60.102, -365.802, 43.598, -516.402, -585.602...</td>\n",
       "      <td>[6718, 7472, 8259, 8881, 8917, 12106, 12693, 1...</td>\n",
       "      <td>-187.462</td>\n",
       "      <td>10552.20</td>\n",
       "      <td>852.646657</td>\n",
       "      <td>124.216601</td>\n",
       "    </tr>\n",
       "    <tr>\n",
       "      <th>42</th>\n",
       "      <td>MlpPolicy</td>\n",
       "      <td>0.000010</td>\n",
       "      <td>512</td>\n",
       "      <td>128</td>\n",
       "      <td>2</td>\n",
       "      <td>[-124.402, -882.002, -277.302, -978.902, -752....</td>\n",
       "      <td>[5454, 5630, 6152, 6659, 6932, 10286, 10983, 1...</td>\n",
       "      <td>-341.578</td>\n",
       "      <td>10605.00</td>\n",
       "      <td>554.831185</td>\n",
       "      <td>127.601479</td>\n",
       "    </tr>\n",
       "    <tr>\n",
       "      <th>43</th>\n",
       "      <td>MlpPolicy</td>\n",
       "      <td>0.000010</td>\n",
       "      <td>2048</td>\n",
       "      <td>128</td>\n",
       "      <td>2</td>\n",
       "      <td>[-620.302, -174.402, -573.502, 692.498, 408.29...</td>\n",
       "      <td>[4963, 7400, 9621, 9890, 10163, 10800, 11312, ...</td>\n",
       "      <td>-96.274</td>\n",
       "      <td>10913.92</td>\n",
       "      <td>620.429200</td>\n",
       "      <td>114.467084</td>\n",
       "    </tr>\n",
       "    <tr>\n",
       "      <th>44</th>\n",
       "      <td>MlpPolicy</td>\n",
       "      <td>0.000010</td>\n",
       "      <td>4096</td>\n",
       "      <td>128</td>\n",
       "      <td>2</td>\n",
       "      <td>[-470.502, -310.402, -104.802, -877.002, -765....</td>\n",
       "      <td>[5262, 8119, 8356, 8658, 9866, 4839, 10775, 11...</td>\n",
       "      <td>-179.246</td>\n",
       "      <td>10444.96</td>\n",
       "      <td>672.506571</td>\n",
       "      <td>134.155330</td>\n",
       "    </tr>\n",
       "    <tr>\n",
       "      <th>45</th>\n",
       "      <td>MlpPolicy</td>\n",
       "      <td>0.000001</td>\n",
       "      <td>128</td>\n",
       "      <td>32</td>\n",
       "      <td>2</td>\n",
       "      <td>[-221.302, 35.598, -300.202, -511.902, -47.102...</td>\n",
       "      <td>[5829, 6016, 6238, 6435, 7213, 8091, 9932, 100...</td>\n",
       "      <td>-277.742</td>\n",
       "      <td>9735.96</td>\n",
       "      <td>1248.214878</td>\n",
       "      <td>96.815415</td>\n",
       "    </tr>\n",
       "    <tr>\n",
       "      <th>46</th>\n",
       "      <td>MlpPolicy</td>\n",
       "      <td>0.000001</td>\n",
       "      <td>512</td>\n",
       "      <td>32</td>\n",
       "      <td>2</td>\n",
       "      <td>[-718.102, -147.502, -22.702, -478.602, 281.19...</td>\n",
       "      <td>[5638, 7174, 9226, 9452, 9717, 10083, 10558, 6...</td>\n",
       "      <td>-147.774</td>\n",
       "      <td>11082.44</td>\n",
       "      <td>1305.957573</td>\n",
       "      <td>156.138432</td>\n",
       "    </tr>\n",
       "    <tr>\n",
       "      <th>47</th>\n",
       "      <td>MlpPolicy</td>\n",
       "      <td>0.000001</td>\n",
       "      <td>1024</td>\n",
       "      <td>32</td>\n",
       "      <td>2</td>\n",
       "      <td>[-445.902, -213.302, -214.602, -379.502, 41.89...</td>\n",
       "      <td>[5476, 7315, 8347, 8473, 10246, 10752, 13163, ...</td>\n",
       "      <td>-29.242</td>\n",
       "      <td>11753.08</td>\n",
       "      <td>1341.283853</td>\n",
       "      <td>163.468173</td>\n",
       "    </tr>\n",
       "    <tr>\n",
       "      <th>48</th>\n",
       "      <td>MlpPolicy</td>\n",
       "      <td>0.000001</td>\n",
       "      <td>256</td>\n",
       "      <td>64</td>\n",
       "      <td>2</td>\n",
       "      <td>[-421.602, -108.202, 210.498, -598.402, 179.29...</td>\n",
       "      <td>[4828, 6026, 6133, 6322, 9271, 9763, 10376, 65...</td>\n",
       "      <td>-50.518</td>\n",
       "      <td>11244.84</td>\n",
       "      <td>850.184897</td>\n",
       "      <td>168.036428</td>\n",
       "    </tr>\n",
       "    <tr>\n",
       "      <th>49</th>\n",
       "      <td>MlpPolicy</td>\n",
       "      <td>0.000001</td>\n",
       "      <td>1024</td>\n",
       "      <td>64</td>\n",
       "      <td>2</td>\n",
       "      <td>[-398.302, -251.002, -768.702, -214.602, 397.3...</td>\n",
       "      <td>[5429, 5453, 8949, 10465, 10532, 11699, 7515, ...</td>\n",
       "      <td>-130.306</td>\n",
       "      <td>10596.72</td>\n",
       "      <td>836.130266</td>\n",
       "      <td>118.540593</td>\n",
       "    </tr>\n",
       "    <tr>\n",
       "      <th>50</th>\n",
       "      <td>MlpPolicy</td>\n",
       "      <td>0.000001</td>\n",
       "      <td>2048</td>\n",
       "      <td>64</td>\n",
       "      <td>2</td>\n",
       "      <td>[-65.202, -662.102, 221.098, -438.502, -848.40...</td>\n",
       "      <td>[5154, 6412, 7115, 7904, 11288, 12555, 13628, ...</td>\n",
       "      <td>-209.098</td>\n",
       "      <td>11022.88</td>\n",
       "      <td>851.110582</td>\n",
       "      <td>126.583091</td>\n",
       "    </tr>\n",
       "    <tr>\n",
       "      <th>51</th>\n",
       "      <td>MlpPolicy</td>\n",
       "      <td>0.000001</td>\n",
       "      <td>512</td>\n",
       "      <td>128</td>\n",
       "      <td>2</td>\n",
       "      <td>[-1072.902, 24.398, 195.998, -116.902, 38.498,...</td>\n",
       "      <td>[6235, 6547, 9999, 10400, 10490, 11615, 12387,...</td>\n",
       "      <td>-284.054</td>\n",
       "      <td>11664.24</td>\n",
       "      <td>586.752521</td>\n",
       "      <td>139.167243</td>\n",
       "    </tr>\n",
       "    <tr>\n",
       "      <th>52</th>\n",
       "      <td>MlpPolicy</td>\n",
       "      <td>0.000001</td>\n",
       "      <td>2048</td>\n",
       "      <td>128</td>\n",
       "      <td>2</td>\n",
       "      <td>[-542.902, -553.902, -363.102, 33.598, -405.70...</td>\n",
       "      <td>[6059, 7067, 7814, 8917, 9453, 9936, 10924, 12...</td>\n",
       "      <td>-124.174</td>\n",
       "      <td>10404.60</td>\n",
       "      <td>628.741449</td>\n",
       "      <td>119.802072</td>\n",
       "    </tr>\n",
       "    <tr>\n",
       "      <th>53</th>\n",
       "      <td>MlpPolicy</td>\n",
       "      <td>0.000001</td>\n",
       "      <td>4096</td>\n",
       "      <td>128</td>\n",
       "      <td>2</td>\n",
       "      <td>[-373.202, -219.502, -386.602, -871.302, -272....</td>\n",
       "      <td>[5761, 6427, 7558, 8037, 8449, 8891, 10385, 47...</td>\n",
       "      <td>-108.346</td>\n",
       "      <td>9890.84</td>\n",
       "      <td>679.474709</td>\n",
       "      <td>119.696407</td>\n",
       "    </tr>\n",
       "  </tbody>\n",
       "</table>\n",
       "</div>"
      ],
      "text/plain": [
       "       Policy  Learning Rate  Steps  Batch Size  Seed  \\\n",
       "0   CnnPolicy       0.000100    128          32     2   \n",
       "1   CnnPolicy       0.000100    512          32     2   \n",
       "2   CnnPolicy       0.000100   1024          32     2   \n",
       "3   CnnPolicy       0.000100    256          64     2   \n",
       "4   CnnPolicy       0.000100   1024          64     2   \n",
       "5   CnnPolicy       0.000100   2048          64     2   \n",
       "6   CnnPolicy       0.000100    512         128     2   \n",
       "7   CnnPolicy       0.000100   2048         128     2   \n",
       "8   CnnPolicy       0.000100   4096         128     2   \n",
       "9   CnnPolicy       0.000010    128          32     2   \n",
       "10  CnnPolicy       0.000010    512          32     2   \n",
       "11  CnnPolicy       0.000010   1024          32     2   \n",
       "12  CnnPolicy       0.000010    256          64     2   \n",
       "13  CnnPolicy       0.000010   1024          64     2   \n",
       "14  CnnPolicy       0.000010   2048          64     2   \n",
       "15  CnnPolicy       0.000010    512         128     2   \n",
       "16  CnnPolicy       0.000010   2048         128     2   \n",
       "17  CnnPolicy       0.000010   4096         128     2   \n",
       "18  CnnPolicy       0.000001    128          32     2   \n",
       "19  CnnPolicy       0.000001    512          32     2   \n",
       "20  CnnPolicy       0.000001   1024          32     2   \n",
       "21  CnnPolicy       0.000001    256          64     2   \n",
       "22  CnnPolicy       0.000001   1024          64     2   \n",
       "23  CnnPolicy       0.000001   2048          64     2   \n",
       "24  CnnPolicy       0.000001    512         128     2   \n",
       "25  CnnPolicy       0.000001   2048         128     2   \n",
       "26  CnnPolicy       0.000001   4096         128     2   \n",
       "27  MlpPolicy       0.000100    128          32     2   \n",
       "28  MlpPolicy       0.000100    512          32     2   \n",
       "29  MlpPolicy       0.000100   1024          32     2   \n",
       "30  MlpPolicy       0.000100    256          64     2   \n",
       "31  MlpPolicy       0.000100   1024          64     2   \n",
       "32  MlpPolicy       0.000100   2048          64     2   \n",
       "33  MlpPolicy       0.000100    512         128     2   \n",
       "34  MlpPolicy       0.000100   2048         128     2   \n",
       "35  MlpPolicy       0.000100   4096         128     2   \n",
       "36  MlpPolicy       0.000010    128          32     2   \n",
       "37  MlpPolicy       0.000010    512          32     2   \n",
       "38  MlpPolicy       0.000010   1024          32     2   \n",
       "39  MlpPolicy       0.000010    256          64     2   \n",
       "40  MlpPolicy       0.000010   1024          64     2   \n",
       "41  MlpPolicy       0.000010   2048          64     2   \n",
       "42  MlpPolicy       0.000010    512         128     2   \n",
       "43  MlpPolicy       0.000010   2048         128     2   \n",
       "44  MlpPolicy       0.000010   4096         128     2   \n",
       "45  MlpPolicy       0.000001    128          32     2   \n",
       "46  MlpPolicy       0.000001    512          32     2   \n",
       "47  MlpPolicy       0.000001   1024          32     2   \n",
       "48  MlpPolicy       0.000001    256          64     2   \n",
       "49  MlpPolicy       0.000001   1024          64     2   \n",
       "50  MlpPolicy       0.000001   2048          64     2   \n",
       "51  MlpPolicy       0.000001    512         128     2   \n",
       "52  MlpPolicy       0.000001   2048         128     2   \n",
       "53  MlpPolicy       0.000001   4096         128     2   \n",
       "\n",
       "                                      Episode Rewards  \\\n",
       "0   [-780.402, -1170.002, 85.898, -280.002, -246.5...   \n",
       "1   [-811.802, -550.402, -720.002, -847.102, 124.8...   \n",
       "2   [-659.002, 525.498, 37.098, 25.998, -155.802, ...   \n",
       "3   [116.198, -786.502, -856.802, -12.702, -689.10...   \n",
       "4   [-10.602, -166.802, -982.902, -1084.902, -509....   \n",
       "5   [-169.102, -589.602, -266.102, -688.802, -452....   \n",
       "6   [-135.902, -289.202, -934.102, -1074.702, -192...   \n",
       "7   [-825.602, -648.702, -574.302, -86.902, 24.098...   \n",
       "8   [86.398, -788.102, -908.802, -635.302, -382.80...   \n",
       "9   [-449.902, -512.602, -753.702, 38.398, 23.698,...   \n",
       "10  [219.698, -18.202, -491.902, -419.002, 36.398,...   \n",
       "11  [-509.402, -174.402, -859.602, 16.698, 54.598,...   \n",
       "12  [-182.402, -251.202, 435.898, -421.902, 81.498...   \n",
       "13  [-193.902, 78.698, -326.102, 271.998, 230.698,...   \n",
       "14  [-164.102, -1075.102, -715.102, -28.902, -252....   \n",
       "15  [100.798, -979.502, -415.802, -425.002, 61.098...   \n",
       "16  [-374.402, -453.402, 478.698, 237.498, -1274.7...   \n",
       "17  [-254.402, -638.602, 380.598, 239.298, -437.40...   \n",
       "18  [-1096.802, -740.902, -950.802, -1225.102, -10...   \n",
       "19  [-534.902, -375.002, 367.598, -677.202, 692.19...   \n",
       "20  [-662.102, -610.202, -458.002, 13.598, 270.198...   \n",
       "21  [-1031.502, -587.902, -1005.902, -687.002, -12...   \n",
       "22  [875.698, 286.998, -212.902, 435.798, 706.798,...   \n",
       "23  [-327.302, -118.302, -571.302, 205.798, -440.8...   \n",
       "24  [-422.202, -328.202, -631.702, -296.602, -825....   \n",
       "25  [-1002.002, 72.998, -133.802, -578.302, -63.70...   \n",
       "26  [251.398, -679.202, -439.702, 20.498, 324.498,...   \n",
       "27  [-1210.002, -1342.802, -496.502, -1244.002, -1...   \n",
       "28  [-283.602, -902.902, -472.502, -919.802, -182....   \n",
       "29  [-427.902, -331.402, 755.098, -284.102, 121.19...   \n",
       "30  [436.598, -285.402, 50.998, 80.698, -97.602, 4...   \n",
       "31  [-433.302, -91.402, -243.502, -55.502, 182.498...   \n",
       "32  [-410.102, -463.702, 143.598, 218.598, -30.702...   \n",
       "33  [-704.102, -447.602, -604.902, -433.202, 243.1...   \n",
       "34  [-815.802, 87.698, -431.902, -83.502, 163.798,...   \n",
       "35  [-514.202, -189.102, -18.402, -549.102, 314.19...   \n",
       "36  [-715.402, -577.002, -597.602, -117.502, 662.9...   \n",
       "37  [223.098, -420.402, -900.602, -90.302, -431.50...   \n",
       "38  [-94.202, 107.598, -469.602, -319.802, -66.702...   \n",
       "39  [-1100.302, -819.602, -526.302, -534.102, -488...   \n",
       "40  [-312.102, -932.502, 116.598, -856.802, -524.7...   \n",
       "41  [-60.102, -365.802, 43.598, -516.402, -585.602...   \n",
       "42  [-124.402, -882.002, -277.302, -978.902, -752....   \n",
       "43  [-620.302, -174.402, -573.502, 692.498, 408.29...   \n",
       "44  [-470.502, -310.402, -104.802, -877.002, -765....   \n",
       "45  [-221.302, 35.598, -300.202, -511.902, -47.102...   \n",
       "46  [-718.102, -147.502, -22.702, -478.602, 281.19...   \n",
       "47  [-445.902, -213.302, -214.602, -379.502, 41.89...   \n",
       "48  [-421.602, -108.202, 210.498, -598.402, 179.29...   \n",
       "49  [-398.302, -251.002, -768.702, -214.602, 397.3...   \n",
       "50  [-65.202, -662.102, 221.098, -438.502, -848.40...   \n",
       "51  [-1072.902, 24.398, 195.998, -116.902, 38.498,...   \n",
       "52  [-542.902, -553.902, -363.102, 33.598, -405.70...   \n",
       "53  [-373.202, -219.502, -386.602, -871.302, -272....   \n",
       "\n",
       "                                      Episode Lengths  Mean Reward  \\\n",
       "0   [6320, 6377, 6542, 7554, 7832, 7856, 8161, 619...     -299.766   \n",
       "1   [5771, 6323, 7207, 8731, 8900, 10449, 10677, 6...     -558.778   \n",
       "2   [6551, 9178, 9555, 9594, 9931, 11637, 11646, 1...     -315.470   \n",
       "3   [6851, 9248, 9463, 9526, 11855, 12377, 12607, ...      -38.798   \n",
       "4   [5682, 5877, 6849, 7317, 10867, 10928, 5048, 1...     -155.246   \n",
       "5   [5014, 6111, 6448, 9456, 4912, 10521, 12123, 6...     -323.110   \n",
       "6   [5401, 5410, 6299, 7018, 4987, 12019, 12214, 1...     -229.954   \n",
       "7   [5489, 5512, 6587, 6998, 7282, 9525, 10308, 13...     -170.310   \n",
       "8   [8073, 8239, 9501, 9933, 11541, 12886, 13791, ...     -105.810   \n",
       "9   [4936, 5282, 5335, 6545, 7674, 9649, 9746, 497...      -14.294   \n",
       "10  [7967, 8037, 8249, 9265, 10300, 10770, 10794, ...      -45.202   \n",
       "11  [5752, 5872, 6520, 7267, 8056, 8795, 8959, 574...      -43.522   \n",
       "12  [4754, 6650, 7873, 8667, 11899, 12594, 12597, ...      216.054   \n",
       "13  [5128, 9041, 9653, 10391, 10483, 12232, 12372,...        8.186   \n",
       "14  [6563, 8198, 8428, 9183, 10259, 11512, 11700, ...      -43.422   \n",
       "15  [5531, 6051, 6741, 7063, 8844, 9244, 10467, 10...       19.366   \n",
       "16  [5472, 9546, 10510, 11358, 11645, 12813, 15457...      -58.714   \n",
       "17  [5587, 6359, 7760, 7913, 7919, 8118, 8779, 905...     -318.682   \n",
       "18  [6471, 6548, 6621, 6985, 7259, 7497, 7776, 787...    -1145.682   \n",
       "19  [7343, 8212, 9891, 10103, 11388, 12284, 13027,...     -148.310   \n",
       "20  [5106, 5282, 5580, 7005, 9395, 12486, 13110, 1...     -107.450   \n",
       "21  [5945, 6121, 6337, 7154, 7361, 7472, 7662, 790...     -953.118   \n",
       "22  [8329, 10296, 10454, 10596, 12829, 14510, 1563...      282.766   \n",
       "23  [4724, 5861, 6306, 10151, 5453, 10326, 11801, ...     -176.542   \n",
       "24  [5357, 6746, 7104, 8278, 10560, 10591, 12276, ...     -128.146   \n",
       "25  [6583, 7888, 8404, 10855, 11091, 11992, 12290,...     -190.370   \n",
       "26  [6133, 7304, 7710, 12226, 12893, 14295, 14384,...      -78.062   \n",
       "27  [7430, 7627, 7798, 7897, 7958, 7991, 8241, 866...    -1119.502   \n",
       "28  [6046, 6415, 7175, 8577, 9347, 9516, 11732, 53...     -450.202   \n",
       "29  [5594, 7313, 10681, 4304, 12047, 12581, 13674,...      165.806   \n",
       "30  [8304, 8772, 9165, 9275, 10292, 10334, 12245, ...      156.854   \n",
       "31  [4776, 5705, 8074, 8731, 9240, 10159, 10475, 5...      -79.842   \n",
       "32  [5693, 6271, 6334, 6736, 7660, 10171, 10264, 5...     -180.730   \n",
       "33  [5105, 5401, 7081, 7327, 9341, 9510, 9893, 117...     -242.102   \n",
       "34  [5265, 5503, 6943, 9493, 10334, 11969, 11982, ...      -77.490   \n",
       "35  [5947, 7802, 8954, 9165, 9239, 10727, 5407, 14...     -128.234   \n",
       "36  [5367, 7060, 7148, 8026, 9303, 10118, 12725, 1...      -21.862   \n",
       "37  [5663, 5775, 5854, 7461, 7626, 7805, 9658, 101...       34.410   \n",
       "38  [5950, 6258, 7534, 9625, 10950, 11697, 12168, ...       83.146   \n",
       "39  [6072, 6974, 8081, 8482, 8819, 9360, 11738, 64...     -122.574   \n",
       "40  [5535, 7099, 7988, 8562, 9624, 10274, 11699, 7...     -135.370   \n",
       "41  [6718, 7472, 8259, 8881, 8917, 12106, 12693, 1...     -187.462   \n",
       "42  [5454, 5630, 6152, 6659, 6932, 10286, 10983, 1...     -341.578   \n",
       "43  [4963, 7400, 9621, 9890, 10163, 10800, 11312, ...      -96.274   \n",
       "44  [5262, 8119, 8356, 8658, 9866, 4839, 10775, 11...     -179.246   \n",
       "45  [5829, 6016, 6238, 6435, 7213, 8091, 9932, 100...     -277.742   \n",
       "46  [5638, 7174, 9226, 9452, 9717, 10083, 10558, 6...     -147.774   \n",
       "47  [5476, 7315, 8347, 8473, 10246, 10752, 13163, ...      -29.242   \n",
       "48  [4828, 6026, 6133, 6322, 9271, 9763, 10376, 65...      -50.518   \n",
       "49  [5429, 5453, 8949, 10465, 10532, 11699, 7515, ...     -130.306   \n",
       "50  [5154, 6412, 7115, 7904, 11288, 12555, 13628, ...     -209.098   \n",
       "51  [6235, 6547, 9999, 10400, 10490, 11615, 12387,...     -284.054   \n",
       "52  [6059, 7067, 7814, 8917, 9453, 9936, 10924, 12...     -124.174   \n",
       "53  [5761, 6427, 7558, 8037, 8449, 8891, 10385, 47...     -108.346   \n",
       "\n",
       "    Episode Length Mean  Learning Time  Evaluation Time  \n",
       "0               9902.96    1245.803025       133.653689  \n",
       "1               9612.60    1271.271415       134.674537  \n",
       "2              10832.00    1263.547909       192.621891  \n",
       "3              11458.24     790.242492       174.794002  \n",
       "4              11634.20     804.827555       183.072571  \n",
       "5               9792.52     845.509673       146.403299  \n",
       "6               9439.24     591.069451       144.452759  \n",
       "7              11693.96     636.118062       216.133085  \n",
       "8              11817.68     700.735588       246.798605  \n",
       "9               9642.48    1238.282524       127.172379  \n",
       "10             10963.52    1245.746266       156.929507  \n",
       "11              9721.00    1266.519179       157.182181  \n",
       "12             14638.36     786.456019       229.209353  \n",
       "13             11789.44     816.472093       192.916850  \n",
       "14             11667.56     837.804658       153.437186  \n",
       "15             10527.60     585.666744       173.963606  \n",
       "16             12160.56     637.897067       177.119908  \n",
       "17              9244.84     699.691626       147.304130  \n",
       "18              8098.20    1233.143937       102.683922  \n",
       "19             11411.84    1258.751115       187.140081  \n",
       "20              9633.16    1255.062071       135.831824  \n",
       "21              7593.72     781.294325        89.538092  \n",
       "22             12894.52     813.229463       285.776834  \n",
       "23             10253.00     836.991064       163.625520  \n",
       "24             11250.28     592.688794       187.311157  \n",
       "25             11926.76     635.590455       168.213941  \n",
       "26             12261.40     710.216525       175.999437  \n",
       "27              8398.20    1204.554049        78.166007  \n",
       "28              9875.36    1233.891776       108.889119  \n",
       "29             11029.52    1251.718965       125.987326  \n",
       "30             12510.20     793.100185       178.475179  \n",
       "31             10308.80     796.551075       110.238627  \n",
       "32              9726.92     844.317721       111.604683  \n",
       "33             10370.80     559.692847       121.014448  \n",
       "34             10106.48     618.351971       129.133116  \n",
       "35             10738.48     672.470593       108.884584  \n",
       "36             11709.04    1219.501487       165.297228  \n",
       "37             10490.32    1234.320752       121.128128  \n",
       "38             11602.48    1260.016192       133.493533  \n",
       "39             10647.84     779.335029       110.493524  \n",
       "40             10907.20     800.211801       113.505401  \n",
       "41             10552.20     852.646657       124.216601  \n",
       "42             10605.00     554.831185       127.601479  \n",
       "43             10913.92     620.429200       114.467084  \n",
       "44             10444.96     672.506571       134.155330  \n",
       "45              9735.96    1248.214878        96.815415  \n",
       "46             11082.44    1305.957573       156.138432  \n",
       "47             11753.08    1341.283853       163.468173  \n",
       "48             11244.84     850.184897       168.036428  \n",
       "49             10596.72     836.130266       118.540593  \n",
       "50             11022.88     851.110582       126.583091  \n",
       "51             11664.24     586.752521       139.167243  \n",
       "52             10404.60     628.741449       119.802072  \n",
       "53              9890.84     679.474709       119.696407  "
      ]
     },
     "execution_count": 21,
     "metadata": {},
     "output_type": "execute_result"
    }
   ],
   "source": [
    "exp_run1 = pd.DataFrame(archs)\n",
    "exp_run1.columns = ['Policy', 'Learning Rate', 'Steps', 'Batch Size', 'Seed', 'Episode Rewards', \n",
    "                    'Episode Lengths', 'Mean Reward', 'Episode Length Mean', 'Learning Time', 'Evaluation Time']\n",
    "\n",
    "\n",
    "learn_time = exp_run1['Learning Time'].sum() / 60 / 60\n",
    "eval_time = exp_run1['Evaluation Time'].sum() / 60 / 60\n",
    "total_time = learn_time + eval_time\n",
    "print(f'total time: {total_time} hours')\n",
    "exp_run1"
   ]
  },
  {
   "cell_type": "code",
   "execution_count": 22,
   "id": "3db9e538-8bfc-496a-9afc-bc12d715526b",
   "metadata": {},
   "outputs": [],
   "source": [
    "# def best_n_models(results, mean_i, n_best):\n",
    "#     best_r_models = []\n",
    "#     best_e_models = []\n",
    "#     temp_data = np.array(results)\n",
    "#     for _ in range(0, n_best):\n",
    "#         best_i = np.argmax(temp_data[:, mean_i:mean_i+1])\n",
    "#         best_r_models.append(temp_data[best_i])\n",
    "#         temp_data = np.delete(temp_data, best_i, 0)\n",
    "\n",
    "#     temp_data = np.array(results)\n",
    "#     for _ in range(0, n_best):\n",
    "#         best_i = np.argmax(temp_data[:, mean_i+1:mean_i+2])\n",
    "#         best_e_models.append(temp_data[best_i])\n",
    "#         temp_data = np.delete(temp_data, best_i, 0)\n",
    "\n",
    "#     best_models = best_r_models[np.intersect1d(best_r_models[:, mean_i:mean_i+1], best_e_models[:, mean_i:mean_i+1])]\n",
    "#     del temp_data, best_r_models, best_e_models\n",
    "#     return best_models\n",
    "\n",
    "def best_n_models(results, mean_i, n_best):\n",
    "    temp_data = np.array(results)\n",
    "    \n",
    "    # Find the indices of the best n models for each set of data\n",
    "    best_r_indices = [np.argmax(temp_data[:, mean_i])]\n",
    "    for _ in range(1, n_best):\n",
    "        temp_data = np.delete(temp_data, best_r_indices[-1], 0)\n",
    "        best_r_indices.append(np.argmax(temp_data[:, mean_i]))\n",
    "\n",
    "    temp_data = np.array(results)\n",
    "    best_e_indices = [np.argmax(temp_data[:, mean_i + 1])]\n",
    "    for _ in range(1, n_best):\n",
    "        temp_data = np.delete(temp_data, best_e_indices[-1], 0)\n",
    "        best_e_indices.append(np.argmax(temp_data[:, mean_i + 1]))\n",
    "\n",
    "    # Find the intersecting rows based on the indices\n",
    "    best_r_models = np.array([results.iloc[i] for i in best_r_indices])\n",
    "    best_e_models = np.array([results.iloc[i] for i in best_e_indices])\n",
    "    best_models = best_r_models[np.isin(best_r_models[:, mean_i], best_e_models[:, mean_i])]\n",
    "\n",
    "    return np.unique(best_models, axis=0)"
   ]
  },
  {
   "cell_type": "code",
   "execution_count": 51,
   "id": "3b9a80ea-f974-47c0-8542-91bc0291da61",
   "metadata": {},
   "outputs": [
    {
     "data": {
      "text/html": [
       "<div>\n",
       "<style scoped>\n",
       "    .dataframe tbody tr th:only-of-type {\n",
       "        vertical-align: middle;\n",
       "    }\n",
       "\n",
       "    .dataframe tbody tr th {\n",
       "        vertical-align: top;\n",
       "    }\n",
       "\n",
       "    .dataframe thead th {\n",
       "        text-align: right;\n",
       "    }\n",
       "</style>\n",
       "<table border=\"1\" class=\"dataframe\">\n",
       "  <thead>\n",
       "    <tr style=\"text-align: right;\">\n",
       "      <th></th>\n",
       "      <th>Policy</th>\n",
       "      <th>Learning Rate</th>\n",
       "      <th>Steps</th>\n",
       "      <th>Batch Size</th>\n",
       "      <th>Seed</th>\n",
       "      <th>Episode Rewards</th>\n",
       "      <th>Episode Lengths</th>\n",
       "      <th>Mean Reward</th>\n",
       "      <th>Episode Length Mean</th>\n",
       "      <th>Learning Time</th>\n",
       "      <th>Evaluation Time</th>\n",
       "    </tr>\n",
       "  </thead>\n",
       "  <tbody>\n",
       "    <tr>\n",
       "      <th>0</th>\n",
       "      <td>CnnPolicy</td>\n",
       "      <td>0.000001</td>\n",
       "      <td>1024</td>\n",
       "      <td>64</td>\n",
       "      <td>2</td>\n",
       "      <td>[875.698, 286.998, -212.902, 435.798, 706.798,...</td>\n",
       "      <td>[8329, 10296, 10454, 10596, 12829, 14510, 1563...</td>\n",
       "      <td>282.766</td>\n",
       "      <td>12894.52</td>\n",
       "      <td>813.229463</td>\n",
       "      <td>285.776834</td>\n",
       "    </tr>\n",
       "    <tr>\n",
       "      <th>1</th>\n",
       "      <td>CnnPolicy</td>\n",
       "      <td>0.00001</td>\n",
       "      <td>256</td>\n",
       "      <td>64</td>\n",
       "      <td>2</td>\n",
       "      <td>[-182.402, -251.202, 435.898, -421.902, 81.498...</td>\n",
       "      <td>[4754, 6650, 7873, 8667, 11899, 12594, 12597, ...</td>\n",
       "      <td>216.054</td>\n",
       "      <td>14638.36</td>\n",
       "      <td>786.456019</td>\n",
       "      <td>229.209353</td>\n",
       "    </tr>\n",
       "    <tr>\n",
       "      <th>2</th>\n",
       "      <td>CnnPolicy</td>\n",
       "      <td>0.00001</td>\n",
       "      <td>2048</td>\n",
       "      <td>64</td>\n",
       "      <td>2</td>\n",
       "      <td>[-164.102, -1075.102, -715.102, -28.902, -252....</td>\n",
       "      <td>[6563, 8198, 8428, 9183, 10259, 11512, 11700, ...</td>\n",
       "      <td>-43.422</td>\n",
       "      <td>11667.56</td>\n",
       "      <td>837.804658</td>\n",
       "      <td>153.437186</td>\n",
       "    </tr>\n",
       "    <tr>\n",
       "      <th>3</th>\n",
       "      <td>CnnPolicy</td>\n",
       "      <td>0.00001</td>\n",
       "      <td>256</td>\n",
       "      <td>64</td>\n",
       "      <td>2</td>\n",
       "      <td>[-182.402, -251.202, 435.898, -421.902, 81.498...</td>\n",
       "      <td>[4754, 6650, 7873, 8667, 11899, 12594, 12597, ...</td>\n",
       "      <td>216.054</td>\n",
       "      <td>14638.36</td>\n",
       "      <td>786.456019</td>\n",
       "      <td>229.209353</td>\n",
       "    </tr>\n",
       "    <tr>\n",
       "      <th>4</th>\n",
       "      <td>CnnPolicy</td>\n",
       "      <td>0.0001</td>\n",
       "      <td>256</td>\n",
       "      <td>64</td>\n",
       "      <td>2</td>\n",
       "      <td>[116.198, -786.502, -856.802, -12.702, -689.10...</td>\n",
       "      <td>[6851, 9248, 9463, 9526, 11855, 12377, 12607, ...</td>\n",
       "      <td>-38.798</td>\n",
       "      <td>11458.24</td>\n",
       "      <td>790.242492</td>\n",
       "      <td>174.794002</td>\n",
       "    </tr>\n",
       "    <tr>\n",
       "      <th>5</th>\n",
       "      <td>CnnPolicy</td>\n",
       "      <td>0.00001</td>\n",
       "      <td>512</td>\n",
       "      <td>32</td>\n",
       "      <td>2</td>\n",
       "      <td>[219.698, -18.202, -491.902, -419.002, 36.398,...</td>\n",
       "      <td>[7967, 8037, 8249, 9265, 10300, 10770, 10794, ...</td>\n",
       "      <td>-45.202</td>\n",
       "      <td>10963.52</td>\n",
       "      <td>1245.746266</td>\n",
       "      <td>156.929507</td>\n",
       "    </tr>\n",
       "    <tr>\n",
       "      <th>6</th>\n",
       "      <td>CnnPolicy</td>\n",
       "      <td>0.0001</td>\n",
       "      <td>4096</td>\n",
       "      <td>128</td>\n",
       "      <td>2</td>\n",
       "      <td>[86.398, -788.102, -908.802, -635.302, -382.80...</td>\n",
       "      <td>[8073, 8239, 9501, 9933, 11541, 12886, 13791, ...</td>\n",
       "      <td>-105.81</td>\n",
       "      <td>11817.68</td>\n",
       "      <td>700.735588</td>\n",
       "      <td>246.798605</td>\n",
       "    </tr>\n",
       "    <tr>\n",
       "      <th>7</th>\n",
       "      <td>CnnPolicy</td>\n",
       "      <td>0.0001</td>\n",
       "      <td>4096</td>\n",
       "      <td>128</td>\n",
       "      <td>2</td>\n",
       "      <td>[86.398, -788.102, -908.802, -635.302, -382.80...</td>\n",
       "      <td>[8073, 8239, 9501, 9933, 11541, 12886, 13791, ...</td>\n",
       "      <td>-105.81</td>\n",
       "      <td>11817.68</td>\n",
       "      <td>700.735588</td>\n",
       "      <td>246.798605</td>\n",
       "    </tr>\n",
       "    <tr>\n",
       "      <th>8</th>\n",
       "      <td>CnnPolicy</td>\n",
       "      <td>0.000001</td>\n",
       "      <td>1024</td>\n",
       "      <td>64</td>\n",
       "      <td>2</td>\n",
       "      <td>[875.698, 286.998, -212.902, 435.798, 706.798,...</td>\n",
       "      <td>[8329, 10296, 10454, 10596, 12829, 14510, 1563...</td>\n",
       "      <td>282.766</td>\n",
       "      <td>12894.52</td>\n",
       "      <td>813.229463</td>\n",
       "      <td>285.776834</td>\n",
       "    </tr>\n",
       "    <tr>\n",
       "      <th>9</th>\n",
       "      <td>CnnPolicy</td>\n",
       "      <td>0.00001</td>\n",
       "      <td>2048</td>\n",
       "      <td>128</td>\n",
       "      <td>2</td>\n",
       "      <td>[-374.402, -453.402, 478.698, 237.498, -1274.7...</td>\n",
       "      <td>[5472, 9546, 10510, 11358, 11645, 12813, 15457...</td>\n",
       "      <td>-58.714</td>\n",
       "      <td>12160.56</td>\n",
       "      <td>637.897067</td>\n",
       "      <td>177.119908</td>\n",
       "    </tr>\n",
       "    <tr>\n",
       "      <th>10</th>\n",
       "      <td>CnnPolicy</td>\n",
       "      <td>0.000001</td>\n",
       "      <td>128</td>\n",
       "      <td>32</td>\n",
       "      <td>2</td>\n",
       "      <td>[-1096.802, -740.902, -950.802, -1225.102, -10...</td>\n",
       "      <td>[6471, 6548, 6621, 6985, 7259, 7497, 7776, 787...</td>\n",
       "      <td>-1145.682</td>\n",
       "      <td>8098.2</td>\n",
       "      <td>1233.143937</td>\n",
       "      <td>102.683922</td>\n",
       "    </tr>\n",
       "    <tr>\n",
       "      <th>11</th>\n",
       "      <td>CnnPolicy</td>\n",
       "      <td>0.000001</td>\n",
       "      <td>2048</td>\n",
       "      <td>128</td>\n",
       "      <td>2</td>\n",
       "      <td>[-1002.002, 72.998, -133.802, -578.302, -63.70...</td>\n",
       "      <td>[6583, 7888, 8404, 10855, 11091, 11992, 12290,...</td>\n",
       "      <td>-190.37</td>\n",
       "      <td>11926.76</td>\n",
       "      <td>635.590455</td>\n",
       "      <td>168.213941</td>\n",
       "    </tr>\n",
       "    <tr>\n",
       "      <th>12</th>\n",
       "      <td>CnnPolicy</td>\n",
       "      <td>0.0001</td>\n",
       "      <td>2048</td>\n",
       "      <td>128</td>\n",
       "      <td>2</td>\n",
       "      <td>[-825.602, -648.702, -574.302, -86.902, 24.098...</td>\n",
       "      <td>[5489, 5512, 6587, 6998, 7282, 9525, 10308, 13...</td>\n",
       "      <td>-170.31</td>\n",
       "      <td>11693.96</td>\n",
       "      <td>636.118062</td>\n",
       "      <td>216.133085</td>\n",
       "    </tr>\n",
       "    <tr>\n",
       "      <th>13</th>\n",
       "      <td>CnnPolicy</td>\n",
       "      <td>0.00001</td>\n",
       "      <td>512</td>\n",
       "      <td>32</td>\n",
       "      <td>2</td>\n",
       "      <td>[219.698, -18.202, -491.902, -419.002, 36.398,...</td>\n",
       "      <td>[7967, 8037, 8249, 9265, 10300, 10770, 10794, ...</td>\n",
       "      <td>-45.202</td>\n",
       "      <td>10963.52</td>\n",
       "      <td>1245.746266</td>\n",
       "      <td>156.929507</td>\n",
       "    </tr>\n",
       "    <tr>\n",
       "      <th>14</th>\n",
       "      <td>MlpPolicy</td>\n",
       "      <td>0.0001</td>\n",
       "      <td>256</td>\n",
       "      <td>64</td>\n",
       "      <td>2</td>\n",
       "      <td>[436.598, -285.402, 50.998, 80.698, -97.602, 4...</td>\n",
       "      <td>[8304, 8772, 9165, 9275, 10292, 10334, 12245, ...</td>\n",
       "      <td>156.854</td>\n",
       "      <td>12510.2</td>\n",
       "      <td>793.100185</td>\n",
       "      <td>178.475179</td>\n",
       "    </tr>\n",
       "    <tr>\n",
       "      <th>15</th>\n",
       "      <td>MlpPolicy</td>\n",
       "      <td>0.0001</td>\n",
       "      <td>512</td>\n",
       "      <td>32</td>\n",
       "      <td>2</td>\n",
       "      <td>[-283.602, -902.902, -472.502, -919.802, -182....</td>\n",
       "      <td>[6046, 6415, 7175, 8577, 9347, 9516, 11732, 53...</td>\n",
       "      <td>-450.202</td>\n",
       "      <td>9875.36</td>\n",
       "      <td>1233.891776</td>\n",
       "      <td>108.889119</td>\n",
       "    </tr>\n",
       "    <tr>\n",
       "      <th>16</th>\n",
       "      <td>CnnPolicy</td>\n",
       "      <td>0.00001</td>\n",
       "      <td>256</td>\n",
       "      <td>64</td>\n",
       "      <td>2</td>\n",
       "      <td>[-182.402, -251.202, 435.898, -421.902, 81.498...</td>\n",
       "      <td>[4754, 6650, 7873, 8667, 11899, 12594, 12597, ...</td>\n",
       "      <td>216.054</td>\n",
       "      <td>14638.36</td>\n",
       "      <td>786.456019</td>\n",
       "      <td>229.209353</td>\n",
       "    </tr>\n",
       "  </tbody>\n",
       "</table>\n",
       "</div>"
      ],
      "text/plain": [
       "       Policy Learning Rate Steps Batch Size Seed  \\\n",
       "0   CnnPolicy      0.000001  1024         64    2   \n",
       "1   CnnPolicy       0.00001   256         64    2   \n",
       "2   CnnPolicy       0.00001  2048         64    2   \n",
       "3   CnnPolicy       0.00001   256         64    2   \n",
       "4   CnnPolicy        0.0001   256         64    2   \n",
       "5   CnnPolicy       0.00001   512         32    2   \n",
       "6   CnnPolicy        0.0001  4096        128    2   \n",
       "7   CnnPolicy        0.0001  4096        128    2   \n",
       "8   CnnPolicy      0.000001  1024         64    2   \n",
       "9   CnnPolicy       0.00001  2048        128    2   \n",
       "10  CnnPolicy      0.000001   128         32    2   \n",
       "11  CnnPolicy      0.000001  2048        128    2   \n",
       "12  CnnPolicy        0.0001  2048        128    2   \n",
       "13  CnnPolicy       0.00001   512         32    2   \n",
       "14  MlpPolicy        0.0001   256         64    2   \n",
       "15  MlpPolicy        0.0001   512         32    2   \n",
       "16  CnnPolicy       0.00001   256         64    2   \n",
       "\n",
       "                                      Episode Rewards  \\\n",
       "0   [875.698, 286.998, -212.902, 435.798, 706.798,...   \n",
       "1   [-182.402, -251.202, 435.898, -421.902, 81.498...   \n",
       "2   [-164.102, -1075.102, -715.102, -28.902, -252....   \n",
       "3   [-182.402, -251.202, 435.898, -421.902, 81.498...   \n",
       "4   [116.198, -786.502, -856.802, -12.702, -689.10...   \n",
       "5   [219.698, -18.202, -491.902, -419.002, 36.398,...   \n",
       "6   [86.398, -788.102, -908.802, -635.302, -382.80...   \n",
       "7   [86.398, -788.102, -908.802, -635.302, -382.80...   \n",
       "8   [875.698, 286.998, -212.902, 435.798, 706.798,...   \n",
       "9   [-374.402, -453.402, 478.698, 237.498, -1274.7...   \n",
       "10  [-1096.802, -740.902, -950.802, -1225.102, -10...   \n",
       "11  [-1002.002, 72.998, -133.802, -578.302, -63.70...   \n",
       "12  [-825.602, -648.702, -574.302, -86.902, 24.098...   \n",
       "13  [219.698, -18.202, -491.902, -419.002, 36.398,...   \n",
       "14  [436.598, -285.402, 50.998, 80.698, -97.602, 4...   \n",
       "15  [-283.602, -902.902, -472.502, -919.802, -182....   \n",
       "16  [-182.402, -251.202, 435.898, -421.902, 81.498...   \n",
       "\n",
       "                                      Episode Lengths Mean Reward  \\\n",
       "0   [8329, 10296, 10454, 10596, 12829, 14510, 1563...     282.766   \n",
       "1   [4754, 6650, 7873, 8667, 11899, 12594, 12597, ...     216.054   \n",
       "2   [6563, 8198, 8428, 9183, 10259, 11512, 11700, ...     -43.422   \n",
       "3   [4754, 6650, 7873, 8667, 11899, 12594, 12597, ...     216.054   \n",
       "4   [6851, 9248, 9463, 9526, 11855, 12377, 12607, ...     -38.798   \n",
       "5   [7967, 8037, 8249, 9265, 10300, 10770, 10794, ...     -45.202   \n",
       "6   [8073, 8239, 9501, 9933, 11541, 12886, 13791, ...     -105.81   \n",
       "7   [8073, 8239, 9501, 9933, 11541, 12886, 13791, ...     -105.81   \n",
       "8   [8329, 10296, 10454, 10596, 12829, 14510, 1563...     282.766   \n",
       "9   [5472, 9546, 10510, 11358, 11645, 12813, 15457...     -58.714   \n",
       "10  [6471, 6548, 6621, 6985, 7259, 7497, 7776, 787...   -1145.682   \n",
       "11  [6583, 7888, 8404, 10855, 11091, 11992, 12290,...     -190.37   \n",
       "12  [5489, 5512, 6587, 6998, 7282, 9525, 10308, 13...     -170.31   \n",
       "13  [7967, 8037, 8249, 9265, 10300, 10770, 10794, ...     -45.202   \n",
       "14  [8304, 8772, 9165, 9275, 10292, 10334, 12245, ...     156.854   \n",
       "15  [6046, 6415, 7175, 8577, 9347, 9516, 11732, 53...    -450.202   \n",
       "16  [4754, 6650, 7873, 8667, 11899, 12594, 12597, ...     216.054   \n",
       "\n",
       "   Episode Length Mean Learning Time Evaluation Time  \n",
       "0             12894.52    813.229463      285.776834  \n",
       "1             14638.36    786.456019      229.209353  \n",
       "2             11667.56    837.804658      153.437186  \n",
       "3             14638.36    786.456019      229.209353  \n",
       "4             11458.24    790.242492      174.794002  \n",
       "5             10963.52   1245.746266      156.929507  \n",
       "6             11817.68    700.735588      246.798605  \n",
       "7             11817.68    700.735588      246.798605  \n",
       "8             12894.52    813.229463      285.776834  \n",
       "9             12160.56    637.897067      177.119908  \n",
       "10              8098.2   1233.143937      102.683922  \n",
       "11            11926.76    635.590455      168.213941  \n",
       "12            11693.96    636.118062      216.133085  \n",
       "13            10963.52   1245.746266      156.929507  \n",
       "14             12510.2    793.100185      178.475179  \n",
       "15             9875.36   1233.891776      108.889119  \n",
       "16            14638.36    786.456019      229.209353  "
      ]
     },
     "execution_count": 51,
     "metadata": {},
     "output_type": "execute_result"
    }
   ],
   "source": [
    "consistent_best__models = pd.DataFrame(best_n_models(exp_run1, 7, 27))\n",
    "consistent_best__models.columns = ['Policy', 'Learning Rate', 'Steps', 'Batch Size', 'Seed', 'Episode Rewards', \n",
    "                    'Episode Lengths', 'Mean Reward', 'Episode Length Mean', 'Learning Time', 'Evaluation Time']\n",
    "consistent_best__models"
   ]
  },
  {
   "cell_type": "code",
   "execution_count": 24,
   "id": "5f7ea7a8-839c-40bf-a2c7-618b0bb4d57c",
   "metadata": {},
   "outputs": [
    {
     "data": {
      "image/png": "[encoded data removed]",
      "text/plain": [
       "<Figure size 432x432 with 1 Axes>"
      ]
     },
     "metadata": {
      "needs_background": "light"
     },
     "output_type": "display_data"
    }
   ],
   "source": [
    "fighter_plots.plot_reward_mean(exp_run1, 'Policy')"
   ]
  },
  {
   "cell_type": "code",
   "execution_count": 27,
   "id": "8ee817b9-9055-499f-a69d-6ffc7e004d93",
   "metadata": {},
   "outputs": [
    {
     "data": {
      "image/png": "[encoded data removed]",
      "text/plain": [
       "<Figure size 432x432 with 1 Axes>"
      ]
     },
     "metadata": {
      "needs_background": "light"
     },
     "output_type": "display_data"
    }
   ],
   "source": [
    "fighter_plots.plot_length_mean(exp_run1, 'Policy')"
   ]
  },
  {
   "cell_type": "code",
   "execution_count": 25,
   "id": "6713628e-f762-4a42-8990-3d541543c2f1",
   "metadata": {},
   "outputs": [
    {
     "data": {
      "image/png": "[encoded data removed]",
      "text/plain": [
       "<Figure size 432x432 with 1 Axes>"
      ]
     },
     "metadata": {
      "needs_background": "light"
     },
     "output_type": "display_data"
    }
   ],
   "source": [
    "fighter_plots.plot_reward_mean(exp_run1, 'Learning Rate')"
   ]
  },
  {
   "cell_type": "code",
   "execution_count": 28,
   "id": "5e40e07f-0f28-45b2-a259-3053b60fcd1d",
   "metadata": {},
   "outputs": [
    {
     "data": {
      "image/png": "[encoded data removed]",
      "text/plain": [
       "<Figure size 432x432 with 1 Axes>"
      ]
     },
     "metadata": {
      "needs_background": "light"
     },
     "output_type": "display_data"
    }
   ],
   "source": [
    "fighter_plots.plot_length_mean(exp_run1, 'Learning Rate')"
   ]
  },
  {
   "cell_type": "code",
   "execution_count": 29,
   "id": "a993c119-94c6-49dd-80f2-72897071f516",
   "metadata": {},
   "outputs": [
    {
     "data": {
      "image/png": "[encoded data removed]",
      "text/plain": [
       "<Figure size 432x432 with 1 Axes>"
      ]
     },
     "metadata": {
      "needs_background": "light"
     },
     "output_type": "display_data"
    }
   ],
   "source": [
    "fighter_plots.plot_reward_mean(exp_run1, 'Steps')"
   ]
  },
  {
   "cell_type": "code",
   "execution_count": 30,
   "id": "b2040216-5b53-4375-9bc5-39abfe52709b",
   "metadata": {},
   "outputs": [
    {
     "data": {
      "image/png": "[encoded data removed]",
      "text/plain": [
       "<Figure size 432x432 with 1 Axes>"
      ]
     },
     "metadata": {
      "needs_background": "light"
     },
     "output_type": "display_data"
    }
   ],
   "source": [
    "fighter_plots.plot_length_mean(exp_run1, 'Steps')"
   ]
  },
  {
   "cell_type": "code",
   "execution_count": 31,
   "id": "167992d8-6fc2-42eb-9f28-86abc0da9ce7",
   "metadata": {},
   "outputs": [
    {
     "data": {
      "image/png": "[encoded data removed]",
      "text/plain": [
       "<Figure size 432x432 with 1 Axes>"
      ]
     },
     "metadata": {
      "needs_background": "light"
     },
     "output_type": "display_data"
    }
   ],
   "source": [
    "fighter_plots.plot_reward_mean(exp_run1, 'Batch Size')"
   ]
  },
  {
   "cell_type": "code",
   "execution_count": 32,
   "id": "50bafd7f-8559-4f19-a0d9-c8af557dac8d",
   "metadata": {},
   "outputs": [
    {
     "data": {
      "image/png": "[encoded data removed]",
      "text/plain": [
       "<Figure size 432x432 with 1 Axes>"
      ]
     },
     "metadata": {
      "needs_background": "light"
     },
     "output_type": "display_data"
    }
   ],
   "source": [
    "fighter_plots.plot_length_mean(exp_run1, 'Batch Size')"
   ]
  },
  {
   "cell_type": "code",
   "execution_count": 29,
   "id": "799b3bfa-5a3c-4acc-9067-94a8f365fbbc",
   "metadata": {},
   "outputs": [
    {
     "name": "stdout",
     "output_type": "stream",
     "text": [
      "Stored 'exp_run1' (DataFrame)\n"
     ]
    }
   ],
   "source": [
    "%store exp_run1"
   ]
  },
  {
   "cell_type": "code",
   "execution_count": 20,
   "id": "8224401b-fd97-402e-b567-ef4873b56d75",
   "metadata": {},
   "outputs": [],
   "source": [
    "%store -r exp_run1"
   ]
  },
  {
   "cell_type": "code",
   "execution_count": 54,
   "id": "79465c29-abc0-4f84-a341-ed5d067209f1",
   "metadata": {},
   "outputs": [
    {
     "name": "stdout",
     "output_type": "stream",
     "text": [
      "The MlpPolicy model with the highest reward mean, during 1st experiment, is:\n"
     ]
    },
    {
     "data": {
      "text/plain": [
       "array(['MlpPolicy', 0.0001, 256, 64, 2,\n",
       "       list([436.598, -285.402, 50.998, 80.698, -97.602, 451.698, -741.102, -283.102, 224.898, -160.302, -552.102, 227.098, 838.498, -889.202, 716.798, -178.002, 227.298, -361.102, 586.198, 884.698, 506.898, 1447.598, 311.698, 241.498, 236.098]),\n",
       "       list([8304, 8772, 9165, 9275, 10292, 10334, 12245, 14307, 14659, 6304, 8269, 10951, 11559, 12833, 10857, 11745, 15589, 7023, 12811, 26268, 11378, 42443, 10674, 8017, 8681]),\n",
       "       156.85399999999998, 12510.2, 793.1001851558685, 178.4751787185669],\n",
       "      dtype=object)"
      ]
     },
     "execution_count": 54,
     "metadata": {},
     "output_type": "execute_result"
    }
   ],
   "source": [
    "mlp_results = np.array(consistent_best__models[consistent_best__models['Policy'] == 'MlpPolicy'])\n",
    "mlp_i = np.argmax(mlp_results[:, 7])\n",
    "mlp_winner = mlp_results[mlp_i]\n",
    "print(\"The MlpPolicy model with the highest reward mean, during 1st experiment, is:\")\n",
    "mlp_winner"
   ]
  },
  {
   "cell_type": "code",
   "execution_count": 58,
   "id": "f22a5a9c-306c-48e4-9ccb-b5403c948fa8",
   "metadata": {},
   "outputs": [
    {
     "name": "stdout",
     "output_type": "stream",
     "text": [
      "The CnnPolicy model with the highest reward mean, during 1st experiment, is:\n",
      "['CnnPolicy' 1e-06 1024 64 2\n",
      " list([875.698, 286.998, -212.902, 435.798, 706.798, -562.602, 984.898, 138.998, -420.502, -346.302, 302.898, 343.198, -336.602, 40.198, 893.298, 880.098, -31.602, -242.202, 231.898, 351.998, -103.802, 439.398, 381.198, 1585.898, 446.398])\n",
      " list([8329, 10296, 10454, 10596, 12829, 14510, 15630, 17006, 8177, 6531, 10031, 12641, 6484, 10926, 23283, 24618, 6932, 10638, 12044, 9215, 11937, 11708, 11623, 38189, 7736])\n",
      " 282.76599999999996 12894.52 813.2294626235962 285.7768337726593]\n"
     ]
    }
   ],
   "source": [
    "cnn_results = np.array(consistent_best__models[consistent_best__models['Policy'] == 'CnnPolicy'])\n",
    "cnn_i = np.argmax(cnn_results[:, 7])\n",
    "cnn_winner = cnn_results[cnn_i]\n",
    "print(\"The CnnPolicy model with the highest reward mean, during 1st experiment, is:\")\n",
    "print(cnn_winner)"
   ]
  },
  {
   "cell_type": "code",
   "execution_count": 59,
   "id": "003cb771-ccb5-40da-9a0e-9d014a48333c",
   "metadata": {},
   "outputs": [],
   "source": [
    "r2_models = np.array([np.array(mlp_winner), np.array(cnn_winner)])"
   ]
  },
  {
   "cell_type": "markdown",
   "id": "b2e249dd-74c8-4cf0-a15d-75b85e39330e",
   "metadata": {},
   "source": [
    "## Hyperparameter Testing: Epochs, Gamma, Gae Lambda, and Clip Size"
   ]
  },
  {
   "cell_type": "code",
   "execution_count": 60,
   "id": "ae3aea4b-57a3-4d13-9136-544177dca4a9",
   "metadata": {},
   "outputs": [
    {
     "data": {
      "text/plain": [
       "43867"
      ]
     },
     "execution_count": 60,
     "metadata": {},
     "output_type": "execute_result"
    }
   ],
   "source": [
    "#del models, archs, mlp_results, cnn_results\n",
    "gc.collect()"
   ]
  },
  {
   "cell_type": "code",
   "execution_count": null,
   "id": "42ae16ed-4c72-42fb-806f-e506e2afa6d7",
   "metadata": {},
   "outputs": [],
   "source": [
    "Env.close()"
   ]
  },
  {
   "cell_type": "code",
   "execution_count": null,
   "id": "b8fb11a0-e35e-4664-8ced-22d5d5e99c36",
   "metadata": {},
   "outputs": [
    {
     "data": {
      "application/vnd.jupyter.widget-view+json": {
       "model_id": "bdcdbd8683614b808cd92342a8094f1b",
       "version_major": 2,
       "version_minor": 0
      },
      "text/plain": [
       "Output()"
      ]
     },
     "metadata": {},
     "output_type": "display_data"
    },
    {
     "name": "stdout",
     "output_type": "stream",
     "text": [
      "------------\n",
      "Starting architecture 1 of 108\n",
      "Learning...\n"
     ]
    },
    {
     "data": {
      "text/html": [
       "<pre style=\"white-space:pre;overflow-x:auto;line-height:normal;font-family:Menlo,'DejaVu Sans Mono',consolas,'Courier New',monospace\"></pre>\n"
      ],
      "text/plain": []
     },
     "metadata": {},
     "output_type": "display_data"
    },
    {
     "data": {
      "text/html": [
       "<pre style=\"white-space:pre;overflow-x:auto;line-height:normal;font-family:Menlo,'DejaVu Sans Mono',consolas,'Courier New',monospace\">\n",
       "</pre>\n"
      ],
      "text/plain": [
       "\n"
      ]
     },
     "metadata": {},
     "output_type": "display_data"
    },
    {
     "name": "stdout",
     "output_type": "stream",
     "text": [
      "Learn time: 13.226 minutes\n",
      "Evaluating over 25 episodes...\n",
      "Evaluation time: 2.700 minutes\n",
      "Mean episode reward: -130.75000000000003, Standard deviation: 582.2081711003376\n",
      "Mean episode length: 11159.04, Standard deviation: 3989.962801631113\n",
      "finished architecture ['MlpPolicy', 0.0001, 256, 64, 2, 10, 0.9, 0.95, 0.1, [-167.802, -356.302, -1060.702, -1004.502, -32.902, 560.098, -241.002, -1060.302, 643.298, 264.198, -358.602, -433.902, 457.098, 497.198, -405.502, -648.102, -85.702, 400.298, 366.098, -321.702, -1241.902, -54.402, 641.298, -461.402, 836.398], [4936, 5532, 6040, 8277, 8292, 8729, 9155, 9428, 10799, 11000, 12475, 13773, 14412, 14834, 15137, 10811, 9186, 9551, 7297, 12532, 14516, 10319, 19061, 10539, 22345], -130.75000000000003, 11159.04, 793.5850439071655, 162.02560901641846] at 15.927 minutes.\n"
     ]
    },
    {
     "data": {
      "application/vnd.jupyter.widget-view+json": {
       "model_id": "740c81f89cd044b0b8c7ccf2c4f6a822",
       "version_major": 2,
       "version_minor": 0
      },
      "text/plain": [
       "Output()"
      ]
     },
     "metadata": {},
     "output_type": "display_data"
    },
    {
     "name": "stdout",
     "output_type": "stream",
     "text": [
      "------------\n",
      "Starting architecture 2 of 108\n",
      "Learning...\n"
     ]
    },
    {
     "data": {
      "text/html": [
       "<pre style=\"white-space:pre;overflow-x:auto;line-height:normal;font-family:Menlo,'DejaVu Sans Mono',consolas,'Courier New',monospace\"></pre>\n"
      ],
      "text/plain": []
     },
     "metadata": {},
     "output_type": "display_data"
    },
    {
     "data": {
      "text/html": [
       "<pre style=\"white-space:pre;overflow-x:auto;line-height:normal;font-family:Menlo,'DejaVu Sans Mono',consolas,'Courier New',monospace\">\n",
       "</pre>\n"
      ],
      "text/plain": [
       "\n"
      ]
     },
     "metadata": {},
     "output_type": "display_data"
    },
    {
     "name": "stdout",
     "output_type": "stream",
     "text": [
      "Learn time: 13.443 minutes\n",
      "Evaluating over 25 episodes...\n",
      "Evaluation time: 2.230 minutes\n",
      "Mean episode reward: -489.38199999999995, Standard deviation: 412.59399704794544\n",
      "Mean episode length: 9679.76, Standard deviation: 4026.0090440037516\n",
      "finished architecture ['MlpPolicy', 0.0001, 256, 64, 2, 10, 0.9, 0.95, 0.2, [-143.902, -905.302, -56.602, -975.402, -993.802, -87.102, -61.802, -545.002, -872.702, -506.402, -815.502, -613.802, 328.398, -614.602, -936.802, -931.602, 248.398, -710.902, -589.002, -567.702, 130.798, -922.002, 100.498, -461.302, -731.402], [4737, 5588, 5869, 6088, 6744, 6803, 8589, 8756, 9391, 9423, 9767, 10981, 11013, 3675, 7472, 5629, 16527, 8391, 17246, 15491, 16010, 6027, 15977, 14193, 11607], -489.38199999999995, 9679.76, 806.565459728241, 133.8093159198761] at 15.673 minutes.\n"
     ]
    },
    {
     "data": {
      "application/vnd.jupyter.widget-view+json": {
       "model_id": "1856ee08e4c24e0da34c45a33e79c40e",
       "version_major": 2,
       "version_minor": 0
      },
      "text/plain": [
       "Output()"
      ]
     },
     "metadata": {},
     "output_type": "display_data"
    },
    {
     "name": "stdout",
     "output_type": "stream",
     "text": [
      "------------\n",
      "Starting architecture 3 of 108\n",
      "Learning...\n"
     ]
    },
    {
     "data": {
      "text/html": [
       "<pre style=\"white-space:pre;overflow-x:auto;line-height:normal;font-family:Menlo,'DejaVu Sans Mono',consolas,'Courier New',monospace\"></pre>\n"
      ],
      "text/plain": []
     },
     "metadata": {},
     "output_type": "display_data"
    },
    {
     "data": {
      "text/html": [
       "<pre style=\"white-space:pre;overflow-x:auto;line-height:normal;font-family:Menlo,'DejaVu Sans Mono',consolas,'Courier New',monospace\">\n",
       "</pre>\n"
      ],
      "text/plain": [
       "\n"
      ]
     },
     "metadata": {},
     "output_type": "display_data"
    },
    {
     "name": "stdout",
     "output_type": "stream",
     "text": [
      "Learn time: 13.339 minutes\n",
      "Evaluating over 25 episodes...\n",
      "Evaluation time: 1.328 minutes\n",
      "Mean episode reward: -1087.7459999999999, Standard deviation: 235.43766067475272\n",
      "Mean episode length: 8182.12, Standard deviation: 1012.6685665112747\n",
      "finished architecture ['MlpPolicy', 0.0001, 256, 64, 2, 10, 0.9, 0.95, 0.3, [-833.402, -1014.302, -1149.002, -1325.202, -1294.302, -1277.902, -1305.602, -1377.902, -1352.002, -1139.202, -1351.302, -1212.402, -1053.302, -1083.802, -408.902, -1188.902, -838.002, -976.302, -957.202, -1174.902, -1294.002, -984.802, -1063.802, -939.602, -597.602], [7244, 7377, 7592, 7642, 7771, 7807, 7846, 8305, 8425, 8448, 8498, 8505, 8762, 9306, 12178, 7048, 7188, 7702, 7541, 7272, 8337, 8200, 9010, 7700, 8849], -1087.7459999999999, 8182.12, 800.3153812885284, 79.65543031692505] at 14.666 minutes.\n"
     ]
    },
    {
     "data": {
      "application/vnd.jupyter.widget-view+json": {
       "model_id": "9473072d6a0044929826d1020fcdc5dc",
       "version_major": 2,
       "version_minor": 0
      },
      "text/plain": [
       "Output()"
      ]
     },
     "metadata": {},
     "output_type": "display_data"
    },
    {
     "name": "stdout",
     "output_type": "stream",
     "text": [
      "------------\n",
      "Starting architecture 4 of 108\n",
      "Learning...\n"
     ]
    },
    {
     "data": {
      "text/html": [
       "<pre style=\"white-space:pre;overflow-x:auto;line-height:normal;font-family:Menlo,'DejaVu Sans Mono',consolas,'Courier New',monospace\"></pre>\n"
      ],
      "text/plain": []
     },
     "metadata": {},
     "output_type": "display_data"
    },
    {
     "data": {
      "text/html": [
       "<pre style=\"white-space:pre;overflow-x:auto;line-height:normal;font-family:Menlo,'DejaVu Sans Mono',consolas,'Courier New',monospace\">\n",
       "</pre>\n"
      ],
      "text/plain": [
       "\n"
      ]
     },
     "metadata": {},
     "output_type": "display_data"
    },
    {
     "name": "stdout",
     "output_type": "stream",
     "text": [
      "Learn time: 13.023 minutes\n",
      "Evaluating over 25 episodes...\n",
      "Evaluation time: 2.338 minutes\n",
      "Mean episode reward: -303.962, Standard deviation: 449.3191364720626\n",
      "Mean episode length: 9742.32, Standard deviation: 3516.316114572181\n",
      "finished architecture ['MlpPolicy', 0.0001, 256, 64, 2, 10, 0.9, 0.97, 0.1, [-254.602, -912.302, -751.902, -188.502, -88.402, 216.298, -349.902, -256.102, -1168.402, -15.002, -76.202, -79.902, -482.602, -186.602, -654.602, -525.002, -1594.302, -32.502, 524.898, 139.098, -40.602, 40.098, -416.002, -500.002, 53.998], [5092, 6017, 6324, 7399, 7873, 8076, 8343, 8393, 8920, 10017, 12221, 6732, 5282, 5738, 14976, 15152, 15231, 15235, 8342, 9321, 13943, 10814, 5815, 13075, 15227], -303.962, 9742.32, 781.3718104362488, 140.26392650604248] at 15.361 minutes.\n"
     ]
    },
    {
     "data": {
      "application/vnd.jupyter.widget-view+json": {
       "model_id": "d060a5ccb0de490cb2847614469afe5d",
       "version_major": 2,
       "version_minor": 0
      },
      "text/plain": [
       "Output()"
      ]
     },
     "metadata": {},
     "output_type": "display_data"
    },
    {
     "name": "stdout",
     "output_type": "stream",
     "text": [
      "------------\n",
      "Starting architecture 5 of 108\n",
      "Learning...\n"
     ]
    },
    {
     "data": {
      "text/html": [
       "<pre style=\"white-space:pre;overflow-x:auto;line-height:normal;font-family:Menlo,'DejaVu Sans Mono',consolas,'Courier New',monospace\"></pre>\n"
      ],
      "text/plain": []
     },
     "metadata": {},
     "output_type": "display_data"
    },
    {
     "data": {
      "text/html": [
       "<pre style=\"white-space:pre;overflow-x:auto;line-height:normal;font-family:Menlo,'DejaVu Sans Mono',consolas,'Courier New',monospace\">\n",
       "</pre>\n"
      ],
      "text/plain": [
       "\n"
      ]
     },
     "metadata": {},
     "output_type": "display_data"
    },
    {
     "name": "stdout",
     "output_type": "stream",
     "text": [
      "Learn time: 12.942 minutes\n",
      "Evaluating over 25 episodes...\n",
      "Evaluation time: 2.594 minutes\n",
      "Mean episode reward: -64.56199999999998, Standard deviation: 462.546405023323\n",
      "Mean episode length: 10897.36, Standard deviation: 4291.775528892442\n",
      "finished architecture ['MlpPolicy', 0.0001, 256, 64, 2, 10, 0.9, 0.97, 0.2, [283.198, 55.098, 134.498, -605.702, -752.902, -961.102, -266.002, 212.798, 14.098, -533.702, 77.398, -383.502, 107.198, 266.098, -22.402, -403.702, -106.402, 132.298, -154.502, -411.202, 780.298, -422.102, 983.398, 752.598, -389.802], [6791, 7519, 7810, 8443, 8472, 8789, 9778, 10357, 11229, 11731, 12593, 5265, 5954, 8133, 5586, 16101, 16417, 6573, 17284, 9610, 22001, 10043, 16387, 16520, 13048], -64.56199999999998, 10897.36, 776.5406038761139, 155.62580585479736] at 15.536 minutes.\n"
     ]
    },
    {
     "data": {
      "application/vnd.jupyter.widget-view+json": {
       "model_id": "47b035efb3094e8b80b0f0741b9444e6",
       "version_major": 2,
       "version_minor": 0
      },
      "text/plain": [
       "Output()"
      ]
     },
     "metadata": {},
     "output_type": "display_data"
    },
    {
     "name": "stdout",
     "output_type": "stream",
     "text": [
      "------------\n",
      "Starting architecture 6 of 108\n",
      "Learning...\n"
     ]
    },
    {
     "data": {
      "text/html": [
       "<pre style=\"white-space:pre;overflow-x:auto;line-height:normal;font-family:Menlo,'DejaVu Sans Mono',consolas,'Courier New',monospace\"></pre>\n"
      ],
      "text/plain": []
     },
     "metadata": {},
     "output_type": "display_data"
    },
    {
     "data": {
      "text/html": [
       "<pre style=\"white-space:pre;overflow-x:auto;line-height:normal;font-family:Menlo,'DejaVu Sans Mono',consolas,'Courier New',monospace\">\n",
       "</pre>\n"
      ],
      "text/plain": [
       "\n"
      ]
     },
     "metadata": {},
     "output_type": "display_data"
    },
    {
     "name": "stdout",
     "output_type": "stream",
     "text": [
      "Learn time: 12.980 minutes\n",
      "Evaluating over 25 episodes...\n",
      "Evaluation time: 2.275 minutes\n",
      "Mean episode reward: 101.23400000000001, Standard deviation: 465.9275444787526\n",
      "Mean episode length: 9481.88, Standard deviation: 4151.083765187111\n",
      "finished architecture ['MlpPolicy', 0.0001, 256, 64, 2, 10, 0.9, 0.97, 0.3, [-740.902, -42.802, 503.198, 309.998, 100.998, 261.898, 78.598, -113.402, 658.798, -506.602, 24.698, -712.102, -627.902, 320.498, 299.598, 931.598, 361.898, 320.098, 1084.198, -14.002, 133.498, -243.402, -552.302, 343.898, 350.798], [4778, 6047, 6190, 6313, 6543, 6828, 7776, 8222, 10155, 10342, 11876, 12290, 6073, 8583, 7395, 14916, 7086, 9124, 16043, 10324, 6143, 10482, 12642, 24155, 6721], 101.23400000000001, 9481.88, 778.8140454292297, 136.51403427124023] at 15.255 minutes.\n"
     ]
    },
    {
     "data": {
      "application/vnd.jupyter.widget-view+json": {
       "model_id": "56769da28d89424a82b5a7725a03de24",
       "version_major": 2,
       "version_minor": 0
      },
      "text/plain": [
       "Output()"
      ]
     },
     "metadata": {},
     "output_type": "display_data"
    },
    {
     "name": "stdout",
     "output_type": "stream",
     "text": [
      "------------\n",
      "Starting architecture 7 of 108\n",
      "Learning...\n"
     ]
    },
    {
     "data": {
      "text/html": [
       "<pre style=\"white-space:pre;overflow-x:auto;line-height:normal;font-family:Menlo,'DejaVu Sans Mono',consolas,'Courier New',monospace\"></pre>\n"
      ],
      "text/plain": []
     },
     "metadata": {},
     "output_type": "display_data"
    },
    {
     "data": {
      "text/html": [
       "<pre style=\"white-space:pre;overflow-x:auto;line-height:normal;font-family:Menlo,'DejaVu Sans Mono',consolas,'Courier New',monospace\">\n",
       "</pre>\n"
      ],
      "text/plain": [
       "\n"
      ]
     },
     "metadata": {},
     "output_type": "display_data"
    },
    {
     "name": "stdout",
     "output_type": "stream",
     "text": [
      "Learn time: 12.818 minutes\n",
      "Evaluating over 25 episodes...\n",
      "Evaluation time: 2.801 minutes\n",
      "Mean episode reward: 9.26599999999999, Standard deviation: 496.38244587817564\n",
      "Mean episode length: 11247.4, Standard deviation: 3690.2761522682827\n",
      "finished architecture ['MlpPolicy', 0.0001, 256, 64, 2, 10, 0.9, 0.99, 0.1, [-952.602, 561.298, 250.798, 200.598, 313.298, -436.602, -19.702, 200.598, -369.802, -784.602, 475.498, -404.202, -389.302, -261.402, 332.498, 1067.398, -136.802, -619.702, 414.898, -78.602, 817.898, -424.002, 198.498, -302.702, 578.398], [6014, 8018, 8156, 8936, 9834, 10557, 10955, 11339, 12407, 12444, 12965, 5273, 13526, 14874, 15500, 12049, 7605, 6278, 21421, 6258, 13875, 12034, 12837, 11281, 16749], 9.26599999999999, 11247.4, 769.0595355033875, 168.08736515045166] at 15.619 minutes.\n"
     ]
    },
    {
     "data": {
      "application/vnd.jupyter.widget-view+json": {
       "model_id": "15e0d666c08148f9a100d86ca0602db1",
       "version_major": 2,
       "version_minor": 0
      },
      "text/plain": [
       "Output()"
      ]
     },
     "metadata": {},
     "output_type": "display_data"
    },
    {
     "name": "stdout",
     "output_type": "stream",
     "text": [
      "------------\n",
      "Starting architecture 8 of 108\n",
      "Learning...\n"
     ]
    },
    {
     "data": {
      "text/html": [
       "<pre style=\"white-space:pre;overflow-x:auto;line-height:normal;font-family:Menlo,'DejaVu Sans Mono',consolas,'Courier New',monospace\"></pre>\n"
      ],
      "text/plain": []
     },
     "metadata": {},
     "output_type": "display_data"
    },
    {
     "data": {
      "text/html": [
       "<pre style=\"white-space:pre;overflow-x:auto;line-height:normal;font-family:Menlo,'DejaVu Sans Mono',consolas,'Courier New',monospace\">\n",
       "</pre>\n"
      ],
      "text/plain": [
       "\n"
      ]
     },
     "metadata": {},
     "output_type": "display_data"
    },
    {
     "name": "stdout",
     "output_type": "stream",
     "text": [
      "Learn time: 12.784 minutes\n",
      "Evaluating over 25 episodes...\n",
      "Evaluation time: 3.414 minutes\n",
      "Mean episode reward: 308.354, Standard deviation: 650.5283662254859\n",
      "Mean episode length: 14973.92, Standard deviation: 8872.501608543107\n",
      "finished architecture ['MlpPolicy', 0.0001, 256, 64, 2, 10, 0.9, 0.99, 0.2, [-599.302, -33.102, -243.202, 148.398, 117.298, 556.798, 270.198, -102.402, -260.302, 57.998, -522.602, 168.998, 1450.398, 78.998, -1063.402, 214.598, 329.698, 641.198, 1924.498, 622.698, 847.898, 1476.198, 356.898, 683.998, 586.398], [5685, 7847, 8238, 9844, 10845, 11108, 12123, 12539, 4354, 16525, 17090, 11915, 18702, 8688, 11798, 15510, 10226, 12060, 30947, 34041, 35142, 35383, 9853, 13125, 10760], 308.354, 14973.92, 767.0126178264618, 204.85702395439148] at 16.198 minutes.\n"
     ]
    },
    {
     "data": {
      "application/vnd.jupyter.widget-view+json": {
       "model_id": "e9e1994b927d4adaaf8d0d773bc8d0ec",
       "version_major": 2,
       "version_minor": 0
      },
      "text/plain": [
       "Output()"
      ]
     },
     "metadata": {},
     "output_type": "display_data"
    },
    {
     "name": "stdout",
     "output_type": "stream",
     "text": [
      "------------\n",
      "Starting architecture 9 of 108\n",
      "Learning...\n"
     ]
    },
    {
     "data": {
      "text/html": [
       "<pre style=\"white-space:pre;overflow-x:auto;line-height:normal;font-family:Menlo,'DejaVu Sans Mono',consolas,'Courier New',monospace\"></pre>\n"
      ],
      "text/plain": []
     },
     "metadata": {},
     "output_type": "display_data"
    },
    {
     "data": {
      "text/html": [
       "<pre style=\"white-space:pre;overflow-x:auto;line-height:normal;font-family:Menlo,'DejaVu Sans Mono',consolas,'Courier New',monospace\">\n",
       "</pre>\n"
      ],
      "text/plain": [
       "\n"
      ]
     },
     "metadata": {},
     "output_type": "display_data"
    },
    {
     "name": "stdout",
     "output_type": "stream",
     "text": [
      "Learn time: 12.830 minutes\n",
      "Evaluating over 25 episodes...\n",
      "Evaluation time: 1.133 minutes\n",
      "Mean episode reward: -955.61, Standard deviation: 173.85368312463214\n",
      "Mean episode length: 6410.2, Standard deviation: 712.6497596996718\n",
      "finished architecture ['MlpPolicy', 0.0001, 256, 64, 2, 10, 0.9, 0.99, 0.3, [-868.402, -890.102, -982.902, -931.302, -942.102, -668.002, -1045.202, -512.102, -1064.402, -851.602, -1188.402, -953.602, -991.302, -1174.302, -1075.802, -780.002, -1022.902, -644.002, -1019.002, -1046.402, -1128.202, -792.102, -932.602, -1185.002, -1200.502], [5210, 5647, 5648, 5659, 5710, 6211, 6475, 6586, 6611, 6668, 6762, 6872, 6922, 7211, 7230, 4998, 6360, 5427, 6260, 6389, 6592, 7552, 6419, 6875, 7961], -955.61, 6410.2, 769.8021392822266, 67.99788165092468] at 13.963 minutes.\n"
     ]
    },
    {
     "data": {
      "application/vnd.jupyter.widget-view+json": {
       "model_id": "b6253efdbf4544b0b32cbebc1cf98442",
       "version_major": 2,
       "version_minor": 0
      },
      "text/plain": [
       "Output()"
      ]
     },
     "metadata": {},
     "output_type": "display_data"
    },
    {
     "name": "stdout",
     "output_type": "stream",
     "text": [
      "------------\n",
      "Starting architecture 10 of 108\n",
      "Learning...\n"
     ]
    },
    {
     "data": {
      "text/html": [
       "<pre style=\"white-space:pre;overflow-x:auto;line-height:normal;font-family:Menlo,'DejaVu Sans Mono',consolas,'Courier New',monospace\"></pre>\n"
      ],
      "text/plain": []
     },
     "metadata": {},
     "output_type": "display_data"
    },
    {
     "data": {
      "text/html": [
       "<pre style=\"white-space:pre;overflow-x:auto;line-height:normal;font-family:Menlo,'DejaVu Sans Mono',consolas,'Courier New',monospace\">\n",
       "</pre>\n"
      ],
      "text/plain": [
       "\n"
      ]
     },
     "metadata": {},
     "output_type": "display_data"
    },
    {
     "name": "stdout",
     "output_type": "stream",
     "text": [
      "Learn time: 12.784 minutes\n",
      "Evaluating over 25 episodes...\n",
      "Evaluation time: 3.215 minutes\n",
      "Mean episode reward: -149.54199999999997, Standard deviation: 515.9606256295145\n",
      "Mean episode length: 11215.52, Standard deviation: 6451.113250408801\n",
      "finished architecture ['MlpPolicy', 0.0001, 256, 64, 2, 10, 0.999, 0.95, 0.1, [-230.602, -278.302, -794.202, -7.502, -816.702, -1157.602, -185.602, 459.098, -19.302, 133.998, 247.598, -1167.702, -235.002, 733.398, 523.098, -86.002, -640.602, 62.998, -634.902, -506.802, 97.498, -58.802, 445.298, -324.002, 702.098], [4576, 5191, 5229, 5849, 5965, 6420, 7143, 10537, 10925, 12159, 12495, 13134, 15384, 15868, 11026, 4838, 7472, 8726, 13724, 16528, 7157, 10582, 27352, 10657, 31451], -149.54199999999997, 11215.52, 767.0150697231293, 192.9023745059967] at 15.999 minutes.\n"
     ]
    },
    {
     "data": {
      "application/vnd.jupyter.widget-view+json": {
       "model_id": "d5e6870b4e654430882134cf5d213a69",
       "version_major": 2,
       "version_minor": 0
      },
      "text/plain": [
       "Output()"
      ]
     },
     "metadata": {},
     "output_type": "display_data"
    },
    {
     "name": "stdout",
     "output_type": "stream",
     "text": [
      "------------\n",
      "Starting architecture 11 of 108\n",
      "Learning...\n"
     ]
    },
    {
     "data": {
      "text/html": [
       "<pre style=\"white-space:pre;overflow-x:auto;line-height:normal;font-family:Menlo,'DejaVu Sans Mono',consolas,'Courier New',monospace\"></pre>\n"
      ],
      "text/plain": []
     },
     "metadata": {},
     "output_type": "display_data"
    },
    {
     "data": {
      "text/html": [
       "<pre style=\"white-space:pre;overflow-x:auto;line-height:normal;font-family:Menlo,'DejaVu Sans Mono',consolas,'Courier New',monospace\">\n",
       "</pre>\n"
      ],
      "text/plain": [
       "\n"
      ]
     },
     "metadata": {},
     "output_type": "display_data"
    },
    {
     "name": "stdout",
     "output_type": "stream",
     "text": [
      "Learn time: 12.901 minutes\n",
      "Evaluating over 25 episodes...\n",
      "Evaluation time: 5.304 minutes\n",
      "Mean episode reward: 456.11400000000003, Standard deviation: 620.5190483329259\n",
      "Mean episode length: 16304.04, Standard deviation: 10002.311162846314\n",
      "finished architecture ['MlpPolicy', 0.0001, 256, 64, 2, 10, 0.999, 0.95, 0.2, [-593.202, -99.502, 47.298, 205.398, 583.398, 755.598, 371.298, 365.898, -659.202, 352.498, 342.798, 258.898, 102.198, 252.298, 584.798, 243.098, 53.098, 1046.498, 2149.198, 1876.698, 832.798, 558.598, 1277.498, 146.798, 348.098], [4643, 6560, 6900, 9519, 10109, 11438, 11469, 11619, 12471, 12882, 15730, 12173, 10713, 10872, 7718, 11020, 28351, 17152, 31970, 32373, 28537, 39187, 14695, 11443, 38057], 456.11400000000003, 16304.04, 774.0673942565918, 318.23905205726624] at 18.205 minutes.\n"
     ]
    },
    {
     "data": {
      "application/vnd.jupyter.widget-view+json": {
       "model_id": "a0f50f38ea8941a5a3a69c5c5df6905d",
       "version_major": 2,
       "version_minor": 0
      },
      "text/plain": [
       "Output()"
      ]
     },
     "metadata": {},
     "output_type": "display_data"
    },
    {
     "name": "stdout",
     "output_type": "stream",
     "text": [
      "------------\n",
      "Starting architecture 12 of 108\n",
      "Learning...\n"
     ]
    },
    {
     "data": {
      "text/html": [
       "<pre style=\"white-space:pre;overflow-x:auto;line-height:normal;font-family:Menlo,'DejaVu Sans Mono',consolas,'Courier New',monospace\"></pre>\n"
      ],
      "text/plain": []
     },
     "metadata": {},
     "output_type": "display_data"
    },
    {
     "data": {
      "text/html": [
       "<pre style=\"white-space:pre;overflow-x:auto;line-height:normal;font-family:Menlo,'DejaVu Sans Mono',consolas,'Courier New',monospace\">\n",
       "</pre>\n"
      ],
      "text/plain": [
       "\n"
      ]
     },
     "metadata": {},
     "output_type": "display_data"
    },
    {
     "name": "stdout",
     "output_type": "stream",
     "text": [
      "Learn time: 12.717 minutes\n",
      "Evaluating over 25 episodes...\n",
      "Evaluation time: 1.969 minutes\n",
      "Mean episode reward: -364.126, Standard deviation: 382.72945042679953\n",
      "Mean episode length: 9633.96, Standard deviation: 3402.659001193038\n",
      "finished architecture ['MlpPolicy', 0.0001, 256, 64, 2, 10, 0.999, 0.95, 0.3, [-651.702, -2.202, -994.502, -119.202, -1008.102, 355.398, -476.302, -586.002, -76.902, -524.502, -739.802, -812.002, 123.598, 415.698, -234.302, -30.002, -711.702, -294.202, -47.102, -524.502, -45.902, -268.102, -516.302, -628.602, -705.902], [5795, 5844, 6286, 6356, 6404, 6491, 6937, 7103, 7401, 9140, 10092, 5074, 13067, 13951, 7578, 8895, 15059, 15212, 9933, 8617, 14130, 14553, 9211, 14567, 13153], -364.126, 9633.96, 763.0123062133789, 118.11107969284058] at 14.685 minutes.\n"
     ]
    },
    {
     "data": {
      "application/vnd.jupyter.widget-view+json": {
       "model_id": "16d3435cae2246b6b17441b8c208325e",
       "version_major": 2,
       "version_minor": 0
      },
      "text/plain": [
       "Output()"
      ]
     },
     "metadata": {},
     "output_type": "display_data"
    },
    {
     "name": "stdout",
     "output_type": "stream",
     "text": [
      "------------\n",
      "Starting architecture 13 of 108\n",
      "Learning...\n"
     ]
    },
    {
     "data": {
      "text/html": [
       "<pre style=\"white-space:pre;overflow-x:auto;line-height:normal;font-family:Menlo,'DejaVu Sans Mono',consolas,'Courier New',monospace\"></pre>\n"
      ],
      "text/plain": []
     },
     "metadata": {},
     "output_type": "display_data"
    },
    {
     "data": {
      "text/html": [
       "<pre style=\"white-space:pre;overflow-x:auto;line-height:normal;font-family:Menlo,'DejaVu Sans Mono',consolas,'Courier New',monospace\">\n",
       "</pre>\n"
      ],
      "text/plain": [
       "\n"
      ]
     },
     "metadata": {},
     "output_type": "display_data"
    },
    {
     "name": "stdout",
     "output_type": "stream",
     "text": [
      "Learn time: 12.849 minutes\n",
      "Evaluating over 25 episodes...\n",
      "Evaluation time: 2.048 minutes\n",
      "Mean episode reward: -211.554, Standard deviation: 324.8014878291046\n",
      "Mean episode length: 9747.76, Standard deviation: 2878.1662256374284\n",
      "finished architecture ['MlpPolicy', 0.0001, 256, 64, 2, 10, 0.999, 0.97, 0.1, [-358.802, -218.602, -272.502, 149.298, -506.602, -644.702, 257.398, -190.602, -244.102, -24.202, -168.302, 483.098, -580.002, -43.502, -522.502, -428.002, -553.302, -46.002, -29.902, -872.302, -243.302, -6.402, -377.702, -316.302, 468.998], [4336, 5588, 7771, 8169, 8324, 9190, 9865, 10227, 10235, 11789, 11874, 11893, 12249, 13242, 13679, 4858, 6805, 10315, 4456, 13849, 10512, 8079, 10540, 11880, 13969], -211.554, 9747.76, 770.9101610183716, 122.87697172164917] at 14.896 minutes.\n"
     ]
    },
    {
     "data": {
      "application/vnd.jupyter.widget-view+json": {
       "model_id": "a47f1d8d625c4c77929a6f044b6e8840",
       "version_major": 2,
       "version_minor": 0
      },
      "text/plain": [
       "Output()"
      ]
     },
     "metadata": {},
     "output_type": "display_data"
    },
    {
     "name": "stdout",
     "output_type": "stream",
     "text": [
      "------------\n",
      "Starting architecture 14 of 108\n",
      "Learning...\n"
     ]
    },
    {
     "data": {
      "text/html": [
       "<pre style=\"white-space:pre;overflow-x:auto;line-height:normal;font-family:Menlo,'DejaVu Sans Mono',consolas,'Courier New',monospace\"></pre>\n"
      ],
      "text/plain": []
     },
     "metadata": {},
     "output_type": "display_data"
    },
    {
     "data": {
      "text/html": [
       "<pre style=\"white-space:pre;overflow-x:auto;line-height:normal;font-family:Menlo,'DejaVu Sans Mono',consolas,'Courier New',monospace\">\n",
       "</pre>\n"
      ],
      "text/plain": [
       "\n"
      ]
     },
     "metadata": {},
     "output_type": "display_data"
    },
    {
     "name": "stdout",
     "output_type": "stream",
     "text": [
      "Learn time: 12.415 minutes\n",
      "Evaluating over 25 episodes...\n",
      "Evaluation time: 2.341 minutes\n",
      "Mean episode reward: 21.750000000000018, Standard deviation: 512.0282790002911\n",
      "Mean episode length: 11273.56, Standard deviation: 3151.271426964044\n",
      "finished architecture ['MlpPolicy', 0.0001, 256, 64, 2, 10, 0.999, 0.97, 0.2, [-560.502, -102.502, -60.202, 138.298, -79.002, -768.702, -30.102, 137.498, 400.998, 521.398, -268.102, -295.502, 654.798, 86.898, 449.798, 397.998, -973.602, 131.498, -111.102, 637.598, 916.998, 501.098, -672.302, 505.198, -1014.702], [5583, 6395, 8583, 8837, 9106, 9760, 9767, 10077, 10426, 11249, 5682, 12797, 13382, 13762, 13986, 14399, 6972, 9670, 12096, 15148, 13203, 14529, 14614, 15220, 16596], 21.750000000000018, 11273.56, 744.8922758102417, 140.45182871818542] at 14.756 minutes.\n"
     ]
    },
    {
     "data": {
      "application/vnd.jupyter.widget-view+json": {
       "model_id": "b4c153a819834adda8a5da167874f410",
       "version_major": 2,
       "version_minor": 0
      },
      "text/plain": [
       "Output()"
      ]
     },
     "metadata": {},
     "output_type": "display_data"
    },
    {
     "name": "stdout",
     "output_type": "stream",
     "text": [
      "------------\n",
      "Starting architecture 15 of 108\n",
      "Learning...\n"
     ]
    },
    {
     "data": {
      "text/html": [
       "<pre style=\"white-space:pre;overflow-x:auto;line-height:normal;font-family:Menlo,'DejaVu Sans Mono',consolas,'Courier New',monospace\"></pre>\n"
      ],
      "text/plain": []
     },
     "metadata": {},
     "output_type": "display_data"
    },
    {
     "data": {
      "text/html": [
       "<pre style=\"white-space:pre;overflow-x:auto;line-height:normal;font-family:Menlo,'DejaVu Sans Mono',consolas,'Courier New',monospace\">\n",
       "</pre>\n"
      ],
      "text/plain": [
       "\n"
      ]
     },
     "metadata": {},
     "output_type": "display_data"
    },
    {
     "name": "stdout",
     "output_type": "stream",
     "text": [
      "Learn time: 12.762 minutes\n",
      "Evaluating over 25 episodes...\n",
      "Evaluation time: 4.356 minutes\n",
      "Mean episode reward: 252.85, Standard deviation: 665.0923840309705\n",
      "Mean episode length: 14479.56, Standard deviation: 7811.303077361677\n",
      "finished architecture ['MlpPolicy', 0.0001, 256, 64, 2, 10, 0.999, 0.97, 0.3, [41.998, -94.202, -106.802, -297.102, -381.602, 232.298, 1081.098, 290.598, 511.798, 955.098, -973.402, 431.098, -608.202, -150.302, 509.298, -405.202, 643.798, -297.202, -60.402, -381.402, 17.698, 1054.798, 1429.698, 1337.398, 1540.398], [6983, 7424, 7443, 8877, 9335, 11336, 12727, 12814, 12946, 13138, 5721, 14054, 14141, 15161, 15481, 20356, 10490, 14278, 8753, 16409, 14832, 15079, 23005, 26627, 44579], 252.85, 14479.56, 765.6974833011627, 261.3596851825714] at 17.118 minutes.\n"
     ]
    },
    {
     "data": {
      "application/vnd.jupyter.widget-view+json": {
       "model_id": "9ffc237e65c7453d93eb56a1d1979682",
       "version_major": 2,
       "version_minor": 0
      },
      "text/plain": [
       "Output()"
      ]
     },
     "metadata": {},
     "output_type": "display_data"
    },
    {
     "name": "stdout",
     "output_type": "stream",
     "text": [
      "------------\n",
      "Starting architecture 16 of 108\n",
      "Learning...\n"
     ]
    },
    {
     "data": {
      "text/html": [
       "<pre style=\"white-space:pre;overflow-x:auto;line-height:normal;font-family:Menlo,'DejaVu Sans Mono',consolas,'Courier New',monospace\"></pre>\n"
      ],
      "text/plain": []
     },
     "metadata": {},
     "output_type": "display_data"
    },
    {
     "data": {
      "text/html": [
       "<pre style=\"white-space:pre;overflow-x:auto;line-height:normal;font-family:Menlo,'DejaVu Sans Mono',consolas,'Courier New',monospace\">\n",
       "</pre>\n"
      ],
      "text/plain": [
       "\n"
      ]
     },
     "metadata": {},
     "output_type": "display_data"
    },
    {
     "name": "stdout",
     "output_type": "stream",
     "text": [
      "Learn time: 12.674 minutes\n",
      "Evaluating over 25 episodes...\n",
      "Evaluation time: 2.238 minutes\n",
      "Mean episode reward: -278.274, Standard deviation: 403.81866080705083\n",
      "Mean episode length: 11016.72, Standard deviation: 3566.2676121682175\n",
      "finished architecture ['MlpPolicy', 0.0001, 256, 64, 2, 10, 0.999, 0.99, 0.1, [-865.902, -648.602, -624.102, 58.798, -334.302, -773.402, 150.498, -579.102, 352.998, -102.902, -497.702, 669.598, -239.602, -260.702, -288.902, -467.002, -331.902, -145.502, -1031.602, -432.202, -622.902, 501.698, 0.598, -255.402, -189.302], [4971, 5446, 7293, 7536, 7865, 9033, 10247, 11190, 12263, 13114, 13476, 13582, 7741, 7986, 16910, 9549, 8279, 17323, 17644, 15544, 7883, 12505, 13943, 11808, 12287], -278.274, 11016.72, 760.4275350570679, 134.2734317779541] at 14.912 minutes.\n"
     ]
    },
    {
     "data": {
      "application/vnd.jupyter.widget-view+json": {
       "model_id": "1948c890541449f4aae6aef617bdce8c",
       "version_major": 2,
       "version_minor": 0
      },
      "text/plain": [
       "Output()"
      ]
     },
     "metadata": {},
     "output_type": "display_data"
    },
    {
     "name": "stdout",
     "output_type": "stream",
     "text": [
      "------------\n",
      "Starting architecture 17 of 108\n",
      "Learning...\n"
     ]
    },
    {
     "data": {
      "text/html": [
       "<pre style=\"white-space:pre;overflow-x:auto;line-height:normal;font-family:Menlo,'DejaVu Sans Mono',consolas,'Courier New',monospace\"></pre>\n"
      ],
      "text/plain": []
     },
     "metadata": {},
     "output_type": "display_data"
    },
    {
     "data": {
      "text/html": [
       "<pre style=\"white-space:pre;overflow-x:auto;line-height:normal;font-family:Menlo,'DejaVu Sans Mono',consolas,'Courier New',monospace\">\n",
       "</pre>\n"
      ],
      "text/plain": [
       "\n"
      ]
     },
     "metadata": {},
     "output_type": "display_data"
    },
    {
     "name": "stdout",
     "output_type": "stream",
     "text": [
      "Learn time: 12.592 minutes\n",
      "Evaluating over 25 episodes...\n",
      "Evaluation time: 4.207 minutes\n",
      "Mean episode reward: 88.27399999999997, Standard deviation: 628.8362440445048\n",
      "Mean episode length: 12573.2, Standard deviation: 7793.075634176792\n",
      "finished architecture ['MlpPolicy', 0.0001, 256, 64, 2, 10, 0.999, 0.99, 0.2, [-494.102, -524.402, -184.502, -175.202, -461.602, -226.202, 951.698, 197.498, -87.302, 431.198, 62.698, 82.298, 335.698, -411.202, 197.698, -227.002, -298.002, -99.102, 29.098, 828.498, -814.102, -60.702, 1690.098, -347.702, 1811.498], [6053, 7181, 7545, 8240, 8353, 11289, 12345, 13025, 13352, 7983, 14185, 14757, 14928, 15784, 15950, 5181, 8433, 7513, 15868, 10774, 8848, 10043, 25777, 6910, 44013], 88.27399999999997, 12573.2, 755.4911890029907, 252.40019035339355] at 16.798 minutes.\n"
     ]
    },
    {
     "data": {
      "application/vnd.jupyter.widget-view+json": {
       "model_id": "aef5e427ca8247b3930e46eb2be1a612",
       "version_major": 2,
       "version_minor": 0
      },
      "text/plain": [
       "Output()"
      ]
     },
     "metadata": {},
     "output_type": "display_data"
    },
    {
     "name": "stdout",
     "output_type": "stream",
     "text": [
      "------------\n",
      "Starting architecture 18 of 108\n",
      "Learning...\n"
     ]
    },
    {
     "data": {
      "text/html": [
       "<pre style=\"white-space:pre;overflow-x:auto;line-height:normal;font-family:Menlo,'DejaVu Sans Mono',consolas,'Courier New',monospace\"></pre>\n"
      ],
      "text/plain": []
     },
     "metadata": {},
     "output_type": "display_data"
    },
    {
     "data": {
      "text/html": [
       "<pre style=\"white-space:pre;overflow-x:auto;line-height:normal;font-family:Menlo,'DejaVu Sans Mono',consolas,'Courier New',monospace\">\n",
       "</pre>\n"
      ],
      "text/plain": [
       "\n"
      ]
     },
     "metadata": {},
     "output_type": "display_data"
    },
    {
     "name": "stdout",
     "output_type": "stream",
     "text": [
      "Learn time: 12.658 minutes\n",
      "Evaluating over 25 episodes...\n",
      "Evaluation time: 1.926 minutes\n",
      "Mean episode reward: -43.522, Standard deviation: 303.34651736916317\n",
      "Mean episode length: 11326.92, Standard deviation: 3592.6531579878397\n",
      "finished architecture ['MlpPolicy', 0.0001, 256, 64, 2, 10, 0.999, 0.99, 0.3, [28.398, -161.302, 174.198, 20.798, -26.102, -364.802, 311.098, 194.898, -462.302, -435.002, 258.998, 201.798, -714.802, 387.998, 134.798, 217.398, 544.998, -143.702, -305.702, -5.002, 150.098, -467.202, -228.902, -209.202, -189.502], [6646, 6775, 9033, 9392, 9578, 9803, 10680, 10902, 11341, 11408, 11939, 13442, 13520, 14710, 6496, 7818, 20658, 11262, 9217, 16194, 16262, 14666, 14671, 4570, 12190], -43.522, 11326.92, 759.4512801170349, 115.55219006538391] at 14.583 minutes.\n"
     ]
    },
    {
     "data": {
      "application/vnd.jupyter.widget-view+json": {
       "model_id": "27ee3bf13e684b16a2ac339244f6fa39",
       "version_major": 2,
       "version_minor": 0
      },
      "text/plain": [
       "Output()"
      ]
     },
     "metadata": {},
     "output_type": "display_data"
    },
    {
     "name": "stdout",
     "output_type": "stream",
     "text": [
      "------------\n",
      "Starting architecture 19 of 108\n",
      "Learning...\n"
     ]
    },
    {
     "data": {
      "text/html": [
       "<pre style=\"white-space:pre;overflow-x:auto;line-height:normal;font-family:Menlo,'DejaVu Sans Mono',consolas,'Courier New',monospace\"></pre>\n"
      ],
      "text/plain": []
     },
     "metadata": {},
     "output_type": "display_data"
    },
    {
     "data": {
      "text/html": [
       "<pre style=\"white-space:pre;overflow-x:auto;line-height:normal;font-family:Menlo,'DejaVu Sans Mono',consolas,'Courier New',monospace\">\n",
       "</pre>\n"
      ],
      "text/plain": [
       "\n"
      ]
     },
     "metadata": {},
     "output_type": "display_data"
    },
    {
     "name": "stdout",
     "output_type": "stream",
     "text": [
      "Learn time: 27.091 minutes\n",
      "Evaluating over 25 episodes...\n",
      "Evaluation time: 2.058 minutes\n",
      "Mean episode reward: -271.554, Standard deviation: 429.05823578623915\n",
      "Mean episode length: 8860.2, Standard deviation: 2896.4603639615025\n",
      "finished architecture ['MlpPolicy', 0.0001, 256, 64, 2, 25, 0.9, 0.95, 0.1, [-642.302, -745.702, -733.202, -294.702, -572.002, 5.298, -1078.902, -619.802, 211.398, -646.502, 149.098, -933.902, 169.998, 261.698, -153.302, -442.202, 254.098, -51.302, -435.702, 163.498, -585.702, -583.302, 70.298, 563.598, -119.302], [5142, 5358, 5646, 6634, 6866, 8033, 8688, 9152, 9829, 9837, 10697, 6700, 12885, 13059, 13267, 8221, 7246, 16968, 7237, 8296, 5856, 6946, 6641, 11695, 10606], -271.554, 8860.2, 1625.4613242149353, 123.4962785243988] at 29.149 minutes.\n"
     ]
    },
    {
     "data": {
      "application/vnd.jupyter.widget-view+json": {
       "model_id": "8342255b3add4e5b8b5cdc892c208246",
       "version_major": 2,
       "version_minor": 0
      },
      "text/plain": [
       "Output()"
      ]
     },
     "metadata": {},
     "output_type": "display_data"
    },
    {
     "name": "stdout",
     "output_type": "stream",
     "text": [
      "------------\n",
      "Starting architecture 20 of 108\n",
      "Learning...\n"
     ]
    },
    {
     "data": {
      "text/html": [
       "<pre style=\"white-space:pre;overflow-x:auto;line-height:normal;font-family:Menlo,'DejaVu Sans Mono',consolas,'Courier New',monospace\"></pre>\n"
      ],
      "text/plain": []
     },
     "metadata": {},
     "output_type": "display_data"
    },
    {
     "data": {
      "text/html": [
       "<pre style=\"white-space:pre;overflow-x:auto;line-height:normal;font-family:Menlo,'DejaVu Sans Mono',consolas,'Courier New',monospace\">\n",
       "</pre>\n"
      ],
      "text/plain": [
       "\n"
      ]
     },
     "metadata": {},
     "output_type": "display_data"
    },
    {
     "name": "stdout",
     "output_type": "stream",
     "text": [
      "Learn time: 27.215 minutes\n",
      "Evaluating over 25 episodes...\n",
      "Evaluation time: 2.050 minutes\n",
      "Mean episode reward: -630.806, Standard deviation: 499.5444296396468\n",
      "Mean episode length: 9001.24, Standard deviation: 3031.258804919171\n",
      "finished architecture ['MlpPolicy', 0.0001, 256, 64, 2, 25, 0.9, 0.95, 0.2, [-636.402, -794.402, -1159.902, -1009.902, -674.502, -1091.502, -751.402, -1289.202, -998.302, 81.998, 253.498, -740.502, 75.398, -1063.602, -372.702, -462.602, -222.602, -260.202, -292.302, -334.802, -1068.902, -1370.902, -1273.202, -788.902, 475.698], [4599, 5650, 6442, 6546, 6599, 7085, 7087, 7288, 7655, 7988, 9755, 9846, 10270, 6947, 6035, 13616, 9674, 8636, 9533, 17310, 12912, 10348, 7920, 15447, 9843], -630.806, 9001.24, 1632.890963792801, 122.97459888458252] at 29.264 minutes.\n"
     ]
    },
    {
     "data": {
      "application/vnd.jupyter.widget-view+json": {
       "model_id": "e32a5f228ec641aab220c20a5542846a",
       "version_major": 2,
       "version_minor": 0
      },
      "text/plain": [
       "Output()"
      ]
     },
     "metadata": {},
     "output_type": "display_data"
    },
    {
     "name": "stdout",
     "output_type": "stream",
     "text": [
      "------------\n",
      "Starting architecture 21 of 108\n",
      "Learning...\n"
     ]
    },
    {
     "data": {
      "text/html": [
       "<pre style=\"white-space:pre;overflow-x:auto;line-height:normal;font-family:Menlo,'DejaVu Sans Mono',consolas,'Courier New',monospace\"></pre>\n"
      ],
      "text/plain": []
     },
     "metadata": {},
     "output_type": "display_data"
    },
    {
     "data": {
      "text/html": [
       "<pre style=\"white-space:pre;overflow-x:auto;line-height:normal;font-family:Menlo,'DejaVu Sans Mono',consolas,'Courier New',monospace\">\n",
       "</pre>\n"
      ],
      "text/plain": [
       "\n"
      ]
     },
     "metadata": {},
     "output_type": "display_data"
    },
    {
     "name": "stdout",
     "output_type": "stream",
     "text": [
      "Learn time: 27.376 minutes\n",
      "Evaluating over 25 episodes...\n",
      "Evaluation time: 1.663 minutes\n",
      "Mean episode reward: -1020.614, Standard deviation: 292.26807738102366\n",
      "Mean episode length: 7975.96, Standard deviation: 1827.0846390903732\n",
      "finished architecture ['MlpPolicy', 0.0001, 256, 64, 2, 25, 0.9, 0.95, 0.3, [-578.002, -998.602, -1005.902, -1088.702, -577.902, -1258.902, -1242.602, -959.702, -1133.202, -764.202, -1187.702, -1019.802, -912.202, -894.002, -1481.602, -718.002, -1084.602, -768.202, -1053.202, -1106.402, -1326.002, -1516.902, -1252.102, -1349.202, -237.702], [6147, 6393, 7034, 7146, 7256, 7270, 7575, 7775, 7851, 7877, 7990, 8205, 8228, 8445, 9304, 6004, 6408, 7123, 6927, 7048, 8246, 8451, 8077, 11514, 15105], -1020.614, 7975.96, 1642.5611448287964, 99.76680374145508] at 29.039 minutes.\n"
     ]
    },
    {
     "data": {
      "application/vnd.jupyter.widget-view+json": {
       "model_id": "a8e3dfd26ec64abeacbe7e60f515e577",
       "version_major": 2,
       "version_minor": 0
      },
      "text/plain": [
       "Output()"
      ]
     },
     "metadata": {},
     "output_type": "display_data"
    },
    {
     "name": "stdout",
     "output_type": "stream",
     "text": [
      "------------\n",
      "Starting architecture 22 of 108\n",
      "Learning...\n"
     ]
    },
    {
     "data": {
      "text/html": [
       "<pre style=\"white-space:pre;overflow-x:auto;line-height:normal;font-family:Menlo,'DejaVu Sans Mono',consolas,'Courier New',monospace\"></pre>\n"
      ],
      "text/plain": []
     },
     "metadata": {},
     "output_type": "display_data"
    },
    {
     "data": {
      "text/html": [
       "<pre style=\"white-space:pre;overflow-x:auto;line-height:normal;font-family:Menlo,'DejaVu Sans Mono',consolas,'Courier New',monospace\">\n",
       "</pre>\n"
      ],
      "text/plain": [
       "\n"
      ]
     },
     "metadata": {},
     "output_type": "display_data"
    },
    {
     "name": "stdout",
     "output_type": "stream",
     "text": [
      "Learn time: 27.396 minutes\n",
      "Evaluating over 25 episodes...\n",
      "Evaluation time: 2.867 minutes\n",
      "Mean episode reward: 237.41, Standard deviation: 567.6345805674633\n",
      "Mean episode length: 13717.52, Standard deviation: 5624.768120518392\n",
      "finished architecture ['MlpPolicy', 0.0001, 256, 64, 2, 25, 0.9, 0.97, 0.1, [-611.802, 277.598, 192.298, 195.498, -411.102, 105.798, 367.198, 48.198, 762.898, -367.602, -68.902, -135.602, 528.598, 26.598, -517.902, 342.498, 345.298, 1990.498, 847.098, 169.298, 1495.198, 41.398, -8.402, -61.202, 381.798], [6276, 9865, 9988, 12201, 12652, 13060, 13341, 13842, 13866, 14556, 15962, 16364, 10816, 10237, 4684, 12126, 11084, 25376, 26841, 12797, 27500, 19629, 9416, 9309, 11150], 237.41, 13717.52, 1643.7810957431793, 171.99052023887634] at 30.263 minutes.\n"
     ]
    },
    {
     "data": {
      "application/vnd.jupyter.widget-view+json": {
       "model_id": "e24f287fd6584e9bbf717b61e82cb797",
       "version_major": 2,
       "version_minor": 0
      },
      "text/plain": [
       "Output()"
      ]
     },
     "metadata": {},
     "output_type": "display_data"
    },
    {
     "name": "stdout",
     "output_type": "stream",
     "text": [
      "------------\n",
      "Starting architecture 23 of 108\n",
      "Learning...\n"
     ]
    },
    {
     "data": {
      "text/html": [
       "<pre style=\"white-space:pre;overflow-x:auto;line-height:normal;font-family:Menlo,'DejaVu Sans Mono',consolas,'Courier New',monospace\"></pre>\n"
      ],
      "text/plain": []
     },
     "metadata": {},
     "output_type": "display_data"
    },
    {
     "data": {
      "text/html": [
       "<pre style=\"white-space:pre;overflow-x:auto;line-height:normal;font-family:Menlo,'DejaVu Sans Mono',consolas,'Courier New',monospace\">\n",
       "</pre>\n"
      ],
      "text/plain": [
       "\n"
      ]
     },
     "metadata": {},
     "output_type": "display_data"
    },
    {
     "name": "stdout",
     "output_type": "stream",
     "text": [
      "Learn time: 27.673 minutes\n",
      "Evaluating over 25 episodes...\n",
      "Evaluation time: 2.294 minutes\n",
      "Mean episode reward: -146.99, Standard deviation: 484.19213237722073\n",
      "Mean episode length: 11745.68, Standard deviation: 3225.93187429617\n",
      "finished architecture ['MlpPolicy', 0.0001, 256, 64, 2, 25, 0.9, 0.97, 0.2, [-890.702, -658.302, -406.402, 517.298, -216.902, -323.802, 598.798, -12.002, -241.602, -666.602, -143.602, 257.498, -445.402, -935.402, -152.602, 228.398, 668.998, 63.898, -296.502, -243.002, 850.098, 198.798, -154.402, -1022.902, -248.402], [6818, 7685, 9589, 9698, 10434, 10491, 11017, 11041, 14182, 14206, 14755, 14813, 15227, 8603, 9523, 18298, 18320, 10983, 6915, 11004, 14272, 11091, 8766, 9825, 16086], -146.99, 11745.68, 1660.3572895526886, 137.65948629379272] at 29.967 minutes.\n"
     ]
    },
    {
     "data": {
      "application/vnd.jupyter.widget-view+json": {
       "model_id": "e130cb8c80d44547a1141aa6029cebb5",
       "version_major": 2,
       "version_minor": 0
      },
      "text/plain": [
       "Output()"
      ]
     },
     "metadata": {},
     "output_type": "display_data"
    },
    {
     "name": "stdout",
     "output_type": "stream",
     "text": [
      "------------\n",
      "Starting architecture 24 of 108\n",
      "Learning...\n"
     ]
    },
    {
     "data": {
      "text/html": [
       "<pre style=\"white-space:pre;overflow-x:auto;line-height:normal;font-family:Menlo,'DejaVu Sans Mono',consolas,'Courier New',monospace\"></pre>\n"
      ],
      "text/plain": []
     },
     "metadata": {},
     "output_type": "display_data"
    },
    {
     "data": {
      "text/html": [
       "<pre style=\"white-space:pre;overflow-x:auto;line-height:normal;font-family:Menlo,'DejaVu Sans Mono',consolas,'Courier New',monospace\">\n",
       "</pre>\n"
      ],
      "text/plain": [
       "\n"
      ]
     },
     "metadata": {},
     "output_type": "display_data"
    },
    {
     "name": "stdout",
     "output_type": "stream",
     "text": [
      "Learn time: 27.287 minutes\n",
      "Evaluating over 25 episodes...\n",
      "Evaluation time: 1.288 minutes\n",
      "Mean episode reward: -1098.05, Standard deviation: 218.03240148198157\n",
      "Mean episode length: 7140.48, Standard deviation: 931.9575578319004\n",
      "finished architecture ['MlpPolicy', 0.0001, 256, 64, 2, 25, 0.9, 0.97, 0.3, [-876.702, -1026.402, -935.902, -1006.702, -1126.702, -1109.302, -786.202, -1263.602, -1179.802, -927.702, -1235.402, -1191.702, -1220.902, -1314.202, -527.402, -1224.602, -952.902, -1059.902, -1026.202, -952.002, -1115.102, -1345.502, -1172.602, -1152.702, -1721.102], [5311, 5904, 5948, 6236, 6436, 7046, 7058, 7061, 7276, 7304, 7402, 7431, 7585, 8201, 8808, 7514, 5570, 6426, 7541, 7066, 7130, 7827, 7157, 7758, 9516], -1098.05, 7140.48, 1637.2198696136475, 77.28822708129883] at 28.575 minutes.\n"
     ]
    },
    {
     "data": {
      "application/vnd.jupyter.widget-view+json": {
       "model_id": "ce152b4aea144dd48c4c8f94ff580ca3",
       "version_major": 2,
       "version_minor": 0
      },
      "text/plain": [
       "Output()"
      ]
     },
     "metadata": {},
     "output_type": "display_data"
    },
    {
     "name": "stdout",
     "output_type": "stream",
     "text": [
      "------------\n",
      "Starting architecture 25 of 108\n",
      "Learning...\n"
     ]
    },
    {
     "data": {
      "text/html": [
       "<pre style=\"white-space:pre;overflow-x:auto;line-height:normal;font-family:Menlo,'DejaVu Sans Mono',consolas,'Courier New',monospace\"></pre>\n"
      ],
      "text/plain": []
     },
     "metadata": {},
     "output_type": "display_data"
    },
    {
     "data": {
      "text/html": [
       "<pre style=\"white-space:pre;overflow-x:auto;line-height:normal;font-family:Menlo,'DejaVu Sans Mono',consolas,'Courier New',monospace\">\n",
       "</pre>\n"
      ],
      "text/plain": [
       "\n"
      ]
     },
     "metadata": {},
     "output_type": "display_data"
    },
    {
     "name": "stdout",
     "output_type": "stream",
     "text": [
      "Learn time: 27.138 minutes\n",
      "Evaluating over 25 episodes...\n",
      "Evaluation time: 2.090 minutes\n",
      "Mean episode reward: -44.126, Standard deviation: 663.4395039670159\n",
      "Mean episode length: 10794.6, Standard deviation: 3574.281208858643\n",
      "finished architecture ['MlpPolicy', 0.0001, 256, 64, 2, 25, 0.9, 0.99, 0.1, [-635.802, -400.102, 0.298, -600.702, -274.502, -1156.802, 569.198, 421.598, 353.898, -319.402, -396.702, -126.202, 373.498, 104.998, -508.602, -1246.102, 735.098, 1950.398, 927.898, 370.498, -203.402, -228.502, 2.998, -608.002, -208.702], [4736, 5037, 7534, 8649, 8757, 10089, 10203, 10687, 11448, 11793, 8015, 13251, 13880, 14855, 7237, 16601, 12864, 19689, 13281, 11169, 7719, 9677, 15373, 6291, 11030], -44.126, 10794.6, 1628.2809743881226, 125.3886170387268] at 29.228 minutes.\n"
     ]
    },
    {
     "data": {
      "application/vnd.jupyter.widget-view+json": {
       "model_id": "546b10f091f94ff1bd523358250a1f01",
       "version_major": 2,
       "version_minor": 0
      },
      "text/plain": [
       "Output()"
      ]
     },
     "metadata": {},
     "output_type": "display_data"
    },
    {
     "name": "stdout",
     "output_type": "stream",
     "text": [
      "------------\n",
      "Starting architecture 26 of 108\n",
      "Learning...\n"
     ]
    },
    {
     "data": {
      "text/html": [
       "<pre style=\"white-space:pre;overflow-x:auto;line-height:normal;font-family:Menlo,'DejaVu Sans Mono',consolas,'Courier New',monospace\"></pre>\n"
      ],
      "text/plain": []
     },
     "metadata": {},
     "output_type": "display_data"
    },
    {
     "data": {
      "text/html": [
       "<pre style=\"white-space:pre;overflow-x:auto;line-height:normal;font-family:Menlo,'DejaVu Sans Mono',consolas,'Courier New',monospace\">\n",
       "</pre>\n"
      ],
      "text/plain": [
       "\n"
      ]
     },
     "metadata": {},
     "output_type": "display_data"
    },
    {
     "name": "stdout",
     "output_type": "stream",
     "text": [
      "Learn time: 27.504 minutes\n",
      "Evaluating over 25 episodes...\n",
      "Evaluation time: 4.753 minutes\n",
      "Mean episode reward: 157.64600000000002, Standard deviation: 623.3569469381086\n",
      "Mean episode length: 12553.28, Standard deviation: 6927.213809433054\n",
      "finished architecture ['MlpPolicy', 0.0001, 256, 64, 2, 25, 0.9, 0.99, 0.2, [-41.502, -889.202, 666.898, 195.598, -418.202, -174.802, -427.602, -526.702, 989.298, -731.102, 954.798, -54.402, 599.798, 289.998, -657.802, 398.998, -114.002, -218.602, 45.598, 731.398, 1181.798, 427.198, -278.202, 1584.498, 407.398], [6355, 6607, 7381, 8933, 9904, 10979, 11059, 4771, 11250, 12556, 13013, 13571, 14604, 14656, 15321, 5545, 7670, 6201, 11800, 12581, 17133, 10471, 19036, 38852, 23583], 157.64600000000002, 12553.28, 1650.2176353931427, 285.20450592041016] at 32.257 minutes.\n"
     ]
    },
    {
     "data": {
      "application/vnd.jupyter.widget-view+json": {
       "model_id": "a20044688a42479883e6c66057321b9f",
       "version_major": 2,
       "version_minor": 0
      },
      "text/plain": [
       "Output()"
      ]
     },
     "metadata": {},
     "output_type": "display_data"
    },
    {
     "name": "stdout",
     "output_type": "stream",
     "text": [
      "------------\n",
      "Starting architecture 27 of 108\n",
      "Learning...\n"
     ]
    },
    {
     "data": {
      "text/html": [
       "<pre style=\"white-space:pre;overflow-x:auto;line-height:normal;font-family:Menlo,'DejaVu Sans Mono',consolas,'Courier New',monospace\"></pre>\n"
      ],
      "text/plain": []
     },
     "metadata": {},
     "output_type": "display_data"
    },
    {
     "data": {
      "text/html": [
       "<pre style=\"white-space:pre;overflow-x:auto;line-height:normal;font-family:Menlo,'DejaVu Sans Mono',consolas,'Courier New',monospace\">\n",
       "</pre>\n"
      ],
      "text/plain": [
       "\n"
      ]
     },
     "metadata": {},
     "output_type": "display_data"
    },
    {
     "name": "stdout",
     "output_type": "stream",
     "text": [
      "Learn time: 27.590 minutes\n",
      "Evaluating over 25 episodes...\n",
      "Evaluation time: 3.894 minutes\n",
      "Mean episode reward: -22.28199999999999, Standard deviation: 647.0888149241957\n",
      "Mean episode length: 10550.52, Standard deviation: 7418.188447970299\n",
      "finished architecture ['MlpPolicy', 0.0001, 256, 64, 2, 25, 0.9, 0.99, 0.3, [-560.302, -263.802, -848.102, -102.902, -579.102, 69.598, -8.402, -269.702, -384.102, -64.702, -80.402, -244.702, -397.302, -391.902, 492.598, -925.602, -266.402, -705.702, -26.202, -135.602, 725.998, 230.398, 1484.398, 1748.898, 945.998], [4178, 4959, 4964, 5093, 5370, 6461, 7484, 8389, 5175, 9463, 5269, 10995, 4240, 11800, 12595, 8703, 6289, 4646, 4786, 18183, 14039, 20265, 22024, 29039, 29354], -22.28199999999999, 10550.52, 1655.4299120903015, 233.66026306152344] at 31.485 minutes.\n"
     ]
    },
    {
     "data": {
      "application/vnd.jupyter.widget-view+json": {
       "model_id": "75cfb3b21d5b4552881ab1a159f08412",
       "version_major": 2,
       "version_minor": 0
      },
      "text/plain": [
       "Output()"
      ]
     },
     "metadata": {},
     "output_type": "display_data"
    },
    {
     "name": "stdout",
     "output_type": "stream",
     "text": [
      "------------\n",
      "Starting architecture 28 of 108\n",
      "Learning...\n"
     ]
    },
    {
     "data": {
      "text/html": [
       "<pre style=\"white-space:pre;overflow-x:auto;line-height:normal;font-family:Menlo,'DejaVu Sans Mono',consolas,'Courier New',monospace\"></pre>\n"
      ],
      "text/plain": []
     },
     "metadata": {},
     "output_type": "display_data"
    },
    {
     "data": {
      "text/html": [
       "<pre style=\"white-space:pre;overflow-x:auto;line-height:normal;font-family:Menlo,'DejaVu Sans Mono',consolas,'Courier New',monospace\">\n",
       "</pre>\n"
      ],
      "text/plain": [
       "\n"
      ]
     },
     "metadata": {},
     "output_type": "display_data"
    },
    {
     "name": "stdout",
     "output_type": "stream",
     "text": [
      "Learn time: 27.322 minutes\n",
      "Evaluating over 25 episodes...\n",
      "Evaluation time: 2.035 minutes\n",
      "Mean episode reward: -200.43000000000004, Standard deviation: 560.4349800074938\n",
      "Mean episode length: 10426.12, Standard deviation: 3302.873625435887\n",
      "finished architecture ['MlpPolicy', 0.0001, 256, 64, 2, 25, 0.999, 0.95, 0.1, [-557.302, -859.502, -359.202, -648.002, -1082.702, -467.302, -20.302, 304.398, -33.602, -1403.802, 12.398, -870.302, -720.302, 814.298, 120.998, -131.302, 308.398, 637.298, 173.298, -245.902, -703.702, 736.698, -177.202, -199.402, 361.298], [5279, 6134, 6519, 7128, 7691, 7788, 9551, 10748, 10793, 10869, 5794, 13229, 13294, 14128, 14635, 16616, 8390, 12040, 7015, 13059, 8226, 12870, 9350, 13337, 16170], -200.43000000000004, 10426.12, 1639.3448371887207, 122.11642575263977] at 29.358 minutes.\n"
     ]
    },
    {
     "data": {
      "application/vnd.jupyter.widget-view+json": {
       "model_id": "4995dbb76735424aa910dfab343f72a3",
       "version_major": 2,
       "version_minor": 0
      },
      "text/plain": [
       "Output()"
      ]
     },
     "metadata": {},
     "output_type": "display_data"
    },
    {
     "name": "stdout",
     "output_type": "stream",
     "text": [
      "------------\n",
      "Starting architecture 29 of 108\n",
      "Learning...\n"
     ]
    },
    {
     "data": {
      "text/html": [
       "<pre style=\"white-space:pre;overflow-x:auto;line-height:normal;font-family:Menlo,'DejaVu Sans Mono',consolas,'Courier New',monospace\"></pre>\n"
      ],
      "text/plain": []
     },
     "metadata": {},
     "output_type": "display_data"
    },
    {
     "data": {
      "text/html": [
       "<pre style=\"white-space:pre;overflow-x:auto;line-height:normal;font-family:Menlo,'DejaVu Sans Mono',consolas,'Courier New',monospace\">\n",
       "</pre>\n"
      ],
      "text/plain": [
       "\n"
      ]
     },
     "metadata": {},
     "output_type": "display_data"
    },
    {
     "name": "stdout",
     "output_type": "stream",
     "text": [
      "Learn time: 27.374 minutes\n",
      "Evaluating over 25 episodes...\n",
      "Evaluation time: 2.383 minutes\n",
      "Mean episode reward: -238.93400000000003, Standard deviation: 544.5456401221114\n",
      "Mean episode length: 10030.8, Standard deviation: 4370.995227634091\n",
      "finished architecture ['MlpPolicy', 0.0001, 256, 64, 2, 25, 0.999, 0.95, 0.2, [-649.802, -379.802, -583.002, -81.102, -332.902, 344.598, 175.098, -246.102, -1207.902, -512.202, -795.302, -460.502, 42.698, -52.702, 182.298, -1095.402, 1019.198, -694.902, -62.402, -794.302, -1002.802, 429.298, -120.802, 325.798, 579.598], [5311, 5929, 6243, 7448, 7609, 8493, 9818, 9850, 10212, 11530, 5718, 11976, 12146, 9179, 14682, 14741, 14875, 5536, 7565, 4620, 11277, 10452, 6418, 14108, 25034], -238.93400000000003, 10030.8, 1642.4115951061249, 142.98590779304504] at 29.757 minutes.\n"
     ]
    },
    {
     "data": {
      "application/vnd.jupyter.widget-view+json": {
       "model_id": "d41603e563db4f1a98ce85bc9a28f1bc",
       "version_major": 2,
       "version_minor": 0
      },
      "text/plain": [
       "Output()"
      ]
     },
     "metadata": {},
     "output_type": "display_data"
    },
    {
     "name": "stdout",
     "output_type": "stream",
     "text": [
      "------------\n",
      "Starting architecture 30 of 108\n",
      "Learning...\n"
     ]
    },
    {
     "data": {
      "text/html": [
       "<pre style=\"white-space:pre;overflow-x:auto;line-height:normal;font-family:Menlo,'DejaVu Sans Mono',consolas,'Courier New',monospace\"></pre>\n"
      ],
      "text/plain": []
     },
     "metadata": {},
     "output_type": "display_data"
    },
    {
     "data": {
      "text/html": [
       "<pre style=\"white-space:pre;overflow-x:auto;line-height:normal;font-family:Menlo,'DejaVu Sans Mono',consolas,'Courier New',monospace\">\n",
       "</pre>\n"
      ],
      "text/plain": [
       "\n"
      ]
     },
     "metadata": {},
     "output_type": "display_data"
    },
    {
     "name": "stdout",
     "output_type": "stream",
     "text": [
      "Learn time: 27.335 minutes\n",
      "Evaluating over 25 episodes...\n",
      "Evaluation time: 1.531 minutes\n",
      "Mean episode reward: -261.85, Standard deviation: 405.382646022249\n",
      "Mean episode length: 8713.36, Standard deviation: 2882.1316400192413\n",
      "finished architecture ['MlpPolicy', 0.0001, 256, 64, 2, 25, 0.999, 0.95, 0.3, [-733.502, -701.902, -307.902, -338.602, -308.202, -236.102, -418.302, -318.202, 221.898, -550.102, -157.602, -264.902, -895.102, 334.198, -915.902, 532.398, -436.002, -314.402, -453.502, -481.002, 385.698, 387.598, -407.702, 399.098, -568.202], [5118, 6411, 6653, 7838, 7852, 8727, 9051, 9228, 10542, 11449, 11535, 4725, 12782, 13109, 13374, 7390, 5886, 14690, 6093, 4795, 9542, 11051, 4950, 7816, 7227], -261.85, 8713.36, 1640.081579208374, 91.84739565849304] at 28.865 minutes.\n"
     ]
    },
    {
     "data": {
      "application/vnd.jupyter.widget-view+json": {
       "model_id": "7e5d60cf15f9437db1e991563a5a3530",
       "version_major": 2,
       "version_minor": 0
      },
      "text/plain": [
       "Output()"
      ]
     },
     "metadata": {},
     "output_type": "display_data"
    },
    {
     "name": "stdout",
     "output_type": "stream",
     "text": [
      "------------\n",
      "Starting architecture 31 of 108\n",
      "Learning...\n"
     ]
    },
    {
     "data": {
      "text/html": [
       "<pre style=\"white-space:pre;overflow-x:auto;line-height:normal;font-family:Menlo,'DejaVu Sans Mono',consolas,'Courier New',monospace\"></pre>\n"
      ],
      "text/plain": []
     },
     "metadata": {},
     "output_type": "display_data"
    },
    {
     "data": {
      "text/html": [
       "<pre style=\"white-space:pre;overflow-x:auto;line-height:normal;font-family:Menlo,'DejaVu Sans Mono',consolas,'Courier New',monospace\">\n",
       "</pre>\n"
      ],
      "text/plain": [
       "\n"
      ]
     },
     "metadata": {},
     "output_type": "display_data"
    },
    {
     "name": "stdout",
     "output_type": "stream",
     "text": [
      "Learn time: 27.681 minutes\n",
      "Evaluating over 25 episodes...\n",
      "Evaluation time: 3.327 minutes\n",
      "Mean episode reward: -5.097999999999993, Standard deviation: 483.23370120884573\n",
      "Mean episode length: 12984.48, Standard deviation: 6756.886828236803\n",
      "finished architecture ['MlpPolicy', 0.0001, 256, 64, 2, 25, 0.999, 0.97, 0.1, [-937.902, -346.802, -20.802, -326.402, 303.098, -447.002, 168.998, -169.602, 61.998, 109.898, 103.398, -364.302, -79.302, -55.402, 1341.498, -1018.102, -198.802, -162.002, 728.498, -292.902, 124.798, 486.398, 222.298, 13.498, 627.498], [5239, 6263, 7979, 8489, 8838, 9000, 5384, 11721, 12660, 12761, 15055, 6060, 15242, 16186, 16703, 6089, 4121, 13958, 25796, 13905, 29116, 14816, 15584, 28835, 14812], -5.097999999999993, 12984.48, 1660.8873755931854, 199.6028118133545] at 31.008 minutes.\n"
     ]
    },
    {
     "data": {
      "application/vnd.jupyter.widget-view+json": {
       "model_id": "0b4e8786474c4b1ea9abcbb66743989e",
       "version_major": 2,
       "version_minor": 0
      },
      "text/plain": [
       "Output()"
      ]
     },
     "metadata": {},
     "output_type": "display_data"
    },
    {
     "name": "stdout",
     "output_type": "stream",
     "text": [
      "------------\n",
      "Starting architecture 32 of 108\n",
      "Learning...\n"
     ]
    },
    {
     "data": {
      "text/html": [
       "<pre style=\"white-space:pre;overflow-x:auto;line-height:normal;font-family:Menlo,'DejaVu Sans Mono',consolas,'Courier New',monospace\"></pre>\n"
      ],
      "text/plain": []
     },
     "metadata": {},
     "output_type": "display_data"
    },
    {
     "data": {
      "text/html": [
       "<pre style=\"white-space:pre;overflow-x:auto;line-height:normal;font-family:Menlo,'DejaVu Sans Mono',consolas,'Courier New',monospace\">\n",
       "</pre>\n"
      ],
      "text/plain": [
       "\n"
      ]
     },
     "metadata": {},
     "output_type": "display_data"
    },
    {
     "name": "stdout",
     "output_type": "stream",
     "text": [
      "Learn time: 27.578 minutes\n",
      "Evaluating over 25 episodes...\n",
      "Evaluation time: 3.360 minutes\n",
      "Mean episode reward: 144.24200000000002, Standard deviation: 708.1186104488429\n",
      "Mean episode length: 11559.76, Standard deviation: 5741.3656304402\n",
      "finished architecture ['MlpPolicy', 0.0001, 256, 64, 2, 25, 0.999, 0.97, 0.2, [-162.302, -789.102, -435.902, -715.002, -664.202, 285.998, 801.098, 359.398, 1099.698, 575.798, -323.902, 96.198, -77.402, -592.102, -80.002, -798.702, 264.798, 1376.698, 743.398, 317.598, 2109.898, 664.398, -490.302, 56.298, -16.302], [6027, 7386, 8433, 8820, 9067, 9306, 9350, 11705, 11786, 12876, 8046, 14277, 14324, 5349, 6035, 5390, 10566, 19092, 12507, 11123, 22641, 11900, 8923, 31988, 12077], 144.24200000000002, 11559.76, 1654.6941485404968, 201.62336134910583] at 30.939 minutes.\n"
     ]
    },
    {
     "data": {
      "application/vnd.jupyter.widget-view+json": {
       "model_id": "2a5dea5da5d64c2ea4c80d31a6029786",
       "version_major": 2,
       "version_minor": 0
      },
      "text/plain": [
       "Output()"
      ]
     },
     "metadata": {},
     "output_type": "display_data"
    },
    {
     "name": "stdout",
     "output_type": "stream",
     "text": [
      "------------\n",
      "Starting architecture 33 of 108\n",
      "Learning...\n"
     ]
    },
    {
     "data": {
      "text/html": [
       "<pre style=\"white-space:pre;overflow-x:auto;line-height:normal;font-family:Menlo,'DejaVu Sans Mono',consolas,'Courier New',monospace\"></pre>\n"
      ],
      "text/plain": []
     },
     "metadata": {},
     "output_type": "display_data"
    },
    {
     "data": {
      "text/html": [
       "<pre style=\"white-space:pre;overflow-x:auto;line-height:normal;font-family:Menlo,'DejaVu Sans Mono',consolas,'Courier New',monospace\">\n",
       "</pre>\n"
      ],
      "text/plain": [
       "\n"
      ]
     },
     "metadata": {},
     "output_type": "display_data"
    },
    {
     "name": "stdout",
     "output_type": "stream",
     "text": [
      "Learn time: 27.674 minutes\n",
      "Evaluating over 25 episodes...\n",
      "Evaluation time: 2.173 minutes\n",
      "Mean episode reward: 9.326000000000008, Standard deviation: 378.89902139752223\n",
      "Mean episode length: 10873.2, Standard deviation: 2406.677244667427\n",
      "finished architecture ['MlpPolicy', 0.0001, 256, 64, 2, 25, 0.999, 0.97, 0.3, [-306.602, 85.198, 192.598, 92.298, 261.698, 315.898, 35.698, -120.702, 146.298, 236.298, -569.602, 920.198, 421.698, 1.598, -103.102, -272.002, -421.202, 965.598, 96.498, -174.902, -234.602, -235.802, -583.802, -171.302, -344.802], [6268, 6432, 8518, 8730, 10261, 10308, 11686, 12200, 12389, 12449, 12505, 12807, 13685, 13892, 15009, 7385, 7894, 10214, 11473, 9987, 10252, 9011, 11394, 12069, 15012], 9.326000000000008, 10873.2, 1660.428310394287, 130.35154008865356] at 29.846 minutes.\n"
     ]
    },
    {
     "data": {
      "application/vnd.jupyter.widget-view+json": {
       "model_id": "11cbe09f1546485f8be73d1a7c360e3e",
       "version_major": 2,
       "version_minor": 0
      },
      "text/plain": [
       "Output()"
      ]
     },
     "metadata": {},
     "output_type": "display_data"
    },
    {
     "name": "stdout",
     "output_type": "stream",
     "text": [
      "------------\n",
      "Starting architecture 34 of 108\n",
      "Learning...\n"
     ]
    },
    {
     "data": {
      "text/html": [
       "<pre style=\"white-space:pre;overflow-x:auto;line-height:normal;font-family:Menlo,'DejaVu Sans Mono',consolas,'Courier New',monospace\"></pre>\n"
      ],
      "text/plain": []
     },
     "metadata": {},
     "output_type": "display_data"
    },
    {
     "data": {
      "text/html": [
       "<pre style=\"white-space:pre;overflow-x:auto;line-height:normal;font-family:Menlo,'DejaVu Sans Mono',consolas,'Courier New',monospace\">\n",
       "</pre>\n"
      ],
      "text/plain": [
       "\n"
      ]
     },
     "metadata": {},
     "output_type": "display_data"
    },
    {
     "name": "stdout",
     "output_type": "stream",
     "text": [
      "Learn time: 27.608 minutes\n",
      "Evaluating over 25 episodes...\n",
      "Evaluation time: 4.192 minutes\n",
      "Mean episode reward: 98.47800000000002, Standard deviation: 717.4072255002734\n",
      "Mean episode length: 14217.12, Standard deviation: 10296.67137407036\n",
      "finished architecture ['MlpPolicy', 0.0001, 256, 64, 2, 25, 0.999, 0.99, 0.1, [-750.702, -603.202, -782.902, -659.602, 245.898, -95.502, 587.998, -14.002, 896.698, -277.202, 380.198, -292.602, -58.302, -380.202, -533.102, -574.602, 699.598, -501.702, 342.898, -650.902, 138.898, 1631.298, 821.498, 1561.698, 1329.798], [4941, 5474, 5842, 6629, 7116, 7312, 8856, 10161, 10312, 10478, 11493, 12923, 12976, 10238, 9942, 15628, 15962, 9440, 8280, 14426, 9902, 35082, 33496, 39356, 39163], 98.47800000000002, 14217.12, 1656.4716250896454, 251.49247860908508] at 31.799 minutes.\n"
     ]
    },
    {
     "data": {
      "application/vnd.jupyter.widget-view+json": {
       "model_id": "ff076b14ff054b0c9565bf809716db09",
       "version_major": 2,
       "version_minor": 0
      },
      "text/plain": [
       "Output()"
      ]
     },
     "metadata": {},
     "output_type": "display_data"
    },
    {
     "name": "stdout",
     "output_type": "stream",
     "text": [
      "------------\n",
      "Starting architecture 35 of 108\n",
      "Learning...\n"
     ]
    },
    {
     "data": {
      "text/html": [
       "<pre style=\"white-space:pre;overflow-x:auto;line-height:normal;font-family:Menlo,'DejaVu Sans Mono',consolas,'Courier New',monospace\"></pre>\n"
      ],
      "text/plain": []
     },
     "metadata": {},
     "output_type": "display_data"
    },
    {
     "data": {
      "text/html": [
       "<pre style=\"white-space:pre;overflow-x:auto;line-height:normal;font-family:Menlo,'DejaVu Sans Mono',consolas,'Courier New',monospace\">\n",
       "</pre>\n"
      ],
      "text/plain": [
       "\n"
      ]
     },
     "metadata": {},
     "output_type": "display_data"
    },
    {
     "name": "stdout",
     "output_type": "stream",
     "text": [
      "Learn time: 27.579 minutes\n",
      "Evaluating over 25 episodes...\n",
      "Evaluation time: 2.426 minutes\n",
      "Mean episode reward: 6.542000000000007, Standard deviation: 441.89550989345884\n",
      "Mean episode length: 10306.84, Standard deviation: 4132.663689970429\n",
      "finished architecture ['MlpPolicy', 0.0001, 256, 64, 2, 25, 0.999, 0.99, 0.2, [-432.202, -779.502, 176.498, -198.402, -429.902, 306.398, 603.298, -1019.102, 217.698, 22.298, -265.402, 97.898, -8.902, 509.898, -10.202, -354.402, 486.698, 548.698, 412.798, 537.598, -282.602, -131.802, 127.998, -582.402, 610.598], [5299, 6063, 6589, 6636, 7118, 7503, 8071, 8502, 9404, 10365, 5425, 12344, 12577, 12820, 13444, 13499, 8283, 9748, 9313, 10932, 7564, 12348, 10836, 20510, 22478], 6.542000000000007, 10306.84, 1654.7155225276947, 145.56651520729065] at 30.005 minutes.\n"
     ]
    },
    {
     "data": {
      "application/vnd.jupyter.widget-view+json": {
       "model_id": "ce18c6d15bf14e00829c205fa98707b2",
       "version_major": 2,
       "version_minor": 0
      },
      "text/plain": [
       "Output()"
      ]
     },
     "metadata": {},
     "output_type": "display_data"
    },
    {
     "name": "stdout",
     "output_type": "stream",
     "text": [
      "------------\n",
      "Starting architecture 36 of 108\n",
      "Learning...\n"
     ]
    },
    {
     "data": {
      "text/html": [
       "<pre style=\"white-space:pre;overflow-x:auto;line-height:normal;font-family:Menlo,'DejaVu Sans Mono',consolas,'Courier New',monospace\"></pre>\n"
      ],
      "text/plain": []
     },
     "metadata": {},
     "output_type": "display_data"
    },
    {
     "data": {
      "text/html": [
       "<pre style=\"white-space:pre;overflow-x:auto;line-height:normal;font-family:Menlo,'DejaVu Sans Mono',consolas,'Courier New',monospace\">\n",
       "</pre>\n"
      ],
      "text/plain": [
       "\n"
      ]
     },
     "metadata": {},
     "output_type": "display_data"
    },
    {
     "name": "stdout",
     "output_type": "stream",
     "text": [
      "Learn time: 27.378 minutes\n",
      "Evaluating over 25 episodes...\n",
      "Evaluation time: 4.702 minutes\n",
      "Mean episode reward: 37.10199999999999, Standard deviation: 552.5431121496313\n",
      "Mean episode length: 12860.96, Standard deviation: 8059.6170453936575\n",
      "finished architecture ['MlpPolicy', 0.0001, 256, 64, 2, 25, 0.999, 0.99, 0.3, [-593.402, 306.498, 537.598, -289.702, 235.898, -313.902, -717.302, -293.402, 799.698, 7.298, -374.602, -427.202, 17.798, 142.198, 216.898, -32.102, 486.298, 351.498, -524.202, -502.902, 1425.598, -763.402, -255.702, 1183.798, 304.298], [5282, 5811, 8406, 8414, 8909, 10600, 10991, 11763, 12140, 13348, 5084, 14099, 14815, 16052, 9215, 7204, 14478, 14458, 5550, 11647, 26093, 10745, 14551, 45663, 16206], 37.10199999999999, 12860.96, 1642.7061660289764, 282.099999666214] at 32.080 minutes.\n"
     ]
    },
    {
     "data": {
      "application/vnd.jupyter.widget-view+json": {
       "model_id": "ab0a7a06268b49e5b3ba6a43245f75d7",
       "version_major": 2,
       "version_minor": 0
      },
      "text/plain": [
       "Output()"
      ]
     },
     "metadata": {},
     "output_type": "display_data"
    },
    {
     "name": "stdout",
     "output_type": "stream",
     "text": [
      "------------\n",
      "Starting architecture 37 of 108\n",
      "Learning...\n"
     ]
    },
    {
     "data": {
      "text/html": [
       "<pre style=\"white-space:pre;overflow-x:auto;line-height:normal;font-family:Menlo,'DejaVu Sans Mono',consolas,'Courier New',monospace\"></pre>\n"
      ],
      "text/plain": []
     },
     "metadata": {},
     "output_type": "display_data"
    },
    {
     "data": {
      "text/html": [
       "<pre style=\"white-space:pre;overflow-x:auto;line-height:normal;font-family:Menlo,'DejaVu Sans Mono',consolas,'Courier New',monospace\">\n",
       "</pre>\n"
      ],
      "text/plain": [
       "\n"
      ]
     },
     "metadata": {},
     "output_type": "display_data"
    },
    {
     "name": "stdout",
     "output_type": "stream",
     "text": [
      "Learn time: 75.756 minutes\n",
      "Evaluating over 25 episodes...\n",
      "Evaluation time: 3.616 minutes\n",
      "Mean episode reward: -49.88199999999998, Standard deviation: 577.5259633990493\n",
      "Mean episode length: 11605.76, Standard deviation: 6503.61766576111\n",
      "finished architecture ['MlpPolicy', 0.0001, 256, 64, 2, 75, 0.9, 0.95, 0.1, [-991.102, -917.302, 318.698, -168.802, -339.002, -22.902, -478.002, 25.698, -90.302, -1330.802, 1199.298, 439.398, -474.002, 868.298, 272.498, -505.402, 257.798, 197.198, 140.998, -212.802, -186.202, 394.898, 905.498, -116.202, -434.502], [6125, 6581, 6945, 7654, 7810, 8577, 9523, 9833, 9945, 10917, 11725, 13508, 5975, 15255, 8451, 11420, 11407, 9457, 9906, 6576, 14441, 11649, 29114, 34471, 12879], -49.88199999999998, 11605.76, 4545.339517116547, 216.98506951332092] at 79.372 minutes.\n"
     ]
    },
    {
     "data": {
      "application/vnd.jupyter.widget-view+json": {
       "model_id": "941a7f52d2404552becfd92d1869b2fd",
       "version_major": 2,
       "version_minor": 0
      },
      "text/plain": [
       "Output()"
      ]
     },
     "metadata": {},
     "output_type": "display_data"
    },
    {
     "name": "stdout",
     "output_type": "stream",
     "text": [
      "------------\n",
      "Starting architecture 38 of 108\n",
      "Learning...\n"
     ]
    },
    {
     "data": {
      "text/html": [
       "<pre style=\"white-space:pre;overflow-x:auto;line-height:normal;font-family:Menlo,'DejaVu Sans Mono',consolas,'Courier New',monospace\"></pre>\n"
      ],
      "text/plain": []
     },
     "metadata": {},
     "output_type": "display_data"
    },
    {
     "data": {
      "text/html": [
       "<pre style=\"white-space:pre;overflow-x:auto;line-height:normal;font-family:Menlo,'DejaVu Sans Mono',consolas,'Courier New',monospace\">\n",
       "</pre>\n"
      ],
      "text/plain": [
       "\n"
      ]
     },
     "metadata": {},
     "output_type": "display_data"
    },
    {
     "name": "stdout",
     "output_type": "stream",
     "text": [
      "Learn time: 74.724 minutes\n",
      "Evaluating over 25 episodes...\n",
      "Evaluation time: 2.183 minutes\n",
      "Mean episode reward: -141.76600000000002, Standard deviation: 483.41352143273775\n",
      "Mean episode length: 10235.16, Standard deviation: 4859.095715706781\n",
      "finished architecture ['MlpPolicy', 0.0001, 256, 64, 2, 75, 0.9, 0.95, 0.2, [-201.102, -780.902, -85.202, -1205.602, -115.102, -485.002, -175.002, -189.902, 833.498, -45.402, -96.802, -446.602, -119.902, 84.398, -149.702, -58.402, -856.002, 626.798, -249.702, -503.302, -1.802, -316.402, -407.602, 327.998, 1072.598], [4821, 5728, 6366, 6637, 7874, 8671, 10228, 10701, 10810, 11238, 11376, 11871, 5237, 7085, 13504, 8327, 14070, 10750, 6238, 6288, 10064, 11390, 11642, 15406, 29557], -141.76600000000002, 10235.16, 4483.44208574295, 131.00000882148743] at 76.907 minutes.\n"
     ]
    },
    {
     "data": {
      "application/vnd.jupyter.widget-view+json": {
       "model_id": "52e46a3c76eb43b4a0cb9009b236b1fd",
       "version_major": 2,
       "version_minor": 0
      },
      "text/plain": [
       "Output()"
      ]
     },
     "metadata": {},
     "output_type": "display_data"
    },
    {
     "name": "stdout",
     "output_type": "stream",
     "text": [
      "------------\n",
      "Starting architecture 39 of 108\n",
      "Learning...\n"
     ]
    },
    {
     "data": {
      "text/html": [
       "<pre style=\"white-space:pre;overflow-x:auto;line-height:normal;font-family:Menlo,'DejaVu Sans Mono',consolas,'Courier New',monospace\"></pre>\n"
      ],
      "text/plain": []
     },
     "metadata": {},
     "output_type": "display_data"
    },
    {
     "data": {
      "text/html": [
       "<pre style=\"white-space:pre;overflow-x:auto;line-height:normal;font-family:Menlo,'DejaVu Sans Mono',consolas,'Courier New',monospace\">\n",
       "</pre>\n"
      ],
      "text/plain": [
       "\n"
      ]
     },
     "metadata": {},
     "output_type": "display_data"
    },
    {
     "name": "stdout",
     "output_type": "stream",
     "text": [
      "Learn time: 74.899 minutes\n",
      "Evaluating over 25 episodes...\n",
      "Evaluation time: 1.334 minutes\n",
      "Mean episode reward: -1025.918, Standard deviation: 264.1942265531175\n",
      "Mean episode length: 7621.76, Standard deviation: 1189.6731409929369\n",
      "finished architecture ['MlpPolicy', 0.0001, 256, 64, 2, 75, 0.9, 0.95, 0.3, [-979.802, -1085.002, -1003.102, -1101.102, -1129.702, -1080.402, -242.402, -1107.202, -1170.602, -400.802, -1188.102, -1027.902, -1305.302, -1093.902, -461.402, -1267.602, -1184.402, -1171.602, -1113.002, -1072.502, -1068.202, -1367.302, -1114.302, -1023.902, -888.402], [6164, 6599, 6627, 6756, 6784, 6944, 6966, 7124, 7236, 7479, 7649, 7891, 8037, 8235, 10019, 7629, 7030, 7547, 6904, 7184, 6999, 8500, 6806, 10862, 10573], -1025.918, 7621.76, 4493.9682359695435, 80.06130504608154] at 76.234 minutes.\n"
     ]
    },
    {
     "data": {
      "application/vnd.jupyter.widget-view+json": {
       "model_id": "9a01e4253a35464fab2e731420f2df50",
       "version_major": 2,
       "version_minor": 0
      },
      "text/plain": [
       "Output()"
      ]
     },
     "metadata": {},
     "output_type": "display_data"
    },
    {
     "name": "stdout",
     "output_type": "stream",
     "text": [
      "------------\n",
      "Starting architecture 40 of 108\n",
      "Learning...\n"
     ]
    },
    {
     "data": {
      "text/html": [
       "<pre style=\"white-space:pre;overflow-x:auto;line-height:normal;font-family:Menlo,'DejaVu Sans Mono',consolas,'Courier New',monospace\"></pre>\n"
      ],
      "text/plain": []
     },
     "metadata": {},
     "output_type": "display_data"
    },
    {
     "data": {
      "text/html": [
       "<pre style=\"white-space:pre;overflow-x:auto;line-height:normal;font-family:Menlo,'DejaVu Sans Mono',consolas,'Courier New',monospace\">\n",
       "</pre>\n"
      ],
      "text/plain": [
       "\n"
      ]
     },
     "metadata": {},
     "output_type": "display_data"
    },
    {
     "name": "stdout",
     "output_type": "stream",
     "text": [
      "Learn time: 74.535 minutes\n",
      "Evaluating over 25 episodes...\n",
      "Evaluation time: 2.116 minutes\n",
      "Mean episode reward: -125.83399999999997, Standard deviation: 511.22670330881584\n",
      "Mean episode length: 11248.68, Standard deviation: 3313.5090972562607\n",
      "finished architecture ['MlpPolicy', 0.0001, 256, 64, 2, 75, 0.9, 0.97, 0.1, [-413.202, 108.598, 48.698, -344.102, 632.998, -446.102, -133.902, -4.202, -49.102, 229.998, -146.402, 315.098, -626.502, -1053.902, -1687.302, 418.498, 173.998, 204.498, 305.598, -213.402, 771.198, -317.502, -388.902, -32.002, -498.502], [5885, 7748, 9343, 9433, 10123, 10733, 10931, 11119, 12843, 13035, 13095, 14789, 15234, 6489, 17064, 19549, 7077, 6301, 12608, 12050, 12005, 13599, 10669, 7925, 11570], -125.83399999999997, 11248.68, 4472.100937366486, 126.98347997665405] at 76.651 minutes.\n"
     ]
    },
    {
     "data": {
      "application/vnd.jupyter.widget-view+json": {
       "model_id": "f27a2a1ce7e44eb192153aeff9b59265",
       "version_major": 2,
       "version_minor": 0
      },
      "text/plain": [
       "Output()"
      ]
     },
     "metadata": {},
     "output_type": "display_data"
    },
    {
     "name": "stdout",
     "output_type": "stream",
     "text": [
      "------------\n",
      "Starting architecture 41 of 108\n",
      "Learning...\n"
     ]
    },
    {
     "data": {
      "text/html": [
       "<pre style=\"white-space:pre;overflow-x:auto;line-height:normal;font-family:Menlo,'DejaVu Sans Mono',consolas,'Courier New',monospace\"></pre>\n"
      ],
      "text/plain": []
     },
     "metadata": {},
     "output_type": "display_data"
    },
    {
     "data": {
      "text/html": [
       "<pre style=\"white-space:pre;overflow-x:auto;line-height:normal;font-family:Menlo,'DejaVu Sans Mono',consolas,'Courier New',monospace\">\n",
       "</pre>\n"
      ],
      "text/plain": [
       "\n"
      ]
     },
     "metadata": {},
     "output_type": "display_data"
    },
    {
     "name": "stdout",
     "output_type": "stream",
     "text": [
      "Learn time: 75.467 minutes\n",
      "Evaluating over 25 episodes...\n",
      "Evaluation time: 1.746 minutes\n",
      "Mean episode reward: -537.57, Standard deviation: 380.6450480119241\n",
      "Mean episode length: 7850.44, Standard deviation: 2699.205232360074\n",
      "finished architecture ['MlpPolicy', 0.0001, 256, 64, 2, 75, 0.9, 0.97, 0.2, [-472.902, -913.102, -505.602, -693.102, -1082.902, -865.902, -1149.102, -378.402, -631.502, -533.602, -441.202, -717.102, -868.002, 459.098, -637.702, -763.002, -227.802, -336.902, -428.802, -455.402, -355.202, -1055.202, -691.502, 134.098, 171.498], [5010, 5673, 5764, 5902, 6079, 6266, 6507, 6510, 6962, 8347, 8822, 8860, 10297, 10387, 10501, 6678, 5959, 6181, 7528, 8566, 5409, 6232, 7879, 12610, 17332], -537.57, 7850.44, 4527.999403953552, 104.74127316474915] at 77.212 minutes.\n"
     ]
    },
    {
     "data": {
      "application/vnd.jupyter.widget-view+json": {
       "model_id": "3f1d9ae73e274d51aa2d0efc2e8dc43f",
       "version_major": 2,
       "version_minor": 0
      },
      "text/plain": [
       "Output()"
      ]
     },
     "metadata": {},
     "output_type": "display_data"
    },
    {
     "name": "stdout",
     "output_type": "stream",
     "text": [
      "------------\n",
      "Starting architecture 42 of 108\n",
      "Learning...\n"
     ]
    },
    {
     "data": {
      "text/html": [
       "<pre style=\"white-space:pre;overflow-x:auto;line-height:normal;font-family:Menlo,'DejaVu Sans Mono',consolas,'Courier New',monospace\"></pre>\n"
      ],
      "text/plain": []
     },
     "metadata": {},
     "output_type": "display_data"
    },
    {
     "data": {
      "text/html": [
       "<pre style=\"white-space:pre;overflow-x:auto;line-height:normal;font-family:Menlo,'DejaVu Sans Mono',consolas,'Courier New',monospace\">\n",
       "</pre>\n"
      ],
      "text/plain": [
       "\n"
      ]
     },
     "metadata": {},
     "output_type": "display_data"
    },
    {
     "name": "stdout",
     "output_type": "stream",
     "text": [
      "Learn time: 76.040 minutes\n",
      "Evaluating over 25 episodes...\n",
      "Evaluation time: 1.870 minutes\n",
      "Mean episode reward: -304.53, Standard deviation: 426.11985686658636\n",
      "Mean episode length: 10520.16, Standard deviation: 3622.252577388827\n",
      "finished architecture ['MlpPolicy', 0.0001, 256, 64, 2, 75, 0.9, 0.97, 0.3, [-166.502, -402.702, -556.502, -905.902, -856.902, -286.302, 365.698, -189.302, -668.702, 328.798, -160.702, 50.598, -62.902, 329.798, -239.102, -428.402, -459.702, -1101.002, 268.398, -697.102, 214.098, -12.602, -1094.902, -438.402, -443.002], [5182, 5582, 5778, 5781, 6202, 8210, 8464, 8593, 8824, 8883, 9622, 12173, 13342, 14462, 10996, 10323, 16833, 8986, 12229, 8595, 16181, 10307, 15739, 15507, 16210], -304.53, 10520.16, 4562.388785839081, 112.1818950176239] at 77.910 minutes.\n"
     ]
    },
    {
     "data": {
      "application/vnd.jupyter.widget-view+json": {
       "model_id": "d71c8ed369cf40ab942e168b291e65ac",
       "version_major": 2,
       "version_minor": 0
      },
      "text/plain": [
       "Output()"
      ]
     },
     "metadata": {},
     "output_type": "display_data"
    },
    {
     "name": "stdout",
     "output_type": "stream",
     "text": [
      "------------\n",
      "Starting architecture 43 of 108\n",
      "Learning...\n"
     ]
    },
    {
     "data": {
      "text/html": [
       "<pre style=\"white-space:pre;overflow-x:auto;line-height:normal;font-family:Menlo,'DejaVu Sans Mono',consolas,'Courier New',monospace\"></pre>\n"
      ],
      "text/plain": []
     },
     "metadata": {},
     "output_type": "display_data"
    },
    {
     "data": {
      "text/html": [
       "<pre style=\"white-space:pre;overflow-x:auto;line-height:normal;font-family:Menlo,'DejaVu Sans Mono',consolas,'Courier New',monospace\">\n",
       "</pre>\n"
      ],
      "text/plain": [
       "\n"
      ]
     },
     "metadata": {},
     "output_type": "display_data"
    },
    {
     "name": "stdout",
     "output_type": "stream",
     "text": [
      "Learn time: 75.516 minutes\n",
      "Evaluating over 25 episodes...\n",
      "Evaluation time: 4.008 minutes\n",
      "Mean episode reward: 142.98999999999998, Standard deviation: 586.8071116951464\n",
      "Mean episode length: 13235.88, Standard deviation: 6942.455671129634\n",
      "finished architecture ['MlpPolicy', 0.0001, 256, 64, 2, 75, 0.9, 0.99, 0.1, [-352.802, 432.598, -208.102, -193.602, 365.398, 254.498, -319.802, 210.398, -56.302, 152.298, -702.802, 298.398, 805.198, -630.402, 429.398, 1034.098, 296.798, -46.802, -331.702, -649.702, -215.902, 326.498, 216.798, 328.898, 2131.398], [7286, 8279, 9218, 10851, 10895, 11279, 11648, 11799, 12423, 12587, 6230, 13652, 13750, 14408, 15528, 16034, 9097, 10002, 8558, 12385, 14070, 12630, 11922, 23298, 43068], 142.98999999999998, 13235.88, 4530.985445261002, 240.49419784545898] at 79.525 minutes.\n"
     ]
    },
    {
     "data": {
      "application/vnd.jupyter.widget-view+json": {
       "model_id": "536a1243af5d45bb83f31f1929f5fc4e",
       "version_major": 2,
       "version_minor": 0
      },
      "text/plain": [
       "Output()"
      ]
     },
     "metadata": {},
     "output_type": "display_data"
    },
    {
     "name": "stdout",
     "output_type": "stream",
     "text": [
      "------------\n",
      "Starting architecture 44 of 108\n",
      "Learning...\n"
     ]
    },
    {
     "data": {
      "text/html": [
       "<pre style=\"white-space:pre;overflow-x:auto;line-height:normal;font-family:Menlo,'DejaVu Sans Mono',consolas,'Courier New',monospace\"></pre>\n"
      ],
      "text/plain": []
     },
     "metadata": {},
     "output_type": "display_data"
    },
    {
     "data": {
      "text/html": [
       "<pre style=\"white-space:pre;overflow-x:auto;line-height:normal;font-family:Menlo,'DejaVu Sans Mono',consolas,'Courier New',monospace\">\n",
       "</pre>\n"
      ],
      "text/plain": [
       "\n"
      ]
     },
     "metadata": {},
     "output_type": "display_data"
    },
    {
     "name": "stdout",
     "output_type": "stream",
     "text": [
      "Learn time: 77.512 minutes\n",
      "Evaluating over 25 episodes...\n",
      "Evaluation time: 1.276 minutes\n",
      "Mean episode reward: -1007.2460000000001, Standard deviation: 257.5217444488912\n",
      "Mean episode length: 7529.04, Standard deviation: 774.815718993878\n",
      "finished architecture ['MlpPolicy', 0.0001, 256, 64, 2, 75, 0.9, 0.99, 0.2, [-1043.702, -969.602, -1175.402, -1176.502, -530.602, -1196.702, -934.102, -1046.002, -442.502, -1222.302, -1328.302, -1367.502, -506.602, -1317.202, -1090.102, -1100.002, -718.802, -1082.302, -1161.702, -1159.902, -844.602, -773.702, -1308.502, -896.602, -787.902], [6242, 6760, 6861, 6910, 6958, 7001, 7149, 7238, 7342, 7764, 7862, 7985, 8092, 8198, 8681, 7455, 7111, 6982, 7050, 6731, 8215, 8004, 7547, 8053, 10035], -1007.2460000000001, 7529.04, 4650.724670648575, 76.57582497596741] at 78.788 minutes.\n"
     ]
    },
    {
     "data": {
      "application/vnd.jupyter.widget-view+json": {
       "model_id": "fda06c885c5a490988075a0d12cf0840",
       "version_major": 2,
       "version_minor": 0
      },
      "text/plain": [
       "Output()"
      ]
     },
     "metadata": {},
     "output_type": "display_data"
    },
    {
     "name": "stdout",
     "output_type": "stream",
     "text": [
      "------------\n",
      "Starting architecture 45 of 108\n",
      "Learning...\n"
     ]
    },
    {
     "data": {
      "text/html": [
       "<pre style=\"white-space:pre;overflow-x:auto;line-height:normal;font-family:Menlo,'DejaVu Sans Mono',consolas,'Courier New',monospace\"></pre>\n"
      ],
      "text/plain": []
     },
     "metadata": {},
     "output_type": "display_data"
    },
    {
     "data": {
      "text/html": [
       "<pre style=\"white-space:pre;overflow-x:auto;line-height:normal;font-family:Menlo,'DejaVu Sans Mono',consolas,'Courier New',monospace\">\n",
       "</pre>\n"
      ],
      "text/plain": [
       "\n"
      ]
     },
     "metadata": {},
     "output_type": "display_data"
    },
    {
     "name": "stdout",
     "output_type": "stream",
     "text": [
      "Learn time: 77.338 minutes\n",
      "Evaluating over 25 episodes...\n",
      "Evaluation time: 2.611 minutes\n",
      "Mean episode reward: -388.05799999999994, Standard deviation: 498.4667660576781\n",
      "Mean episode length: 9124.12, Standard deviation: 4943.542707977751\n",
      "finished architecture ['MlpPolicy', 0.0001, 256, 64, 2, 75, 0.9, 0.99, 0.3, [-746.402, -825.502, -607.802, -430.202, -1079.002, -483.102, -1157.902, -176.102, -379.702, -1006.102, -559.002, -748.802, -564.002, 492.298, 27.298, -398.402, -701.202, 97.898, -758.202, -111.502, -937.502, 338.698, -15.202, 350.198, 677.798], [5298, 5588, 5994, 6014, 6042, 6445, 6693, 6810, 6832, 6833, 7191, 8184, 8752, 10101, 4327, 10703, 5824, 7254, 7911, 9092, 13500, 14591, 13372, 16875, 27877], -388.05799999999994, 9124.12, 4640.290493249893, 156.6480951309204] at 79.949 minutes.\n"
     ]
    },
    {
     "data": {
      "application/vnd.jupyter.widget-view+json": {
       "model_id": "52ae442a93454e56902989451de94a64",
       "version_major": 2,
       "version_minor": 0
      },
      "text/plain": [
       "Output()"
      ]
     },
     "metadata": {},
     "output_type": "display_data"
    },
    {
     "name": "stdout",
     "output_type": "stream",
     "text": [
      "------------\n",
      "Starting architecture 46 of 108\n",
      "Learning...\n"
     ]
    },
    {
     "data": {
      "text/html": [
       "<pre style=\"white-space:pre;overflow-x:auto;line-height:normal;font-family:Menlo,'DejaVu Sans Mono',consolas,'Courier New',monospace\"></pre>\n"
      ],
      "text/plain": []
     },
     "metadata": {},
     "output_type": "display_data"
    },
    {
     "data": {
      "text/html": [
       "<pre style=\"white-space:pre;overflow-x:auto;line-height:normal;font-family:Menlo,'DejaVu Sans Mono',consolas,'Courier New',monospace\">\n",
       "</pre>\n"
      ],
      "text/plain": [
       "\n"
      ]
     },
     "metadata": {},
     "output_type": "display_data"
    },
    {
     "name": "stdout",
     "output_type": "stream",
     "text": [
      "Learn time: 75.276 minutes\n",
      "Evaluating over 25 episodes...\n",
      "Evaluation time: 3.113 minutes\n",
      "Mean episode reward: 2.4500000000000033, Standard deviation: 492.0040033333062\n",
      "Mean episode length: 11088.04, Standard deviation: 4793.104726416897\n",
      "finished architecture ['MlpPolicy', 0.0001, 256, 64, 2, 75, 0.999, 0.95, 0.1, [-403.502, -679.902, -367.702, -462.102, -81.502, 194.398, -794.202, -326.502, 660.298, 320.098, -535.702, 1179.398, 66.698, 380.498, 231.298, 625.298, 202.698, 90.198, 205.498, 41.298, -860.102, 605.198, -339.902, 342.298, -232.802], [4246, 4891, 5859, 5922, 8168, 8948, 9017, 9063, 10972, 12174, 12194, 12479, 13948, 11290, 8000, 18336, 9773, 13067, 14631, 11420, 5643, 12657, 14484, 27685, 12334], 2.4500000000000033, 11088.04, 4516.5566194057465, 186.75846552848816] at 78.389 minutes.\n"
     ]
    },
    {
     "data": {
      "application/vnd.jupyter.widget-view+json": {
       "model_id": "d2040dfa8dff41468b23ed116f01fb9b",
       "version_major": 2,
       "version_minor": 0
      },
      "text/plain": [
       "Output()"
      ]
     },
     "metadata": {},
     "output_type": "display_data"
    },
    {
     "name": "stdout",
     "output_type": "stream",
     "text": [
      "------------\n",
      "Starting architecture 47 of 108\n",
      "Learning...\n"
     ]
    },
    {
     "data": {
      "text/html": [
       "<pre style=\"white-space:pre;overflow-x:auto;line-height:normal;font-family:Menlo,'DejaVu Sans Mono',consolas,'Courier New',monospace\"></pre>\n"
      ],
      "text/plain": []
     },
     "metadata": {},
     "output_type": "display_data"
    },
    {
     "data": {
      "text/html": [
       "<pre style=\"white-space:pre;overflow-x:auto;line-height:normal;font-family:Menlo,'DejaVu Sans Mono',consolas,'Courier New',monospace\">\n",
       "</pre>\n"
      ],
      "text/plain": [
       "\n"
      ]
     },
     "metadata": {},
     "output_type": "display_data"
    },
    {
     "name": "stdout",
     "output_type": "stream",
     "text": [
      "Learn time: 75.946 minutes\n",
      "Evaluating over 25 episodes...\n",
      "Evaluation time: 2.656 minutes\n",
      "Mean episode reward: -90.698, Standard deviation: 451.05061931450666\n",
      "Mean episode length: 9902.64, Standard deviation: 4084.706196337749\n",
      "finished architecture ['MlpPolicy', 0.0001, 256, 64, 2, 75, 0.999, 0.95, 0.2, [-828.502, -347.802, -295.702, -619.002, -113.302, -416.302, -160.402, -71.402, -384.002, 948.098, -52.802, 264.898, -229.002, -72.002, -278.302, 981.298, -264.902, -677.602, -277.502, 383.898, 571.798, -246.802, 217.498, -565.602, 265.998], [4757, 4814, 5677, 7025, 7392, 7747, 7821, 9662, 10664, 11108, 11525, 12680, 8185, 5745, 6657, 13949, 14675, 4293, 6756, 10066, 21622, 13409, 15575, 12987, 12775], -90.698, 9902.64, 4556.735626220703, 159.37659859657288] at 78.602 minutes.\n"
     ]
    },
    {
     "data": {
      "application/vnd.jupyter.widget-view+json": {
       "model_id": "c4a3598eadda418680b8a354fd862fe7",
       "version_major": 2,
       "version_minor": 0
      },
      "text/plain": [
       "Output()"
      ]
     },
     "metadata": {},
     "output_type": "display_data"
    },
    {
     "name": "stdout",
     "output_type": "stream",
     "text": [
      "------------\n",
      "Starting architecture 48 of 108\n",
      "Learning...\n"
     ]
    },
    {
     "data": {
      "text/html": [
       "<pre style=\"white-space:pre;overflow-x:auto;line-height:normal;font-family:Menlo,'DejaVu Sans Mono',consolas,'Courier New',monospace\"></pre>\n"
      ],
      "text/plain": []
     },
     "metadata": {},
     "output_type": "display_data"
    },
    {
     "data": {
      "text/html": [
       "<pre style=\"white-space:pre;overflow-x:auto;line-height:normal;font-family:Menlo,'DejaVu Sans Mono',consolas,'Courier New',monospace\">\n",
       "</pre>\n"
      ],
      "text/plain": [
       "\n"
      ]
     },
     "metadata": {},
     "output_type": "display_data"
    },
    {
     "name": "stdout",
     "output_type": "stream",
     "text": [
      "Learn time: 75.901 minutes\n",
      "Evaluating over 25 episodes...\n",
      "Evaluation time: 2.361 minutes\n",
      "Mean episode reward: -118.43800000000002, Standard deviation: 437.53441819358625\n",
      "Mean episode length: 10739.16, Standard deviation: 4245.570309675722\n",
      "finished architecture ['MlpPolicy', 0.0001, 256, 64, 2, 75, 0.999, 0.95, 0.3, [71.998, -700.802, -635.102, -445.002, 259.198, -426.302, 392.598, -354.202, 283.398, 176.698, 612.498, -603.802, -20.302, 658.598, -169.802, 276.198, 374.098, -308.402, -748.902, -7.002, -256.402, -1059.102, 113.198, -333.802, -110.502], [5150, 6282, 6686, 6775, 6783, 7863, 8506, 8706, 9142, 11079, 12888, 13631, 7377, 15210, 16181, 9527, 13677, 20075, 8056, 9867, 12784, 6231, 21289, 14757, 9957], -118.43800000000002, 10739.16, 4554.049084186554, 141.63182616233826] at 78.261 minutes.\n"
     ]
    },
    {
     "data": {
      "application/vnd.jupyter.widget-view+json": {
       "model_id": "42bb85158171499c95913a7be0ab7213",
       "version_major": 2,
       "version_minor": 0
      },
      "text/plain": [
       "Output()"
      ]
     },
     "metadata": {},
     "output_type": "display_data"
    },
    {
     "name": "stdout",
     "output_type": "stream",
     "text": [
      "------------\n",
      "Starting architecture 49 of 108\n",
      "Learning...\n"
     ]
    },
    {
     "data": {
      "text/html": [
       "<pre style=\"white-space:pre;overflow-x:auto;line-height:normal;font-family:Menlo,'DejaVu Sans Mono',consolas,'Courier New',monospace\"></pre>\n"
      ],
      "text/plain": []
     },
     "metadata": {},
     "output_type": "display_data"
    },
    {
     "data": {
      "text/html": [
       "<pre style=\"white-space:pre;overflow-x:auto;line-height:normal;font-family:Menlo,'DejaVu Sans Mono',consolas,'Courier New',monospace\">\n",
       "</pre>\n"
      ],
      "text/plain": [
       "\n"
      ]
     },
     "metadata": {},
     "output_type": "display_data"
    },
    {
     "name": "stdout",
     "output_type": "stream",
     "text": [
      "Learn time: 76.193 minutes\n",
      "Evaluating over 25 episodes...\n",
      "Evaluation time: 3.067 minutes\n",
      "Mean episode reward: -276.286, Standard deviation: 546.6031442866022\n",
      "Mean episode length: 10352.8, Standard deviation: 5722.160466117671\n",
      "finished architecture ['MlpPolicy', 0.0001, 256, 64, 2, 75, 0.999, 0.97, 0.1, [-720.402, -620.102, -634.702, -477.702, -284.902, -785.202, -391.902, 391.898, -363.702, 293.998, -951.002, 327.798, 172.498, -804.102, -700.802, -731.402, -123.402, 93.798, -993.202, -574.802, -68.302, 910.598, 212.998, 874.398, -959.502], [5445, 5560, 5841, 6136, 6900, 7249, 8131, 10448, 4761, 11015, 12234, 5810, 13212, 8335, 13853, 15411, 7901, 5407, 18287, 5430, 12653, 14121, 31168, 15400, 8112], -276.286, 10352.8, 4571.554239034653, 184.0401647090912] at 79.260 minutes.\n"
     ]
    },
    {
     "data": {
      "application/vnd.jupyter.widget-view+json": {
       "model_id": "cfdc7a0759b04a539da74fa23f2173da",
       "version_major": 2,
       "version_minor": 0
      },
      "text/plain": [
       "Output()"
      ]
     },
     "metadata": {},
     "output_type": "display_data"
    },
    {
     "name": "stdout",
     "output_type": "stream",
     "text": [
      "------------\n",
      "Starting architecture 50 of 108\n",
      "Learning...\n"
     ]
    },
    {
     "data": {
      "text/html": [
       "<pre style=\"white-space:pre;overflow-x:auto;line-height:normal;font-family:Menlo,'DejaVu Sans Mono',consolas,'Courier New',monospace\"></pre>\n"
      ],
      "text/plain": []
     },
     "metadata": {},
     "output_type": "display_data"
    },
    {
     "data": {
      "text/html": [
       "<pre style=\"white-space:pre;overflow-x:auto;line-height:normal;font-family:Menlo,'DejaVu Sans Mono',consolas,'Courier New',monospace\">\n",
       "</pre>\n"
      ],
      "text/plain": [
       "\n"
      ]
     },
     "metadata": {},
     "output_type": "display_data"
    },
    {
     "name": "stdout",
     "output_type": "stream",
     "text": [
      "Learn time: 76.922 minutes\n",
      "Evaluating over 25 episodes...\n",
      "Evaluation time: 3.585 minutes\n",
      "Mean episode reward: -324.826, Standard deviation: 482.9687205440948\n",
      "Mean episode length: 12267.68, Standard deviation: 8265.112208409515\n",
      "finished architecture ['MlpPolicy', 0.0001, 256, 64, 2, 75, 0.999, 0.97, 0.2, [-755.402, -705.002, -901.802, -686.402, -274.802, -226.502, -573.202, -13.902, -642.702, -688.502, 488.298, -171.102, -258.802, -352.302, -190.602, -693.802, -569.402, -881.802, -125.502, -255.002, 46.098, 1324.398, -923.102, -84.702, -5.102], [4787, 4897, 5297, 5399, 7896, 7918, 9180, 5335, 10351, 5148, 12463, 5199, 13339, 13982, 14008, 14835, 7419, 15679, 8754, 24908, 12210, 30091, 6118, 26110, 35369], -324.826, 12267.68, 4615.348137378693, 215.07955408096313] at 80.507 minutes.\n"
     ]
    },
    {
     "data": {
      "application/vnd.jupyter.widget-view+json": {
       "model_id": "37fa37d3ec084292bc07902d84fef001",
       "version_major": 2,
       "version_minor": 0
      },
      "text/plain": [
       "Output()"
      ]
     },
     "metadata": {},
     "output_type": "display_data"
    },
    {
     "name": "stdout",
     "output_type": "stream",
     "text": [
      "------------\n",
      "Starting architecture 51 of 108\n",
      "Learning...\n"
     ]
    },
    {
     "data": {
      "text/html": [
       "<pre style=\"white-space:pre;overflow-x:auto;line-height:normal;font-family:Menlo,'DejaVu Sans Mono',consolas,'Courier New',monospace\"></pre>\n"
      ],
      "text/plain": []
     },
     "metadata": {},
     "output_type": "display_data"
    },
    {
     "data": {
      "text/html": [
       "<pre style=\"white-space:pre;overflow-x:auto;line-height:normal;font-family:Menlo,'DejaVu Sans Mono',consolas,'Courier New',monospace\">\n",
       "</pre>\n"
      ],
      "text/plain": [
       "\n"
      ]
     },
     "metadata": {},
     "output_type": "display_data"
    },
    {
     "name": "stdout",
     "output_type": "stream",
     "text": [
      "Learn time: 76.557 minutes\n",
      "Evaluating over 25 episodes...\n",
      "Evaluation time: 2.220 minutes\n",
      "Mean episode reward: -82.63400000000001, Standard deviation: 457.4777946261435\n",
      "Mean episode length: 10904.64, Standard deviation: 4661.0372311750525\n",
      "finished architecture ['MlpPolicy', 0.0001, 256, 64, 2, 75, 0.999, 0.97, 0.3, [-321.802, -402.002, -213.902, 162.998, -94.802, -459.602, 518.698, -280.502, 145.998, -243.702, -92.802, 386.698, -674.602, 1023.698, 212.498, -568.802, -699.102, -523.602, 425.798, -688.002, 328.998, -293.102, -74.902, -413.602, 773.598], [6741, 7408, 7938, 8257, 8539, 9426, 9524, 10529, 11587, 11771, 12259, 12842, 4762, 14544, 14995, 7608, 5813, 4274, 12640, 10452, 14100, 12945, 10243, 15340, 28079], -82.63400000000001, 10904.64, 4593.441830873489, 133.20443415641785] at 78.777 minutes.\n"
     ]
    },
    {
     "data": {
      "application/vnd.jupyter.widget-view+json": {
       "model_id": "325ce3f201b049f0beb09768582a600e",
       "version_major": 2,
       "version_minor": 0
      },
      "text/plain": [
       "Output()"
      ]
     },
     "metadata": {},
     "output_type": "display_data"
    },
    {
     "name": "stdout",
     "output_type": "stream",
     "text": [
      "------------\n",
      "Starting architecture 52 of 108\n",
      "Learning...\n"
     ]
    },
    {
     "data": {
      "text/html": [
       "<pre style=\"white-space:pre;overflow-x:auto;line-height:normal;font-family:Menlo,'DejaVu Sans Mono',consolas,'Courier New',monospace\"></pre>\n"
      ],
      "text/plain": []
     },
     "metadata": {},
     "output_type": "display_data"
    },
    {
     "data": {
      "text/html": [
       "<pre style=\"white-space:pre;overflow-x:auto;line-height:normal;font-family:Menlo,'DejaVu Sans Mono',consolas,'Courier New',monospace\">\n",
       "</pre>\n"
      ],
      "text/plain": [
       "\n"
      ]
     },
     "metadata": {},
     "output_type": "display_data"
    },
    {
     "name": "stdout",
     "output_type": "stream",
     "text": [
      "Learn time: 76.253 minutes\n",
      "Evaluating over 25 episodes...\n",
      "Evaluation time: 2.039 minutes\n",
      "Mean episode reward: -149.162, Standard deviation: 476.20360519424884\n",
      "Mean episode length: 10417.08, Standard deviation: 2833.7304729984467\n",
      "finished architecture ['MlpPolicy', 0.0001, 256, 64, 2, 75, 0.999, 0.99, 0.1, [-547.502, -712.802, -762.802, -272.802, -351.202, -715.902, 173.898, -209.602, 170.698, 583.198, 52.198, 315.998, -458.602, -403.502, 267.898, 536.398, -57.502, 786.398, -689.302, -191.502, -1214.602, 309.198, -56.902, 83.298, -363.702], [7132, 8226, 8367, 8960, 8982, 9887, 10130, 10512, 10512, 11229, 11616, 11852, 13601, 14705, 6646, 7487, 18097, 8380, 9369, 8051, 11743, 6258, 10740, 12151, 15794], -149.162, 10417.08, 4575.207840204239, 122.36710667610168] at 78.293 minutes.\n"
     ]
    },
    {
     "data": {
      "application/vnd.jupyter.widget-view+json": {
       "model_id": "72cf47ac89374fa2943c1c82c5a689f8",
       "version_major": 2,
       "version_minor": 0
      },
      "text/plain": [
       "Output()"
      ]
     },
     "metadata": {},
     "output_type": "display_data"
    },
    {
     "name": "stdout",
     "output_type": "stream",
     "text": [
      "------------\n",
      "Starting architecture 53 of 108\n",
      "Learning...\n"
     ]
    },
    {
     "data": {
      "text/html": [
       "<pre style=\"white-space:pre;overflow-x:auto;line-height:normal;font-family:Menlo,'DejaVu Sans Mono',consolas,'Courier New',monospace\"></pre>\n"
      ],
      "text/plain": []
     },
     "metadata": {},
     "output_type": "display_data"
    },
    {
     "data": {
      "text/html": [
       "<pre style=\"white-space:pre;overflow-x:auto;line-height:normal;font-family:Menlo,'DejaVu Sans Mono',consolas,'Courier New',monospace\">\n",
       "</pre>\n"
      ],
      "text/plain": [
       "\n"
      ]
     },
     "metadata": {},
     "output_type": "display_data"
    },
    {
     "name": "stdout",
     "output_type": "stream",
     "text": [
      "Learn time: 76.519 minutes\n",
      "Evaluating over 25 episodes...\n",
      "Evaluation time: 2.587 minutes\n",
      "Mean episode reward: -132.22199999999998, Standard deviation: 418.034008185937\n",
      "Mean episode length: 9505.8, Standard deviation: 3848.8807931657225\n",
      "finished architecture ['MlpPolicy', 0.0001, 256, 64, 2, 75, 0.999, 0.99, 0.2, [-80.702, -275.702, -598.402, -85.602, -565.102, -639.302, 88.698, 91.298, -483.602, -342.502, 409.298, 98.398, -202.402, -390.702, -652.002, -373.002, -565.502, -284.602, 826.398, 884.098, 14.098, -235.802, 494.298, -400.802, -36.402], [5235, 5287, 5961, 6813, 7063, 7417, 7444, 7546, 8460, 9278, 10691, 12250, 7069, 6042, 12858, 6065, 6760, 10007, 8557, 18250, 19088, 14720, 11893, 7731, 15160], -132.22199999999998, 9505.8, 4591.116418361664, 155.23104047775269] at 79.106 minutes.\n"
     ]
    },
    {
     "data": {
      "application/vnd.jupyter.widget-view+json": {
       "model_id": "2ea388c63b32474997b8d04b67751862",
       "version_major": 2,
       "version_minor": 0
      },
      "text/plain": [
       "Output()"
      ]
     },
     "metadata": {},
     "output_type": "display_data"
    },
    {
     "name": "stdout",
     "output_type": "stream",
     "text": [
      "------------\n",
      "Starting architecture 54 of 108\n",
      "Learning...\n"
     ]
    },
    {
     "data": {
      "text/html": [
       "<pre style=\"white-space:pre;overflow-x:auto;line-height:normal;font-family:Menlo,'DejaVu Sans Mono',consolas,'Courier New',monospace\"></pre>\n"
      ],
      "text/plain": []
     },
     "metadata": {},
     "output_type": "display_data"
    },
    {
     "data": {
      "text/html": [
       "<pre style=\"white-space:pre;overflow-x:auto;line-height:normal;font-family:Menlo,'DejaVu Sans Mono',consolas,'Courier New',monospace\">\n",
       "</pre>\n"
      ],
      "text/plain": [
       "\n"
      ]
     },
     "metadata": {},
     "output_type": "display_data"
    },
    {
     "name": "stdout",
     "output_type": "stream",
     "text": [
      "Learn time: 76.519 minutes\n",
      "Evaluating over 25 episodes...\n",
      "Evaluation time: 3.153 minutes\n",
      "Mean episode reward: -197.23, Standard deviation: 586.9729380610319\n",
      "Mean episode length: 10683.24, Standard deviation: 5601.189361412449\n",
      "finished architecture ['MlpPolicy', 0.0001, 256, 64, 2, 75, 0.999, 0.99, 0.3, [-844.302, -744.102, -146.302, -815.602, -628.602, -982.002, -132.002, -268.402, -586.802, -315.002, 71.798, -397.502, -1007.402, 158.098, 931.298, -795.802, -213.302, -698.502, 229.798, 189.098, -397.702, 413.998, 720.498, 79.098, 1248.898], [5188, 6004, 6405, 6469, 6561, 6758, 7152, 8150, 8184, 8377, 9586, 9759, 11288, 12720, 13362, 7929, 11963, 11354, 7747, 11547, 13225, 11534, 16494, 15477, 33848], -197.23, 10683.24, 4591.1629593372345, 189.19329571723938] at 79.673 minutes.\n"
     ]
    },
    {
     "data": {
      "application/vnd.jupyter.widget-view+json": {
       "model_id": "658b1aa57fb64881b0d1169e535546a5",
       "version_major": 2,
       "version_minor": 0
      },
      "text/plain": [
       "Output()"
      ]
     },
     "metadata": {},
     "output_type": "display_data"
    },
    {
     "name": "stdout",
     "output_type": "stream",
     "text": [
      "------------\n",
      "Starting architecture 55 of 108\n",
      "Learning...\n"
     ]
    },
    {
     "data": {
      "text/html": [
       "<pre style=\"white-space:pre;overflow-x:auto;line-height:normal;font-family:Menlo,'DejaVu Sans Mono',consolas,'Courier New',monospace\"></pre>\n"
      ],
      "text/plain": []
     },
     "metadata": {},
     "output_type": "display_data"
    },
    {
     "data": {
      "text/html": [
       "<pre style=\"white-space:pre;overflow-x:auto;line-height:normal;font-family:Menlo,'DejaVu Sans Mono',consolas,'Courier New',monospace\">\n",
       "</pre>\n"
      ],
      "text/plain": [
       "\n"
      ]
     },
     "metadata": {},
     "output_type": "display_data"
    },
    {
     "name": "stdout",
     "output_type": "stream",
     "text": [
      "Learn time: 14.005 minutes\n",
      "Evaluating over 25 episodes...\n",
      "Evaluation time: 2.084 minutes\n",
      "Mean episode reward: -382.074, Standard deviation: 485.67051425426274\n",
      "Mean episode length: 10170.04, Standard deviation: 4252.724241988893\n",
      "finished architecture ['CnnPolicy', 1e-06, 1024, 64, 2, 10, 0.9, 0.95, 0.1, [-48.302, -780.502, -356.202, -499.402, -1130.702, -521.102, -868.702, -488.002, -336.702, -102.102, -878.002, -181.702, -582.102, -1066.102, -1176.402, -621.802, -229.402, 514.398, -316.102, -777.702, 584.598, 457.098, -285.602, 367.898, -229.202], [4626, 5109, 5232, 5766, 6257, 8137, 8373, 8865, 9182, 9689, 5845, 10576, 11695, 12223, 13588, 8742, 7717, 14000, 10930, 7267, 12035, 13999, 22919, 18468, 13011], -382.074, 10170.04, 840.3140909671783, 125.04315328598022] at 16.089 minutes.\n"
     ]
    },
    {
     "data": {
      "application/vnd.jupyter.widget-view+json": {
       "model_id": "2f51fe7a89c945f2b04352b5e37a7c12",
       "version_major": 2,
       "version_minor": 0
      },
      "text/plain": [
       "Output()"
      ]
     },
     "metadata": {},
     "output_type": "display_data"
    },
    {
     "name": "stdout",
     "output_type": "stream",
     "text": [
      "------------\n",
      "Starting architecture 56 of 108\n",
      "Learning...\n"
     ]
    },
    {
     "data": {
      "text/html": [
       "<pre style=\"white-space:pre;overflow-x:auto;line-height:normal;font-family:Menlo,'DejaVu Sans Mono',consolas,'Courier New',monospace\"></pre>\n"
      ],
      "text/plain": []
     },
     "metadata": {},
     "output_type": "display_data"
    },
    {
     "data": {
      "text/html": [
       "<pre style=\"white-space:pre;overflow-x:auto;line-height:normal;font-family:Menlo,'DejaVu Sans Mono',consolas,'Courier New',monospace\">\n",
       "</pre>\n"
      ],
      "text/plain": [
       "\n"
      ]
     },
     "metadata": {},
     "output_type": "display_data"
    },
    {
     "name": "stdout",
     "output_type": "stream",
     "text": [
      "Learn time: 13.843 minutes\n",
      "Evaluating over 25 episodes...\n",
      "Evaluation time: 2.849 minutes\n",
      "Mean episode reward: 29.517999999999994, Standard deviation: 495.20007350564885\n",
      "Mean episode length: 11496.04, Standard deviation: 5107.317397460237\n",
      "finished architecture ['CnnPolicy', 1e-06, 1024, 64, 2, 10, 0.9, 0.95, 0.2, [-509.802, -675.602, 194.298, -437.702, -583.102, -207.402, 333.898, 676.798, 559.798, -217.302, 458.098, 281.598, -428.902, -20.202, -124.302, 223.198, -19.402, 594.298, -351.302, -786.502, 950.198, 1110.698, 154.798, -182.502, -255.702], [4291, 6368, 8142, 8369, 8656, 9674, 9792, 10577, 11472, 11948, 12050, 12115, 13821, 4877, 5987, 11762, 10504, 12250, 10337, 13952, 25012, 25793, 17977, 13865, 7810], 29.517999999999994, 11496.04, 830.5880348682404, 170.94069385528564] at 16.692 minutes.\n"
     ]
    },
    {
     "data": {
      "application/vnd.jupyter.widget-view+json": {
       "model_id": "57fd26e6632c48cf88d54e6a1424b627",
       "version_major": 2,
       "version_minor": 0
      },
      "text/plain": [
       "Output()"
      ]
     },
     "metadata": {},
     "output_type": "display_data"
    },
    {
     "name": "stdout",
     "output_type": "stream",
     "text": [
      "------------\n",
      "Starting architecture 57 of 108\n",
      "Learning...\n"
     ]
    },
    {
     "data": {
      "text/html": [
       "<pre style=\"white-space:pre;overflow-x:auto;line-height:normal;font-family:Menlo,'DejaVu Sans Mono',consolas,'Courier New',monospace\"></pre>\n"
      ],
      "text/plain": []
     },
     "metadata": {},
     "output_type": "display_data"
    },
    {
     "data": {
      "text/html": [
       "<pre style=\"white-space:pre;overflow-x:auto;line-height:normal;font-family:Menlo,'DejaVu Sans Mono',consolas,'Courier New',monospace\">\n",
       "</pre>\n"
      ],
      "text/plain": [
       "\n"
      ]
     },
     "metadata": {},
     "output_type": "display_data"
    },
    {
     "name": "stdout",
     "output_type": "stream",
     "text": [
      "Learn time: 13.722 minutes\n",
      "Evaluating over 25 episodes...\n",
      "Evaluation time: 2.796 minutes\n",
      "Mean episode reward: -11.07, Standard deviation: 544.904878098921\n",
      "Mean episode length: 10459.12, Standard deviation: 4124.260091895272\n",
      "finished architecture ['CnnPolicy', 1e-06, 1024, 64, 2, 10, 0.9, 0.95, 0.3, [-21.402, -542.302, -308.802, -13.702, -533.902, -297.602, -639.202, -516.002, -671.402, 816.898, 919.698, 797.898, -135.702, -77.902, -235.802, 295.598, -79.902, -885.102, -383.902, -124.902, 721.298, -146.602, 142.398, 401.098, 1242.498], [4888, 5060, 7691, 8197, 8489, 8574, 9108, 9534, 10424, 11781, 11792, 12261, 12432, 5760, 14093, 9542, 14801, 5826, 8652, 7992, 12786, 10003, 9652, 18402, 23738], -11.07, 10459.12, 823.3019015789032, 167.73559427261353] at 16.517 minutes.\n"
     ]
    },
    {
     "data": {
      "application/vnd.jupyter.widget-view+json": {
       "model_id": "a5c1fbd24da84b068ed488677c8d4969",
       "version_major": 2,
       "version_minor": 0
      },
      "text/plain": [
       "Output()"
      ]
     },
     "metadata": {},
     "output_type": "display_data"
    },
    {
     "name": "stdout",
     "output_type": "stream",
     "text": [
      "------------\n",
      "Starting architecture 58 of 108\n",
      "Learning...\n"
     ]
    },
    {
     "data": {
      "text/html": [
       "<pre style=\"white-space:pre;overflow-x:auto;line-height:normal;font-family:Menlo,'DejaVu Sans Mono',consolas,'Courier New',monospace\"></pre>\n"
      ],
      "text/plain": []
     },
     "metadata": {},
     "output_type": "display_data"
    },
    {
     "data": {
      "text/html": [
       "<pre style=\"white-space:pre;overflow-x:auto;line-height:normal;font-family:Menlo,'DejaVu Sans Mono',consolas,'Courier New',monospace\">\n",
       "</pre>\n"
      ],
      "text/plain": [
       "\n"
      ]
     },
     "metadata": {},
     "output_type": "display_data"
    },
    {
     "name": "stdout",
     "output_type": "stream",
     "text": [
      "Learn time: 13.783 minutes\n",
      "Evaluating over 25 episodes...\n",
      "Evaluation time: 2.893 minutes\n",
      "Mean episode reward: -154.986, Standard deviation: 598.4852791372567\n",
      "Mean episode length: 12003.24, Standard deviation: 3535.677194315115\n",
      "finished architecture ['CnnPolicy', 1e-06, 1024, 64, 2, 10, 0.9, 0.97, 0.1, [-765.202, 229.498, -990.302, 986.298, 273.898, -694.302, 112.798, 260.798, 506.298, -64.002, -689.702, -355.402, -730.302, -1254.602, -429.602, -442.802, -647.802, 275.498, -138.602, -140.102, 165.498, -367.802, -32.902, -397.502, 1455.698], [4762, 8120, 9846, 10658, 10882, 6894, 12076, 12425, 12794, 13505, 13652, 15314, 15516, 15898, 17024, 17905, 8106, 10266, 5639, 14948, 8512, 12753, 11346, 15330, 15910], -154.986, 12003.24, 826.9745018482208, 173.6002700328827] at 16.676 minutes.\n"
     ]
    },
    {
     "data": {
      "application/vnd.jupyter.widget-view+json": {
       "model_id": "f5c53c97a2fb43d5a2018679dbee1ad5",
       "version_major": 2,
       "version_minor": 0
      },
      "text/plain": [
       "Output()"
      ]
     },
     "metadata": {},
     "output_type": "display_data"
    },
    {
     "name": "stdout",
     "output_type": "stream",
     "text": [
      "------------\n",
      "Starting architecture 59 of 108\n",
      "Learning...\n"
     ]
    },
    {
     "data": {
      "text/html": [
       "<pre style=\"white-space:pre;overflow-x:auto;line-height:normal;font-family:Menlo,'DejaVu Sans Mono',consolas,'Courier New',monospace\"></pre>\n"
      ],
      "text/plain": []
     },
     "metadata": {},
     "output_type": "display_data"
    },
    {
     "data": {
      "text/html": [
       "<pre style=\"white-space:pre;overflow-x:auto;line-height:normal;font-family:Menlo,'DejaVu Sans Mono',consolas,'Courier New',monospace\">\n",
       "</pre>\n"
      ],
      "text/plain": [
       "\n"
      ]
     },
     "metadata": {},
     "output_type": "display_data"
    },
    {
     "name": "stdout",
     "output_type": "stream",
     "text": [
      "Learn time: 13.810 minutes\n",
      "Evaluating over 25 episodes...\n",
      "Evaluation time: 2.191 minutes\n",
      "Mean episode reward: -208.79, Standard deviation: 473.0626278369493\n",
      "Mean episode length: 8972.2, Standard deviation: 3038.1044353346383\n",
      "finished architecture ['CnnPolicy', 1e-06, 1024, 64, 2, 10, 0.9, 0.97, 0.2, [-790.002, -884.502, -229.402, -510.802, -1065.502, 160.698, -852.702, 32.898, -469.202, 556.398, 162.698, 74.398, -400.402, -574.502, 397.698, -424.402, 771.598, 19.698, -460.302, 277.698, -250.302, -12.302, -736.402, 305.798, -318.602], [4860, 5514, 5953, 6338, 7145, 7183, 7348, 7711, 9678, 10325, 11659, 7587, 5936, 6249, 13491, 13508, 13844, 14374, 6995, 7378, 12154, 6091, 13656, 8039, 11289], -208.79, 8972.2, 828.6069161891937, 131.46915984153748] at 16.001 minutes.\n"
     ]
    },
    {
     "data": {
      "application/vnd.jupyter.widget-view+json": {
       "model_id": "b5babf10566e40a3bdfce23738f64993",
       "version_major": 2,
       "version_minor": 0
      },
      "text/plain": [
       "Output()"
      ]
     },
     "metadata": {},
     "output_type": "display_data"
    },
    {
     "name": "stdout",
     "output_type": "stream",
     "text": [
      "------------\n",
      "Starting architecture 60 of 108\n",
      "Learning...\n"
     ]
    },
    {
     "data": {
      "text/html": [
       "<pre style=\"white-space:pre;overflow-x:auto;line-height:normal;font-family:Menlo,'DejaVu Sans Mono',consolas,'Courier New',monospace\"></pre>\n"
      ],
      "text/plain": []
     },
     "metadata": {},
     "output_type": "display_data"
    },
    {
     "data": {
      "text/html": [
       "<pre style=\"white-space:pre;overflow-x:auto;line-height:normal;font-family:Menlo,'DejaVu Sans Mono',consolas,'Courier New',monospace\">\n",
       "</pre>\n"
      ],
      "text/plain": [
       "\n"
      ]
     },
     "metadata": {},
     "output_type": "display_data"
    },
    {
     "name": "stdout",
     "output_type": "stream",
     "text": [
      "Learn time: 14.005 minutes\n",
      "Evaluating over 25 episodes...\n",
      "Evaluation time: 2.519 minutes\n",
      "Mean episode reward: -135.434, Standard deviation: 434.7853362016709\n",
      "Mean episode length: 9847.52, Standard deviation: 3937.3784183895764\n",
      "finished architecture ['CnnPolicy', 1e-06, 1024, 64, 2, 10, 0.9, 0.97, 0.3, [-568.902, -599.502, -425.202, -590.302, -258.402, 289.598, -79.302, 460.798, -152.102, -546.302, -423.702, 783.298, 167.798, -175.002, 378.998, -257.002, 359.898, -158.202, -301.502, -67.802, -447.802, 661.498, -638.202, 150.998, -949.502], [4849, 4908, 5107, 5196, 5903, 8365, 10099, 10907, 10988, 5138, 11246, 11802, 13579, 14221, 14231, 15113, 5627, 7192, 12746, 10107, 6129, 7012, 18135, 11464, 16124], -135.434, 9847.52, 840.2808010578156, 151.12718105316162] at 16.523 minutes.\n"
     ]
    },
    {
     "data": {
      "application/vnd.jupyter.widget-view+json": {
       "model_id": "988892c0840c4c44bd23e0bbb5009dd6",
       "version_major": 2,
       "version_minor": 0
      },
      "text/plain": [
       "Output()"
      ]
     },
     "metadata": {},
     "output_type": "display_data"
    },
    {
     "name": "stdout",
     "output_type": "stream",
     "text": [
      "------------\n",
      "Starting architecture 61 of 108\n",
      "Learning...\n"
     ]
    },
    {
     "data": {
      "text/html": [
       "<pre style=\"white-space:pre;overflow-x:auto;line-height:normal;font-family:Menlo,'DejaVu Sans Mono',consolas,'Courier New',monospace\"></pre>\n"
      ],
      "text/plain": []
     },
     "metadata": {},
     "output_type": "display_data"
    },
    {
     "data": {
      "text/html": [
       "<pre style=\"white-space:pre;overflow-x:auto;line-height:normal;font-family:Menlo,'DejaVu Sans Mono',consolas,'Courier New',monospace\">\n",
       "</pre>\n"
      ],
      "text/plain": [
       "\n"
      ]
     },
     "metadata": {},
     "output_type": "display_data"
    },
    {
     "name": "stdout",
     "output_type": "stream",
     "text": [
      "Learn time: 14.039 minutes\n",
      "Evaluating over 25 episodes...\n",
      "Evaluation time: 1.916 minutes\n",
      "Mean episode reward: -233.67800000000003, Standard deviation: 639.7175847387657\n",
      "Mean episode length: 9858.6, Standard deviation: 2759.6060733372797\n",
      "finished architecture ['CnnPolicy', 1e-06, 1024, 64, 2, 10, 0.9, 0.99, 0.1, [-398.202, -940.502, -106.802, -307.602, -625.002, -445.802, 418.298, 913.698, 228.998, -1283.502, 14.198, 677.098, 413.698, -976.602, -106.802, -92.302, -1687.102, -935.602, 390.698, 451.398, -84.102, -635.402, -1005.502, 191.098, 89.698], [5762, 6507, 7134, 7282, 9172, 9223, 9379, 11159, 11766, 12390, 12617, 12975, 13428, 6521, 13865, 5973, 15255, 13298, 6531, 10236, 10599, 8417, 7106, 10541, 9329], -233.67800000000003, 9858.6, 842.3199954032898, 114.94508600234985] at 15.954 minutes.\n"
     ]
    },
    {
     "data": {
      "application/vnd.jupyter.widget-view+json": {
       "model_id": "3e4ac45d46e74bddb86d74324c02c1e4",
       "version_major": 2,
       "version_minor": 0
      },
      "text/plain": [
       "Output()"
      ]
     },
     "metadata": {},
     "output_type": "display_data"
    },
    {
     "name": "stdout",
     "output_type": "stream",
     "text": [
      "------------\n",
      "Starting architecture 62 of 108\n",
      "Learning...\n"
     ]
    },
    {
     "data": {
      "text/html": [
       "<pre style=\"white-space:pre;overflow-x:auto;line-height:normal;font-family:Menlo,'DejaVu Sans Mono',consolas,'Courier New',monospace\"></pre>\n"
      ],
      "text/plain": []
     },
     "metadata": {},
     "output_type": "display_data"
    },
    {
     "data": {
      "text/html": [
       "<pre style=\"white-space:pre;overflow-x:auto;line-height:normal;font-family:Menlo,'DejaVu Sans Mono',consolas,'Courier New',monospace\">\n",
       "</pre>\n"
      ],
      "text/plain": [
       "\n"
      ]
     },
     "metadata": {},
     "output_type": "display_data"
    },
    {
     "name": "stdout",
     "output_type": "stream",
     "text": [
      "Learn time: 14.060 minutes\n",
      "Evaluating over 25 episodes...\n",
      "Evaluation time: 4.114 minutes\n",
      "Mean episode reward: -89.462, Standard deviation: 773.15030828423\n",
      "Mean episode length: 12985.16, Standard deviation: 6656.014523301464\n",
      "finished architecture ['CnnPolicy', 1e-06, 1024, 64, 2, 10, 0.9, 0.99, 0.2, [-888.102, -392.702, -845.502, 457.098, 409.598, -588.502, -81.702, -967.002, 308.498, -62.902, -177.702, 28.098, 977.898, -1267.402, -930.402, -429.802, -622.102, -219.202, -185.502, -148.102, 1218.598, 318.398, -600.402, 78.998, 2373.298], [6426, 7526, 7942, 10231, 10277, 10525, 10742, 11822, 11964, 12167, 13074, 14731, 15534, 16398, 5808, 11010, 5571, 19886, 9307, 12803, 19094, 13843, 15029, 12637, 40282], -89.462, 12985.16, 843.5843958854675, 246.81410670280457] at 18.173 minutes.\n"
     ]
    },
    {
     "data": {
      "application/vnd.jupyter.widget-view+json": {
       "model_id": "15a93f06a3284631bef9a5093916e42b",
       "version_major": 2,
       "version_minor": 0
      },
      "text/plain": [
       "Output()"
      ]
     },
     "metadata": {},
     "output_type": "display_data"
    },
    {
     "name": "stdout",
     "output_type": "stream",
     "text": [
      "------------\n",
      "Starting architecture 63 of 108\n",
      "Learning...\n"
     ]
    },
    {
     "data": {
      "text/html": [
       "<pre style=\"white-space:pre;overflow-x:auto;line-height:normal;font-family:Menlo,'DejaVu Sans Mono',consolas,'Courier New',monospace\"></pre>\n"
      ],
      "text/plain": []
     },
     "metadata": {},
     "output_type": "display_data"
    },
    {
     "data": {
      "text/html": [
       "<pre style=\"white-space:pre;overflow-x:auto;line-height:normal;font-family:Menlo,'DejaVu Sans Mono',consolas,'Courier New',monospace\">\n",
       "</pre>\n"
      ],
      "text/plain": [
       "\n"
      ]
     },
     "metadata": {},
     "output_type": "display_data"
    },
    {
     "name": "stdout",
     "output_type": "stream",
     "text": [
      "Learn time: 13.983 minutes\n",
      "Evaluating over 25 episodes...\n",
      "Evaluation time: 2.364 minutes\n",
      "Mean episode reward: -303.486, Standard deviation: 479.0546771966641\n",
      "Mean episode length: 9680.56, Standard deviation: 3552.8082985717087\n",
      "finished architecture ['CnnPolicy', 1e-06, 1024, 64, 2, 10, 0.9, 0.99, 0.3, [-414.102, -1007.502, -894.502, -163.102, -491.702, 22.098, -590.402, -47.002, -51.002, -885.502, 329.298, -527.002, -152.102, -162.002, -822.502, -320.902, 395.398, -686.402, -763.602, -189.202, 390.598, -508.502, -568.202, 1071.498, -550.802], [5496, 5915, 6715, 7063, 8511, 9455, 9498, 9698, 10172, 10385, 10889, 5631, 11611, 5940, 12152, 6831, 15268, 5842, 6535, 18232, 10681, 6284, 15185, 12157, 15868], -303.486, 9680.56, 838.9903709888458, 141.84945917129517] at 16.347 minutes.\n"
     ]
    },
    {
     "data": {
      "application/vnd.jupyter.widget-view+json": {
       "model_id": "d6f44872bfd249eab9482989360376c9",
       "version_major": 2,
       "version_minor": 0
      },
      "text/plain": [
       "Output()"
      ]
     },
     "metadata": {},
     "output_type": "display_data"
    },
    {
     "name": "stdout",
     "output_type": "stream",
     "text": [
      "------------\n",
      "Starting architecture 64 of 108\n",
      "Learning...\n"
     ]
    },
    {
     "data": {
      "text/html": [
       "<pre style=\"white-space:pre;overflow-x:auto;line-height:normal;font-family:Menlo,'DejaVu Sans Mono',consolas,'Courier New',monospace\"></pre>\n"
      ],
      "text/plain": []
     },
     "metadata": {},
     "output_type": "display_data"
    },
    {
     "data": {
      "text/html": [
       "<pre style=\"white-space:pre;overflow-x:auto;line-height:normal;font-family:Menlo,'DejaVu Sans Mono',consolas,'Courier New',monospace\">\n",
       "</pre>\n"
      ],
      "text/plain": [
       "\n"
      ]
     },
     "metadata": {},
     "output_type": "display_data"
    },
    {
     "name": "stdout",
     "output_type": "stream",
     "text": [
      "Learn time: 13.921 minutes\n",
      "Evaluating over 25 episodes...\n",
      "Evaluation time: 2.384 minutes\n",
      "Mean episode reward: -240.59400000000002, Standard deviation: 479.51151387219056\n",
      "Mean episode length: 11954.76, Standard deviation: 3243.887190147031\n",
      "finished architecture ['CnnPolicy', 1e-06, 1024, 64, 2, 10, 0.999, 0.95, 0.1, [-901.802, -999.102, 193.498, -529.702, -570.302, 10.998, -373.702, -756.902, 513.598, -220.002, -532.302, -837.902, -415.102, 93.598, -810.802, -214.402, -137.402, 112.498, 461.198, -142.102, 63.698, 750.098, -278.802, 391.598, -885.302], [5372, 8867, 9010, 9028, 11533, 11911, 12121, 12351, 13681, 13684, 14960, 15370, 15547, 16712, 11673, 8225, 20030, 11654, 9626, 8317, 15801, 12867, 10280, 12038, 8211], -240.59400000000002, 11954.76, 835.250914812088, 143.0480511188507] at 16.305 minutes.\n"
     ]
    },
    {
     "data": {
      "application/vnd.jupyter.widget-view+json": {
       "model_id": "e35f1f5d92044cd5a5e3edbb5801df2c",
       "version_major": 2,
       "version_minor": 0
      },
      "text/plain": [
       "Output()"
      ]
     },
     "metadata": {},
     "output_type": "display_data"
    },
    {
     "name": "stdout",
     "output_type": "stream",
     "text": [
      "------------\n",
      "Starting architecture 65 of 108\n",
      "Learning...\n"
     ]
    },
    {
     "data": {
      "text/html": [
       "<pre style=\"white-space:pre;overflow-x:auto;line-height:normal;font-family:Menlo,'DejaVu Sans Mono',consolas,'Courier New',monospace\"></pre>\n"
      ],
      "text/plain": []
     },
     "metadata": {},
     "output_type": "display_data"
    },
    {
     "data": {
      "text/html": [
       "<pre style=\"white-space:pre;overflow-x:auto;line-height:normal;font-family:Menlo,'DejaVu Sans Mono',consolas,'Courier New',monospace\">\n",
       "</pre>\n"
      ],
      "text/plain": [
       "\n"
      ]
     },
     "metadata": {},
     "output_type": "display_data"
    },
    {
     "name": "stdout",
     "output_type": "stream",
     "text": [
      "Learn time: 13.913 minutes\n",
      "Evaluating over 25 episodes...\n",
      "Evaluation time: 2.461 minutes\n",
      "Mean episode reward: -34.206, Standard deviation: 430.45213390573406\n",
      "Mean episode length: 11156.68, Standard deviation: 3944.637825910004\n",
      "finished architecture ['CnnPolicy', 1e-06, 1024, 64, 2, 10, 0.999, 0.95, 0.2, [-330.302, -751.602, 532.898, -674.402, -464.302, 56.698, -273.202, -83.602, 575.998, -77.102, -309.802, -348.902, -296.502, 263.998, -102.602, -523.302, 481.498, -561.202, 171.898, 116.098, 65.998, 150.898, 1118.298, 190.898, 216.498], [4977, 5270, 6175, 6199, 6233, 6487, 7125, 8754, 9287, 10514, 11004, 11901, 13194, 13612, 16308, 10081, 12788, 15603, 10843, 16724, 16414, 14031, 18637, 14114, 12642], -34.206, 11156.68, 834.7758371829987, 147.6592538356781] at 16.374 minutes.\n"
     ]
    },
    {
     "data": {
      "application/vnd.jupyter.widget-view+json": {
       "model_id": "bafed5135c4948d0a830776069988d31",
       "version_major": 2,
       "version_minor": 0
      },
      "text/plain": [
       "Output()"
      ]
     },
     "metadata": {},
     "output_type": "display_data"
    },
    {
     "name": "stdout",
     "output_type": "stream",
     "text": [
      "------------\n",
      "Starting architecture 66 of 108\n",
      "Learning...\n"
     ]
    },
    {
     "data": {
      "text/html": [
       "<pre style=\"white-space:pre;overflow-x:auto;line-height:normal;font-family:Menlo,'DejaVu Sans Mono',consolas,'Courier New',monospace\"></pre>\n"
      ],
      "text/plain": []
     },
     "metadata": {},
     "output_type": "display_data"
    },
    {
     "data": {
      "text/html": [
       "<pre style=\"white-space:pre;overflow-x:auto;line-height:normal;font-family:Menlo,'DejaVu Sans Mono',consolas,'Courier New',monospace\">\n",
       "</pre>\n"
      ],
      "text/plain": [
       "\n"
      ]
     },
     "metadata": {},
     "output_type": "display_data"
    },
    {
     "name": "stdout",
     "output_type": "stream",
     "text": [
      "Learn time: 14.103 minutes\n",
      "Evaluating over 25 episodes...\n",
      "Evaluation time: 4.588 minutes\n",
      "Mean episode reward: 71.442, Standard deviation: 594.5307292848705\n",
      "Mean episode length: 12502.4, Standard deviation: 6533.738715314533\n",
      "finished architecture ['CnnPolicy', 1e-06, 1024, 64, 2, 10, 0.999, 0.95, 0.3, [-538.602, -723.502, -174.402, -460.502, -195.002, -255.202, 564.898, 3.098, -923.602, 179.098, -252.402, -602.102, 618.098, 176.398, 81.598, -556.402, 889.698, 1079.698, 93.598, 993.898, 969.598, -530.102, 125.998, 1114.798, 107.398], [4579, 4607, 6034, 6400, 7419, 8765, 11110, 12449, 12721, 12803, 12954, 14011, 10870, 5902, 12562, 12243, 20936, 17745, 9967, 11116, 24266, 12511, 6722, 33142, 20726], 71.442, 12502.4, 846.1774458885193, 275.2872574329376] at 18.691 minutes.\n"
     ]
    },
    {
     "data": {
      "application/vnd.jupyter.widget-view+json": {
       "model_id": "3aa314965dbd40f6ba22d28df33a6459",
       "version_major": 2,
       "version_minor": 0
      },
      "text/plain": [
       "Output()"
      ]
     },
     "metadata": {},
     "output_type": "display_data"
    },
    {
     "name": "stdout",
     "output_type": "stream",
     "text": [
      "------------\n",
      "Starting architecture 67 of 108\n",
      "Learning...\n"
     ]
    },
    {
     "data": {
      "text/html": [
       "<pre style=\"white-space:pre;overflow-x:auto;line-height:normal;font-family:Menlo,'DejaVu Sans Mono',consolas,'Courier New',monospace\"></pre>\n"
      ],
      "text/plain": []
     },
     "metadata": {},
     "output_type": "display_data"
    },
    {
     "data": {
      "text/html": [
       "<pre style=\"white-space:pre;overflow-x:auto;line-height:normal;font-family:Menlo,'DejaVu Sans Mono',consolas,'Courier New',monospace\">\n",
       "</pre>\n"
      ],
      "text/plain": [
       "\n"
      ]
     },
     "metadata": {},
     "output_type": "display_data"
    },
    {
     "name": "stdout",
     "output_type": "stream",
     "text": [
      "Learn time: 14.237 minutes\n",
      "Evaluating over 25 episodes...\n",
      "Evaluation time: 2.313 minutes\n",
      "Mean episode reward: 26.310000000000024, Standard deviation: 611.5710570784069\n",
      "Mean episode length: 11275.2, Standard deviation: 3804.859282549093\n",
      "finished architecture ['CnnPolicy', 1e-06, 1024, 64, 2, 10, 0.999, 0.97, 0.1, [-699.202, -935.102, 248.198, -169.702, -126.302, 317.298, -256.002, 969.998, -244.902, 776.998, 616.298, -177.702, 410.798, 220.798, 1076.098, 606.798, -821.502, -627.302, -818.002, 1172.598, -177.902, 104.498, -623.302, -546.402, 360.698], [5546, 5547, 8382, 8407, 9733, 10918, 12236, 12317, 12447, 12811, 13850, 14006, 14423, 9121, 17964, 10796, 5827, 9057, 6144, 21109, 9172, 14037, 8893, 13942, 15195], 26.310000000000024, 11275.2, 854.214049577713, 138.76308155059814] at 16.550 minutes.\n"
     ]
    },
    {
     "data": {
      "application/vnd.jupyter.widget-view+json": {
       "model_id": "3a9134ab1c194d39b087b0fbec7078c3",
       "version_major": 2,
       "version_minor": 0
      },
      "text/plain": [
       "Output()"
      ]
     },
     "metadata": {},
     "output_type": "display_data"
    },
    {
     "name": "stdout",
     "output_type": "stream",
     "text": [
      "------------\n",
      "Starting architecture 68 of 108\n",
      "Learning...\n"
     ]
    },
    {
     "data": {
      "text/html": [
       "<pre style=\"white-space:pre;overflow-x:auto;line-height:normal;font-family:Menlo,'DejaVu Sans Mono',consolas,'Courier New',monospace\"></pre>\n"
      ],
      "text/plain": []
     },
     "metadata": {},
     "output_type": "display_data"
    },
    {
     "data": {
      "text/html": [
       "<pre style=\"white-space:pre;overflow-x:auto;line-height:normal;font-family:Menlo,'DejaVu Sans Mono',consolas,'Courier New',monospace\">\n",
       "</pre>\n"
      ],
      "text/plain": [
       "\n"
      ]
     },
     "metadata": {},
     "output_type": "display_data"
    },
    {
     "name": "stdout",
     "output_type": "stream",
     "text": [
      "Learn time: 13.864 minutes\n",
      "Evaluating over 25 episodes...\n",
      "Evaluation time: 3.511 minutes\n",
      "Mean episode reward: 128.13400000000001, Standard deviation: 490.29078872032665\n",
      "Mean episode length: 11522.92, Standard deviation: 4450.222160027519\n",
      "finished architecture ['CnnPolicy', 1e-06, 1024, 64, 2, 10, 0.999, 0.97, 0.2, [-659.902, -448.502, 2.598, -402.302, -621.602, -20.702, 319.098, 974.998, 187.198, 232.998, 31.398, 46.898, 550.098, -271.902, -240.402, 501.098, -198.202, -263.102, -278.602, 378.898, 833.598, 214.498, 328.498, 1329.298, 677.398], [4894, 6530, 7418, 7836, 7850, 8256, 9011, 10815, 11792, 12000, 12496, 12537, 12729, 13295, 10120, 10024, 11324, 9033, 8360, 11602, 13647, 15126, 18363, 27583, 15432], 128.13400000000001, 11522.92, 831.8412146568298, 210.66131138801575] at 17.375 minutes.\n"
     ]
    },
    {
     "data": {
      "application/vnd.jupyter.widget-view+json": {
       "model_id": "0eb2a0b8ddc4426cafcca0a26f3d3c71",
       "version_major": 2,
       "version_minor": 0
      },
      "text/plain": [
       "Output()"
      ]
     },
     "metadata": {},
     "output_type": "display_data"
    },
    {
     "name": "stdout",
     "output_type": "stream",
     "text": [
      "------------\n",
      "Starting architecture 69 of 108\n",
      "Learning...\n"
     ]
    },
    {
     "data": {
      "text/html": [
       "<pre style=\"white-space:pre;overflow-x:auto;line-height:normal;font-family:Menlo,'DejaVu Sans Mono',consolas,'Courier New',monospace\"></pre>\n"
      ],
      "text/plain": []
     },
     "metadata": {},
     "output_type": "display_data"
    },
    {
     "data": {
      "text/html": [
       "<pre style=\"white-space:pre;overflow-x:auto;line-height:normal;font-family:Menlo,'DejaVu Sans Mono',consolas,'Courier New',monospace\">\n",
       "</pre>\n"
      ],
      "text/plain": [
       "\n"
      ]
     },
     "metadata": {},
     "output_type": "display_data"
    },
    {
     "name": "stdout",
     "output_type": "stream",
     "text": [
      "Learn time: 13.244 minutes\n",
      "Evaluating over 25 episodes...\n",
      "Evaluation time: 3.079 minutes\n",
      "Mean episode reward: -115.234, Standard deviation: 540.8200371435955\n",
      "Mean episode length: 11667.36, Standard deviation: 5375.435326594489\n",
      "finished architecture ['CnnPolicy', 1e-06, 1024, 64, 2, 10, 0.999, 0.97, 0.3, [-676.902, -450.202, -507.402, -240.202, -507.602, 133.498, -1075.502, 145.098, -58.002, 730.998, 723.398, -323.402, -391.702, -743.902, 206.498, -763.402, -465.202, 74.798, -865.102, -2.502, 240.198, 883.398, 676.898, -248.102, 623.498], [5720, 6600, 7125, 7768, 8099, 9268, 9295, 10428, 10473, 10946, 11996, 13918, 8301, 4600, 15503, 17206, 8052, 11205, 6070, 9617, 23753, 23021, 23716, 15218, 13786], -115.234, 11667.36, 794.6224513053894, 184.7154974937439] at 16.322 minutes.\n"
     ]
    },
    {
     "data": {
      "application/vnd.jupyter.widget-view+json": {
       "model_id": "39e483e9534f4fd49553d0ced22802bf",
       "version_major": 2,
       "version_minor": 0
      },
      "text/plain": [
       "Output()"
      ]
     },
     "metadata": {},
     "output_type": "display_data"
    },
    {
     "name": "stdout",
     "output_type": "stream",
     "text": [
      "------------\n",
      "Starting architecture 70 of 108\n",
      "Learning...\n"
     ]
    },
    {
     "data": {
      "text/html": [
       "<pre style=\"white-space:pre;overflow-x:auto;line-height:normal;font-family:Menlo,'DejaVu Sans Mono',consolas,'Courier New',monospace\"></pre>\n"
      ],
      "text/plain": []
     },
     "metadata": {},
     "output_type": "display_data"
    },
    {
     "data": {
      "text/html": [
       "<pre style=\"white-space:pre;overflow-x:auto;line-height:normal;font-family:Menlo,'DejaVu Sans Mono',consolas,'Courier New',monospace\">\n",
       "</pre>\n"
      ],
      "text/plain": [
       "\n"
      ]
     },
     "metadata": {},
     "output_type": "display_data"
    },
    {
     "name": "stdout",
     "output_type": "stream",
     "text": [
      "Learn time: 13.144 minutes\n",
      "Evaluating over 25 episodes...\n",
      "Evaluation time: 2.133 minutes\n",
      "Mean episode reward: -223.87399999999997, Standard deviation: 381.3949653784119\n",
      "Mean episode length: 9187.88, Standard deviation: 2746.8858341037762\n",
      "finished architecture ['CnnPolicy', 1e-06, 1024, 64, 2, 10, 0.999, 0.99, 0.1, [-345.102, -690.202, -267.302, -734.902, -617.402, -662.702, -291.102, -32.902, 96.298, 269.198, -721.902, 478.398, -940.702, -668.402, -147.302, -81.602, -308.602, -376.902, 96.398, 61.998, -388.802, -6.702, 358.798, 134.798, 189.798], [5023, 5299, 5747, 5822, 7797, 8471, 8821, 8847, 9108, 9247, 9423, 10277, 13550, 8715, 14134, 14235, 6027, 9167, 9808, 7120, 6959, 8756, 11165, 14777, 11402], -223.87399999999997, 9187.88, 788.6395030021667, 127.95052814483643] at 15.277 minutes.\n"
     ]
    },
    {
     "data": {
      "application/vnd.jupyter.widget-view+json": {
       "model_id": "09cc9c31ee2042928e19e81ed6bc2e5b",
       "version_major": 2,
       "version_minor": 0
      },
      "text/plain": [
       "Output()"
      ]
     },
     "metadata": {},
     "output_type": "display_data"
    },
    {
     "name": "stdout",
     "output_type": "stream",
     "text": [
      "------------\n",
      "Starting architecture 71 of 108\n",
      "Learning...\n"
     ]
    },
    {
     "data": {
      "text/html": [
       "<pre style=\"white-space:pre;overflow-x:auto;line-height:normal;font-family:Menlo,'DejaVu Sans Mono',consolas,'Courier New',monospace\"></pre>\n"
      ],
      "text/plain": []
     },
     "metadata": {},
     "output_type": "display_data"
    },
    {
     "data": {
      "text/html": [
       "<pre style=\"white-space:pre;overflow-x:auto;line-height:normal;font-family:Menlo,'DejaVu Sans Mono',consolas,'Courier New',monospace\">\n",
       "</pre>\n"
      ],
      "text/plain": [
       "\n"
      ]
     },
     "metadata": {},
     "output_type": "display_data"
    },
    {
     "name": "stdout",
     "output_type": "stream",
     "text": [
      "Learn time: 13.209 minutes\n",
      "Evaluating over 25 episodes...\n",
      "Evaluation time: 2.820 minutes\n",
      "Mean episode reward: -272.70599999999996, Standard deviation: 686.4727038885086\n",
      "Mean episode length: 11158.52, Standard deviation: 4185.74102514716\n",
      "finished architecture ['CnnPolicy', 1e-06, 1024, 64, 2, 10, 0.999, 0.99, 0.2, [-649.302, 148.898, 99.398, 71.898, -526.602, -256.302, -466.702, -84.602, -1105.802, 230.798, -380.802, 550.298, -173.002, 529.698, 550.898, -840.502, 1210.398, -190.502, -572.502, -651.202, -33.802, -766.802, -819.102, -243.602, -2448.802], [5058, 5941, 6346, 8005, 8473, 9135, 10693, 11370, 11386, 11424, 6081, 13841, 5899, 15094, 15633, 16376, 19235, 10322, 8311, 15662, 14234, 5112, 14655, 12347, 18330], -272.70599999999996, 11158.52, 792.5410928726196, 169.20787525177002] at 16.029 minutes.\n"
     ]
    },
    {
     "data": {
      "application/vnd.jupyter.widget-view+json": {
       "model_id": "53a21e46cd4f44359743867bababe0d1",
       "version_major": 2,
       "version_minor": 0
      },
      "text/plain": [
       "Output()"
      ]
     },
     "metadata": {},
     "output_type": "display_data"
    },
    {
     "name": "stdout",
     "output_type": "stream",
     "text": [
      "------------\n",
      "Starting architecture 72 of 108\n",
      "Learning...\n"
     ]
    },
    {
     "data": {
      "text/html": [
       "<pre style=\"white-space:pre;overflow-x:auto;line-height:normal;font-family:Menlo,'DejaVu Sans Mono',consolas,'Courier New',monospace\"></pre>\n"
      ],
      "text/plain": []
     },
     "metadata": {},
     "output_type": "display_data"
    },
    {
     "data": {
      "text/html": [
       "<pre style=\"white-space:pre;overflow-x:auto;line-height:normal;font-family:Menlo,'DejaVu Sans Mono',consolas,'Courier New',monospace\">\n",
       "</pre>\n"
      ],
      "text/plain": [
       "\n"
      ]
     },
     "metadata": {},
     "output_type": "display_data"
    },
    {
     "name": "stdout",
     "output_type": "stream",
     "text": [
      "Learn time: 13.169 minutes\n",
      "Evaluating over 25 episodes...\n",
      "Evaluation time: 4.741 minutes\n",
      "Mean episode reward: 245.998, Standard deviation: 609.0921670814689\n",
      "Mean episode length: 13147.36, Standard deviation: 8711.532994278332\n",
      "finished architecture ['CnnPolicy', 1e-06, 1024, 64, 2, 10, 0.999, 0.99, 0.3, [-59.402, -166.902, -595.902, -223.102, 717.598, 6.398, -320.102, 40.498, -255.902, -52.502, -210.602, 148.498, 584.698, 440.598, 0.198, 1.998, 668.598, -70.302, 253.198, 653.798, -666.602, 1274.298, 1700.298, 611.898, 1668.698], [4371, 5215, 6518, 6656, 7307, 9219, 9669, 10557, 12078, 12173, 12452, 13546, 7485, 15279, 11159, 11636, 7929, 22777, 12109, 11054, 4409, 27752, 31650, 14277, 41407], 245.998, 13147.36, 790.160884141922, 284.47307991981506] at 17.911 minutes.\n"
     ]
    },
    {
     "data": {
      "application/vnd.jupyter.widget-view+json": {
       "model_id": "64491f3e615343cba58f3e5194022088",
       "version_major": 2,
       "version_minor": 0
      },
      "text/plain": [
       "Output()"
      ]
     },
     "metadata": {},
     "output_type": "display_data"
    },
    {
     "name": "stdout",
     "output_type": "stream",
     "text": [
      "------------\n",
      "Starting architecture 73 of 108\n",
      "Learning...\n"
     ]
    },
    {
     "data": {
      "text/html": [
       "<pre style=\"white-space:pre;overflow-x:auto;line-height:normal;font-family:Menlo,'DejaVu Sans Mono',consolas,'Courier New',monospace\"></pre>\n"
      ],
      "text/plain": []
     },
     "metadata": {},
     "output_type": "display_data"
    },
    {
     "data": {
      "text/html": [
       "<pre style=\"white-space:pre;overflow-x:auto;line-height:normal;font-family:Menlo,'DejaVu Sans Mono',consolas,'Courier New',monospace\">\n",
       "</pre>\n"
      ],
      "text/plain": [
       "\n"
      ]
     },
     "metadata": {},
     "output_type": "display_data"
    },
    {
     "name": "stdout",
     "output_type": "stream",
     "text": [
      "Learn time: 27.669 minutes\n",
      "Evaluating over 25 episodes...\n",
      "Evaluation time: 2.508 minutes\n",
      "Mean episode reward: -321.258, Standard deviation: 554.7894548961794\n",
      "Mean episode length: 10421.44, Standard deviation: 3975.546101656979\n",
      "finished architecture ['CnnPolicy', 1e-06, 1024, 64, 2, 25, 0.9, 0.95, 0.1, [-726.902, -652.802, 19.698, -1060.302, -918.502, -399.402, 23.598, 271.298, -95.702, 152.598, -585.902, -53.702, -491.302, -880.202, -923.002, -177.902, 153.498, 762.098, -1289.802, 1002.298, 135.098, -794.502, -184.002, -748.502, -569.202], [5781, 6486, 6897, 6945, 7180, 8321, 9009, 9191, 10680, 13240, 6792, 7635, 14036, 8199, 6104, 15776, 16952, 17046, 9912, 9960, 19848, 6211, 14898, 13116, 10321], -321.258, 10421.44, 1660.150717973709, 150.50263452529907] at 30.178 minutes.\n"
     ]
    },
    {
     "data": {
      "application/vnd.jupyter.widget-view+json": {
       "model_id": "52c9eee090f3435b84cd8b7a66bc7e8d",
       "version_major": 2,
       "version_minor": 0
      },
      "text/plain": [
       "Output()"
      ]
     },
     "metadata": {},
     "output_type": "display_data"
    },
    {
     "name": "stdout",
     "output_type": "stream",
     "text": [
      "------------\n",
      "Starting architecture 74 of 108\n",
      "Learning...\n"
     ]
    },
    {
     "data": {
      "text/html": [
       "<pre style=\"white-space:pre;overflow-x:auto;line-height:normal;font-family:Menlo,'DejaVu Sans Mono',consolas,'Courier New',monospace\"></pre>\n"
      ],
      "text/plain": []
     },
     "metadata": {},
     "output_type": "display_data"
    },
    {
     "data": {
      "text/html": [
       "<pre style=\"white-space:pre;overflow-x:auto;line-height:normal;font-family:Menlo,'DejaVu Sans Mono',consolas,'Courier New',monospace\">\n",
       "</pre>\n"
      ],
      "text/plain": [
       "\n"
      ]
     },
     "metadata": {},
     "output_type": "display_data"
    },
    {
     "name": "stdout",
     "output_type": "stream",
     "text": [
      "Learn time: 28.023 minutes\n",
      "Evaluating over 25 episodes...\n",
      "Evaluation time: 2.058 minutes\n",
      "Mean episode reward: -711.066, Standard deviation: 347.75029878348056\n",
      "Mean episode length: 8286.96, Standard deviation: 2419.5232171649027\n",
      "finished architecture ['CnnPolicy', 1e-06, 1024, 64, 2, 25, 0.9, 0.95, 0.2, [-1034.702, -582.402, -1131.202, -1123.202, -880.602, -559.902, -1182.502, -719.202, -479.302, -374.902, -25.402, -389.302, -1168.402, 30.798, -793.602, -787.102, -485.702, -1156.902, -734.602, -277.002, -385.002, -937.802, -827.402, -663.802, -1107.502], [5848, 5932, 6424, 6438, 6575, 7961, 7978, 8195, 8867, 9869, 10331, 10564, 10908, 12454, 6542, 6903, 7892, 7754, 6557, 5638, 16684, 7281, 7084, 8314, 8181], -711.066, 8286.96, 1681.4019167423248, 123.49451494216919] at 30.082 minutes.\n"
     ]
    },
    {
     "data": {
      "application/vnd.jupyter.widget-view+json": {
       "model_id": "ad3727180c124080bcfa0009f05459a3",
       "version_major": 2,
       "version_minor": 0
      },
      "text/plain": [
       "Output()"
      ]
     },
     "metadata": {},
     "output_type": "display_data"
    },
    {
     "name": "stdout",
     "output_type": "stream",
     "text": [
      "------------\n",
      "Starting architecture 75 of 108\n",
      "Learning...\n"
     ]
    },
    {
     "data": {
      "text/html": [
       "<pre style=\"white-space:pre;overflow-x:auto;line-height:normal;font-family:Menlo,'DejaVu Sans Mono',consolas,'Courier New',monospace\"></pre>\n"
      ],
      "text/plain": []
     },
     "metadata": {},
     "output_type": "display_data"
    },
    {
     "data": {
      "text/html": [
       "<pre style=\"white-space:pre;overflow-x:auto;line-height:normal;font-family:Menlo,'DejaVu Sans Mono',consolas,'Courier New',monospace\">\n",
       "</pre>\n"
      ],
      "text/plain": [
       "\n"
      ]
     },
     "metadata": {},
     "output_type": "display_data"
    },
    {
     "name": "stdout",
     "output_type": "stream",
     "text": [
      "Learn time: 27.456 minutes\n",
      "Evaluating over 25 episodes...\n",
      "Evaluation time: 1.920 minutes\n",
      "Mean episode reward: -286.75, Standard deviation: 491.94294800921784\n",
      "Mean episode length: 9455.96, Standard deviation: 3062.9826572150228\n",
      "finished architecture ['CnnPolicy', 1e-06, 1024, 64, 2, 25, 0.9, 0.95, 0.3, [-52.402, -439.802, -839.602, -1105.602, -750.402, -109.502, 405.098, -1037.202, -306.902, 680.298, -765.702, 547.698, -192.102, -321.702, -703.202, -112.702, -456.702, 575.498, -307.402, 96.898, -983.402, -131.202, -621.102, 12.698, -250.302], [4977, 5296, 5711, 6323, 6986, 8923, 9328, 9341, 9539, 9684, 10306, 11847, 13205, 8136, 6981, 9795, 6071, 15812, 16448, 11556, 12608, 8648, 8175, 7237, 13466], -286.75, 9455.96, 1647.349767923355, 115.18209719657898] at 29.376 minutes.\n"
     ]
    },
    {
     "data": {
      "application/vnd.jupyter.widget-view+json": {
       "model_id": "56ebf6f5f2ac41438cbe358460aa2730",
       "version_major": 2,
       "version_minor": 0
      },
      "text/plain": [
       "Output()"
      ]
     },
     "metadata": {},
     "output_type": "display_data"
    },
    {
     "name": "stdout",
     "output_type": "stream",
     "text": [
      "------------\n",
      "Starting architecture 76 of 108\n",
      "Learning...\n"
     ]
    },
    {
     "data": {
      "text/html": [
       "<pre style=\"white-space:pre;overflow-x:auto;line-height:normal;font-family:Menlo,'DejaVu Sans Mono',consolas,'Courier New',monospace\"></pre>\n"
      ],
      "text/plain": []
     },
     "metadata": {},
     "output_type": "display_data"
    },
    {
     "data": {
      "text/html": [
       "<pre style=\"white-space:pre;overflow-x:auto;line-height:normal;font-family:Menlo,'DejaVu Sans Mono',consolas,'Courier New',monospace\">\n",
       "</pre>\n"
      ],
      "text/plain": [
       "\n"
      ]
     },
     "metadata": {},
     "output_type": "display_data"
    },
    {
     "name": "stdout",
     "output_type": "stream",
     "text": [
      "Learn time: 27.835 minutes\n",
      "Evaluating over 25 episodes...\n",
      "Evaluation time: 4.000 minutes\n",
      "Mean episode reward: 17.718000000000007, Standard deviation: 404.27847432184666\n",
      "Mean episode length: 11745.44, Standard deviation: 5195.739170358728\n",
      "finished architecture ['CnnPolicy', 1e-06, 1024, 64, 2, 25, 0.9, 0.97, 0.1, [35.998, -119.902, -125.602, -578.502, -575.702, 256.398, 81.398, -302.702, 271.598, -278.802, 220.198, -684.602, -21.102, 672.698, 419.198, -125.502, 3.698, -162.302, 579.098, -663.302, -28.702, -67.202, 840.798, 187.398, 608.398], [5391, 5714, 7267, 7454, 8210, 8743, 9501, 9916, 10275, 6465, 13010, 13135, 13935, 7371, 10790, 16381, 9723, 9988, 22198, 13188, 12563, 10481, 14236, 27711, 19990], 17.718000000000007, 11745.44, 1670.0961401462555, 239.97759771347046] at 31.835 minutes.\n"
     ]
    },
    {
     "data": {
      "application/vnd.jupyter.widget-view+json": {
       "model_id": "e1d5a29d71f244099b28672b1d20a70a",
       "version_major": 2,
       "version_minor": 0
      },
      "text/plain": [
       "Output()"
      ]
     },
     "metadata": {},
     "output_type": "display_data"
    },
    {
     "name": "stdout",
     "output_type": "stream",
     "text": [
      "------------\n",
      "Starting architecture 77 of 108\n",
      "Learning...\n"
     ]
    },
    {
     "data": {
      "text/html": [
       "<pre style=\"white-space:pre;overflow-x:auto;line-height:normal;font-family:Menlo,'DejaVu Sans Mono',consolas,'Courier New',monospace\"></pre>\n"
      ],
      "text/plain": []
     },
     "metadata": {},
     "output_type": "display_data"
    },
    {
     "data": {
      "text/html": [
       "<pre style=\"white-space:pre;overflow-x:auto;line-height:normal;font-family:Menlo,'DejaVu Sans Mono',consolas,'Courier New',monospace\">\n",
       "</pre>\n"
      ],
      "text/plain": [
       "\n"
      ]
     },
     "metadata": {},
     "output_type": "display_data"
    },
    {
     "name": "stdout",
     "output_type": "stream",
     "text": [
      "Learn time: 27.774 minutes\n",
      "Evaluating over 25 episodes...\n",
      "Evaluation time: 2.360 minutes\n",
      "Mean episode reward: -344.046, Standard deviation: 452.2792270975973\n",
      "Mean episode length: 8933.08, Standard deviation: 3077.8377204784533\n",
      "finished architecture ['CnnPolicy', 1e-06, 1024, 64, 2, 25, 0.9, 0.97, 0.2, [-718.702, 14.098, -750.702, -22.702, -721.602, -488.902, -439.002, -676.102, 414.598, -213.402, -1309.702, -268.802, -745.802, 425.998, -115.602, -888.802, 402.098, 250.998, -886.002, -61.802, -628.402, -8.602, -617.902, -493.602, -52.802], [5694, 5778, 5781, 5955, 6177, 7513, 7801, 8763, 8924, 9640, 10189, 10250, 4562, 10630, 5411, 5864, 13014, 16529, 8999, 8077, 11156, 11542, 11778, 7820, 15480], -344.046, 8933.08, 1666.4364204406738, 141.61155605316162] at 30.134 minutes.\n"
     ]
    },
    {
     "data": {
      "application/vnd.jupyter.widget-view+json": {
       "model_id": "55705c833c1d4fdcb300a0201815b0d6",
       "version_major": 2,
       "version_minor": 0
      },
      "text/plain": [
       "Output()"
      ]
     },
     "metadata": {},
     "output_type": "display_data"
    },
    {
     "name": "stdout",
     "output_type": "stream",
     "text": [
      "------------\n",
      "Starting architecture 78 of 108\n",
      "Learning...\n"
     ]
    },
    {
     "data": {
      "text/html": [
       "<pre style=\"white-space:pre;overflow-x:auto;line-height:normal;font-family:Menlo,'DejaVu Sans Mono',consolas,'Courier New',monospace\"></pre>\n"
      ],
      "text/plain": []
     },
     "metadata": {},
     "output_type": "display_data"
    },
    {
     "data": {
      "text/html": [
       "<pre style=\"white-space:pre;overflow-x:auto;line-height:normal;font-family:Menlo,'DejaVu Sans Mono',consolas,'Courier New',monospace\">\n",
       "</pre>\n"
      ],
      "text/plain": [
       "\n"
      ]
     },
     "metadata": {},
     "output_type": "display_data"
    },
    {
     "name": "stdout",
     "output_type": "stream",
     "text": [
      "Learn time: 28.000 minutes\n",
      "Evaluating over 25 episodes...\n",
      "Evaluation time: 2.302 minutes\n",
      "Mean episode reward: -482.5259999999999, Standard deviation: 596.1425911843576\n",
      "Mean episode length: 8639.56, Standard deviation: 3098.3992909888166\n",
      "finished architecture ['CnnPolicy', 1e-06, 1024, 64, 2, 25, 0.9, 0.97, 0.3, [-351.402, -386.002, -745.402, -1070.502, -755.602, -609.502, -1337.702, 71.498, -307.202, 79.898, -779.002, -1166.702, -581.502, -597.802, -783.502, -805.502, 819.998, -633.002, 1303.998, -983.002, 286.698, -918.602, -385.002, -456.002, -972.302], [4788, 5186, 5589, 6504, 7041, 7195, 7249, 7427, 7540, 7972, 9330, 6566, 13026, 13189, 13292, 6178, 9107, 8983, 16681, 10418, 9143, 5768, 7259, 6198, 14360], -482.5259999999999, 8639.56, 1680.007005929947, 138.1000373363495] at 30.302 minutes.\n"
     ]
    },
    {
     "data": {
      "application/vnd.jupyter.widget-view+json": {
       "model_id": "1ca3364f08574167ad27e5a529450d32",
       "version_major": 2,
       "version_minor": 0
      },
      "text/plain": [
       "Output()"
      ]
     },
     "metadata": {},
     "output_type": "display_data"
    },
    {
     "name": "stdout",
     "output_type": "stream",
     "text": [
      "------------\n",
      "Starting architecture 79 of 108\n",
      "Learning...\n"
     ]
    },
    {
     "data": {
      "text/html": [
       "<pre style=\"white-space:pre;overflow-x:auto;line-height:normal;font-family:Menlo,'DejaVu Sans Mono',consolas,'Courier New',monospace\"></pre>\n"
      ],
      "text/plain": []
     },
     "metadata": {},
     "output_type": "display_data"
    },
    {
     "data": {
      "text/html": [
       "<pre style=\"white-space:pre;overflow-x:auto;line-height:normal;font-family:Menlo,'DejaVu Sans Mono',consolas,'Courier New',monospace\">\n",
       "</pre>\n"
      ],
      "text/plain": [
       "\n"
      ]
     },
     "metadata": {},
     "output_type": "display_data"
    },
    {
     "name": "stdout",
     "output_type": "stream",
     "text": [
      "Learn time: 28.096 minutes\n",
      "Evaluating over 25 episodes...\n",
      "Evaluation time: 2.566 minutes\n",
      "Mean episode reward: -442.726, Standard deviation: 545.0156161285656\n",
      "Mean episode length: 9769.8, Standard deviation: 3809.2491228587296\n",
      "finished architecture ['CnnPolicy', 1e-06, 1024, 64, 2, 25, 0.9, 0.99, 0.1, [-663.602, -892.002, -753.402, -596.802, -101.502, -1057.902, -908.402, -553.302, 368.898, -939.602, -509.002, -883.602, -524.302, -1136.502, 268.998, 577.698, -1086.002, -357.002, 15.798, -201.902, -603.202, -578.202, 1048.498, -164.002, -837.802], [5212, 5513, 5792, 6180, 6316, 6366, 6493, 6710, 8419, 8508, 10414, 5637, 13113, 6678, 13568, 14694, 6214, 15078, 13545, 16367, 13192, 8831, 11488, 13687, 16230], -442.726, 9769.8, 1685.7761676311493, 153.96310687065125] at 30.662 minutes.\n"
     ]
    },
    {
     "data": {
      "application/vnd.jupyter.widget-view+json": {
       "model_id": "c2988f2fb52d4ae7957971d14f543705",
       "version_major": 2,
       "version_minor": 0
      },
      "text/plain": [
       "Output()"
      ]
     },
     "metadata": {},
     "output_type": "display_data"
    },
    {
     "name": "stdout",
     "output_type": "stream",
     "text": [
      "------------\n",
      "Starting architecture 80 of 108\n",
      "Learning...\n"
     ]
    },
    {
     "data": {
      "text/html": [
       "<pre style=\"white-space:pre;overflow-x:auto;line-height:normal;font-family:Menlo,'DejaVu Sans Mono',consolas,'Courier New',monospace\"></pre>\n"
      ],
      "text/plain": []
     },
     "metadata": {},
     "output_type": "display_data"
    },
    {
     "data": {
      "text/html": [
       "<pre style=\"white-space:pre;overflow-x:auto;line-height:normal;font-family:Menlo,'DejaVu Sans Mono',consolas,'Courier New',monospace\">\n",
       "</pre>\n"
      ],
      "text/plain": [
       "\n"
      ]
     },
     "metadata": {},
     "output_type": "display_data"
    },
    {
     "name": "stdout",
     "output_type": "stream",
     "text": [
      "Learn time: 28.133 minutes\n",
      "Evaluating over 25 episodes...\n",
      "Evaluation time: 3.448 minutes\n",
      "Mean episode reward: 56.242, Standard deviation: 415.6574956186884\n",
      "Mean episode length: 12862.2, Standard deviation: 6479.5311435319145\n",
      "finished architecture ['CnnPolicy', 1e-06, 1024, 64, 2, 25, 0.9, 0.99, 0.2, [-458.702, 74.398, -131.202, -515.802, 276.598, 487.898, 364.898, 379.998, 545.898, 435.298, -199.902, -66.702, -90.902, 28.698, 195.698, 310.298, 96.698, 516.298, -114.502, -262.802, 806.798, -1110.802, -503.302, 366.898, -25.702], [5082, 7665, 8188, 8983, 10739, 11477, 12217, 12500, 13184, 13400, 14561, 14687, 12986, 18703, 7244, 11280, 8361, 11897, 10910, 8930, 27813, 16781, 12588, 35546, 5833], 56.242, 12862.2, 1687.966596364975, 206.8533411026001] at 31.580 minutes.\n"
     ]
    },
    {
     "data": {
      "application/vnd.jupyter.widget-view+json": {
       "model_id": "e813755c807f4048a91a78ddd78e9023",
       "version_major": 2,
       "version_minor": 0
      },
      "text/plain": [
       "Output()"
      ]
     },
     "metadata": {},
     "output_type": "display_data"
    },
    {
     "name": "stdout",
     "output_type": "stream",
     "text": [
      "------------\n",
      "Starting architecture 81 of 108\n",
      "Learning...\n"
     ]
    },
    {
     "data": {
      "text/html": [
       "<pre style=\"white-space:pre;overflow-x:auto;line-height:normal;font-family:Menlo,'DejaVu Sans Mono',consolas,'Courier New',monospace\"></pre>\n"
      ],
      "text/plain": []
     },
     "metadata": {},
     "output_type": "display_data"
    },
    {
     "data": {
      "text/html": [
       "<pre style=\"white-space:pre;overflow-x:auto;line-height:normal;font-family:Menlo,'DejaVu Sans Mono',consolas,'Courier New',monospace\">\n",
       "</pre>\n"
      ],
      "text/plain": [
       "\n"
      ]
     },
     "metadata": {},
     "output_type": "display_data"
    },
    {
     "name": "stdout",
     "output_type": "stream",
     "text": [
      "Learn time: 28.012 minutes\n",
      "Evaluating over 25 episodes...\n",
      "Evaluation time: 4.242 minutes\n",
      "Mean episode reward: 485.47399999999993, Standard deviation: 683.5504389757936\n",
      "Mean episode length: 15393.88, Standard deviation: 7544.8699568382235\n",
      "finished architecture ['CnnPolicy', 1e-06, 1024, 64, 2, 25, 0.9, 0.99, 0.3, [-484.602, 114.198, -499.602, 772.598, 544.798, 173.198, -2.602, 749.398, 756.498, 345.598, 145.398, 518.698, 368.298, 412.998, 447.498, 2652.198, -479.802, 314.498, 1277.798, 703.898, 1734.098, -323.602, 790.898, 914.998, 189.498], [4904, 9398, 9555, 10399, 11270, 11475, 12058, 12460, 12543, 13287, 16713, 17151, 10627, 9918, 12910, 24625, 15900, 12816, 26430, 9391, 35905, 13775, 21353, 34909, 15075], 485.47399999999993, 15393.88, 1680.699723482132, 254.49495029449463] at 32.253 minutes.\n"
     ]
    },
    {
     "data": {
      "application/vnd.jupyter.widget-view+json": {
       "model_id": "869993da47204a05a6faf0050ef88364",
       "version_major": 2,
       "version_minor": 0
      },
      "text/plain": [
       "Output()"
      ]
     },
     "metadata": {},
     "output_type": "display_data"
    },
    {
     "name": "stdout",
     "output_type": "stream",
     "text": [
      "------------\n",
      "Starting architecture 82 of 108\n",
      "Learning...\n"
     ]
    },
    {
     "data": {
      "text/html": [
       "<pre style=\"white-space:pre;overflow-x:auto;line-height:normal;font-family:Menlo,'DejaVu Sans Mono',consolas,'Courier New',monospace\"></pre>\n"
      ],
      "text/plain": []
     },
     "metadata": {},
     "output_type": "display_data"
    },
    {
     "data": {
      "text/html": [
       "<pre style=\"white-space:pre;overflow-x:auto;line-height:normal;font-family:Menlo,'DejaVu Sans Mono',consolas,'Courier New',monospace\">\n",
       "</pre>\n"
      ],
      "text/plain": [
       "\n"
      ]
     },
     "metadata": {},
     "output_type": "display_data"
    },
    {
     "name": "stdout",
     "output_type": "stream",
     "text": [
      "Learn time: 28.160 minutes\n",
      "Evaluating over 25 episodes...\n",
      "Evaluation time: 2.213 minutes\n",
      "Mean episode reward: -299.098, Standard deviation: 430.2374669691146\n",
      "Mean episode length: 9490.76, Standard deviation: 2632.668840245579\n",
      "finished architecture ['CnnPolicy', 1e-06, 1024, 64, 2, 25, 0.999, 0.95, 0.1, [-611.702, -919.402, 37.398, -348.802, -968.102, -247.102, -767.802, -133.202, 35.898, -320.502, -694.802, 62.098, -306.202, -199.902, 423.098, 706.898, -1094.002, -615.002, -199.002, 212.098, -258.702, 189.098, -586.702, -548.902, -324.202], [6102, 6494, 6631, 6839, 7029, 7683, 8364, 8473, 8899, 9280, 10183, 5801, 12466, 13719, 13771, 14761, 6497, 8449, 10368, 11153, 13401, 8848, 8880, 11281, 11897], -299.098, 9490.76, 1689.599624156952, 132.78880715370178] at 30.373 minutes.\n"
     ]
    },
    {
     "data": {
      "application/vnd.jupyter.widget-view+json": {
       "model_id": "72379e316791479db440c24c858c9fe5",
       "version_major": 2,
       "version_minor": 0
      },
      "text/plain": [
       "Output()"
      ]
     },
     "metadata": {},
     "output_type": "display_data"
    },
    {
     "name": "stdout",
     "output_type": "stream",
     "text": [
      "------------\n",
      "Starting architecture 83 of 108\n",
      "Learning...\n"
     ]
    },
    {
     "data": {
      "text/html": [
       "<pre style=\"white-space:pre;overflow-x:auto;line-height:normal;font-family:Menlo,'DejaVu Sans Mono',consolas,'Courier New',monospace\"></pre>\n"
      ],
      "text/plain": []
     },
     "metadata": {},
     "output_type": "display_data"
    },
    {
     "data": {
      "text/html": [
       "<pre style=\"white-space:pre;overflow-x:auto;line-height:normal;font-family:Menlo,'DejaVu Sans Mono',consolas,'Courier New',monospace\">\n",
       "</pre>\n"
      ],
      "text/plain": [
       "\n"
      ]
     },
     "metadata": {},
     "output_type": "display_data"
    },
    {
     "name": "stdout",
     "output_type": "stream",
     "text": [
      "Learn time: 30.273 minutes\n",
      "Evaluating over 25 episodes...\n",
      "Evaluation time: 2.792 minutes\n",
      "Mean episode reward: 99.79800000000002, Standard deviation: 436.66002152704567\n",
      "Mean episode length: 12730.44, Standard deviation: 3998.6184522157146\n",
      "finished architecture ['CnnPolicy', 1e-06, 1024, 64, 2, 25, 0.999, 0.95, 0.2, [-45.402, -325.502, 107.998, -587.002, -161.202, 607.898, 83.398, 523.098, 382.798, 618.098, -47.802, -158.302, 101.198, 74.498, -384.502, -139.902, 456.398, -982.702, 561.298, -414.202, 381.598, 156.998, 75.698, 842.898, 767.598], [5862, 5896, 8099, 8127, 10544, 12142, 12397, 14081, 14647, 14698, 15143, 15242, 16243, 16327, 10546, 16818, 11193, 5572, 10146, 14097, 12342, 12124, 14914, 19989, 21072], 99.79800000000002, 12730.44, 1816.395985841751, 167.50365495681763] at 33.065 minutes.\n"
     ]
    },
    {
     "data": {
      "application/vnd.jupyter.widget-view+json": {
       "model_id": "a6e4ac9cb765482b9620bbd39702b25b",
       "version_major": 2,
       "version_minor": 0
      },
      "text/plain": [
       "Output()"
      ]
     },
     "metadata": {},
     "output_type": "display_data"
    },
    {
     "name": "stdout",
     "output_type": "stream",
     "text": [
      "------------\n",
      "Starting architecture 84 of 108\n",
      "Learning...\n"
     ]
    }
   ],
   "source": [
    "models = []\n",
    "for policy_model in r2_models:\n",
    "    policy = policy_model[0]\n",
    "    learning_rate = policy_model[1]\n",
    "    n_steps = policy_model[2]\n",
    "    batch_size = policy_model[3]\n",
    "    seed = int(policy_model[4])\n",
    "    n_epochs = [10, 25, 75]\n",
    "    n_gamma = [0.9, 0.999]\n",
    "    n_gae_lambda = [0.95, 0.97, 0.99]\n",
    "    n_clip_range = [0.1, 0.2, 0.3]    \n",
    "    \n",
    "    \n",
    "    for epochs in n_epochs:\n",
    "        for gamma in n_gamma:\n",
    "            for gae_lambda in n_gae_lambda:\n",
    "                for clip_range in n_clip_range:\n",
    "                    models.append({\"policy\": policy, \"learning_rate\": learning_rate, \n",
    "                                   \"n_steps\": n_steps, \"batch_size\": batch_size, 'seed': 2,\n",
    "                                   \"n_epochs\": epochs, \"gamma\": gamma, \"gae_lambda\": gae_lambda,\n",
    "                                   \"clip_range\": clip_range})\n",
    "total_timesteps = 500000\n",
    "n_procs = 15\n",
    "render_mode = None\n",
    "count = 1\n",
    "total = len(models)\n",
    "archs = []\n",
    "for model_options in models:\n",
    "    Env = make_env(StreetFighter, n_procs, render_mode = render_mode) \n",
    "    print(\"------------\")\n",
    "    print(f'Starting architecture {count} of {total}')\n",
    "    archs.append(train_model(PPO, Env, model_options, total_timesteps))\n",
    "    count+=1     \n",
    "    Env.close()"
   ]
  },
  {
   "cell_type": "code",
   "execution_count": null,
   "id": "f89eaa5a-462b-40bd-89de-a016cf98880d",
   "metadata": {},
   "outputs": [],
   "source": [
    "exp_run2 = pd.DataFrame(archs)\n",
    "exp_run2.columns = ['Policy', 'Learning Rate', 'Steps', 'Batch Size', 'Seed', \n",
    "                    'Epochs', 'Gamma', 'GAE Lambda', 'Clip Range',\n",
    "                    'Episode Rewards', 'Episode Lengths', 'Mean Reward', \n",
    "                    'Episode Length Mean', 'Learning Time', 'Evaluation Time']\n",
    "\n",
    "    \n",
    "learn_time = exp_run2['Learning Time'].sum() / 60 / 60\n",
    "eval_time = exp_run2['Evaluation Time'].sum() / 60 / 60\n",
    "total_time = learn_time + eval_time\n",
    "print(f'total time: {total_time} hours')\n",
    "exp_run1\n",
    "exp_run2"
   ]
  },
  {
   "cell_type": "code",
   "execution_count": null,
   "id": "d795cd66-106e-4b3a-9658-de69fbfe75ca",
   "metadata": {},
   "outputs": [],
   "source": [
    "consistent_best_models2 = best_n_models(exp_run2, 7, 27)\n",
    "consistent_best_models2"
   ]
  },
  {
   "cell_type": "code",
   "execution_count": null,
   "id": "02f88ee2-71b6-4d94-ad05-5ee0a15927bc",
   "metadata": {},
   "outputs": [],
   "source": [
    "mlp_run2 = exp_run2[exp_run2['Policy'] == 'MlpPolicy']\n",
    "cnn_run2 = exp_run2[exp_run2['Policy'] == 'CnnPolicy']"
   ]
  },
  {
   "cell_type": "code",
   "execution_count": null,
   "id": "e00172ab-216e-45fd-a495-c117ab1ded6a",
   "metadata": {},
   "outputs": [],
   "source": [
    "fighter_plots.plot_reward_mean(mlp_run2, 'Epochs', True)"
   ]
  },
  {
   "cell_type": "code",
   "execution_count": null,
   "id": "d0eb48ac-c2c0-4826-a6bb-8ba64fd23e05",
   "metadata": {},
   "outputs": [],
   "source": [
    "fighter_plots.plot_length_mean(mlp_run2, 'Epochs', True)"
   ]
  },
  {
   "cell_type": "code",
   "execution_count": null,
   "id": "b80c810c-5a82-4564-bcfe-dd736e92ca13",
   "metadata": {},
   "outputs": [],
   "source": [
    "fighter_plots.plot_reward_mean(cnn_run2, 'Epochs', True)"
   ]
  },
  {
   "cell_type": "code",
   "execution_count": null,
   "id": "2ff6c616-df7d-42d8-bd9b-c900699e988a",
   "metadata": {},
   "outputs": [],
   "source": [
    "fighter_plots.plot_length_mean(cnn_run2, 'Epochs', True)"
   ]
  },
  {
   "cell_type": "code",
   "execution_count": null,
   "id": "12a6c09c-2933-4aad-a7a5-e9ec06bd04c6",
   "metadata": {},
   "outputs": [],
   "source": [
    "fighter_plots.plot_reward_mean(mlp_run2, 'Gamma', True)"
   ]
  },
  {
   "cell_type": "code",
   "execution_count": null,
   "id": "43f6908c-c88c-4076-94a2-83d2a004bea7",
   "metadata": {},
   "outputs": [],
   "source": [
    "fighter_plots.plot_length_mean(mlp_run2, 'Gamma', True)"
   ]
  },
  {
   "cell_type": "code",
   "execution_count": null,
   "id": "1e524d5e-f51b-4aaa-9df6-44e7ab8b1bfc",
   "metadata": {},
   "outputs": [],
   "source": [
    "fighter_plots.plot_reward_mean(cnn_run2, 'Gamma', True)"
   ]
  },
  {
   "cell_type": "code",
   "execution_count": null,
   "id": "95c61bab-7fd5-4edb-b874-cacab9fedfad",
   "metadata": {},
   "outputs": [],
   "source": [
    "fighter_plots.plot_length_mean(cnn_run2, 'Gamma', True)"
   ]
  },
  {
   "cell_type": "code",
   "execution_count": null,
   "id": "138e67c9-2643-431b-b23a-a6c4ee408ccb",
   "metadata": {},
   "outputs": [],
   "source": [
    "fighter_plots.plot_reward_mean(mlp_run2, 'GAE Lambda', True)"
   ]
  },
  {
   "cell_type": "code",
   "execution_count": null,
   "id": "fa7518c2-85dc-43dd-8d3b-a38ba5a9a460",
   "metadata": {},
   "outputs": [],
   "source": [
    "fighter_plots.plot_length_mean(mlp_run2, 'GAE Lambda', True)"
   ]
  },
  {
   "cell_type": "code",
   "execution_count": null,
   "id": "6d2b7dfd-f28d-4740-8cc0-5b11750f19b1",
   "metadata": {},
   "outputs": [],
   "source": [
    "fighter_plots.plot_reward_mean(cnn_run2, 'GAE Lambda', True)"
   ]
  },
  {
   "cell_type": "code",
   "execution_count": null,
   "id": "283c2e7c-978d-44e0-b42c-eb1e6cb4e499",
   "metadata": {},
   "outputs": [],
   "source": [
    "fighter_plots.plot_length_mean(cnn_run2, 'GAE Lambda', True)"
   ]
  },
  {
   "cell_type": "code",
   "execution_count": null,
   "id": "5f163d45-839a-402f-81ba-b5c6091aaa15",
   "metadata": {},
   "outputs": [],
   "source": [
    "fighter_plots.plot_reward_mean(mlp_run2, 'Clip Range', True)"
   ]
  },
  {
   "cell_type": "code",
   "execution_count": null,
   "id": "f084d7e8-cd9f-4af7-9abd-ac720f7b17be",
   "metadata": {},
   "outputs": [],
   "source": [
    "fighter_plots.plot_length_mean(mlp_run2, 'Clip Range', True)"
   ]
  },
  {
   "cell_type": "code",
   "execution_count": null,
   "id": "8aed87f5-dc10-49e6-be75-faac41958d08",
   "metadata": {},
   "outputs": [],
   "source": [
    "fighter_plots.plot_reward_mean(cnn_run2, 'Clip Range', True)"
   ]
  },
  {
   "cell_type": "code",
   "execution_count": null,
   "id": "615ca4da-dcf2-40c3-88c8-7facdc1464ae",
   "metadata": {},
   "outputs": [],
   "source": [
    "fighter_plots.plot_length_mean(cnn_run2, 'Clip Range', True)"
   ]
  },
  {
   "cell_type": "code",
   "execution_count": null,
   "id": "7c72d5d7-d068-4759-a4cb-882e194a4db5",
   "metadata": {},
   "outputs": [],
   "source": [
    "%store exp_run2"
   ]
  },
  {
   "cell_type": "code",
   "execution_count": null,
   "id": "0ef8f1e9-744a-4811-b238-a88e987af747",
   "metadata": {},
   "outputs": [],
   "source": [
    "fighter_plots.plot_parameter_grid(mlp_run2)"
   ]
  },
  {
   "cell_type": "code",
   "execution_count": null,
   "id": "22abe68a-ad6e-41ed-91ef-61af0454ce2e",
   "metadata": {},
   "outputs": [],
   "source": [
    "fighter_plots.plot_parameter_grid(cnn_run2)"
   ]
  },
  {
   "cell_type": "code",
   "execution_count": null,
   "id": "c1861107-5085-479c-9265-82a90584fa19",
   "metadata": {},
   "outputs": [],
   "source": [
    "winning_i = consistent_best_models2['Mean Reward'].idxmax()\n",
    "winner = np.array(consistent_best_models2.loc[winning_i])\n",
    "print(f'The model with the highest reward mean, during 2nd experiment, is {winner}')"
   ]
  },
  {
   "cell_type": "markdown",
   "id": "42a3c1b2-76c0-42c4-a5ab-8ac7ebd0a574",
   "metadata": {},
   "source": [
    "## Analysis of Best Models through 1,000,000 Time Steps"
   ]
  },
  {
   "cell_type": "code",
   "execution_count": null,
   "id": "7dfd0d95-feb8-4c13-8fdf-b799dba61c57",
   "metadata": {},
   "outputs": [],
   "source": [
    "\n",
    "exp_run2 = exp_run2.drop(columns=['Seed'])\n",
    "best_models = best_n_models(exp_run2, 15)\n",
    "best_models"
   ]
  },
  {
   "cell_type": "code",
   "execution_count": null,
   "id": "97ada212-7081-4159-acf3-84927d2d50d4",
   "metadata": {},
   "outputs": [],
   "source": [
    "del models, archs, temp_data\n",
    "gc.collect()"
   ]
  },
  {
   "cell_type": "code",
   "execution_count": null,
   "id": "1cbef604-5090-4b33-87cf-7cacc8f35653",
   "metadata": {},
   "outputs": [],
   "source": [
    "for model in best_models:\n",
    "    final_models.append({\"policy\": model[0], \"learning_rate\": model[1], \"n_steps\": model[2],\n",
    "                       \"batch_size\": model[3], \"n_epochs\": model[5], \"gamma\": model[6], \n",
    "                       \"gae_lambda\": model[7], \"clip_range\": model[8]})\n",
    "\n",
    "\n",
    "count = 1\n",
    "total = len(final_models)\n",
    "total_timesteps = 1000000\n",
    "n_procs = 10\n",
    "render_mode = \"human\"\n",
    "archs = []\n",
    "for model in final_models:\n",
    "    Env = make_env(StreetFighter, n_procs, render_mode = render_mode)\n",
    "    print(\"------------\")\n",
    "    print(f'Starting architecture {count} of {total}')\n",
    "    archs.append(train_model(PPO, Env, model, total_timesteps))\n",
    "    count+=1\n",
    "    Env.close()"
   ]
  },
  {
   "cell_type": "code",
   "execution_count": null,
   "id": "85684e2c-48cb-4e16-a5d1-2a16e0c8bb2f",
   "metadata": {},
   "outputs": [],
   "source": [
    "final_stats_1m = pd.DataFrame(archs)\n",
    "final_stats_1m.columns = ['Policy', 'Learning Rate', 'Steps', 'Batch Size',\n",
    "                          'Epochs', 'Gamma', 'GAE Lambda', 'Clip Range',\n",
    "                          'Episode Rewards', 'Episode Stds', 'Mean Reward', \n",
    "                          'Std Mean', 'Total Reward', 'Elapsed Time']\n",
    "\n",
    "cols_to_numeric = ['Learning Rate', 'Steps', 'Batch Size', 'Epochs', 'Gamma', \n",
    "                   'GAE Lambda', 'Clip Range', 'Episode Rewards',  'Episode Stds', \n",
    "                   'Mean Reward', 'Std Mean', 'Total Reward', 'Elapsed Time']\n",
    "\n",
    "for col in cols_to_numeric:\n",
    "    final_stats_1m[col] = pd.to_numeric(final_stats_1m[col], errors='coerce')\n",
    "final_stats_1m"
   ]
  },
  {
   "cell_type": "code",
   "execution_count": null,
   "id": "d566ed72-71fe-46ad-a2eb-71e93da2c300",
   "metadata": {},
   "outputs": [],
   "source": [
    "%store final_stats_1"
   ]
  },
  {
   "cell_type": "code",
   "execution_count": null,
   "id": "de5c23b2-31b4-4bf2-b071-3a92c51db1ba",
   "metadata": {},
   "outputs": [],
   "source": [
    "fighter_plots.plot_parameter_grid(final_stats_1m)"
   ]
  },
  {
   "cell_type": "code",
   "execution_count": null,
   "id": "2e24dd8f-afff-4b8b-8ccb-ac5f725b0de0",
   "metadata": {},
   "outputs": [],
   "source": [
    "winning_i = final_stats_1m['Mean Reward'].idxmax()\n",
    "winner = final_stats_1m[winning_i]\n",
    "print(\"The model with the highest reward mean, in the 1 million time-step esperiment, is:\")\n",
    "print(winner)"
   ]
  },
  {
   "cell_type": "markdown",
   "id": "35543b63-eb22-431b-a792-820d19080233",
   "metadata": {},
   "source": [
    "## Consistency Experiment for Best Model Trained on 1 Million Steps"
   ]
  },
  {
   "cell_type": "code",
   "execution_count": null,
   "id": "d7befae2-11c3-42fc-adb1-9f80cbdcde6d",
   "metadata": {},
   "outputs": [],
   "source": [
    "# In case the kernel gets interrupted before execution of Env.close() in fighter_envs\n",
    "Env.close()"
   ]
  },
  {
   "cell_type": "code",
   "execution_count": null,
   "id": "f1d3a8f5-f4e2-43c1-b790-c60d1da9cb4d",
   "metadata": {},
   "outputs": [],
   "source": [
    "gc.collect()"
   ]
  },
  {
   "cell_type": "code",
   "execution_count": null,
   "id": "b670a2b3-042b-4a48-9b34-a60f14e45030",
   "metadata": {},
   "outputs": [],
   "source": [
    "count = 1\n",
    "total = len(final_models)\n",
    "total_timesteps = 1000000\n",
    "n_procs = 10\n",
    "render_mode = \"human\"\n",
    "archs = []\n",
    "for _ in range(0, 10):\n",
    "    Env = make_env(StreetFighter, n_procs, render_mode = render_mode) \n",
    "    print(\"------------\")\n",
    "    print(f'Starting architecture {count} of {total}')\n",
    "    archs.append(train_model(PPO, Env, model, total_timesteps))\n",
    "    count+=1\n",
    "    Env.close()"
   ]
  },
  {
   "cell_type": "code",
   "execution_count": null,
   "id": "cf4255d3-ca85-4fd6-b748-e34d7966dfbb",
   "metadata": {},
   "outputs": [],
   "source": [
    "cons_1m = pd.DataFrame(archs)\n",
    "cons_1m.columns = ['Policy', 'Learning Rate', 'Steps', 'Batch Size',\n",
    "                    'Epochs', 'Gamma', 'GAE Lambda', 'Clip Range',\n",
    "                    'Mean Reward', 'Total Reward', 'Elapsed Time']"
   ]
  },
  {
   "cell_type": "code",
   "execution_count": null,
   "id": "f5a34cdc-468e-49e0-8580-85c1eec2fda5",
   "metadata": {},
   "outputs": [],
   "source": [
    "cons_1m"
   ]
  },
  {
   "cell_type": "code",
   "execution_count": null,
   "id": "8a46ed0e-eefc-4442-9652-9eefa650cc6b",
   "metadata": {},
   "outputs": [],
   "source": [
    "fighter_plots.plot_parameter_grid(cons_1m)"
   ]
  },
  {
   "cell_type": "markdown",
   "id": "61f60a8e-74ed-4f84-8538-08c47471a306",
   "metadata": {},
   "source": [
    "## Analysis of Best Models through 5,000,000 Time Steps"
   ]
  },
  {
   "cell_type": "code",
   "execution_count": null,
   "id": "107f2791-fea9-464e-8983-6e0cd16504c8",
   "metadata": {},
   "outputs": [],
   "source": [
    "# Make sure the environment closed incase kernel gets interrupted before execution of env.close() in fighter.envs\n",
    "Env.close()"
   ]
  },
  {
   "cell_type": "code",
   "execution_count": null,
   "id": "0cf2d4ba-48f0-4ad0-9c39-364f40fae100",
   "metadata": {},
   "outputs": [],
   "source": [
    "del archs\n",
    "gc.collect()"
   ]
  },
  {
   "cell_type": "code",
   "execution_count": null,
   "id": "0b19ea97-5c3f-43c3-bc75-d0cfa8c28649",
   "metadata": {},
   "outputs": [],
   "source": [
    "n_procs = 10\n",
    "render_mode = \"human\"\n",
    "\n",
    "total_timesteps = 5000000\n",
    "final_stats_5m = []\n",
    "for model in final_models:\n",
    "    Env = make_env(StreetFighter, n_procs, render_mode = render_mode)\n",
    "    print(\"------------\")\n",
    "    print(f'Starting architecture {count} of {total}')\n",
    "    archs.append(train_model(PPO, Env, model, total_timesteps))\n",
    "    count+=1\n",
    "    Env.close()"
   ]
  },
  {
   "cell_type": "code",
   "execution_count": null,
   "id": "bf00ce84-b84e-47b1-b88a-2fd008d1c705",
   "metadata": {},
   "outputs": [],
   "source": [
    "final_stats_5m = pd.DataFrame(archs)\n",
    "final_stats_5m.columns = ['Policy', 'Learning Rate', 'Steps', 'Batch Size',\n",
    "                    'Epochs', 'Gamma', 'GAE Lambda', 'Clip Range',\n",
    "                    'Mean Reward', 'Total Reward', 'Elapsed Time']\n",
    "\n",
    "cols_to_numeric = ['Learning Rate', 'Steps', 'Batch Size', 'Epochs', \n",
    "                   'Gamma', 'GAE Lambda', 'Clip Range', 'Mean Reward', \n",
    "                   'Total Reward', 'Elapsed Time']\n",
    "\n",
    "for col in cols_to_numeric:\n",
    "    final_stats_5m[col] = pd.to_numeric(final_stats_5m[col], errors='coerce')\n",
    "final_stats_5m"
   ]
  },
  {
   "cell_type": "code",
   "execution_count": null,
   "id": "6645482c-910b-4b40-bbb5-56b9734d7ea5",
   "metadata": {},
   "outputs": [],
   "source": [
    "%store final_stats_5m"
   ]
  },
  {
   "cell_type": "code",
   "execution_count": null,
   "id": "a91f360a-e1b9-4016-90ba-8c9455af2c66",
   "metadata": {},
   "outputs": [],
   "source": [
    "fighter_plots.plot_parameter_grid(final_stats_5m)"
   ]
  },
  {
   "cell_type": "code",
   "execution_count": null,
   "id": "02cf1ec6-5844-4531-8e01-fd796107723f",
   "metadata": {},
   "outputs": [],
   "source": [
    "winning_i = final_stats_5m['Mean Reward'].idxmax()\n",
    "winner = final_stats_5m[winning_i]\n",
    "print(f'The model with the highest reward mean, in the 5 million time-step esperiment, is {winner}')"
   ]
  },
  {
   "cell_type": "markdown",
   "id": "7eb8e470-24db-4a46-a869-11ed28b05687",
   "metadata": {},
   "source": [
    "## Consistency Experiment for Best Model Trained on 5 Million Steps"
   ]
  },
  {
   "cell_type": "code",
   "execution_count": null,
   "id": "77d8dbec-73cc-4608-980f-a81b9d275ec6",
   "metadata": {},
   "outputs": [],
   "source": [
    "# In case the kernel gets interrupted before execution of Env.close() in fighter_envs\n",
    "Env.close()"
   ]
  },
  {
   "cell_type": "code",
   "execution_count": null,
   "id": "6b2bef0c-7580-4c54-b97f-8a762252eeef",
   "metadata": {},
   "outputs": [],
   "source": [
    "del archs\n",
    "gc.collect()"
   ]
  },
  {
   "cell_type": "code",
   "execution_count": null,
   "id": "2d2e5173-9abc-44b2-8abc-e3b6a830a01e",
   "metadata": {},
   "outputs": [],
   "source": [
    "count = 1\n",
    "total = len(final_models)\n",
    "total_timesteps = 5000000\n",
    "n_procs = 10\n",
    "render_mode = \"human\"\n",
    "archs = []\n",
    "for _ in range(0, 10):\n",
    "    Env = make_env(StreetFighter, n_procs, render_mode = render_mode)\n",
    "    print(\"------------\")\n",
    "    print(f'Starting architecture {count} of {total}')\n",
    "    archs.append(train_model(PPO, Env, winner, total_timesteps))\n",
    "    count+=1\n",
    "    Env.close()"
   ]
  },
  {
   "cell_type": "code",
   "execution_count": null,
   "id": "dc013cb2-7eec-487a-8cc5-512765eae32b",
   "metadata": {},
   "outputs": [],
   "source": [
    "cons_5m = pd.DataFrame(archs)\n",
    "cons_5m.columns = ['Policy', 'Learning Rate', 'Steps', 'Batch Size',\n",
    "                    'Epochs', 'Gamma', 'GAE Lambda', 'Clip Range',\n",
    "                    'Mean Reward', 'Total Reward', 'Elapsed Time']"
   ]
  },
  {
   "cell_type": "code",
   "execution_count": null,
   "id": "02720a16-5a61-41fb-b760-f16c234e3035",
   "metadata": {},
   "outputs": [],
   "source": [
    "cons_5m "
   ]
  },
  {
   "cell_type": "code",
   "execution_count": null,
   "id": "e4e56952-a6e7-4dc1-bd92-a3c5d4f1a49a",
   "metadata": {},
   "outputs": [],
   "source": [
    "fighter_plots.plot_parameter_grid(cons_5m)"
   ]
  },
  {
   "cell_type": "code",
   "execution_count": null,
   "id": "13e80f61-ee15-478e-ba57-91ddda8cc28d",
   "metadata": {},
   "outputs": [],
   "source": []
  }
 ],
 "metadata": {
  "kernelspec": {
   "display_name": "Python 3 (ipykernel)",
   "language": "python",
   "name": "python3"
  },
  "language_info": {
   "codemirror_mode": {
    "name": "ipython",
    "version": 3
   },
   "file_extension": ".py",
   "mimetype": "text/x-python",
   "name": "python",
   "nbconvert_exporter": "python",
   "pygments_lexer": "ipython3",
   "version": "3.10.12"
  }
 },
 "nbformat": 4,
 "nbformat_minor": 5
}
