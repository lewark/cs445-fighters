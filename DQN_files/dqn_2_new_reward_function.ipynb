{
 "cells": [
  {
   "cell_type": "markdown",
   "metadata": {},
   "source": [
    "Baseline testing for the newest reward function."
   ]
  },
  {
   "cell_type": "code",
   "execution_count": 1,
   "metadata": {},
   "outputs": [],
   "source": [
    "from classes.fighter_envs import StreetFighter\n",
    "from classes.evaluate2 import eval_plots_all, eval_plotter, eval_subplots, evaluate, get_ep_info, get_eval_stats\n",
    "from classes.utils import ExperimentRunner, build_all_permutations, add_to_recorder\n",
    "from classes.constants import*\n",
    "from classes.dqn_envs import make_dqn_env\n",
    "from stable_baselines3 import DQN\n",
    "from classes.utils import cleanup_device\n",
    "from classes.utils import RandomGridSearch\n",
    "\n",
    "from matplotlib import pyplot as plt\n",
    "import pandas as pd\n",
    "import numpy as np\n",
    "from time import time\n",
    "import traceback\n",
    "\n",
    "num_eval_episodes = 50"
   ]
  },
  {
   "cell_type": "code",
   "execution_count": 4,
   "metadata": {},
   "outputs": [],
   "source": [
    "baseline_eval_env = make_dqn_env(StreetFighter, render_mode=None, n_procs=0)"
   ]
  },
  {
   "cell_type": "code",
   "execution_count": 5,
   "metadata": {},
   "outputs": [
    {
     "name": "stderr",
     "output_type": "stream",
     "text": [
      "100%|██████████| 50/50 [06:28<00:00,  7.76s/it]\n"
     ]
    }
   ],
   "source": [
    "mean, std, total, mean_steps, all_end_ep_info = evaluate(model=None, eval_env=baseline_eval_env, n_eval_episodes=num_eval_episodes, return_episode_rewards=True, get_ep_info=True)"
   ]
  },
  {
   "cell_type": "code",
   "execution_count": 6,
   "metadata": {},
   "outputs": [],
   "source": [
    "reward_stats = {\n",
    "    'Mean total episode rewards':mean,\n",
    "    'Std total episode rewards':std,\n",
    "    'Reward sum all episodes':total,\n",
    "    'Mean episode steps':mean_steps,\n",
    "}"
   ]
  },
  {
   "cell_type": "code",
   "execution_count": 7,
   "metadata": {},
   "outputs": [],
   "source": [
    "baseline_recorder = {}\n",
    "add_to_recorder(baseline_recorder, reward_stats)"
   ]
  },
  {
   "cell_type": "code",
   "execution_count": 8,
   "metadata": {},
   "outputs": [
    {
     "data": {
      "text/html": [
       "<div>\n",
       "<style scoped>\n",
       "    .dataframe tbody tr th:only-of-type {\n",
       "        vertical-align: middle;\n",
       "    }\n",
       "\n",
       "    .dataframe tbody tr th {\n",
       "        vertical-align: top;\n",
       "    }\n",
       "\n",
       "    .dataframe thead th {\n",
       "        text-align: right;\n",
       "    }\n",
       "</style>\n",
       "<table border=\"1\" class=\"dataframe\">\n",
       "  <thead>\n",
       "    <tr style=\"text-align: right;\">\n",
       "      <th></th>\n",
       "      <th>Mean total episode rewards</th>\n",
       "      <th>Std total episode rewards</th>\n",
       "      <th>Reward sum all episodes</th>\n",
       "      <th>Mean episode steps</th>\n",
       "    </tr>\n",
       "  </thead>\n",
       "  <tbody>\n",
       "    <tr>\n",
       "      <th>0</th>\n",
       "      <td>-23.28</td>\n",
       "      <td>17.01886</td>\n",
       "      <td>-1164</td>\n",
       "      <td>12208.08</td>\n",
       "    </tr>\n",
       "  </tbody>\n",
       "</table>\n",
       "</div>"
      ],
      "text/plain": [
       "   Mean total episode rewards  Std total episode rewards  \\\n",
       "0                      -23.28                   17.01886   \n",
       "\n",
       "   Reward sum all episodes  Mean episode steps  \n",
       "0                    -1164            12208.08  "
      ]
     },
     "metadata": {},
     "output_type": "display_data"
    }
   ],
   "source": [
    "baseline_df = pd.DataFrame.from_dict(baseline_recorder)\n",
    "display(baseline_df)"
   ]
  },
  {
   "cell_type": "code",
   "execution_count": 9,
   "metadata": {},
   "outputs": [
    {
     "data": {
      "text/html": [
       "<div>\n",
       "<style scoped>\n",
       "    .dataframe tbody tr th:only-of-type {\n",
       "        vertical-align: middle;\n",
       "    }\n",
       "\n",
       "    .dataframe tbody tr th {\n",
       "        vertical-align: top;\n",
       "    }\n",
       "\n",
       "    .dataframe thead th {\n",
       "        text-align: right;\n",
       "    }\n",
       "</style>\n",
       "<table border=\"1\" class=\"dataframe\">\n",
       "  <thead>\n",
       "    <tr style=\"text-align: right;\">\n",
       "      <th></th>\n",
       "      <th>episode</th>\n",
       "      <th>Player rounds won</th>\n",
       "      <th>Mean player health</th>\n",
       "      <th>Enemy rounds won</th>\n",
       "      <th>Mean enemy health</th>\n",
       "    </tr>\n",
       "  </thead>\n",
       "  <tbody>\n",
       "    <tr>\n",
       "      <th>31</th>\n",
       "      <td>32</td>\n",
       "      <td>10</td>\n",
       "      <td>107.51</td>\n",
       "      <td>4</td>\n",
       "      <td>83.23</td>\n",
       "    </tr>\n",
       "    <tr>\n",
       "      <th>16</th>\n",
       "      <td>17</td>\n",
       "      <td>10</td>\n",
       "      <td>97.07</td>\n",
       "      <td>6</td>\n",
       "      <td>87.02</td>\n",
       "    </tr>\n",
       "    <tr>\n",
       "      <th>40</th>\n",
       "      <td>41</td>\n",
       "      <td>7</td>\n",
       "      <td>94.65</td>\n",
       "      <td>4</td>\n",
       "      <td>103.22</td>\n",
       "    </tr>\n",
       "    <tr>\n",
       "      <th>44</th>\n",
       "      <td>45</td>\n",
       "      <td>7</td>\n",
       "      <td>94.60</td>\n",
       "      <td>2</td>\n",
       "      <td>90.91</td>\n",
       "    </tr>\n",
       "    <tr>\n",
       "      <th>46</th>\n",
       "      <td>47</td>\n",
       "      <td>6</td>\n",
       "      <td>103.93</td>\n",
       "      <td>3</td>\n",
       "      <td>89.41</td>\n",
       "    </tr>\n",
       "    <tr>\n",
       "      <th>26</th>\n",
       "      <td>27</td>\n",
       "      <td>6</td>\n",
       "      <td>94.02</td>\n",
       "      <td>3</td>\n",
       "      <td>93.25</td>\n",
       "    </tr>\n",
       "    <tr>\n",
       "      <th>0</th>\n",
       "      <td>1</td>\n",
       "      <td>5</td>\n",
       "      <td>102.14</td>\n",
       "      <td>4</td>\n",
       "      <td>80.39</td>\n",
       "    </tr>\n",
       "    <tr>\n",
       "      <th>4</th>\n",
       "      <td>5</td>\n",
       "      <td>5</td>\n",
       "      <td>85.62</td>\n",
       "      <td>4</td>\n",
       "      <td>82.18</td>\n",
       "    </tr>\n",
       "    <tr>\n",
       "      <th>36</th>\n",
       "      <td>37</td>\n",
       "      <td>4</td>\n",
       "      <td>86.97</td>\n",
       "      <td>3</td>\n",
       "      <td>93.09</td>\n",
       "    </tr>\n",
       "    <tr>\n",
       "      <th>19</th>\n",
       "      <td>20</td>\n",
       "      <td>3</td>\n",
       "      <td>92.54</td>\n",
       "      <td>3</td>\n",
       "      <td>92.25</td>\n",
       "    </tr>\n",
       "  </tbody>\n",
       "</table>\n",
       "</div>"
      ],
      "text/plain": [
       "    episode  Player rounds won  Mean player health  Enemy rounds won  \\\n",
       "31       32                 10              107.51                 4   \n",
       "16       17                 10               97.07                 6   \n",
       "40       41                  7               94.65                 4   \n",
       "44       45                  7               94.60                 2   \n",
       "46       47                  6              103.93                 3   \n",
       "26       27                  6               94.02                 3   \n",
       "0         1                  5              102.14                 4   \n",
       "4         5                  5               85.62                 4   \n",
       "36       37                  4               86.97                 3   \n",
       "19       20                  3               92.54                 3   \n",
       "\n",
       "    Mean enemy health  \n",
       "31              83.23  \n",
       "16              87.02  \n",
       "40             103.22  \n",
       "44              90.91  \n",
       "46              89.41  \n",
       "26              93.25  \n",
       "0               80.39  \n",
       "4               82.18  \n",
       "36              93.09  \n",
       "19              92.25  "
      ]
     },
     "execution_count": 9,
     "metadata": {},
     "output_type": "execute_result"
    }
   ],
   "source": [
    "baseline_df2 = pd.DataFrame.from_dict(all_end_ep_info)\n",
    "baseline_df2.sort_values('Player rounds won', ascending=False).head(10)"
   ]
  },
  {
   "cell_type": "code",
   "execution_count": 12,
   "metadata": {},
   "outputs": [
    {
     "data": {
      "text/plain": [
       "Player rounds won      2.5800\n",
       "Mean player health    88.3244\n",
       "Enemy rounds won       2.5200\n",
       "Mean enemy health     94.1192\n",
       "dtype: float64"
      ]
     },
     "execution_count": 12,
     "metadata": {},
     "output_type": "execute_result"
    }
   ],
   "source": [
    "baseline_df2[['Player rounds won','Mean player health','Enemy rounds won','Mean enemy health']].mean()"
   ]
  },
  {
   "cell_type": "code",
   "execution_count": 2,
   "metadata": {},
   "outputs": [],
   "source": [
    "h_params = {\n",
    "    'policy': ['MlpPolicy', 'CnnPolicy'],\n",
    "    'gamma': [0.9, 0.99],\n",
    "    'learning_rate': [0.00001],\n",
    "    'batch_size': [256],\n",
    "    'buffer_size': [50_000],\n",
    "    'train_freq': [16, 32],\n",
    "    'gradient_steps': [1],\n",
    "    'exploration_fraction': [0.3, 0.5],\n",
    "    'exploration_final_eps': [0.1, 0.2],\n",
    "    'target_update_interval': [100, 10000],\n",
    "    'policy_kwargs': [dict(net_arch=[256, 256])],\n",
    "    'seed':[2],\n",
    "}"
   ]
  },
  {
   "cell_type": "code",
   "execution_count": 3,
   "metadata": {},
   "outputs": [],
   "source": [
    "h_params_list = build_all_permutations(h_params)"
   ]
  },
  {
   "cell_type": "code",
   "execution_count": 5,
   "metadata": {},
   "outputs": [
    {
     "data": {
      "text/plain": [
       "[{'policy': 'MlpPolicy',\n",
       "  'gamma': 0.9,\n",
       "  'learning_rate': 1e-05,\n",
       "  'batch_size': 256,\n",
       "  'buffer_size': 50000,\n",
       "  'train_freq': 16,\n",
       "  'gradient_steps': 1,\n",
       "  'exploration_fraction': 0.3,\n",
       "  'exploration_final_eps': 0.1,\n",
       "  'target_update_interval': 100,\n",
       "  'policy_kwargs': {'net_arch': [256, 256]},\n",
       "  'seed': 2},\n",
       " {'policy': 'MlpPolicy',\n",
       "  'gamma': 0.9,\n",
       "  'learning_rate': 1e-05,\n",
       "  'batch_size': 256,\n",
       "  'buffer_size': 50000,\n",
       "  'train_freq': 16,\n",
       "  'gradient_steps': 1,\n",
       "  'exploration_fraction': 0.3,\n",
       "  'exploration_final_eps': 0.1,\n",
       "  'target_update_interval': 10000,\n",
       "  'policy_kwargs': {'net_arch': [256, 256]},\n",
       "  'seed': 2},\n",
       " {'policy': 'MlpPolicy',\n",
       "  'gamma': 0.9,\n",
       "  'learning_rate': 1e-05,\n",
       "  'batch_size': 256,\n",
       "  'buffer_size': 50000,\n",
       "  'train_freq': 16,\n",
       "  'gradient_steps': 1,\n",
       "  'exploration_fraction': 0.3,\n",
       "  'exploration_final_eps': 0.2,\n",
       "  'target_update_interval': 100,\n",
       "  'policy_kwargs': {'net_arch': [256, 256]},\n",
       "  'seed': 2},\n",
       " {'policy': 'MlpPolicy',\n",
       "  'gamma': 0.9,\n",
       "  'learning_rate': 1e-05,\n",
       "  'batch_size': 256,\n",
       "  'buffer_size': 50000,\n",
       "  'train_freq': 16,\n",
       "  'gradient_steps': 1,\n",
       "  'exploration_fraction': 0.3,\n",
       "  'exploration_final_eps': 0.2,\n",
       "  'target_update_interval': 10000,\n",
       "  'policy_kwargs': {'net_arch': [256, 256]},\n",
       "  'seed': 2},\n",
       " {'policy': 'MlpPolicy',\n",
       "  'gamma': 0.9,\n",
       "  'learning_rate': 1e-05,\n",
       "  'batch_size': 256,\n",
       "  'buffer_size': 50000,\n",
       "  'train_freq': 16,\n",
       "  'gradient_steps': 1,\n",
       "  'exploration_fraction': 0.5,\n",
       "  'exploration_final_eps': 0.1,\n",
       "  'target_update_interval': 100,\n",
       "  'policy_kwargs': {'net_arch': [256, 256]},\n",
       "  'seed': 2},\n",
       " {'policy': 'MlpPolicy',\n",
       "  'gamma': 0.9,\n",
       "  'learning_rate': 1e-05,\n",
       "  'batch_size': 256,\n",
       "  'buffer_size': 50000,\n",
       "  'train_freq': 16,\n",
       "  'gradient_steps': 1,\n",
       "  'exploration_fraction': 0.5,\n",
       "  'exploration_final_eps': 0.1,\n",
       "  'target_update_interval': 10000,\n",
       "  'policy_kwargs': {'net_arch': [256, 256]},\n",
       "  'seed': 2},\n",
       " {'policy': 'MlpPolicy',\n",
       "  'gamma': 0.9,\n",
       "  'learning_rate': 1e-05,\n",
       "  'batch_size': 256,\n",
       "  'buffer_size': 50000,\n",
       "  'train_freq': 16,\n",
       "  'gradient_steps': 1,\n",
       "  'exploration_fraction': 0.5,\n",
       "  'exploration_final_eps': 0.2,\n",
       "  'target_update_interval': 100,\n",
       "  'policy_kwargs': {'net_arch': [256, 256]},\n",
       "  'seed': 2},\n",
       " {'policy': 'MlpPolicy',\n",
       "  'gamma': 0.9,\n",
       "  'learning_rate': 1e-05,\n",
       "  'batch_size': 256,\n",
       "  'buffer_size': 50000,\n",
       "  'train_freq': 16,\n",
       "  'gradient_steps': 1,\n",
       "  'exploration_fraction': 0.5,\n",
       "  'exploration_final_eps': 0.2,\n",
       "  'target_update_interval': 10000,\n",
       "  'policy_kwargs': {'net_arch': [256, 256]},\n",
       "  'seed': 2},\n",
       " {'policy': 'MlpPolicy',\n",
       "  'gamma': 0.9,\n",
       "  'learning_rate': 1e-05,\n",
       "  'batch_size': 256,\n",
       "  'buffer_size': 50000,\n",
       "  'train_freq': 32,\n",
       "  'gradient_steps': 1,\n",
       "  'exploration_fraction': 0.3,\n",
       "  'exploration_final_eps': 0.1,\n",
       "  'target_update_interval': 100,\n",
       "  'policy_kwargs': {'net_arch': [256, 256]},\n",
       "  'seed': 2},\n",
       " {'policy': 'MlpPolicy',\n",
       "  'gamma': 0.9,\n",
       "  'learning_rate': 1e-05,\n",
       "  'batch_size': 256,\n",
       "  'buffer_size': 50000,\n",
       "  'train_freq': 32,\n",
       "  'gradient_steps': 1,\n",
       "  'exploration_fraction': 0.3,\n",
       "  'exploration_final_eps': 0.1,\n",
       "  'target_update_interval': 10000,\n",
       "  'policy_kwargs': {'net_arch': [256, 256]},\n",
       "  'seed': 2},\n",
       " {'policy': 'MlpPolicy',\n",
       "  'gamma': 0.9,\n",
       "  'learning_rate': 1e-05,\n",
       "  'batch_size': 256,\n",
       "  'buffer_size': 50000,\n",
       "  'train_freq': 32,\n",
       "  'gradient_steps': 1,\n",
       "  'exploration_fraction': 0.3,\n",
       "  'exploration_final_eps': 0.2,\n",
       "  'target_update_interval': 100,\n",
       "  'policy_kwargs': {'net_arch': [256, 256]},\n",
       "  'seed': 2},\n",
       " {'policy': 'MlpPolicy',\n",
       "  'gamma': 0.9,\n",
       "  'learning_rate': 1e-05,\n",
       "  'batch_size': 256,\n",
       "  'buffer_size': 50000,\n",
       "  'train_freq': 32,\n",
       "  'gradient_steps': 1,\n",
       "  'exploration_fraction': 0.3,\n",
       "  'exploration_final_eps': 0.2,\n",
       "  'target_update_interval': 10000,\n",
       "  'policy_kwargs': {'net_arch': [256, 256]},\n",
       "  'seed': 2},\n",
       " {'policy': 'MlpPolicy',\n",
       "  'gamma': 0.9,\n",
       "  'learning_rate': 1e-05,\n",
       "  'batch_size': 256,\n",
       "  'buffer_size': 50000,\n",
       "  'train_freq': 32,\n",
       "  'gradient_steps': 1,\n",
       "  'exploration_fraction': 0.5,\n",
       "  'exploration_final_eps': 0.1,\n",
       "  'target_update_interval': 100,\n",
       "  'policy_kwargs': {'net_arch': [256, 256]},\n",
       "  'seed': 2},\n",
       " {'policy': 'MlpPolicy',\n",
       "  'gamma': 0.9,\n",
       "  'learning_rate': 1e-05,\n",
       "  'batch_size': 256,\n",
       "  'buffer_size': 50000,\n",
       "  'train_freq': 32,\n",
       "  'gradient_steps': 1,\n",
       "  'exploration_fraction': 0.5,\n",
       "  'exploration_final_eps': 0.1,\n",
       "  'target_update_interval': 10000,\n",
       "  'policy_kwargs': {'net_arch': [256, 256]},\n",
       "  'seed': 2},\n",
       " {'policy': 'MlpPolicy',\n",
       "  'gamma': 0.9,\n",
       "  'learning_rate': 1e-05,\n",
       "  'batch_size': 256,\n",
       "  'buffer_size': 50000,\n",
       "  'train_freq': 32,\n",
       "  'gradient_steps': 1,\n",
       "  'exploration_fraction': 0.5,\n",
       "  'exploration_final_eps': 0.2,\n",
       "  'target_update_interval': 100,\n",
       "  'policy_kwargs': {'net_arch': [256, 256]},\n",
       "  'seed': 2},\n",
       " {'policy': 'MlpPolicy',\n",
       "  'gamma': 0.9,\n",
       "  'learning_rate': 1e-05,\n",
       "  'batch_size': 256,\n",
       "  'buffer_size': 50000,\n",
       "  'train_freq': 32,\n",
       "  'gradient_steps': 1,\n",
       "  'exploration_fraction': 0.5,\n",
       "  'exploration_final_eps': 0.2,\n",
       "  'target_update_interval': 10000,\n",
       "  'policy_kwargs': {'net_arch': [256, 256]},\n",
       "  'seed': 2},\n",
       " {'policy': 'MlpPolicy',\n",
       "  'gamma': 0.99,\n",
       "  'learning_rate': 1e-05,\n",
       "  'batch_size': 256,\n",
       "  'buffer_size': 50000,\n",
       "  'train_freq': 16,\n",
       "  'gradient_steps': 1,\n",
       "  'exploration_fraction': 0.3,\n",
       "  'exploration_final_eps': 0.1,\n",
       "  'target_update_interval': 100,\n",
       "  'policy_kwargs': {'net_arch': [256, 256]},\n",
       "  'seed': 2},\n",
       " {'policy': 'MlpPolicy',\n",
       "  'gamma': 0.99,\n",
       "  'learning_rate': 1e-05,\n",
       "  'batch_size': 256,\n",
       "  'buffer_size': 50000,\n",
       "  'train_freq': 16,\n",
       "  'gradient_steps': 1,\n",
       "  'exploration_fraction': 0.3,\n",
       "  'exploration_final_eps': 0.1,\n",
       "  'target_update_interval': 10000,\n",
       "  'policy_kwargs': {'net_arch': [256, 256]},\n",
       "  'seed': 2},\n",
       " {'policy': 'MlpPolicy',\n",
       "  'gamma': 0.99,\n",
       "  'learning_rate': 1e-05,\n",
       "  'batch_size': 256,\n",
       "  'buffer_size': 50000,\n",
       "  'train_freq': 16,\n",
       "  'gradient_steps': 1,\n",
       "  'exploration_fraction': 0.3,\n",
       "  'exploration_final_eps': 0.2,\n",
       "  'target_update_interval': 100,\n",
       "  'policy_kwargs': {'net_arch': [256, 256]},\n",
       "  'seed': 2},\n",
       " {'policy': 'MlpPolicy',\n",
       "  'gamma': 0.99,\n",
       "  'learning_rate': 1e-05,\n",
       "  'batch_size': 256,\n",
       "  'buffer_size': 50000,\n",
       "  'train_freq': 16,\n",
       "  'gradient_steps': 1,\n",
       "  'exploration_fraction': 0.3,\n",
       "  'exploration_final_eps': 0.2,\n",
       "  'target_update_interval': 10000,\n",
       "  'policy_kwargs': {'net_arch': [256, 256]},\n",
       "  'seed': 2},\n",
       " {'policy': 'MlpPolicy',\n",
       "  'gamma': 0.99,\n",
       "  'learning_rate': 1e-05,\n",
       "  'batch_size': 256,\n",
       "  'buffer_size': 50000,\n",
       "  'train_freq': 16,\n",
       "  'gradient_steps': 1,\n",
       "  'exploration_fraction': 0.5,\n",
       "  'exploration_final_eps': 0.1,\n",
       "  'target_update_interval': 100,\n",
       "  'policy_kwargs': {'net_arch': [256, 256]},\n",
       "  'seed': 2},\n",
       " {'policy': 'MlpPolicy',\n",
       "  'gamma': 0.99,\n",
       "  'learning_rate': 1e-05,\n",
       "  'batch_size': 256,\n",
       "  'buffer_size': 50000,\n",
       "  'train_freq': 16,\n",
       "  'gradient_steps': 1,\n",
       "  'exploration_fraction': 0.5,\n",
       "  'exploration_final_eps': 0.1,\n",
       "  'target_update_interval': 10000,\n",
       "  'policy_kwargs': {'net_arch': [256, 256]},\n",
       "  'seed': 2},\n",
       " {'policy': 'MlpPolicy',\n",
       "  'gamma': 0.99,\n",
       "  'learning_rate': 1e-05,\n",
       "  'batch_size': 256,\n",
       "  'buffer_size': 50000,\n",
       "  'train_freq': 16,\n",
       "  'gradient_steps': 1,\n",
       "  'exploration_fraction': 0.5,\n",
       "  'exploration_final_eps': 0.2,\n",
       "  'target_update_interval': 100,\n",
       "  'policy_kwargs': {'net_arch': [256, 256]},\n",
       "  'seed': 2},\n",
       " {'policy': 'MlpPolicy',\n",
       "  'gamma': 0.99,\n",
       "  'learning_rate': 1e-05,\n",
       "  'batch_size': 256,\n",
       "  'buffer_size': 50000,\n",
       "  'train_freq': 16,\n",
       "  'gradient_steps': 1,\n",
       "  'exploration_fraction': 0.5,\n",
       "  'exploration_final_eps': 0.2,\n",
       "  'target_update_interval': 10000,\n",
       "  'policy_kwargs': {'net_arch': [256, 256]},\n",
       "  'seed': 2},\n",
       " {'policy': 'MlpPolicy',\n",
       "  'gamma': 0.99,\n",
       "  'learning_rate': 1e-05,\n",
       "  'batch_size': 256,\n",
       "  'buffer_size': 50000,\n",
       "  'train_freq': 32,\n",
       "  'gradient_steps': 1,\n",
       "  'exploration_fraction': 0.3,\n",
       "  'exploration_final_eps': 0.1,\n",
       "  'target_update_interval': 100,\n",
       "  'policy_kwargs': {'net_arch': [256, 256]},\n",
       "  'seed': 2},\n",
       " {'policy': 'MlpPolicy',\n",
       "  'gamma': 0.99,\n",
       "  'learning_rate': 1e-05,\n",
       "  'batch_size': 256,\n",
       "  'buffer_size': 50000,\n",
       "  'train_freq': 32,\n",
       "  'gradient_steps': 1,\n",
       "  'exploration_fraction': 0.3,\n",
       "  'exploration_final_eps': 0.1,\n",
       "  'target_update_interval': 10000,\n",
       "  'policy_kwargs': {'net_arch': [256, 256]},\n",
       "  'seed': 2},\n",
       " {'policy': 'MlpPolicy',\n",
       "  'gamma': 0.99,\n",
       "  'learning_rate': 1e-05,\n",
       "  'batch_size': 256,\n",
       "  'buffer_size': 50000,\n",
       "  'train_freq': 32,\n",
       "  'gradient_steps': 1,\n",
       "  'exploration_fraction': 0.3,\n",
       "  'exploration_final_eps': 0.2,\n",
       "  'target_update_interval': 100,\n",
       "  'policy_kwargs': {'net_arch': [256, 256]},\n",
       "  'seed': 2},\n",
       " {'policy': 'MlpPolicy',\n",
       "  'gamma': 0.99,\n",
       "  'learning_rate': 1e-05,\n",
       "  'batch_size': 256,\n",
       "  'buffer_size': 50000,\n",
       "  'train_freq': 32,\n",
       "  'gradient_steps': 1,\n",
       "  'exploration_fraction': 0.3,\n",
       "  'exploration_final_eps': 0.2,\n",
       "  'target_update_interval': 10000,\n",
       "  'policy_kwargs': {'net_arch': [256, 256]},\n",
       "  'seed': 2},\n",
       " {'policy': 'MlpPolicy',\n",
       "  'gamma': 0.99,\n",
       "  'learning_rate': 1e-05,\n",
       "  'batch_size': 256,\n",
       "  'buffer_size': 50000,\n",
       "  'train_freq': 32,\n",
       "  'gradient_steps': 1,\n",
       "  'exploration_fraction': 0.5,\n",
       "  'exploration_final_eps': 0.1,\n",
       "  'target_update_interval': 100,\n",
       "  'policy_kwargs': {'net_arch': [256, 256]},\n",
       "  'seed': 2},\n",
       " {'policy': 'MlpPolicy',\n",
       "  'gamma': 0.99,\n",
       "  'learning_rate': 1e-05,\n",
       "  'batch_size': 256,\n",
       "  'buffer_size': 50000,\n",
       "  'train_freq': 32,\n",
       "  'gradient_steps': 1,\n",
       "  'exploration_fraction': 0.5,\n",
       "  'exploration_final_eps': 0.1,\n",
       "  'target_update_interval': 10000,\n",
       "  'policy_kwargs': {'net_arch': [256, 256]},\n",
       "  'seed': 2},\n",
       " {'policy': 'MlpPolicy',\n",
       "  'gamma': 0.99,\n",
       "  'learning_rate': 1e-05,\n",
       "  'batch_size': 256,\n",
       "  'buffer_size': 50000,\n",
       "  'train_freq': 32,\n",
       "  'gradient_steps': 1,\n",
       "  'exploration_fraction': 0.5,\n",
       "  'exploration_final_eps': 0.2,\n",
       "  'target_update_interval': 100,\n",
       "  'policy_kwargs': {'net_arch': [256, 256]},\n",
       "  'seed': 2},\n",
       " {'policy': 'MlpPolicy',\n",
       "  'gamma': 0.99,\n",
       "  'learning_rate': 1e-05,\n",
       "  'batch_size': 256,\n",
       "  'buffer_size': 50000,\n",
       "  'train_freq': 32,\n",
       "  'gradient_steps': 1,\n",
       "  'exploration_fraction': 0.5,\n",
       "  'exploration_final_eps': 0.2,\n",
       "  'target_update_interval': 10000,\n",
       "  'policy_kwargs': {'net_arch': [256, 256]},\n",
       "  'seed': 2},\n",
       " {'policy': 'CnnPolicy',\n",
       "  'gamma': 0.9,\n",
       "  'learning_rate': 1e-05,\n",
       "  'batch_size': 256,\n",
       "  'buffer_size': 50000,\n",
       "  'train_freq': 16,\n",
       "  'gradient_steps': 1,\n",
       "  'exploration_fraction': 0.3,\n",
       "  'exploration_final_eps': 0.1,\n",
       "  'target_update_interval': 100,\n",
       "  'policy_kwargs': {'net_arch': [256, 256]},\n",
       "  'seed': 2},\n",
       " {'policy': 'CnnPolicy',\n",
       "  'gamma': 0.9,\n",
       "  'learning_rate': 1e-05,\n",
       "  'batch_size': 256,\n",
       "  'buffer_size': 50000,\n",
       "  'train_freq': 16,\n",
       "  'gradient_steps': 1,\n",
       "  'exploration_fraction': 0.3,\n",
       "  'exploration_final_eps': 0.1,\n",
       "  'target_update_interval': 10000,\n",
       "  'policy_kwargs': {'net_arch': [256, 256]},\n",
       "  'seed': 2},\n",
       " {'policy': 'CnnPolicy',\n",
       "  'gamma': 0.9,\n",
       "  'learning_rate': 1e-05,\n",
       "  'batch_size': 256,\n",
       "  'buffer_size': 50000,\n",
       "  'train_freq': 16,\n",
       "  'gradient_steps': 1,\n",
       "  'exploration_fraction': 0.3,\n",
       "  'exploration_final_eps': 0.2,\n",
       "  'target_update_interval': 100,\n",
       "  'policy_kwargs': {'net_arch': [256, 256]},\n",
       "  'seed': 2},\n",
       " {'policy': 'CnnPolicy',\n",
       "  'gamma': 0.9,\n",
       "  'learning_rate': 1e-05,\n",
       "  'batch_size': 256,\n",
       "  'buffer_size': 50000,\n",
       "  'train_freq': 16,\n",
       "  'gradient_steps': 1,\n",
       "  'exploration_fraction': 0.3,\n",
       "  'exploration_final_eps': 0.2,\n",
       "  'target_update_interval': 10000,\n",
       "  'policy_kwargs': {'net_arch': [256, 256]},\n",
       "  'seed': 2},\n",
       " {'policy': 'CnnPolicy',\n",
       "  'gamma': 0.9,\n",
       "  'learning_rate': 1e-05,\n",
       "  'batch_size': 256,\n",
       "  'buffer_size': 50000,\n",
       "  'train_freq': 16,\n",
       "  'gradient_steps': 1,\n",
       "  'exploration_fraction': 0.5,\n",
       "  'exploration_final_eps': 0.1,\n",
       "  'target_update_interval': 100,\n",
       "  'policy_kwargs': {'net_arch': [256, 256]},\n",
       "  'seed': 2},\n",
       " {'policy': 'CnnPolicy',\n",
       "  'gamma': 0.9,\n",
       "  'learning_rate': 1e-05,\n",
       "  'batch_size': 256,\n",
       "  'buffer_size': 50000,\n",
       "  'train_freq': 16,\n",
       "  'gradient_steps': 1,\n",
       "  'exploration_fraction': 0.5,\n",
       "  'exploration_final_eps': 0.1,\n",
       "  'target_update_interval': 10000,\n",
       "  'policy_kwargs': {'net_arch': [256, 256]},\n",
       "  'seed': 2},\n",
       " {'policy': 'CnnPolicy',\n",
       "  'gamma': 0.9,\n",
       "  'learning_rate': 1e-05,\n",
       "  'batch_size': 256,\n",
       "  'buffer_size': 50000,\n",
       "  'train_freq': 16,\n",
       "  'gradient_steps': 1,\n",
       "  'exploration_fraction': 0.5,\n",
       "  'exploration_final_eps': 0.2,\n",
       "  'target_update_interval': 100,\n",
       "  'policy_kwargs': {'net_arch': [256, 256]},\n",
       "  'seed': 2},\n",
       " {'policy': 'CnnPolicy',\n",
       "  'gamma': 0.9,\n",
       "  'learning_rate': 1e-05,\n",
       "  'batch_size': 256,\n",
       "  'buffer_size': 50000,\n",
       "  'train_freq': 16,\n",
       "  'gradient_steps': 1,\n",
       "  'exploration_fraction': 0.5,\n",
       "  'exploration_final_eps': 0.2,\n",
       "  'target_update_interval': 10000,\n",
       "  'policy_kwargs': {'net_arch': [256, 256]},\n",
       "  'seed': 2},\n",
       " {'policy': 'CnnPolicy',\n",
       "  'gamma': 0.9,\n",
       "  'learning_rate': 1e-05,\n",
       "  'batch_size': 256,\n",
       "  'buffer_size': 50000,\n",
       "  'train_freq': 32,\n",
       "  'gradient_steps': 1,\n",
       "  'exploration_fraction': 0.3,\n",
       "  'exploration_final_eps': 0.1,\n",
       "  'target_update_interval': 100,\n",
       "  'policy_kwargs': {'net_arch': [256, 256]},\n",
       "  'seed': 2},\n",
       " {'policy': 'CnnPolicy',\n",
       "  'gamma': 0.9,\n",
       "  'learning_rate': 1e-05,\n",
       "  'batch_size': 256,\n",
       "  'buffer_size': 50000,\n",
       "  'train_freq': 32,\n",
       "  'gradient_steps': 1,\n",
       "  'exploration_fraction': 0.3,\n",
       "  'exploration_final_eps': 0.1,\n",
       "  'target_update_interval': 10000,\n",
       "  'policy_kwargs': {'net_arch': [256, 256]},\n",
       "  'seed': 2},\n",
       " {'policy': 'CnnPolicy',\n",
       "  'gamma': 0.9,\n",
       "  'learning_rate': 1e-05,\n",
       "  'batch_size': 256,\n",
       "  'buffer_size': 50000,\n",
       "  'train_freq': 32,\n",
       "  'gradient_steps': 1,\n",
       "  'exploration_fraction': 0.3,\n",
       "  'exploration_final_eps': 0.2,\n",
       "  'target_update_interval': 100,\n",
       "  'policy_kwargs': {'net_arch': [256, 256]},\n",
       "  'seed': 2},\n",
       " {'policy': 'CnnPolicy',\n",
       "  'gamma': 0.9,\n",
       "  'learning_rate': 1e-05,\n",
       "  'batch_size': 256,\n",
       "  'buffer_size': 50000,\n",
       "  'train_freq': 32,\n",
       "  'gradient_steps': 1,\n",
       "  'exploration_fraction': 0.3,\n",
       "  'exploration_final_eps': 0.2,\n",
       "  'target_update_interval': 10000,\n",
       "  'policy_kwargs': {'net_arch': [256, 256]},\n",
       "  'seed': 2},\n",
       " {'policy': 'CnnPolicy',\n",
       "  'gamma': 0.9,\n",
       "  'learning_rate': 1e-05,\n",
       "  'batch_size': 256,\n",
       "  'buffer_size': 50000,\n",
       "  'train_freq': 32,\n",
       "  'gradient_steps': 1,\n",
       "  'exploration_fraction': 0.5,\n",
       "  'exploration_final_eps': 0.1,\n",
       "  'target_update_interval': 100,\n",
       "  'policy_kwargs': {'net_arch': [256, 256]},\n",
       "  'seed': 2},\n",
       " {'policy': 'CnnPolicy',\n",
       "  'gamma': 0.9,\n",
       "  'learning_rate': 1e-05,\n",
       "  'batch_size': 256,\n",
       "  'buffer_size': 50000,\n",
       "  'train_freq': 32,\n",
       "  'gradient_steps': 1,\n",
       "  'exploration_fraction': 0.5,\n",
       "  'exploration_final_eps': 0.1,\n",
       "  'target_update_interval': 10000,\n",
       "  'policy_kwargs': {'net_arch': [256, 256]},\n",
       "  'seed': 2},\n",
       " {'policy': 'CnnPolicy',\n",
       "  'gamma': 0.9,\n",
       "  'learning_rate': 1e-05,\n",
       "  'batch_size': 256,\n",
       "  'buffer_size': 50000,\n",
       "  'train_freq': 32,\n",
       "  'gradient_steps': 1,\n",
       "  'exploration_fraction': 0.5,\n",
       "  'exploration_final_eps': 0.2,\n",
       "  'target_update_interval': 100,\n",
       "  'policy_kwargs': {'net_arch': [256, 256]},\n",
       "  'seed': 2},\n",
       " {'policy': 'CnnPolicy',\n",
       "  'gamma': 0.9,\n",
       "  'learning_rate': 1e-05,\n",
       "  'batch_size': 256,\n",
       "  'buffer_size': 50000,\n",
       "  'train_freq': 32,\n",
       "  'gradient_steps': 1,\n",
       "  'exploration_fraction': 0.5,\n",
       "  'exploration_final_eps': 0.2,\n",
       "  'target_update_interval': 10000,\n",
       "  'policy_kwargs': {'net_arch': [256, 256]},\n",
       "  'seed': 2},\n",
       " {'policy': 'CnnPolicy',\n",
       "  'gamma': 0.99,\n",
       "  'learning_rate': 1e-05,\n",
       "  'batch_size': 256,\n",
       "  'buffer_size': 50000,\n",
       "  'train_freq': 16,\n",
       "  'gradient_steps': 1,\n",
       "  'exploration_fraction': 0.3,\n",
       "  'exploration_final_eps': 0.1,\n",
       "  'target_update_interval': 100,\n",
       "  'policy_kwargs': {'net_arch': [256, 256]},\n",
       "  'seed': 2},\n",
       " {'policy': 'CnnPolicy',\n",
       "  'gamma': 0.99,\n",
       "  'learning_rate': 1e-05,\n",
       "  'batch_size': 256,\n",
       "  'buffer_size': 50000,\n",
       "  'train_freq': 16,\n",
       "  'gradient_steps': 1,\n",
       "  'exploration_fraction': 0.3,\n",
       "  'exploration_final_eps': 0.1,\n",
       "  'target_update_interval': 10000,\n",
       "  'policy_kwargs': {'net_arch': [256, 256]},\n",
       "  'seed': 2},\n",
       " {'policy': 'CnnPolicy',\n",
       "  'gamma': 0.99,\n",
       "  'learning_rate': 1e-05,\n",
       "  'batch_size': 256,\n",
       "  'buffer_size': 50000,\n",
       "  'train_freq': 16,\n",
       "  'gradient_steps': 1,\n",
       "  'exploration_fraction': 0.3,\n",
       "  'exploration_final_eps': 0.2,\n",
       "  'target_update_interval': 100,\n",
       "  'policy_kwargs': {'net_arch': [256, 256]},\n",
       "  'seed': 2},\n",
       " {'policy': 'CnnPolicy',\n",
       "  'gamma': 0.99,\n",
       "  'learning_rate': 1e-05,\n",
       "  'batch_size': 256,\n",
       "  'buffer_size': 50000,\n",
       "  'train_freq': 16,\n",
       "  'gradient_steps': 1,\n",
       "  'exploration_fraction': 0.3,\n",
       "  'exploration_final_eps': 0.2,\n",
       "  'target_update_interval': 10000,\n",
       "  'policy_kwargs': {'net_arch': [256, 256]},\n",
       "  'seed': 2},\n",
       " {'policy': 'CnnPolicy',\n",
       "  'gamma': 0.99,\n",
       "  'learning_rate': 1e-05,\n",
       "  'batch_size': 256,\n",
       "  'buffer_size': 50000,\n",
       "  'train_freq': 16,\n",
       "  'gradient_steps': 1,\n",
       "  'exploration_fraction': 0.5,\n",
       "  'exploration_final_eps': 0.1,\n",
       "  'target_update_interval': 100,\n",
       "  'policy_kwargs': {'net_arch': [256, 256]},\n",
       "  'seed': 2},\n",
       " {'policy': 'CnnPolicy',\n",
       "  'gamma': 0.99,\n",
       "  'learning_rate': 1e-05,\n",
       "  'batch_size': 256,\n",
       "  'buffer_size': 50000,\n",
       "  'train_freq': 16,\n",
       "  'gradient_steps': 1,\n",
       "  'exploration_fraction': 0.5,\n",
       "  'exploration_final_eps': 0.1,\n",
       "  'target_update_interval': 10000,\n",
       "  'policy_kwargs': {'net_arch': [256, 256]},\n",
       "  'seed': 2},\n",
       " {'policy': 'CnnPolicy',\n",
       "  'gamma': 0.99,\n",
       "  'learning_rate': 1e-05,\n",
       "  'batch_size': 256,\n",
       "  'buffer_size': 50000,\n",
       "  'train_freq': 16,\n",
       "  'gradient_steps': 1,\n",
       "  'exploration_fraction': 0.5,\n",
       "  'exploration_final_eps': 0.2,\n",
       "  'target_update_interval': 100,\n",
       "  'policy_kwargs': {'net_arch': [256, 256]},\n",
       "  'seed': 2},\n",
       " {'policy': 'CnnPolicy',\n",
       "  'gamma': 0.99,\n",
       "  'learning_rate': 1e-05,\n",
       "  'batch_size': 256,\n",
       "  'buffer_size': 50000,\n",
       "  'train_freq': 16,\n",
       "  'gradient_steps': 1,\n",
       "  'exploration_fraction': 0.5,\n",
       "  'exploration_final_eps': 0.2,\n",
       "  'target_update_interval': 10000,\n",
       "  'policy_kwargs': {'net_arch': [256, 256]},\n",
       "  'seed': 2},\n",
       " {'policy': 'CnnPolicy',\n",
       "  'gamma': 0.99,\n",
       "  'learning_rate': 1e-05,\n",
       "  'batch_size': 256,\n",
       "  'buffer_size': 50000,\n",
       "  'train_freq': 32,\n",
       "  'gradient_steps': 1,\n",
       "  'exploration_fraction': 0.3,\n",
       "  'exploration_final_eps': 0.1,\n",
       "  'target_update_interval': 100,\n",
       "  'policy_kwargs': {'net_arch': [256, 256]},\n",
       "  'seed': 2},\n",
       " {'policy': 'CnnPolicy',\n",
       "  'gamma': 0.99,\n",
       "  'learning_rate': 1e-05,\n",
       "  'batch_size': 256,\n",
       "  'buffer_size': 50000,\n",
       "  'train_freq': 32,\n",
       "  'gradient_steps': 1,\n",
       "  'exploration_fraction': 0.3,\n",
       "  'exploration_final_eps': 0.1,\n",
       "  'target_update_interval': 10000,\n",
       "  'policy_kwargs': {'net_arch': [256, 256]},\n",
       "  'seed': 2},\n",
       " {'policy': 'CnnPolicy',\n",
       "  'gamma': 0.99,\n",
       "  'learning_rate': 1e-05,\n",
       "  'batch_size': 256,\n",
       "  'buffer_size': 50000,\n",
       "  'train_freq': 32,\n",
       "  'gradient_steps': 1,\n",
       "  'exploration_fraction': 0.3,\n",
       "  'exploration_final_eps': 0.2,\n",
       "  'target_update_interval': 100,\n",
       "  'policy_kwargs': {'net_arch': [256, 256]},\n",
       "  'seed': 2},\n",
       " {'policy': 'CnnPolicy',\n",
       "  'gamma': 0.99,\n",
       "  'learning_rate': 1e-05,\n",
       "  'batch_size': 256,\n",
       "  'buffer_size': 50000,\n",
       "  'train_freq': 32,\n",
       "  'gradient_steps': 1,\n",
       "  'exploration_fraction': 0.3,\n",
       "  'exploration_final_eps': 0.2,\n",
       "  'target_update_interval': 10000,\n",
       "  'policy_kwargs': {'net_arch': [256, 256]},\n",
       "  'seed': 2},\n",
       " {'policy': 'CnnPolicy',\n",
       "  'gamma': 0.99,\n",
       "  'learning_rate': 1e-05,\n",
       "  'batch_size': 256,\n",
       "  'buffer_size': 50000,\n",
       "  'train_freq': 32,\n",
       "  'gradient_steps': 1,\n",
       "  'exploration_fraction': 0.5,\n",
       "  'exploration_final_eps': 0.1,\n",
       "  'target_update_interval': 100,\n",
       "  'policy_kwargs': {'net_arch': [256, 256]},\n",
       "  'seed': 2},\n",
       " {'policy': 'CnnPolicy',\n",
       "  'gamma': 0.99,\n",
       "  'learning_rate': 1e-05,\n",
       "  'batch_size': 256,\n",
       "  'buffer_size': 50000,\n",
       "  'train_freq': 32,\n",
       "  'gradient_steps': 1,\n",
       "  'exploration_fraction': 0.5,\n",
       "  'exploration_final_eps': 0.1,\n",
       "  'target_update_interval': 10000,\n",
       "  'policy_kwargs': {'net_arch': [256, 256]},\n",
       "  'seed': 2},\n",
       " {'policy': 'CnnPolicy',\n",
       "  'gamma': 0.99,\n",
       "  'learning_rate': 1e-05,\n",
       "  'batch_size': 256,\n",
       "  'buffer_size': 50000,\n",
       "  'train_freq': 32,\n",
       "  'gradient_steps': 1,\n",
       "  'exploration_fraction': 0.5,\n",
       "  'exploration_final_eps': 0.2,\n",
       "  'target_update_interval': 100,\n",
       "  'policy_kwargs': {'net_arch': [256, 256]},\n",
       "  'seed': 2},\n",
       " {'policy': 'CnnPolicy',\n",
       "  'gamma': 0.99,\n",
       "  'learning_rate': 1e-05,\n",
       "  'batch_size': 256,\n",
       "  'buffer_size': 50000,\n",
       "  'train_freq': 32,\n",
       "  'gradient_steps': 1,\n",
       "  'exploration_fraction': 0.5,\n",
       "  'exploration_final_eps': 0.2,\n",
       "  'target_update_interval': 10000,\n",
       "  'policy_kwargs': {'net_arch': [256, 256]},\n",
       "  'seed': 2}]"
      ]
     },
     "execution_count": 5,
     "metadata": {},
     "output_type": "execute_result"
    }
   ],
   "source": [
    "h_params_list"
   ]
  },
  {
   "cell_type": "code",
   "execution_count": 6,
   "metadata": {},
   "outputs": [
    {
     "name": "stdout",
     "output_type": "stream",
     "text": [
      "running experiments on cpu\n"
     ]
    }
   ],
   "source": [
    "expr = ExperimentRunner(model_class=DQN, base_env=StreetFighter, verbose=True)"
   ]
  },
  {
   "cell_type": "code",
   "execution_count": 7,
   "metadata": {},
   "outputs": [
    {
     "data": {
      "text/plain": [
       "expr: model: <class 'stable_baselines3.dqn.dqn.DQN'>,\n",
       "base_env_class: <class 'common.fighter_envs.StreetFighter'>\n",
       "h_parameters: None,\n",
       "model_ops: {'tensorboard_log': './results/board/', 'verbose': 0},\n",
       "model_train_ops: {'total_timesteps': 50000, 'progress_bar': True, 'tb_log_name': 'DQN'},\n",
       "env_builder: make_dqn_env,\n",
       "env_builder opts: {'render_mode': None, 'n_procs': 4},\n",
       "eval function: evaluate_policy,\n",
       "eval function opts: {'return_episode_rewards': False, 'deterministic': False},\n",
       "device: cpu,\n",
       "model current learning timesteps: 0"
      ]
     },
     "execution_count": 7,
     "metadata": {},
     "output_type": "execute_result"
    }
   ],
   "source": [
    "expr.set_env_func(env_func=make_dqn_env)\n",
    "expr.set_env_func_options(render_mode = None, n_procs = 4)\n",
    "expr.set_eval_func_options(return_episode_rewards=False, deterministic=False)\n",
    "expr"
   ]
  },
  {
   "cell_type": "code",
   "execution_count": 10,
   "metadata": {},
   "outputs": [],
   "source": [
    "from classes.utils import cleanup_device\n",
    "import traceback"
   ]
  },
  {
   "cell_type": "code",
   "execution_count": 11,
   "metadata": {},
   "outputs": [],
   "source": [
    "recorder = {}\n",
    "total = len(h_params_list)"
   ]
  },
  {
   "cell_type": "code",
   "execution_count": 12,
   "metadata": {},
   "outputs": [],
   "source": [
    "trial = 1   "
   ]
  },
  {
   "cell_type": "code",
   "execution_count": 13,
   "metadata": {},
   "outputs": [
    {
     "name": "stdout",
     "output_type": "stream",
     "text": [
      "Trial: 1 out of 64\n",
      "{'policy': 'MlpPolicy', 'gamma': 0.9, 'learning_rate': 1e-05, 'batch_size': 256, 'buffer_size': 50000, 'train_freq': 16, 'gradient_steps': 1, 'exploration_fraction': 0.3, 'exploration_final_eps': 0.1, 'target_update_interval': 100, 'policy_kwargs': {'net_arch': [256, 256]}, 'seed': 2}\n",
      "Learning...\n"
     ]
    },
    {
     "data": {
      "application/vnd.jupyter.widget-view+json": {
       "model_id": "b2139ff451804d008f79fb0069f60938",
       "version_major": 2,
       "version_minor": 0
      },
      "text/plain": [
       "Output()"
      ]
     },
     "metadata": {},
     "output_type": "display_data"
    },
    {
     "data": {
      "text/html": [
       "<pre style=\"white-space:pre;overflow-x:auto;line-height:normal;font-family:Menlo,'DejaVu Sans Mono',consolas,'Courier New',monospace\"></pre>\n"
      ],
      "text/plain": []
     },
     "metadata": {},
     "output_type": "display_data"
    },
    {
     "data": {
      "text/html": [
       "<pre style=\"white-space:pre;overflow-x:auto;line-height:normal;font-family:Menlo,'DejaVu Sans Mono',consolas,'Courier New',monospace\">\n",
       "</pre>\n"
      ],
      "text/plain": [
       "\n"
      ]
     },
     "metadata": {},
     "output_type": "display_data"
    },
    {
     "name": "stdout",
     "output_type": "stream",
     "text": [
      "Model Saved to: ./results/models/1\n",
      "Evaluating...\n",
      "Total Trial time: 17.983\n",
      "Trial: 2 out of 64\n",
      "{'policy': 'MlpPolicy', 'gamma': 0.9, 'learning_rate': 1e-05, 'batch_size': 256, 'buffer_size': 50000, 'train_freq': 16, 'gradient_steps': 1, 'exploration_fraction': 0.3, 'exploration_final_eps': 0.1, 'target_update_interval': 10000, 'policy_kwargs': {'net_arch': [256, 256]}, 'seed': 2}\n",
      "Learning...\n"
     ]
    },
    {
     "data": {
      "application/vnd.jupyter.widget-view+json": {
       "model_id": "b769175ccd884183b7a765b6d3f7e4d3",
       "version_major": 2,
       "version_minor": 0
      },
      "text/plain": [
       "Output()"
      ]
     },
     "metadata": {},
     "output_type": "display_data"
    },
    {
     "data": {
      "text/html": [
       "<pre style=\"white-space:pre;overflow-x:auto;line-height:normal;font-family:Menlo,'DejaVu Sans Mono',consolas,'Courier New',monospace\"></pre>\n"
      ],
      "text/plain": []
     },
     "metadata": {},
     "output_type": "display_data"
    },
    {
     "data": {
      "text/html": [
       "<pre style=\"white-space:pre;overflow-x:auto;line-height:normal;font-family:Menlo,'DejaVu Sans Mono',consolas,'Courier New',monospace\">\n",
       "</pre>\n"
      ],
      "text/plain": [
       "\n"
      ]
     },
     "metadata": {},
     "output_type": "display_data"
    },
    {
     "name": "stdout",
     "output_type": "stream",
     "text": [
      "Model Saved to: ./results/models/2\n",
      "Evaluating...\n",
      "Total Trial time: 19.561\n",
      "Trial: 3 out of 64\n",
      "{'policy': 'MlpPolicy', 'gamma': 0.9, 'learning_rate': 1e-05, 'batch_size': 256, 'buffer_size': 50000, 'train_freq': 16, 'gradient_steps': 1, 'exploration_fraction': 0.3, 'exploration_final_eps': 0.2, 'target_update_interval': 100, 'policy_kwargs': {'net_arch': [256, 256]}, 'seed': 2}\n",
      "Learning...\n"
     ]
    },
    {
     "data": {
      "application/vnd.jupyter.widget-view+json": {
       "model_id": "7d23ee6adaa745b5b4093dbc903b8ae6",
       "version_major": 2,
       "version_minor": 0
      },
      "text/plain": [
       "Output()"
      ]
     },
     "metadata": {},
     "output_type": "display_data"
    },
    {
     "data": {
      "text/html": [
       "<pre style=\"white-space:pre;overflow-x:auto;line-height:normal;font-family:Menlo,'DejaVu Sans Mono',consolas,'Courier New',monospace\"></pre>\n"
      ],
      "text/plain": []
     },
     "metadata": {},
     "output_type": "display_data"
    },
    {
     "data": {
      "text/html": [
       "<pre style=\"white-space:pre;overflow-x:auto;line-height:normal;font-family:Menlo,'DejaVu Sans Mono',consolas,'Courier New',monospace\">\n",
       "</pre>\n"
      ],
      "text/plain": [
       "\n"
      ]
     },
     "metadata": {},
     "output_type": "display_data"
    },
    {
     "name": "stdout",
     "output_type": "stream",
     "text": [
      "Model Saved to: ./results/models/3\n",
      "Evaluating...\n",
      "Total Trial time: 17.41\n",
      "Trial: 4 out of 64\n",
      "{'policy': 'MlpPolicy', 'gamma': 0.9, 'learning_rate': 1e-05, 'batch_size': 256, 'buffer_size': 50000, 'train_freq': 16, 'gradient_steps': 1, 'exploration_fraction': 0.3, 'exploration_final_eps': 0.2, 'target_update_interval': 10000, 'policy_kwargs': {'net_arch': [256, 256]}, 'seed': 2}\n",
      "Learning...\n"
     ]
    },
    {
     "data": {
      "application/vnd.jupyter.widget-view+json": {
       "model_id": "c9bba925834d43aba4e8e6912fecff20",
       "version_major": 2,
       "version_minor": 0
      },
      "text/plain": [
       "Output()"
      ]
     },
     "metadata": {},
     "output_type": "display_data"
    },
    {
     "data": {
      "text/html": [
       "<pre style=\"white-space:pre;overflow-x:auto;line-height:normal;font-family:Menlo,'DejaVu Sans Mono',consolas,'Courier New',monospace\"></pre>\n"
      ],
      "text/plain": []
     },
     "metadata": {},
     "output_type": "display_data"
    },
    {
     "data": {
      "text/html": [
       "<pre style=\"white-space:pre;overflow-x:auto;line-height:normal;font-family:Menlo,'DejaVu Sans Mono',consolas,'Courier New',monospace\">\n",
       "</pre>\n"
      ],
      "text/plain": [
       "\n"
      ]
     },
     "metadata": {},
     "output_type": "display_data"
    },
    {
     "name": "stdout",
     "output_type": "stream",
     "text": [
      "Model Saved to: ./results/models/4\n",
      "Evaluating...\n",
      "Total Trial time: 17.244\n",
      "Trial: 5 out of 64\n",
      "{'policy': 'MlpPolicy', 'gamma': 0.9, 'learning_rate': 1e-05, 'batch_size': 256, 'buffer_size': 50000, 'train_freq': 16, 'gradient_steps': 1, 'exploration_fraction': 0.5, 'exploration_final_eps': 0.1, 'target_update_interval': 100, 'policy_kwargs': {'net_arch': [256, 256]}, 'seed': 2}\n",
      "Learning...\n"
     ]
    },
    {
     "data": {
      "application/vnd.jupyter.widget-view+json": {
       "model_id": "8ebdedbd08244fad9e1a8a60394ba4a6",
       "version_major": 2,
       "version_minor": 0
      },
      "text/plain": [
       "Output()"
      ]
     },
     "metadata": {},
     "output_type": "display_data"
    },
    {
     "data": {
      "text/html": [
       "<pre style=\"white-space:pre;overflow-x:auto;line-height:normal;font-family:Menlo,'DejaVu Sans Mono',consolas,'Courier New',monospace\"></pre>\n"
      ],
      "text/plain": []
     },
     "metadata": {},
     "output_type": "display_data"
    },
    {
     "data": {
      "text/html": [
       "<pre style=\"white-space:pre;overflow-x:auto;line-height:normal;font-family:Menlo,'DejaVu Sans Mono',consolas,'Courier New',monospace\">\n",
       "</pre>\n"
      ],
      "text/plain": [
       "\n"
      ]
     },
     "metadata": {},
     "output_type": "display_data"
    },
    {
     "name": "stdout",
     "output_type": "stream",
     "text": [
      "Model Saved to: ./results/models/5\n",
      "Evaluating...\n",
      "Total Trial time: 19.065\n",
      "Trial: 6 out of 64\n",
      "{'policy': 'MlpPolicy', 'gamma': 0.9, 'learning_rate': 1e-05, 'batch_size': 256, 'buffer_size': 50000, 'train_freq': 16, 'gradient_steps': 1, 'exploration_fraction': 0.5, 'exploration_final_eps': 0.1, 'target_update_interval': 10000, 'policy_kwargs': {'net_arch': [256, 256]}, 'seed': 2}\n",
      "Learning...\n"
     ]
    },
    {
     "data": {
      "application/vnd.jupyter.widget-view+json": {
       "model_id": "73094298f62b43418e7d16511bffae8b",
       "version_major": 2,
       "version_minor": 0
      },
      "text/plain": [
       "Output()"
      ]
     },
     "metadata": {},
     "output_type": "display_data"
    },
    {
     "data": {
      "text/html": [
       "<pre style=\"white-space:pre;overflow-x:auto;line-height:normal;font-family:Menlo,'DejaVu Sans Mono',consolas,'Courier New',monospace\"></pre>\n"
      ],
      "text/plain": []
     },
     "metadata": {},
     "output_type": "display_data"
    },
    {
     "data": {
      "text/html": [
       "<pre style=\"white-space:pre;overflow-x:auto;line-height:normal;font-family:Menlo,'DejaVu Sans Mono',consolas,'Courier New',monospace\">\n",
       "</pre>\n"
      ],
      "text/plain": [
       "\n"
      ]
     },
     "metadata": {},
     "output_type": "display_data"
    },
    {
     "name": "stdout",
     "output_type": "stream",
     "text": [
      "Model Saved to: ./results/models/6\n",
      "Evaluating...\n",
      "Total Trial time: 16.731\n",
      "Trial: 7 out of 64\n",
      "{'policy': 'MlpPolicy', 'gamma': 0.9, 'learning_rate': 1e-05, 'batch_size': 256, 'buffer_size': 50000, 'train_freq': 16, 'gradient_steps': 1, 'exploration_fraction': 0.5, 'exploration_final_eps': 0.2, 'target_update_interval': 100, 'policy_kwargs': {'net_arch': [256, 256]}, 'seed': 2}\n",
      "Learning...\n"
     ]
    },
    {
     "data": {
      "application/vnd.jupyter.widget-view+json": {
       "model_id": "5d9e7f8e931b477ba3c797df644715c8",
       "version_major": 2,
       "version_minor": 0
      },
      "text/plain": [
       "Output()"
      ]
     },
     "metadata": {},
     "output_type": "display_data"
    },
    {
     "data": {
      "text/html": [
       "<pre style=\"white-space:pre;overflow-x:auto;line-height:normal;font-family:Menlo,'DejaVu Sans Mono',consolas,'Courier New',monospace\"></pre>\n"
      ],
      "text/plain": []
     },
     "metadata": {},
     "output_type": "display_data"
    },
    {
     "data": {
      "text/html": [
       "<pre style=\"white-space:pre;overflow-x:auto;line-height:normal;font-family:Menlo,'DejaVu Sans Mono',consolas,'Courier New',monospace\">\n",
       "</pre>\n"
      ],
      "text/plain": [
       "\n"
      ]
     },
     "metadata": {},
     "output_type": "display_data"
    },
    {
     "name": "stdout",
     "output_type": "stream",
     "text": [
      "Model Saved to: ./results/models/7\n",
      "Evaluating...\n",
      "Total Trial time: 17.253\n",
      "Trial: 8 out of 64\n",
      "{'policy': 'MlpPolicy', 'gamma': 0.9, 'learning_rate': 1e-05, 'batch_size': 256, 'buffer_size': 50000, 'train_freq': 16, 'gradient_steps': 1, 'exploration_fraction': 0.5, 'exploration_final_eps': 0.2, 'target_update_interval': 10000, 'policy_kwargs': {'net_arch': [256, 256]}, 'seed': 2}\n",
      "Learning...\n"
     ]
    },
    {
     "data": {
      "application/vnd.jupyter.widget-view+json": {
       "model_id": "19647e14b2f34885b9e5f5b93d14ca95",
       "version_major": 2,
       "version_minor": 0
      },
      "text/plain": [
       "Output()"
      ]
     },
     "metadata": {},
     "output_type": "display_data"
    },
    {
     "data": {
      "text/html": [
       "<pre style=\"white-space:pre;overflow-x:auto;line-height:normal;font-family:Menlo,'DejaVu Sans Mono',consolas,'Courier New',monospace\"></pre>\n"
      ],
      "text/plain": []
     },
     "metadata": {},
     "output_type": "display_data"
    },
    {
     "data": {
      "text/html": [
       "<pre style=\"white-space:pre;overflow-x:auto;line-height:normal;font-family:Menlo,'DejaVu Sans Mono',consolas,'Courier New',monospace\">\n",
       "</pre>\n"
      ],
      "text/plain": [
       "\n"
      ]
     },
     "metadata": {},
     "output_type": "display_data"
    },
    {
     "name": "stdout",
     "output_type": "stream",
     "text": [
      "Model Saved to: ./results/models/8\n",
      "Evaluating...\n",
      "Total Trial time: 16.376\n",
      "Trial: 9 out of 64\n",
      "{'policy': 'MlpPolicy', 'gamma': 0.9, 'learning_rate': 1e-05, 'batch_size': 256, 'buffer_size': 50000, 'train_freq': 32, 'gradient_steps': 1, 'exploration_fraction': 0.3, 'exploration_final_eps': 0.1, 'target_update_interval': 100, 'policy_kwargs': {'net_arch': [256, 256]}, 'seed': 2}\n",
      "Learning...\n"
     ]
    },
    {
     "data": {
      "application/vnd.jupyter.widget-view+json": {
       "model_id": "87ed6acf40a740efb92af254c5cdc5e0",
       "version_major": 2,
       "version_minor": 0
      },
      "text/plain": [
       "Output()"
      ]
     },
     "metadata": {},
     "output_type": "display_data"
    },
    {
     "data": {
      "text/html": [
       "<pre style=\"white-space:pre;overflow-x:auto;line-height:normal;font-family:Menlo,'DejaVu Sans Mono',consolas,'Courier New',monospace\"></pre>\n"
      ],
      "text/plain": []
     },
     "metadata": {},
     "output_type": "display_data"
    },
    {
     "data": {
      "text/html": [
       "<pre style=\"white-space:pre;overflow-x:auto;line-height:normal;font-family:Menlo,'DejaVu Sans Mono',consolas,'Courier New',monospace\">\n",
       "</pre>\n"
      ],
      "text/plain": [
       "\n"
      ]
     },
     "metadata": {},
     "output_type": "display_data"
    },
    {
     "name": "stdout",
     "output_type": "stream",
     "text": [
      "Model Saved to: ./results/models/9\n",
      "Evaluating...\n",
      "Total Trial time: 13.688\n",
      "Trial: 10 out of 64\n",
      "{'policy': 'MlpPolicy', 'gamma': 0.9, 'learning_rate': 1e-05, 'batch_size': 256, 'buffer_size': 50000, 'train_freq': 32, 'gradient_steps': 1, 'exploration_fraction': 0.3, 'exploration_final_eps': 0.1, 'target_update_interval': 10000, 'policy_kwargs': {'net_arch': [256, 256]}, 'seed': 2}\n",
      "Learning...\n"
     ]
    },
    {
     "data": {
      "application/vnd.jupyter.widget-view+json": {
       "model_id": "00c7bee382fe4eba8418381cc60d4d75",
       "version_major": 2,
       "version_minor": 0
      },
      "text/plain": [
       "Output()"
      ]
     },
     "metadata": {},
     "output_type": "display_data"
    },
    {
     "data": {
      "text/html": [
       "<pre style=\"white-space:pre;overflow-x:auto;line-height:normal;font-family:Menlo,'DejaVu Sans Mono',consolas,'Courier New',monospace\"></pre>\n"
      ],
      "text/plain": []
     },
     "metadata": {},
     "output_type": "display_data"
    },
    {
     "data": {
      "text/html": [
       "<pre style=\"white-space:pre;overflow-x:auto;line-height:normal;font-family:Menlo,'DejaVu Sans Mono',consolas,'Courier New',monospace\">\n",
       "</pre>\n"
      ],
      "text/plain": [
       "\n"
      ]
     },
     "metadata": {},
     "output_type": "display_data"
    },
    {
     "name": "stdout",
     "output_type": "stream",
     "text": [
      "Model Saved to: ./results/models/10\n",
      "Evaluating...\n",
      "saving dataframe!\n",
      "Total Trial time: 12.578\n",
      "Trial: 11 out of 64\n",
      "{'policy': 'MlpPolicy', 'gamma': 0.9, 'learning_rate': 1e-05, 'batch_size': 256, 'buffer_size': 50000, 'train_freq': 32, 'gradient_steps': 1, 'exploration_fraction': 0.3, 'exploration_final_eps': 0.2, 'target_update_interval': 100, 'policy_kwargs': {'net_arch': [256, 256]}, 'seed': 2}\n",
      "Learning...\n"
     ]
    },
    {
     "data": {
      "application/vnd.jupyter.widget-view+json": {
       "model_id": "34d43319eb5f455bb379ddcca32e1777",
       "version_major": 2,
       "version_minor": 0
      },
      "text/plain": [
       "Output()"
      ]
     },
     "metadata": {},
     "output_type": "display_data"
    },
    {
     "data": {
      "text/html": [
       "<pre style=\"white-space:pre;overflow-x:auto;line-height:normal;font-family:Menlo,'DejaVu Sans Mono',consolas,'Courier New',monospace\"></pre>\n"
      ],
      "text/plain": []
     },
     "metadata": {},
     "output_type": "display_data"
    },
    {
     "data": {
      "text/html": [
       "<pre style=\"white-space:pre;overflow-x:auto;line-height:normal;font-family:Menlo,'DejaVu Sans Mono',consolas,'Courier New',monospace\">\n",
       "</pre>\n"
      ],
      "text/plain": [
       "\n"
      ]
     },
     "metadata": {},
     "output_type": "display_data"
    },
    {
     "name": "stdout",
     "output_type": "stream",
     "text": [
      "Model Saved to: ./results/models/11\n",
      "Evaluating...\n",
      "Total Trial time: 12.682\n",
      "Trial: 12 out of 64\n",
      "{'policy': 'MlpPolicy', 'gamma': 0.9, 'learning_rate': 1e-05, 'batch_size': 256, 'buffer_size': 50000, 'train_freq': 32, 'gradient_steps': 1, 'exploration_fraction': 0.3, 'exploration_final_eps': 0.2, 'target_update_interval': 10000, 'policy_kwargs': {'net_arch': [256, 256]}, 'seed': 2}\n",
      "Learning...\n"
     ]
    },
    {
     "data": {
      "application/vnd.jupyter.widget-view+json": {
       "model_id": "c137e809a0a14afbb46b2fdafcc2e7b0",
       "version_major": 2,
       "version_minor": 0
      },
      "text/plain": [
       "Output()"
      ]
     },
     "metadata": {},
     "output_type": "display_data"
    },
    {
     "data": {
      "text/html": [
       "<pre style=\"white-space:pre;overflow-x:auto;line-height:normal;font-family:Menlo,'DejaVu Sans Mono',consolas,'Courier New',monospace\"></pre>\n"
      ],
      "text/plain": []
     },
     "metadata": {},
     "output_type": "display_data"
    },
    {
     "data": {
      "text/html": [
       "<pre style=\"white-space:pre;overflow-x:auto;line-height:normal;font-family:Menlo,'DejaVu Sans Mono',consolas,'Courier New',monospace\">\n",
       "</pre>\n"
      ],
      "text/plain": [
       "\n"
      ]
     },
     "metadata": {},
     "output_type": "display_data"
    },
    {
     "name": "stdout",
     "output_type": "stream",
     "text": [
      "Model Saved to: ./results/models/12\n",
      "Evaluating...\n",
      "Total Trial time: 12.113\n",
      "Trial: 13 out of 64\n",
      "{'policy': 'MlpPolicy', 'gamma': 0.9, 'learning_rate': 1e-05, 'batch_size': 256, 'buffer_size': 50000, 'train_freq': 32, 'gradient_steps': 1, 'exploration_fraction': 0.5, 'exploration_final_eps': 0.1, 'target_update_interval': 100, 'policy_kwargs': {'net_arch': [256, 256]}, 'seed': 2}\n",
      "Learning...\n"
     ]
    },
    {
     "data": {
      "application/vnd.jupyter.widget-view+json": {
       "model_id": "1d6bbafab7c74d0fb1435033261a3dd8",
       "version_major": 2,
       "version_minor": 0
      },
      "text/plain": [
       "Output()"
      ]
     },
     "metadata": {},
     "output_type": "display_data"
    },
    {
     "data": {
      "text/html": [
       "<pre style=\"white-space:pre;overflow-x:auto;line-height:normal;font-family:Menlo,'DejaVu Sans Mono',consolas,'Courier New',monospace\"></pre>\n"
      ],
      "text/plain": []
     },
     "metadata": {},
     "output_type": "display_data"
    },
    {
     "data": {
      "text/html": [
       "<pre style=\"white-space:pre;overflow-x:auto;line-height:normal;font-family:Menlo,'DejaVu Sans Mono',consolas,'Courier New',monospace\">\n",
       "</pre>\n"
      ],
      "text/plain": [
       "\n"
      ]
     },
     "metadata": {},
     "output_type": "display_data"
    },
    {
     "name": "stdout",
     "output_type": "stream",
     "text": [
      "Model Saved to: ./results/models/13\n",
      "Evaluating...\n",
      "Total Trial time: 12.551\n",
      "Trial: 14 out of 64\n",
      "{'policy': 'MlpPolicy', 'gamma': 0.9, 'learning_rate': 1e-05, 'batch_size': 256, 'buffer_size': 50000, 'train_freq': 32, 'gradient_steps': 1, 'exploration_fraction': 0.5, 'exploration_final_eps': 0.1, 'target_update_interval': 10000, 'policy_kwargs': {'net_arch': [256, 256]}, 'seed': 2}\n",
      "Learning...\n"
     ]
    },
    {
     "data": {
      "application/vnd.jupyter.widget-view+json": {
       "model_id": "5f28f9858bc94a5d98437acd1211e256",
       "version_major": 2,
       "version_minor": 0
      },
      "text/plain": [
       "Output()"
      ]
     },
     "metadata": {},
     "output_type": "display_data"
    },
    {
     "data": {
      "text/html": [
       "<pre style=\"white-space:pre;overflow-x:auto;line-height:normal;font-family:Menlo,'DejaVu Sans Mono',consolas,'Courier New',monospace\"></pre>\n"
      ],
      "text/plain": []
     },
     "metadata": {},
     "output_type": "display_data"
    },
    {
     "data": {
      "text/html": [
       "<pre style=\"white-space:pre;overflow-x:auto;line-height:normal;font-family:Menlo,'DejaVu Sans Mono',consolas,'Courier New',monospace\">\n",
       "</pre>\n"
      ],
      "text/plain": [
       "\n"
      ]
     },
     "metadata": {},
     "output_type": "display_data"
    },
    {
     "name": "stdout",
     "output_type": "stream",
     "text": [
      "Model Saved to: ./results/models/14\n",
      "Evaluating...\n",
      "Total Trial time: 12.045\n",
      "Trial: 15 out of 64\n",
      "{'policy': 'MlpPolicy', 'gamma': 0.9, 'learning_rate': 1e-05, 'batch_size': 256, 'buffer_size': 50000, 'train_freq': 32, 'gradient_steps': 1, 'exploration_fraction': 0.5, 'exploration_final_eps': 0.2, 'target_update_interval': 100, 'policy_kwargs': {'net_arch': [256, 256]}, 'seed': 2}\n",
      "Learning...\n"
     ]
    },
    {
     "data": {
      "application/vnd.jupyter.widget-view+json": {
       "model_id": "88a4679c21c7462e9ab6c4d058236b62",
       "version_major": 2,
       "version_minor": 0
      },
      "text/plain": [
       "Output()"
      ]
     },
     "metadata": {},
     "output_type": "display_data"
    },
    {
     "data": {
      "text/html": [
       "<pre style=\"white-space:pre;overflow-x:auto;line-height:normal;font-family:Menlo,'DejaVu Sans Mono',consolas,'Courier New',monospace\"></pre>\n"
      ],
      "text/plain": []
     },
     "metadata": {},
     "output_type": "display_data"
    },
    {
     "data": {
      "text/html": [
       "<pre style=\"white-space:pre;overflow-x:auto;line-height:normal;font-family:Menlo,'DejaVu Sans Mono',consolas,'Courier New',monospace\">\n",
       "</pre>\n"
      ],
      "text/plain": [
       "\n"
      ]
     },
     "metadata": {},
     "output_type": "display_data"
    },
    {
     "name": "stdout",
     "output_type": "stream",
     "text": [
      "Model Saved to: ./results/models/15\n",
      "Evaluating...\n",
      "Total Trial time: 12.087\n",
      "Trial: 16 out of 64\n",
      "{'policy': 'MlpPolicy', 'gamma': 0.9, 'learning_rate': 1e-05, 'batch_size': 256, 'buffer_size': 50000, 'train_freq': 32, 'gradient_steps': 1, 'exploration_fraction': 0.5, 'exploration_final_eps': 0.2, 'target_update_interval': 10000, 'policy_kwargs': {'net_arch': [256, 256]}, 'seed': 2}\n",
      "Learning...\n"
     ]
    },
    {
     "data": {
      "application/vnd.jupyter.widget-view+json": {
       "model_id": "7e1ba5ad50cc48159ab2d29c89a43e36",
       "version_major": 2,
       "version_minor": 0
      },
      "text/plain": [
       "Output()"
      ]
     },
     "metadata": {},
     "output_type": "display_data"
    },
    {
     "data": {
      "text/html": [
       "<pre style=\"white-space:pre;overflow-x:auto;line-height:normal;font-family:Menlo,'DejaVu Sans Mono',consolas,'Courier New',monospace\"></pre>\n"
      ],
      "text/plain": []
     },
     "metadata": {},
     "output_type": "display_data"
    },
    {
     "data": {
      "text/html": [
       "<pre style=\"white-space:pre;overflow-x:auto;line-height:normal;font-family:Menlo,'DejaVu Sans Mono',consolas,'Courier New',monospace\">\n",
       "</pre>\n"
      ],
      "text/plain": [
       "\n"
      ]
     },
     "metadata": {},
     "output_type": "display_data"
    },
    {
     "name": "stdout",
     "output_type": "stream",
     "text": [
      "Model Saved to: ./results/models/16\n",
      "Evaluating...\n",
      "Total Trial time: 11.533\n",
      "Trial: 17 out of 64\n",
      "{'policy': 'MlpPolicy', 'gamma': 0.99, 'learning_rate': 1e-05, 'batch_size': 256, 'buffer_size': 50000, 'train_freq': 16, 'gradient_steps': 1, 'exploration_fraction': 0.3, 'exploration_final_eps': 0.1, 'target_update_interval': 100, 'policy_kwargs': {'net_arch': [256, 256]}, 'seed': 2}\n",
      "Learning...\n"
     ]
    },
    {
     "data": {
      "application/vnd.jupyter.widget-view+json": {
       "model_id": "b49b0fea6b1f49ea8cb7e733ffc17d8d",
       "version_major": 2,
       "version_minor": 0
      },
      "text/plain": [
       "Output()"
      ]
     },
     "metadata": {},
     "output_type": "display_data"
    },
    {
     "data": {
      "text/html": [
       "<pre style=\"white-space:pre;overflow-x:auto;line-height:normal;font-family:Menlo,'DejaVu Sans Mono',consolas,'Courier New',monospace\"></pre>\n"
      ],
      "text/plain": []
     },
     "metadata": {},
     "output_type": "display_data"
    },
    {
     "data": {
      "text/html": [
       "<pre style=\"white-space:pre;overflow-x:auto;line-height:normal;font-family:Menlo,'DejaVu Sans Mono',consolas,'Courier New',monospace\">\n",
       "</pre>\n"
      ],
      "text/plain": [
       "\n"
      ]
     },
     "metadata": {},
     "output_type": "display_data"
    },
    {
     "name": "stdout",
     "output_type": "stream",
     "text": [
      "Model Saved to: ./results/models/17\n",
      "Evaluating...\n",
      "Total Trial time: 17.625\n",
      "Trial: 18 out of 64\n",
      "{'policy': 'MlpPolicy', 'gamma': 0.99, 'learning_rate': 1e-05, 'batch_size': 256, 'buffer_size': 50000, 'train_freq': 16, 'gradient_steps': 1, 'exploration_fraction': 0.3, 'exploration_final_eps': 0.1, 'target_update_interval': 10000, 'policy_kwargs': {'net_arch': [256, 256]}, 'seed': 2}\n",
      "Learning...\n"
     ]
    },
    {
     "data": {
      "application/vnd.jupyter.widget-view+json": {
       "model_id": "067002c0394246508c68f4459d6dcc43",
       "version_major": 2,
       "version_minor": 0
      },
      "text/plain": [
       "Output()"
      ]
     },
     "metadata": {},
     "output_type": "display_data"
    },
    {
     "data": {
      "text/html": [
       "<pre style=\"white-space:pre;overflow-x:auto;line-height:normal;font-family:Menlo,'DejaVu Sans Mono',consolas,'Courier New',monospace\"></pre>\n"
      ],
      "text/plain": []
     },
     "metadata": {},
     "output_type": "display_data"
    },
    {
     "data": {
      "text/html": [
       "<pre style=\"white-space:pre;overflow-x:auto;line-height:normal;font-family:Menlo,'DejaVu Sans Mono',consolas,'Courier New',monospace\">\n",
       "</pre>\n"
      ],
      "text/plain": [
       "\n"
      ]
     },
     "metadata": {},
     "output_type": "display_data"
    },
    {
     "name": "stdout",
     "output_type": "stream",
     "text": [
      "Model Saved to: ./results/models/18\n",
      "Evaluating...\n",
      "Total Trial time: 19.121\n",
      "Trial: 19 out of 64\n",
      "{'policy': 'MlpPolicy', 'gamma': 0.99, 'learning_rate': 1e-05, 'batch_size': 256, 'buffer_size': 50000, 'train_freq': 16, 'gradient_steps': 1, 'exploration_fraction': 0.3, 'exploration_final_eps': 0.2, 'target_update_interval': 100, 'policy_kwargs': {'net_arch': [256, 256]}, 'seed': 2}\n",
      "Learning...\n"
     ]
    },
    {
     "data": {
      "application/vnd.jupyter.widget-view+json": {
       "model_id": "ad2f5957d9b7416d98ad1c77d5b99883",
       "version_major": 2,
       "version_minor": 0
      },
      "text/plain": [
       "Output()"
      ]
     },
     "metadata": {},
     "output_type": "display_data"
    },
    {
     "data": {
      "text/html": [
       "<pre style=\"white-space:pre;overflow-x:auto;line-height:normal;font-family:Menlo,'DejaVu Sans Mono',consolas,'Courier New',monospace\"></pre>\n"
      ],
      "text/plain": []
     },
     "metadata": {},
     "output_type": "display_data"
    },
    {
     "data": {
      "text/html": [
       "<pre style=\"white-space:pre;overflow-x:auto;line-height:normal;font-family:Menlo,'DejaVu Sans Mono',consolas,'Courier New',monospace\">\n",
       "</pre>\n"
      ],
      "text/plain": [
       "\n"
      ]
     },
     "metadata": {},
     "output_type": "display_data"
    },
    {
     "name": "stdout",
     "output_type": "stream",
     "text": [
      "Model Saved to: ./results/models/19\n",
      "Evaluating...\n",
      "Total Trial time: 17.25\n",
      "Trial: 20 out of 64\n",
      "{'policy': 'MlpPolicy', 'gamma': 0.99, 'learning_rate': 1e-05, 'batch_size': 256, 'buffer_size': 50000, 'train_freq': 16, 'gradient_steps': 1, 'exploration_fraction': 0.3, 'exploration_final_eps': 0.2, 'target_update_interval': 10000, 'policy_kwargs': {'net_arch': [256, 256]}, 'seed': 2}\n",
      "Learning...\n"
     ]
    },
    {
     "data": {
      "application/vnd.jupyter.widget-view+json": {
       "model_id": "397c905024d94e6fb795e4863064c4ed",
       "version_major": 2,
       "version_minor": 0
      },
      "text/plain": [
       "Output()"
      ]
     },
     "metadata": {},
     "output_type": "display_data"
    },
    {
     "data": {
      "text/html": [
       "<pre style=\"white-space:pre;overflow-x:auto;line-height:normal;font-family:Menlo,'DejaVu Sans Mono',consolas,'Courier New',monospace\"></pre>\n"
      ],
      "text/plain": []
     },
     "metadata": {},
     "output_type": "display_data"
    },
    {
     "data": {
      "text/html": [
       "<pre style=\"white-space:pre;overflow-x:auto;line-height:normal;font-family:Menlo,'DejaVu Sans Mono',consolas,'Courier New',monospace\">\n",
       "</pre>\n"
      ],
      "text/plain": [
       "\n"
      ]
     },
     "metadata": {},
     "output_type": "display_data"
    },
    {
     "name": "stdout",
     "output_type": "stream",
     "text": [
      "Model Saved to: ./results/models/20\n",
      "Evaluating...\n",
      "saving dataframe!\n",
      "Total Trial time: 18.502\n",
      "Trial: 21 out of 64\n",
      "{'policy': 'MlpPolicy', 'gamma': 0.99, 'learning_rate': 1e-05, 'batch_size': 256, 'buffer_size': 50000, 'train_freq': 16, 'gradient_steps': 1, 'exploration_fraction': 0.5, 'exploration_final_eps': 0.1, 'target_update_interval': 100, 'policy_kwargs': {'net_arch': [256, 256]}, 'seed': 2}\n",
      "Learning...\n"
     ]
    },
    {
     "data": {
      "application/vnd.jupyter.widget-view+json": {
       "model_id": "cd30ce8fcb4e453a90c8b39b5ccafddb",
       "version_major": 2,
       "version_minor": 0
      },
      "text/plain": [
       "Output()"
      ]
     },
     "metadata": {},
     "output_type": "display_data"
    },
    {
     "data": {
      "text/html": [
       "<pre style=\"white-space:pre;overflow-x:auto;line-height:normal;font-family:Menlo,'DejaVu Sans Mono',consolas,'Courier New',monospace\"></pre>\n"
      ],
      "text/plain": []
     },
     "metadata": {},
     "output_type": "display_data"
    },
    {
     "data": {
      "text/html": [
       "<pre style=\"white-space:pre;overflow-x:auto;line-height:normal;font-family:Menlo,'DejaVu Sans Mono',consolas,'Courier New',monospace\">\n",
       "</pre>\n"
      ],
      "text/plain": [
       "\n"
      ]
     },
     "metadata": {},
     "output_type": "display_data"
    },
    {
     "name": "stdout",
     "output_type": "stream",
     "text": [
      "Model Saved to: ./results/models/21\n",
      "Evaluating...\n",
      "Total Trial time: 17.445\n",
      "Trial: 22 out of 64\n",
      "{'policy': 'MlpPolicy', 'gamma': 0.99, 'learning_rate': 1e-05, 'batch_size': 256, 'buffer_size': 50000, 'train_freq': 16, 'gradient_steps': 1, 'exploration_fraction': 0.5, 'exploration_final_eps': 0.1, 'target_update_interval': 10000, 'policy_kwargs': {'net_arch': [256, 256]}, 'seed': 2}\n",
      "Learning...\n"
     ]
    },
    {
     "data": {
      "application/vnd.jupyter.widget-view+json": {
       "model_id": "9670f7f426534ab3b74d72e425356715",
       "version_major": 2,
       "version_minor": 0
      },
      "text/plain": [
       "Output()"
      ]
     },
     "metadata": {},
     "output_type": "display_data"
    },
    {
     "data": {
      "text/html": [
       "<pre style=\"white-space:pre;overflow-x:auto;line-height:normal;font-family:Menlo,'DejaVu Sans Mono',consolas,'Courier New',monospace\"></pre>\n"
      ],
      "text/plain": []
     },
     "metadata": {},
     "output_type": "display_data"
    },
    {
     "data": {
      "text/html": [
       "<pre style=\"white-space:pre;overflow-x:auto;line-height:normal;font-family:Menlo,'DejaVu Sans Mono',consolas,'Courier New',monospace\">\n",
       "</pre>\n"
      ],
      "text/plain": [
       "\n"
      ]
     },
     "metadata": {},
     "output_type": "display_data"
    },
    {
     "name": "stdout",
     "output_type": "stream",
     "text": [
      "Model Saved to: ./results/models/22\n",
      "Evaluating...\n",
      "Total Trial time: 18.511\n",
      "Trial: 23 out of 64\n",
      "{'policy': 'MlpPolicy', 'gamma': 0.99, 'learning_rate': 1e-05, 'batch_size': 256, 'buffer_size': 50000, 'train_freq': 16, 'gradient_steps': 1, 'exploration_fraction': 0.5, 'exploration_final_eps': 0.2, 'target_update_interval': 100, 'policy_kwargs': {'net_arch': [256, 256]}, 'seed': 2}\n",
      "Learning...\n"
     ]
    },
    {
     "data": {
      "application/vnd.jupyter.widget-view+json": {
       "model_id": "719d09a2258740a2b37e0614c5e26f8c",
       "version_major": 2,
       "version_minor": 0
      },
      "text/plain": [
       "Output()"
      ]
     },
     "metadata": {},
     "output_type": "display_data"
    },
    {
     "data": {
      "text/html": [
       "<pre style=\"white-space:pre;overflow-x:auto;line-height:normal;font-family:Menlo,'DejaVu Sans Mono',consolas,'Courier New',monospace\"></pre>\n"
      ],
      "text/plain": []
     },
     "metadata": {},
     "output_type": "display_data"
    },
    {
     "data": {
      "text/html": [
       "<pre style=\"white-space:pre;overflow-x:auto;line-height:normal;font-family:Menlo,'DejaVu Sans Mono',consolas,'Courier New',monospace\">\n",
       "</pre>\n"
      ],
      "text/plain": [
       "\n"
      ]
     },
     "metadata": {},
     "output_type": "display_data"
    },
    {
     "name": "stdout",
     "output_type": "stream",
     "text": [
      "Model Saved to: ./results/models/23\n",
      "Evaluating...\n",
      "Total Trial time: 17.534\n",
      "Trial: 24 out of 64\n",
      "{'policy': 'MlpPolicy', 'gamma': 0.99, 'learning_rate': 1e-05, 'batch_size': 256, 'buffer_size': 50000, 'train_freq': 16, 'gradient_steps': 1, 'exploration_fraction': 0.5, 'exploration_final_eps': 0.2, 'target_update_interval': 10000, 'policy_kwargs': {'net_arch': [256, 256]}, 'seed': 2}\n",
      "Learning...\n"
     ]
    },
    {
     "data": {
      "application/vnd.jupyter.widget-view+json": {
       "model_id": "2ae9a19d6b824b2da9bc7da3efda5e17",
       "version_major": 2,
       "version_minor": 0
      },
      "text/plain": [
       "Output()"
      ]
     },
     "metadata": {},
     "output_type": "display_data"
    },
    {
     "data": {
      "text/html": [
       "<pre style=\"white-space:pre;overflow-x:auto;line-height:normal;font-family:Menlo,'DejaVu Sans Mono',consolas,'Courier New',monospace\"></pre>\n"
      ],
      "text/plain": []
     },
     "metadata": {},
     "output_type": "display_data"
    },
    {
     "data": {
      "text/html": [
       "<pre style=\"white-space:pre;overflow-x:auto;line-height:normal;font-family:Menlo,'DejaVu Sans Mono',consolas,'Courier New',monospace\">\n",
       "</pre>\n"
      ],
      "text/plain": [
       "\n"
      ]
     },
     "metadata": {},
     "output_type": "display_data"
    },
    {
     "name": "stdout",
     "output_type": "stream",
     "text": [
      "Model Saved to: ./results/models/24\n",
      "Evaluating...\n",
      "Total Trial time: 18.254\n",
      "Trial: 25 out of 64\n",
      "{'policy': 'MlpPolicy', 'gamma': 0.99, 'learning_rate': 1e-05, 'batch_size': 256, 'buffer_size': 50000, 'train_freq': 32, 'gradient_steps': 1, 'exploration_fraction': 0.3, 'exploration_final_eps': 0.1, 'target_update_interval': 100, 'policy_kwargs': {'net_arch': [256, 256]}, 'seed': 2}\n",
      "Learning...\n"
     ]
    },
    {
     "data": {
      "application/vnd.jupyter.widget-view+json": {
       "model_id": "01ebe0ed575b414a88cb59915a4ca651",
       "version_major": 2,
       "version_minor": 0
      },
      "text/plain": [
       "Output()"
      ]
     },
     "metadata": {},
     "output_type": "display_data"
    },
    {
     "data": {
      "text/html": [
       "<pre style=\"white-space:pre;overflow-x:auto;line-height:normal;font-family:Menlo,'DejaVu Sans Mono',consolas,'Courier New',monospace\"></pre>\n"
      ],
      "text/plain": []
     },
     "metadata": {},
     "output_type": "display_data"
    },
    {
     "data": {
      "text/html": [
       "<pre style=\"white-space:pre;overflow-x:auto;line-height:normal;font-family:Menlo,'DejaVu Sans Mono',consolas,'Courier New',monospace\">\n",
       "</pre>\n"
      ],
      "text/plain": [
       "\n"
      ]
     },
     "metadata": {},
     "output_type": "display_data"
    },
    {
     "name": "stdout",
     "output_type": "stream",
     "text": [
      "Model Saved to: ./results/models/25\n",
      "Evaluating...\n",
      "Total Trial time: 12.86\n",
      "Trial: 26 out of 64\n",
      "{'policy': 'MlpPolicy', 'gamma': 0.99, 'learning_rate': 1e-05, 'batch_size': 256, 'buffer_size': 50000, 'train_freq': 32, 'gradient_steps': 1, 'exploration_fraction': 0.3, 'exploration_final_eps': 0.1, 'target_update_interval': 10000, 'policy_kwargs': {'net_arch': [256, 256]}, 'seed': 2}\n",
      "Learning...\n"
     ]
    },
    {
     "data": {
      "application/vnd.jupyter.widget-view+json": {
       "model_id": "cb4f1e4d70d545d8bdd6b1bb4744b2d0",
       "version_major": 2,
       "version_minor": 0
      },
      "text/plain": [
       "Output()"
      ]
     },
     "metadata": {},
     "output_type": "display_data"
    },
    {
     "data": {
      "text/html": [
       "<pre style=\"white-space:pre;overflow-x:auto;line-height:normal;font-family:Menlo,'DejaVu Sans Mono',consolas,'Courier New',monospace\"></pre>\n"
      ],
      "text/plain": []
     },
     "metadata": {},
     "output_type": "display_data"
    },
    {
     "data": {
      "text/html": [
       "<pre style=\"white-space:pre;overflow-x:auto;line-height:normal;font-family:Menlo,'DejaVu Sans Mono',consolas,'Courier New',monospace\">\n",
       "</pre>\n"
      ],
      "text/plain": [
       "\n"
      ]
     },
     "metadata": {},
     "output_type": "display_data"
    },
    {
     "name": "stdout",
     "output_type": "stream",
     "text": [
      "Model Saved to: ./results/models/26\n",
      "Evaluating...\n",
      "Total Trial time: 13.09\n",
      "Trial: 27 out of 64\n",
      "{'policy': 'MlpPolicy', 'gamma': 0.99, 'learning_rate': 1e-05, 'batch_size': 256, 'buffer_size': 50000, 'train_freq': 32, 'gradient_steps': 1, 'exploration_fraction': 0.3, 'exploration_final_eps': 0.2, 'target_update_interval': 100, 'policy_kwargs': {'net_arch': [256, 256]}, 'seed': 2}\n",
      "Learning...\n"
     ]
    },
    {
     "data": {
      "application/vnd.jupyter.widget-view+json": {
       "model_id": "2f29fe60a2ff43b3982a063543d9d191",
       "version_major": 2,
       "version_minor": 0
      },
      "text/plain": [
       "Output()"
      ]
     },
     "metadata": {},
     "output_type": "display_data"
    },
    {
     "data": {
      "text/html": [
       "<pre style=\"white-space:pre;overflow-x:auto;line-height:normal;font-family:Menlo,'DejaVu Sans Mono',consolas,'Courier New',monospace\"></pre>\n"
      ],
      "text/plain": []
     },
     "metadata": {},
     "output_type": "display_data"
    },
    {
     "data": {
      "text/html": [
       "<pre style=\"white-space:pre;overflow-x:auto;line-height:normal;font-family:Menlo,'DejaVu Sans Mono',consolas,'Courier New',monospace\">\n",
       "</pre>\n"
      ],
      "text/plain": [
       "\n"
      ]
     },
     "metadata": {},
     "output_type": "display_data"
    },
    {
     "name": "stdout",
     "output_type": "stream",
     "text": [
      "Model Saved to: ./results/models/27\n",
      "Evaluating...\n",
      "Total Trial time: 12.722\n",
      "Trial: 28 out of 64\n",
      "{'policy': 'MlpPolicy', 'gamma': 0.99, 'learning_rate': 1e-05, 'batch_size': 256, 'buffer_size': 50000, 'train_freq': 32, 'gradient_steps': 1, 'exploration_fraction': 0.3, 'exploration_final_eps': 0.2, 'target_update_interval': 10000, 'policy_kwargs': {'net_arch': [256, 256]}, 'seed': 2}\n",
      "Learning...\n"
     ]
    },
    {
     "data": {
      "application/vnd.jupyter.widget-view+json": {
       "model_id": "8ed5830ffbab4b618ecd0ad46fb61c85",
       "version_major": 2,
       "version_minor": 0
      },
      "text/plain": [
       "Output()"
      ]
     },
     "metadata": {},
     "output_type": "display_data"
    },
    {
     "data": {
      "text/html": [
       "<pre style=\"white-space:pre;overflow-x:auto;line-height:normal;font-family:Menlo,'DejaVu Sans Mono',consolas,'Courier New',monospace\"></pre>\n"
      ],
      "text/plain": []
     },
     "metadata": {},
     "output_type": "display_data"
    },
    {
     "data": {
      "text/html": [
       "<pre style=\"white-space:pre;overflow-x:auto;line-height:normal;font-family:Menlo,'DejaVu Sans Mono',consolas,'Courier New',monospace\">\n",
       "</pre>\n"
      ],
      "text/plain": [
       "\n"
      ]
     },
     "metadata": {},
     "output_type": "display_data"
    },
    {
     "name": "stdout",
     "output_type": "stream",
     "text": [
      "Model Saved to: ./results/models/28\n",
      "Evaluating...\n",
      "Total Trial time: 12.352\n",
      "Trial: 29 out of 64\n",
      "{'policy': 'MlpPolicy', 'gamma': 0.99, 'learning_rate': 1e-05, 'batch_size': 256, 'buffer_size': 50000, 'train_freq': 32, 'gradient_steps': 1, 'exploration_fraction': 0.5, 'exploration_final_eps': 0.1, 'target_update_interval': 100, 'policy_kwargs': {'net_arch': [256, 256]}, 'seed': 2}\n",
      "Learning...\n"
     ]
    },
    {
     "data": {
      "application/vnd.jupyter.widget-view+json": {
       "model_id": "4643b09f07f8467ab702128cfa1f0a15",
       "version_major": 2,
       "version_minor": 0
      },
      "text/plain": [
       "Output()"
      ]
     },
     "metadata": {},
     "output_type": "display_data"
    },
    {
     "data": {
      "text/html": [
       "<pre style=\"white-space:pre;overflow-x:auto;line-height:normal;font-family:Menlo,'DejaVu Sans Mono',consolas,'Courier New',monospace\"></pre>\n"
      ],
      "text/plain": []
     },
     "metadata": {},
     "output_type": "display_data"
    },
    {
     "data": {
      "text/html": [
       "<pre style=\"white-space:pre;overflow-x:auto;line-height:normal;font-family:Menlo,'DejaVu Sans Mono',consolas,'Courier New',monospace\">\n",
       "</pre>\n"
      ],
      "text/plain": [
       "\n"
      ]
     },
     "metadata": {},
     "output_type": "display_data"
    },
    {
     "name": "stdout",
     "output_type": "stream",
     "text": [
      "Model Saved to: ./results/models/29\n",
      "Evaluating...\n",
      "Total Trial time: 13.604\n",
      "Trial: 30 out of 64\n",
      "{'policy': 'MlpPolicy', 'gamma': 0.99, 'learning_rate': 1e-05, 'batch_size': 256, 'buffer_size': 50000, 'train_freq': 32, 'gradient_steps': 1, 'exploration_fraction': 0.5, 'exploration_final_eps': 0.1, 'target_update_interval': 10000, 'policy_kwargs': {'net_arch': [256, 256]}, 'seed': 2}\n",
      "Learning...\n"
     ]
    },
    {
     "data": {
      "application/vnd.jupyter.widget-view+json": {
       "model_id": "2b7d1e696a85448cb9d7ecf358c214e7",
       "version_major": 2,
       "version_minor": 0
      },
      "text/plain": [
       "Output()"
      ]
     },
     "metadata": {},
     "output_type": "display_data"
    },
    {
     "data": {
      "text/html": [
       "<pre style=\"white-space:pre;overflow-x:auto;line-height:normal;font-family:Menlo,'DejaVu Sans Mono',consolas,'Courier New',monospace\"></pre>\n"
      ],
      "text/plain": []
     },
     "metadata": {},
     "output_type": "display_data"
    },
    {
     "data": {
      "text/html": [
       "<pre style=\"white-space:pre;overflow-x:auto;line-height:normal;font-family:Menlo,'DejaVu Sans Mono',consolas,'Courier New',monospace\">\n",
       "</pre>\n"
      ],
      "text/plain": [
       "\n"
      ]
     },
     "metadata": {},
     "output_type": "display_data"
    },
    {
     "name": "stdout",
     "output_type": "stream",
     "text": [
      "Model Saved to: ./results/models/30\n",
      "Evaluating...\n",
      "saving dataframe!\n",
      "Total Trial time: 11.871\n",
      "Trial: 31 out of 64\n",
      "{'policy': 'MlpPolicy', 'gamma': 0.99, 'learning_rate': 1e-05, 'batch_size': 256, 'buffer_size': 50000, 'train_freq': 32, 'gradient_steps': 1, 'exploration_fraction': 0.5, 'exploration_final_eps': 0.2, 'target_update_interval': 100, 'policy_kwargs': {'net_arch': [256, 256]}, 'seed': 2}\n",
      "Learning...\n"
     ]
    },
    {
     "data": {
      "application/vnd.jupyter.widget-view+json": {
       "model_id": "c7a18f3e96f84aeebaef5e9862849502",
       "version_major": 2,
       "version_minor": 0
      },
      "text/plain": [
       "Output()"
      ]
     },
     "metadata": {},
     "output_type": "display_data"
    },
    {
     "data": {
      "text/html": [
       "<pre style=\"white-space:pre;overflow-x:auto;line-height:normal;font-family:Menlo,'DejaVu Sans Mono',consolas,'Courier New',monospace\"></pre>\n"
      ],
      "text/plain": []
     },
     "metadata": {},
     "output_type": "display_data"
    },
    {
     "data": {
      "text/html": [
       "<pre style=\"white-space:pre;overflow-x:auto;line-height:normal;font-family:Menlo,'DejaVu Sans Mono',consolas,'Courier New',monospace\">\n",
       "</pre>\n"
      ],
      "text/plain": [
       "\n"
      ]
     },
     "metadata": {},
     "output_type": "display_data"
    },
    {
     "name": "stdout",
     "output_type": "stream",
     "text": [
      "Model Saved to: ./results/models/31\n",
      "Evaluating...\n",
      "Total Trial time: 11.84\n",
      "Trial: 32 out of 64\n",
      "{'policy': 'MlpPolicy', 'gamma': 0.99, 'learning_rate': 1e-05, 'batch_size': 256, 'buffer_size': 50000, 'train_freq': 32, 'gradient_steps': 1, 'exploration_fraction': 0.5, 'exploration_final_eps': 0.2, 'target_update_interval': 10000, 'policy_kwargs': {'net_arch': [256, 256]}, 'seed': 2}\n",
      "Learning...\n"
     ]
    },
    {
     "data": {
      "application/vnd.jupyter.widget-view+json": {
       "model_id": "e8c9fba09e9741faa0454beac85a6f14",
       "version_major": 2,
       "version_minor": 0
      },
      "text/plain": [
       "Output()"
      ]
     },
     "metadata": {},
     "output_type": "display_data"
    },
    {
     "data": {
      "text/html": [
       "<pre style=\"white-space:pre;overflow-x:auto;line-height:normal;font-family:Menlo,'DejaVu Sans Mono',consolas,'Courier New',monospace\"></pre>\n"
      ],
      "text/plain": []
     },
     "metadata": {},
     "output_type": "display_data"
    },
    {
     "data": {
      "text/html": [
       "<pre style=\"white-space:pre;overflow-x:auto;line-height:normal;font-family:Menlo,'DejaVu Sans Mono',consolas,'Courier New',monospace\">\n",
       "</pre>\n"
      ],
      "text/plain": [
       "\n"
      ]
     },
     "metadata": {},
     "output_type": "display_data"
    },
    {
     "name": "stdout",
     "output_type": "stream",
     "text": [
      "Model Saved to: ./results/models/32\n",
      "Evaluating...\n",
      "Total Trial time: 11.542\n",
      "Trial: 33 out of 64\n",
      "{'policy': 'CnnPolicy', 'gamma': 0.9, 'learning_rate': 1e-05, 'batch_size': 256, 'buffer_size': 50000, 'train_freq': 16, 'gradient_steps': 1, 'exploration_fraction': 0.3, 'exploration_final_eps': 0.1, 'target_update_interval': 100, 'policy_kwargs': {'net_arch': [256, 256]}, 'seed': 2}\n",
      "Learning...\n"
     ]
    },
    {
     "data": {
      "application/vnd.jupyter.widget-view+json": {
       "model_id": "98170cb77ede41179c4326f98fe831ab",
       "version_major": 2,
       "version_minor": 0
      },
      "text/plain": [
       "Output()"
      ]
     },
     "metadata": {},
     "output_type": "display_data"
    },
    {
     "ename": "KeyboardInterrupt",
     "evalue": "",
     "output_type": "error",
     "traceback": [
      "\u001b[0;31m---------------------------------------------------------------------------\u001b[0m",
      "\u001b[0;31mKeyboardInterrupt\u001b[0m                         Traceback (most recent call last)",
      "Cell \u001b[0;32mIn[13], line 10\u001b[0m\n\u001b[1;32m      7\u001b[0m start \u001b[38;5;241m=\u001b[39m time()\n\u001b[1;32m      9\u001b[0m expr\u001b[38;5;241m.\u001b[39mset_tb_log_name(\u001b[38;5;124mf\u001b[39m\u001b[38;5;124m'\u001b[39m\u001b[38;5;124mTrial\u001b[39m\u001b[38;5;124m'\u001b[39m)\n\u001b[0;32m---> 10\u001b[0m \u001b[43mexpr\u001b[49m\u001b[38;5;241;43m.\u001b[39;49m\u001b[43mtrain_model\u001b[49m\u001b[43m(\u001b[49m\u001b[43mhyper_params\u001b[49m\u001b[38;5;241;43m=\u001b[39;49m\u001b[43mhyper_params\u001b[49m\u001b[43m,\u001b[49m\u001b[43m \u001b[49m\u001b[43mtotal_timesteps\u001b[49m\u001b[38;5;241;43m=\u001b[39;49m\u001b[38;5;241;43m500_000\u001b[39;49m\u001b[43m)\u001b[49m\n\u001b[1;32m     11\u001b[0m expr\u001b[38;5;241m.\u001b[39msave_model(\u001b[38;5;124mf\u001b[39m\u001b[38;5;124m'\u001b[39m\u001b[38;5;124m./results/models/\u001b[39m\u001b[38;5;132;01m{\u001b[39;00mtrial\u001b[38;5;132;01m}\u001b[39;00m\u001b[38;5;124m'\u001b[39m)\n\u001b[1;32m     12\u001b[0m rewards, steps \u001b[38;5;241m=\u001b[39m expr\u001b[38;5;241m.\u001b[39mevaluate_model(n_eval_episodes\u001b[38;5;241m=\u001b[39m\u001b[38;5;241m10\u001b[39m)\n",
      "File \u001b[0;32m~/csu_spring_2024/project/common/utils.py:299\u001b[0m, in \u001b[0;36mExperimentRunner.train_model\u001b[0;34m(self, hyper_params, total_timesteps, keep_model)\u001b[0m\n\u001b[1;32m    296\u001b[0m     \u001b[38;5;28mself\u001b[39m\u001b[38;5;241m.\u001b[39menv \u001b[38;5;241m=\u001b[39m \u001b[38;5;28mself\u001b[39m\u001b[38;5;241m.\u001b[39menv_func(\u001b[38;5;28mself\u001b[39m\u001b[38;5;241m.\u001b[39mbase_env, \u001b[38;5;241m*\u001b[39m\u001b[38;5;241m*\u001b[39m\u001b[38;5;28mself\u001b[39m\u001b[38;5;241m.\u001b[39menv_func_options)\n\u001b[1;32m    298\u001b[0m \u001b[38;5;28mself\u001b[39m\u001b[38;5;241m.\u001b[39mbuild_model(env\u001b[38;5;241m=\u001b[39m\u001b[38;5;28mself\u001b[39m\u001b[38;5;241m.\u001b[39menv, hyper_params\u001b[38;5;241m=\u001b[39mhyper_params)\n\u001b[0;32m--> 299\u001b[0m \u001b[38;5;28;43mself\u001b[39;49m\u001b[38;5;241;43m.\u001b[39;49m\u001b[43mmodel\u001b[49m\u001b[38;5;241;43m.\u001b[39;49m\u001b[43mlearn\u001b[49m\u001b[43m(\u001b[49m\u001b[38;5;241;43m*\u001b[39;49m\u001b[38;5;241;43m*\u001b[39;49m\u001b[38;5;28;43mself\u001b[39;49m\u001b[38;5;241;43m.\u001b[39;49m\u001b[43mtrain_opts\u001b[49m\u001b[43m)\u001b[49m\n\u001b[1;32m    300\u001b[0m \u001b[38;5;28mself\u001b[39m\u001b[38;5;241m.\u001b[39mlearn_timesteps \u001b[38;5;241m=\u001b[39m total_timesteps\n\u001b[1;32m    302\u001b[0m \u001b[38;5;28mself\u001b[39m\u001b[38;5;241m.\u001b[39menv\u001b[38;5;241m.\u001b[39mclose()\n",
      "File \u001b[0;32m~/csu_spring_2024/project/.venv/lib/python3.10/site-packages/stable_baselines3/dqn/dqn.py:267\u001b[0m, in \u001b[0;36mDQN.learn\u001b[0;34m(self, total_timesteps, callback, log_interval, tb_log_name, reset_num_timesteps, progress_bar)\u001b[0m\n\u001b[1;32m    258\u001b[0m \u001b[38;5;28;01mdef\u001b[39;00m \u001b[38;5;21mlearn\u001b[39m(\n\u001b[1;32m    259\u001b[0m     \u001b[38;5;28mself\u001b[39m: SelfDQN,\n\u001b[1;32m    260\u001b[0m     total_timesteps: \u001b[38;5;28mint\u001b[39m,\n\u001b[0;32m   (...)\u001b[0m\n\u001b[1;32m    265\u001b[0m     progress_bar: \u001b[38;5;28mbool\u001b[39m \u001b[38;5;241m=\u001b[39m \u001b[38;5;28;01mFalse\u001b[39;00m,\n\u001b[1;32m    266\u001b[0m ) \u001b[38;5;241m-\u001b[39m\u001b[38;5;241m>\u001b[39m SelfDQN:\n\u001b[0;32m--> 267\u001b[0m     \u001b[38;5;28;01mreturn\u001b[39;00m \u001b[38;5;28;43msuper\u001b[39;49m\u001b[43m(\u001b[49m\u001b[43m)\u001b[49m\u001b[38;5;241;43m.\u001b[39;49m\u001b[43mlearn\u001b[49m\u001b[43m(\u001b[49m\n\u001b[1;32m    268\u001b[0m \u001b[43m        \u001b[49m\u001b[43mtotal_timesteps\u001b[49m\u001b[38;5;241;43m=\u001b[39;49m\u001b[43mtotal_timesteps\u001b[49m\u001b[43m,\u001b[49m\n\u001b[1;32m    269\u001b[0m \u001b[43m        \u001b[49m\u001b[43mcallback\u001b[49m\u001b[38;5;241;43m=\u001b[39;49m\u001b[43mcallback\u001b[49m\u001b[43m,\u001b[49m\n\u001b[1;32m    270\u001b[0m \u001b[43m        \u001b[49m\u001b[43mlog_interval\u001b[49m\u001b[38;5;241;43m=\u001b[39;49m\u001b[43mlog_interval\u001b[49m\u001b[43m,\u001b[49m\n\u001b[1;32m    271\u001b[0m \u001b[43m        \u001b[49m\u001b[43mtb_log_name\u001b[49m\u001b[38;5;241;43m=\u001b[39;49m\u001b[43mtb_log_name\u001b[49m\u001b[43m,\u001b[49m\n\u001b[1;32m    272\u001b[0m \u001b[43m        \u001b[49m\u001b[43mreset_num_timesteps\u001b[49m\u001b[38;5;241;43m=\u001b[39;49m\u001b[43mreset_num_timesteps\u001b[49m\u001b[43m,\u001b[49m\n\u001b[1;32m    273\u001b[0m \u001b[43m        \u001b[49m\u001b[43mprogress_bar\u001b[49m\u001b[38;5;241;43m=\u001b[39;49m\u001b[43mprogress_bar\u001b[49m\u001b[43m,\u001b[49m\n\u001b[1;32m    274\u001b[0m \u001b[43m    \u001b[49m\u001b[43m)\u001b[49m\n",
      "File \u001b[0;32m~/csu_spring_2024/project/.venv/lib/python3.10/site-packages/stable_baselines3/common/off_policy_algorithm.py:347\u001b[0m, in \u001b[0;36mOffPolicyAlgorithm.learn\u001b[0;34m(self, total_timesteps, callback, log_interval, tb_log_name, reset_num_timesteps, progress_bar)\u001b[0m\n\u001b[1;32m    345\u001b[0m         \u001b[38;5;66;03m# Special case when the user passes `gradient_steps=0`\u001b[39;00m\n\u001b[1;32m    346\u001b[0m         \u001b[38;5;28;01mif\u001b[39;00m gradient_steps \u001b[38;5;241m>\u001b[39m \u001b[38;5;241m0\u001b[39m:\n\u001b[0;32m--> 347\u001b[0m             \u001b[38;5;28;43mself\u001b[39;49m\u001b[38;5;241;43m.\u001b[39;49m\u001b[43mtrain\u001b[49m\u001b[43m(\u001b[49m\u001b[43mbatch_size\u001b[49m\u001b[38;5;241;43m=\u001b[39;49m\u001b[38;5;28;43mself\u001b[39;49m\u001b[38;5;241;43m.\u001b[39;49m\u001b[43mbatch_size\u001b[49m\u001b[43m,\u001b[49m\u001b[43m \u001b[49m\u001b[43mgradient_steps\u001b[49m\u001b[38;5;241;43m=\u001b[39;49m\u001b[43mgradient_steps\u001b[49m\u001b[43m)\u001b[49m\n\u001b[1;32m    349\u001b[0m callback\u001b[38;5;241m.\u001b[39mon_training_end()\n\u001b[1;32m    351\u001b[0m \u001b[38;5;28;01mreturn\u001b[39;00m \u001b[38;5;28mself\u001b[39m\n",
      "File \u001b[0;32m~/csu_spring_2024/project/.venv/lib/python3.10/site-packages/stable_baselines3/dqn/dqn.py:197\u001b[0m, in \u001b[0;36mDQN.train\u001b[0;34m(self, gradient_steps, batch_size)\u001b[0m\n\u001b[1;32m    193\u001b[0m replay_data \u001b[38;5;241m=\u001b[39m \u001b[38;5;28mself\u001b[39m\u001b[38;5;241m.\u001b[39mreplay_buffer\u001b[38;5;241m.\u001b[39msample(batch_size, env\u001b[38;5;241m=\u001b[39m\u001b[38;5;28mself\u001b[39m\u001b[38;5;241m.\u001b[39m_vec_normalize_env)  \u001b[38;5;66;03m# type: ignore[union-attr]\u001b[39;00m\n\u001b[1;32m    195\u001b[0m \u001b[38;5;28;01mwith\u001b[39;00m th\u001b[38;5;241m.\u001b[39mno_grad():\n\u001b[1;32m    196\u001b[0m     \u001b[38;5;66;03m# Compute the next Q-values using the target network\u001b[39;00m\n\u001b[0;32m--> 197\u001b[0m     next_q_values \u001b[38;5;241m=\u001b[39m \u001b[38;5;28;43mself\u001b[39;49m\u001b[38;5;241;43m.\u001b[39;49m\u001b[43mq_net_target\u001b[49m\u001b[43m(\u001b[49m\u001b[43mreplay_data\u001b[49m\u001b[38;5;241;43m.\u001b[39;49m\u001b[43mnext_observations\u001b[49m\u001b[43m)\u001b[49m\n\u001b[1;32m    198\u001b[0m     \u001b[38;5;66;03m# Follow greedy policy: use the one with the highest value\u001b[39;00m\n\u001b[1;32m    199\u001b[0m     next_q_values, _ \u001b[38;5;241m=\u001b[39m next_q_values\u001b[38;5;241m.\u001b[39mmax(dim\u001b[38;5;241m=\u001b[39m\u001b[38;5;241m1\u001b[39m)\n",
      "File \u001b[0;32m~/csu_spring_2024/project/.venv/lib/python3.10/site-packages/torch/nn/modules/module.py:1532\u001b[0m, in \u001b[0;36mModule._wrapped_call_impl\u001b[0;34m(self, *args, **kwargs)\u001b[0m\n\u001b[1;32m   1530\u001b[0m     \u001b[38;5;28;01mreturn\u001b[39;00m \u001b[38;5;28mself\u001b[39m\u001b[38;5;241m.\u001b[39m_compiled_call_impl(\u001b[38;5;241m*\u001b[39margs, \u001b[38;5;241m*\u001b[39m\u001b[38;5;241m*\u001b[39mkwargs)  \u001b[38;5;66;03m# type: ignore[misc]\u001b[39;00m\n\u001b[1;32m   1531\u001b[0m \u001b[38;5;28;01melse\u001b[39;00m:\n\u001b[0;32m-> 1532\u001b[0m     \u001b[38;5;28;01mreturn\u001b[39;00m \u001b[38;5;28;43mself\u001b[39;49m\u001b[38;5;241;43m.\u001b[39;49m\u001b[43m_call_impl\u001b[49m\u001b[43m(\u001b[49m\u001b[38;5;241;43m*\u001b[39;49m\u001b[43margs\u001b[49m\u001b[43m,\u001b[49m\u001b[43m \u001b[49m\u001b[38;5;241;43m*\u001b[39;49m\u001b[38;5;241;43m*\u001b[39;49m\u001b[43mkwargs\u001b[49m\u001b[43m)\u001b[49m\n",
      "File \u001b[0;32m~/csu_spring_2024/project/.venv/lib/python3.10/site-packages/torch/nn/modules/module.py:1541\u001b[0m, in \u001b[0;36mModule._call_impl\u001b[0;34m(self, *args, **kwargs)\u001b[0m\n\u001b[1;32m   1536\u001b[0m \u001b[38;5;66;03m# If we don't have any hooks, we want to skip the rest of the logic in\u001b[39;00m\n\u001b[1;32m   1537\u001b[0m \u001b[38;5;66;03m# this function, and just call forward.\u001b[39;00m\n\u001b[1;32m   1538\u001b[0m \u001b[38;5;28;01mif\u001b[39;00m \u001b[38;5;129;01mnot\u001b[39;00m (\u001b[38;5;28mself\u001b[39m\u001b[38;5;241m.\u001b[39m_backward_hooks \u001b[38;5;129;01mor\u001b[39;00m \u001b[38;5;28mself\u001b[39m\u001b[38;5;241m.\u001b[39m_backward_pre_hooks \u001b[38;5;129;01mor\u001b[39;00m \u001b[38;5;28mself\u001b[39m\u001b[38;5;241m.\u001b[39m_forward_hooks \u001b[38;5;129;01mor\u001b[39;00m \u001b[38;5;28mself\u001b[39m\u001b[38;5;241m.\u001b[39m_forward_pre_hooks\n\u001b[1;32m   1539\u001b[0m         \u001b[38;5;129;01mor\u001b[39;00m _global_backward_pre_hooks \u001b[38;5;129;01mor\u001b[39;00m _global_backward_hooks\n\u001b[1;32m   1540\u001b[0m         \u001b[38;5;129;01mor\u001b[39;00m _global_forward_hooks \u001b[38;5;129;01mor\u001b[39;00m _global_forward_pre_hooks):\n\u001b[0;32m-> 1541\u001b[0m     \u001b[38;5;28;01mreturn\u001b[39;00m \u001b[43mforward_call\u001b[49m\u001b[43m(\u001b[49m\u001b[38;5;241;43m*\u001b[39;49m\u001b[43margs\u001b[49m\u001b[43m,\u001b[49m\u001b[43m \u001b[49m\u001b[38;5;241;43m*\u001b[39;49m\u001b[38;5;241;43m*\u001b[39;49m\u001b[43mkwargs\u001b[49m\u001b[43m)\u001b[49m\n\u001b[1;32m   1543\u001b[0m \u001b[38;5;28;01mtry\u001b[39;00m:\n\u001b[1;32m   1544\u001b[0m     result \u001b[38;5;241m=\u001b[39m \u001b[38;5;28;01mNone\u001b[39;00m\n",
      "File \u001b[0;32m~/csu_spring_2024/project/.venv/lib/python3.10/site-packages/stable_baselines3/dqn/policies.py:66\u001b[0m, in \u001b[0;36mQNetwork.forward\u001b[0;34m(self, obs)\u001b[0m\n\u001b[1;32m     59\u001b[0m \u001b[38;5;28;01mdef\u001b[39;00m \u001b[38;5;21mforward\u001b[39m(\u001b[38;5;28mself\u001b[39m, obs: PyTorchObs) \u001b[38;5;241m-\u001b[39m\u001b[38;5;241m>\u001b[39m th\u001b[38;5;241m.\u001b[39mTensor:\n\u001b[1;32m     60\u001b[0m \u001b[38;5;250m    \u001b[39m\u001b[38;5;124;03m\"\"\"\u001b[39;00m\n\u001b[1;32m     61\u001b[0m \u001b[38;5;124;03m    Predict the q-values.\u001b[39;00m\n\u001b[1;32m     62\u001b[0m \n\u001b[1;32m     63\u001b[0m \u001b[38;5;124;03m    :param obs: Observation\u001b[39;00m\n\u001b[1;32m     64\u001b[0m \u001b[38;5;124;03m    :return: The estimated Q-Value for each action.\u001b[39;00m\n\u001b[1;32m     65\u001b[0m \u001b[38;5;124;03m    \"\"\"\u001b[39;00m\n\u001b[0;32m---> 66\u001b[0m     \u001b[38;5;28;01mreturn\u001b[39;00m \u001b[38;5;28mself\u001b[39m\u001b[38;5;241m.\u001b[39mq_net(\u001b[38;5;28;43mself\u001b[39;49m\u001b[38;5;241;43m.\u001b[39;49m\u001b[43mextract_features\u001b[49m\u001b[43m(\u001b[49m\u001b[43mobs\u001b[49m\u001b[43m,\u001b[49m\u001b[43m \u001b[49m\u001b[38;5;28;43mself\u001b[39;49m\u001b[38;5;241;43m.\u001b[39;49m\u001b[43mfeatures_extractor\u001b[49m\u001b[43m)\u001b[49m)\n",
      "File \u001b[0;32m~/csu_spring_2024/project/.venv/lib/python3.10/site-packages/stable_baselines3/common/policies.py:131\u001b[0m, in \u001b[0;36mBaseModel.extract_features\u001b[0;34m(self, obs, features_extractor)\u001b[0m\n\u001b[1;32m    123\u001b[0m \u001b[38;5;250m\u001b[39m\u001b[38;5;124;03m\"\"\"\u001b[39;00m\n\u001b[1;32m    124\u001b[0m \u001b[38;5;124;03mPreprocess the observation if needed and extract features.\u001b[39;00m\n\u001b[1;32m    125\u001b[0m \n\u001b[0;32m   (...)\u001b[0m\n\u001b[1;32m    128\u001b[0m \u001b[38;5;124;03m:return: The extracted features\u001b[39;00m\n\u001b[1;32m    129\u001b[0m \u001b[38;5;124;03m\"\"\"\u001b[39;00m\n\u001b[1;32m    130\u001b[0m preprocessed_obs \u001b[38;5;241m=\u001b[39m preprocess_obs(obs, \u001b[38;5;28mself\u001b[39m\u001b[38;5;241m.\u001b[39mobservation_space, normalize_images\u001b[38;5;241m=\u001b[39m\u001b[38;5;28mself\u001b[39m\u001b[38;5;241m.\u001b[39mnormalize_images)\n\u001b[0;32m--> 131\u001b[0m \u001b[38;5;28;01mreturn\u001b[39;00m \u001b[43mfeatures_extractor\u001b[49m\u001b[43m(\u001b[49m\u001b[43mpreprocessed_obs\u001b[49m\u001b[43m)\u001b[49m\n",
      "File \u001b[0;32m~/csu_spring_2024/project/.venv/lib/python3.10/site-packages/torch/nn/modules/module.py:1532\u001b[0m, in \u001b[0;36mModule._wrapped_call_impl\u001b[0;34m(self, *args, **kwargs)\u001b[0m\n\u001b[1;32m   1530\u001b[0m     \u001b[38;5;28;01mreturn\u001b[39;00m \u001b[38;5;28mself\u001b[39m\u001b[38;5;241m.\u001b[39m_compiled_call_impl(\u001b[38;5;241m*\u001b[39margs, \u001b[38;5;241m*\u001b[39m\u001b[38;5;241m*\u001b[39mkwargs)  \u001b[38;5;66;03m# type: ignore[misc]\u001b[39;00m\n\u001b[1;32m   1531\u001b[0m \u001b[38;5;28;01melse\u001b[39;00m:\n\u001b[0;32m-> 1532\u001b[0m     \u001b[38;5;28;01mreturn\u001b[39;00m \u001b[38;5;28;43mself\u001b[39;49m\u001b[38;5;241;43m.\u001b[39;49m\u001b[43m_call_impl\u001b[49m\u001b[43m(\u001b[49m\u001b[38;5;241;43m*\u001b[39;49m\u001b[43margs\u001b[49m\u001b[43m,\u001b[49m\u001b[43m \u001b[49m\u001b[38;5;241;43m*\u001b[39;49m\u001b[38;5;241;43m*\u001b[39;49m\u001b[43mkwargs\u001b[49m\u001b[43m)\u001b[49m\n",
      "File \u001b[0;32m~/csu_spring_2024/project/.venv/lib/python3.10/site-packages/torch/nn/modules/module.py:1541\u001b[0m, in \u001b[0;36mModule._call_impl\u001b[0;34m(self, *args, **kwargs)\u001b[0m\n\u001b[1;32m   1536\u001b[0m \u001b[38;5;66;03m# If we don't have any hooks, we want to skip the rest of the logic in\u001b[39;00m\n\u001b[1;32m   1537\u001b[0m \u001b[38;5;66;03m# this function, and just call forward.\u001b[39;00m\n\u001b[1;32m   1538\u001b[0m \u001b[38;5;28;01mif\u001b[39;00m \u001b[38;5;129;01mnot\u001b[39;00m (\u001b[38;5;28mself\u001b[39m\u001b[38;5;241m.\u001b[39m_backward_hooks \u001b[38;5;129;01mor\u001b[39;00m \u001b[38;5;28mself\u001b[39m\u001b[38;5;241m.\u001b[39m_backward_pre_hooks \u001b[38;5;129;01mor\u001b[39;00m \u001b[38;5;28mself\u001b[39m\u001b[38;5;241m.\u001b[39m_forward_hooks \u001b[38;5;129;01mor\u001b[39;00m \u001b[38;5;28mself\u001b[39m\u001b[38;5;241m.\u001b[39m_forward_pre_hooks\n\u001b[1;32m   1539\u001b[0m         \u001b[38;5;129;01mor\u001b[39;00m _global_backward_pre_hooks \u001b[38;5;129;01mor\u001b[39;00m _global_backward_hooks\n\u001b[1;32m   1540\u001b[0m         \u001b[38;5;129;01mor\u001b[39;00m _global_forward_hooks \u001b[38;5;129;01mor\u001b[39;00m _global_forward_pre_hooks):\n\u001b[0;32m-> 1541\u001b[0m     \u001b[38;5;28;01mreturn\u001b[39;00m \u001b[43mforward_call\u001b[49m\u001b[43m(\u001b[49m\u001b[38;5;241;43m*\u001b[39;49m\u001b[43margs\u001b[49m\u001b[43m,\u001b[49m\u001b[43m \u001b[49m\u001b[38;5;241;43m*\u001b[39;49m\u001b[38;5;241;43m*\u001b[39;49m\u001b[43mkwargs\u001b[49m\u001b[43m)\u001b[49m\n\u001b[1;32m   1543\u001b[0m \u001b[38;5;28;01mtry\u001b[39;00m:\n\u001b[1;32m   1544\u001b[0m     result \u001b[38;5;241m=\u001b[39m \u001b[38;5;28;01mNone\u001b[39;00m\n",
      "File \u001b[0;32m~/csu_spring_2024/project/.venv/lib/python3.10/site-packages/stable_baselines3/common/torch_layers.py:106\u001b[0m, in \u001b[0;36mNatureCNN.forward\u001b[0;34m(self, observations)\u001b[0m\n\u001b[1;32m    105\u001b[0m \u001b[38;5;28;01mdef\u001b[39;00m \u001b[38;5;21mforward\u001b[39m(\u001b[38;5;28mself\u001b[39m, observations: th\u001b[38;5;241m.\u001b[39mTensor) \u001b[38;5;241m-\u001b[39m\u001b[38;5;241m>\u001b[39m th\u001b[38;5;241m.\u001b[39mTensor:\n\u001b[0;32m--> 106\u001b[0m     \u001b[38;5;28;01mreturn\u001b[39;00m \u001b[38;5;28mself\u001b[39m\u001b[38;5;241m.\u001b[39mlinear(\u001b[38;5;28;43mself\u001b[39;49m\u001b[38;5;241;43m.\u001b[39;49m\u001b[43mcnn\u001b[49m\u001b[43m(\u001b[49m\u001b[43mobservations\u001b[49m\u001b[43m)\u001b[49m)\n",
      "File \u001b[0;32m~/csu_spring_2024/project/.venv/lib/python3.10/site-packages/torch/nn/modules/module.py:1532\u001b[0m, in \u001b[0;36mModule._wrapped_call_impl\u001b[0;34m(self, *args, **kwargs)\u001b[0m\n\u001b[1;32m   1530\u001b[0m     \u001b[38;5;28;01mreturn\u001b[39;00m \u001b[38;5;28mself\u001b[39m\u001b[38;5;241m.\u001b[39m_compiled_call_impl(\u001b[38;5;241m*\u001b[39margs, \u001b[38;5;241m*\u001b[39m\u001b[38;5;241m*\u001b[39mkwargs)  \u001b[38;5;66;03m# type: ignore[misc]\u001b[39;00m\n\u001b[1;32m   1531\u001b[0m \u001b[38;5;28;01melse\u001b[39;00m:\n\u001b[0;32m-> 1532\u001b[0m     \u001b[38;5;28;01mreturn\u001b[39;00m \u001b[38;5;28;43mself\u001b[39;49m\u001b[38;5;241;43m.\u001b[39;49m\u001b[43m_call_impl\u001b[49m\u001b[43m(\u001b[49m\u001b[38;5;241;43m*\u001b[39;49m\u001b[43margs\u001b[49m\u001b[43m,\u001b[49m\u001b[43m \u001b[49m\u001b[38;5;241;43m*\u001b[39;49m\u001b[38;5;241;43m*\u001b[39;49m\u001b[43mkwargs\u001b[49m\u001b[43m)\u001b[49m\n",
      "File \u001b[0;32m~/csu_spring_2024/project/.venv/lib/python3.10/site-packages/torch/nn/modules/module.py:1541\u001b[0m, in \u001b[0;36mModule._call_impl\u001b[0;34m(self, *args, **kwargs)\u001b[0m\n\u001b[1;32m   1536\u001b[0m \u001b[38;5;66;03m# If we don't have any hooks, we want to skip the rest of the logic in\u001b[39;00m\n\u001b[1;32m   1537\u001b[0m \u001b[38;5;66;03m# this function, and just call forward.\u001b[39;00m\n\u001b[1;32m   1538\u001b[0m \u001b[38;5;28;01mif\u001b[39;00m \u001b[38;5;129;01mnot\u001b[39;00m (\u001b[38;5;28mself\u001b[39m\u001b[38;5;241m.\u001b[39m_backward_hooks \u001b[38;5;129;01mor\u001b[39;00m \u001b[38;5;28mself\u001b[39m\u001b[38;5;241m.\u001b[39m_backward_pre_hooks \u001b[38;5;129;01mor\u001b[39;00m \u001b[38;5;28mself\u001b[39m\u001b[38;5;241m.\u001b[39m_forward_hooks \u001b[38;5;129;01mor\u001b[39;00m \u001b[38;5;28mself\u001b[39m\u001b[38;5;241m.\u001b[39m_forward_pre_hooks\n\u001b[1;32m   1539\u001b[0m         \u001b[38;5;129;01mor\u001b[39;00m _global_backward_pre_hooks \u001b[38;5;129;01mor\u001b[39;00m _global_backward_hooks\n\u001b[1;32m   1540\u001b[0m         \u001b[38;5;129;01mor\u001b[39;00m _global_forward_hooks \u001b[38;5;129;01mor\u001b[39;00m _global_forward_pre_hooks):\n\u001b[0;32m-> 1541\u001b[0m     \u001b[38;5;28;01mreturn\u001b[39;00m \u001b[43mforward_call\u001b[49m\u001b[43m(\u001b[49m\u001b[38;5;241;43m*\u001b[39;49m\u001b[43margs\u001b[49m\u001b[43m,\u001b[49m\u001b[43m \u001b[49m\u001b[38;5;241;43m*\u001b[39;49m\u001b[38;5;241;43m*\u001b[39;49m\u001b[43mkwargs\u001b[49m\u001b[43m)\u001b[49m\n\u001b[1;32m   1543\u001b[0m \u001b[38;5;28;01mtry\u001b[39;00m:\n\u001b[1;32m   1544\u001b[0m     result \u001b[38;5;241m=\u001b[39m \u001b[38;5;28;01mNone\u001b[39;00m\n",
      "File \u001b[0;32m~/csu_spring_2024/project/.venv/lib/python3.10/site-packages/torch/nn/modules/container.py:217\u001b[0m, in \u001b[0;36mSequential.forward\u001b[0;34m(self, input)\u001b[0m\n\u001b[1;32m    215\u001b[0m \u001b[38;5;28;01mdef\u001b[39;00m \u001b[38;5;21mforward\u001b[39m(\u001b[38;5;28mself\u001b[39m, \u001b[38;5;28minput\u001b[39m):\n\u001b[1;32m    216\u001b[0m     \u001b[38;5;28;01mfor\u001b[39;00m module \u001b[38;5;129;01min\u001b[39;00m \u001b[38;5;28mself\u001b[39m:\n\u001b[0;32m--> 217\u001b[0m         \u001b[38;5;28minput\u001b[39m \u001b[38;5;241m=\u001b[39m \u001b[43mmodule\u001b[49m\u001b[43m(\u001b[49m\u001b[38;5;28;43minput\u001b[39;49m\u001b[43m)\u001b[49m\n\u001b[1;32m    218\u001b[0m     \u001b[38;5;28;01mreturn\u001b[39;00m \u001b[38;5;28minput\u001b[39m\n",
      "File \u001b[0;32m~/csu_spring_2024/project/.venv/lib/python3.10/site-packages/torch/nn/modules/module.py:1532\u001b[0m, in \u001b[0;36mModule._wrapped_call_impl\u001b[0;34m(self, *args, **kwargs)\u001b[0m\n\u001b[1;32m   1530\u001b[0m     \u001b[38;5;28;01mreturn\u001b[39;00m \u001b[38;5;28mself\u001b[39m\u001b[38;5;241m.\u001b[39m_compiled_call_impl(\u001b[38;5;241m*\u001b[39margs, \u001b[38;5;241m*\u001b[39m\u001b[38;5;241m*\u001b[39mkwargs)  \u001b[38;5;66;03m# type: ignore[misc]\u001b[39;00m\n\u001b[1;32m   1531\u001b[0m \u001b[38;5;28;01melse\u001b[39;00m:\n\u001b[0;32m-> 1532\u001b[0m     \u001b[38;5;28;01mreturn\u001b[39;00m \u001b[38;5;28;43mself\u001b[39;49m\u001b[38;5;241;43m.\u001b[39;49m\u001b[43m_call_impl\u001b[49m\u001b[43m(\u001b[49m\u001b[38;5;241;43m*\u001b[39;49m\u001b[43margs\u001b[49m\u001b[43m,\u001b[49m\u001b[43m \u001b[49m\u001b[38;5;241;43m*\u001b[39;49m\u001b[38;5;241;43m*\u001b[39;49m\u001b[43mkwargs\u001b[49m\u001b[43m)\u001b[49m\n",
      "File \u001b[0;32m~/csu_spring_2024/project/.venv/lib/python3.10/site-packages/torch/nn/modules/module.py:1541\u001b[0m, in \u001b[0;36mModule._call_impl\u001b[0;34m(self, *args, **kwargs)\u001b[0m\n\u001b[1;32m   1536\u001b[0m \u001b[38;5;66;03m# If we don't have any hooks, we want to skip the rest of the logic in\u001b[39;00m\n\u001b[1;32m   1537\u001b[0m \u001b[38;5;66;03m# this function, and just call forward.\u001b[39;00m\n\u001b[1;32m   1538\u001b[0m \u001b[38;5;28;01mif\u001b[39;00m \u001b[38;5;129;01mnot\u001b[39;00m (\u001b[38;5;28mself\u001b[39m\u001b[38;5;241m.\u001b[39m_backward_hooks \u001b[38;5;129;01mor\u001b[39;00m \u001b[38;5;28mself\u001b[39m\u001b[38;5;241m.\u001b[39m_backward_pre_hooks \u001b[38;5;129;01mor\u001b[39;00m \u001b[38;5;28mself\u001b[39m\u001b[38;5;241m.\u001b[39m_forward_hooks \u001b[38;5;129;01mor\u001b[39;00m \u001b[38;5;28mself\u001b[39m\u001b[38;5;241m.\u001b[39m_forward_pre_hooks\n\u001b[1;32m   1539\u001b[0m         \u001b[38;5;129;01mor\u001b[39;00m _global_backward_pre_hooks \u001b[38;5;129;01mor\u001b[39;00m _global_backward_hooks\n\u001b[1;32m   1540\u001b[0m         \u001b[38;5;129;01mor\u001b[39;00m _global_forward_hooks \u001b[38;5;129;01mor\u001b[39;00m _global_forward_pre_hooks):\n\u001b[0;32m-> 1541\u001b[0m     \u001b[38;5;28;01mreturn\u001b[39;00m \u001b[43mforward_call\u001b[49m\u001b[43m(\u001b[49m\u001b[38;5;241;43m*\u001b[39;49m\u001b[43margs\u001b[49m\u001b[43m,\u001b[49m\u001b[43m \u001b[49m\u001b[38;5;241;43m*\u001b[39;49m\u001b[38;5;241;43m*\u001b[39;49m\u001b[43mkwargs\u001b[49m\u001b[43m)\u001b[49m\n\u001b[1;32m   1543\u001b[0m \u001b[38;5;28;01mtry\u001b[39;00m:\n\u001b[1;32m   1544\u001b[0m     result \u001b[38;5;241m=\u001b[39m \u001b[38;5;28;01mNone\u001b[39;00m\n",
      "File \u001b[0;32m~/csu_spring_2024/project/.venv/lib/python3.10/site-packages/torch/nn/modules/conv.py:460\u001b[0m, in \u001b[0;36mConv2d.forward\u001b[0;34m(self, input)\u001b[0m\n\u001b[1;32m    459\u001b[0m \u001b[38;5;28;01mdef\u001b[39;00m \u001b[38;5;21mforward\u001b[39m(\u001b[38;5;28mself\u001b[39m, \u001b[38;5;28minput\u001b[39m: Tensor) \u001b[38;5;241m-\u001b[39m\u001b[38;5;241m>\u001b[39m Tensor:\n\u001b[0;32m--> 460\u001b[0m     \u001b[38;5;28;01mreturn\u001b[39;00m \u001b[38;5;28;43mself\u001b[39;49m\u001b[38;5;241;43m.\u001b[39;49m\u001b[43m_conv_forward\u001b[49m\u001b[43m(\u001b[49m\u001b[38;5;28;43minput\u001b[39;49m\u001b[43m,\u001b[49m\u001b[43m \u001b[49m\u001b[38;5;28;43mself\u001b[39;49m\u001b[38;5;241;43m.\u001b[39;49m\u001b[43mweight\u001b[49m\u001b[43m,\u001b[49m\u001b[43m \u001b[49m\u001b[38;5;28;43mself\u001b[39;49m\u001b[38;5;241;43m.\u001b[39;49m\u001b[43mbias\u001b[49m\u001b[43m)\u001b[49m\n",
      "File \u001b[0;32m~/csu_spring_2024/project/.venv/lib/python3.10/site-packages/torch/nn/modules/conv.py:456\u001b[0m, in \u001b[0;36mConv2d._conv_forward\u001b[0;34m(self, input, weight, bias)\u001b[0m\n\u001b[1;32m    452\u001b[0m \u001b[38;5;28;01mif\u001b[39;00m \u001b[38;5;28mself\u001b[39m\u001b[38;5;241m.\u001b[39mpadding_mode \u001b[38;5;241m!=\u001b[39m \u001b[38;5;124m'\u001b[39m\u001b[38;5;124mzeros\u001b[39m\u001b[38;5;124m'\u001b[39m:\n\u001b[1;32m    453\u001b[0m     \u001b[38;5;28;01mreturn\u001b[39;00m F\u001b[38;5;241m.\u001b[39mconv2d(F\u001b[38;5;241m.\u001b[39mpad(\u001b[38;5;28minput\u001b[39m, \u001b[38;5;28mself\u001b[39m\u001b[38;5;241m.\u001b[39m_reversed_padding_repeated_twice, mode\u001b[38;5;241m=\u001b[39m\u001b[38;5;28mself\u001b[39m\u001b[38;5;241m.\u001b[39mpadding_mode),\n\u001b[1;32m    454\u001b[0m                     weight, bias, \u001b[38;5;28mself\u001b[39m\u001b[38;5;241m.\u001b[39mstride,\n\u001b[1;32m    455\u001b[0m                     _pair(\u001b[38;5;241m0\u001b[39m), \u001b[38;5;28mself\u001b[39m\u001b[38;5;241m.\u001b[39mdilation, \u001b[38;5;28mself\u001b[39m\u001b[38;5;241m.\u001b[39mgroups)\n\u001b[0;32m--> 456\u001b[0m \u001b[38;5;28;01mreturn\u001b[39;00m \u001b[43mF\u001b[49m\u001b[38;5;241;43m.\u001b[39;49m\u001b[43mconv2d\u001b[49m\u001b[43m(\u001b[49m\u001b[38;5;28;43minput\u001b[39;49m\u001b[43m,\u001b[49m\u001b[43m \u001b[49m\u001b[43mweight\u001b[49m\u001b[43m,\u001b[49m\u001b[43m \u001b[49m\u001b[43mbias\u001b[49m\u001b[43m,\u001b[49m\u001b[43m \u001b[49m\u001b[38;5;28;43mself\u001b[39;49m\u001b[38;5;241;43m.\u001b[39;49m\u001b[43mstride\u001b[49m\u001b[43m,\u001b[49m\n\u001b[1;32m    457\u001b[0m \u001b[43m                \u001b[49m\u001b[38;5;28;43mself\u001b[39;49m\u001b[38;5;241;43m.\u001b[39;49m\u001b[43mpadding\u001b[49m\u001b[43m,\u001b[49m\u001b[43m \u001b[49m\u001b[38;5;28;43mself\u001b[39;49m\u001b[38;5;241;43m.\u001b[39;49m\u001b[43mdilation\u001b[49m\u001b[43m,\u001b[49m\u001b[43m \u001b[49m\u001b[38;5;28;43mself\u001b[39;49m\u001b[38;5;241;43m.\u001b[39;49m\u001b[43mgroups\u001b[49m\u001b[43m)\u001b[49m\n",
      "\u001b[0;31mKeyboardInterrupt\u001b[0m: "
     ]
    }
   ],
   "source": [
    "for hyper_params in h_params_list:\n",
    "    try:\n",
    "\n",
    "        print(f'Trial: {trial} out of {total}')\n",
    "        print(hyper_params)\n",
    "\n",
    "        start = time()\n",
    "\n",
    "        expr.set_tb_log_name(f'Trial')\n",
    "        expr.train_model(hyper_params=hyper_params, total_timesteps=500_000)\n",
    "        expr.save_model(f'./results/models/{trial}')\n",
    "        rewards, steps = expr.evaluate_model(n_eval_episodes=10)\n",
    "\n",
    "        elapsed = round((time() - start) / 60, 3)\n",
    "\n",
    "        results = {\n",
    "                    'Mean Episode Rewards':np.mean(rewards),\n",
    "                    'Reward std' :np.std(rewards),\n",
    "                    'Total Rewards': np.sum(rewards),\n",
    "                    'Mean Steps':np.mean(steps),\n",
    "                    'Step Std': np.std(steps)\n",
    "                    }\n",
    "\n",
    "        add_to_recorder(recorder, {'Trial': trial, 'Time in minutes': elapsed})\n",
    "        add_to_recorder(recorder, results)\n",
    "        add_to_recorder(recorder, h_params)\n",
    "        \n",
    "\n",
    "        if trial % 10 == 0:\n",
    "            print('saving dataframe!')\n",
    "            record_df = pd.DataFrame.from_dict(recorder)\n",
    "            record_df.to_pickle(f'{OPT_DIR}dataframe/trial_{trial}.pkl')\n",
    "\n",
    "        cleanup_device()\n",
    "        print(f'Total Trial time: {elapsed}')\n",
    "\n",
    "        trial += 1\n",
    "\n",
    "    except Exception as e:\n",
    "            print(traceback.format_exc(10))\n",
    "\n"
   ]
  },
  {
   "cell_type": "code",
   "execution_count": 2,
   "metadata": {},
   "outputs": [],
   "source": [
    "import pandas as pd"
   ]
  },
  {
   "cell_type": "code",
   "execution_count": 3,
   "metadata": {},
   "outputs": [],
   "source": [
    "results_df = pd.read_pickle('./results/opt/dataframe/trial_30.pkl')"
   ]
  },
  {
   "cell_type": "code",
   "execution_count": 5,
   "metadata": {},
   "outputs": [
    {
     "data": {
      "text/html": [
       "<div>\n",
       "<style scoped>\n",
       "    .dataframe tbody tr th:only-of-type {\n",
       "        vertical-align: middle;\n",
       "    }\n",
       "\n",
       "    .dataframe tbody tr th {\n",
       "        vertical-align: top;\n",
       "    }\n",
       "\n",
       "    .dataframe thead th {\n",
       "        text-align: right;\n",
       "    }\n",
       "</style>\n",
       "<table border=\"1\" class=\"dataframe\">\n",
       "  <thead>\n",
       "    <tr style=\"text-align: right;\">\n",
       "      <th></th>\n",
       "      <th>Trial</th>\n",
       "      <th>Time in minutes</th>\n",
       "      <th>Mean Episode Rewards</th>\n",
       "      <th>Reward std</th>\n",
       "      <th>Total Rewards</th>\n",
       "      <th>Mean Steps</th>\n",
       "      <th>Step Std</th>\n",
       "      <th>policy</th>\n",
       "      <th>gamma</th>\n",
       "      <th>learning_rate</th>\n",
       "      <th>batch_size</th>\n",
       "      <th>buffer_size</th>\n",
       "      <th>train_freq</th>\n",
       "      <th>gradient_steps</th>\n",
       "      <th>exploration_fraction</th>\n",
       "      <th>exploration_final_eps</th>\n",
       "      <th>target_update_interval</th>\n",
       "      <th>policy_kwargs</th>\n",
       "      <th>seed</th>\n",
       "    </tr>\n",
       "  </thead>\n",
       "  <tbody>\n",
       "    <tr>\n",
       "      <th>26</th>\n",
       "      <td>27</td>\n",
       "      <td>12.722</td>\n",
       "      <td>-22.1</td>\n",
       "      <td>0.0</td>\n",
       "      <td>-22.1</td>\n",
       "      <td>2.624881</td>\n",
       "      <td>0.0</td>\n",
       "      <td>[MlpPolicy, CnnPolicy]</td>\n",
       "      <td>[0.9, 0.99]</td>\n",
       "      <td>[1e-05]</td>\n",
       "      <td>[256]</td>\n",
       "      <td>[50000]</td>\n",
       "      <td>[16, 32]</td>\n",
       "      <td>[1]</td>\n",
       "      <td>[0.3, 0.5]</td>\n",
       "      <td>[0.1, 0.2]</td>\n",
       "      <td>[100, 10000]</td>\n",
       "      <td>[{'net_arch': [256, 256]}]</td>\n",
       "      <td>[2]</td>\n",
       "    </tr>\n",
       "    <tr>\n",
       "      <th>19</th>\n",
       "      <td>20</td>\n",
       "      <td>18.502</td>\n",
       "      <td>-22.3</td>\n",
       "      <td>0.0</td>\n",
       "      <td>-22.3</td>\n",
       "      <td>0.830662</td>\n",
       "      <td>0.0</td>\n",
       "      <td>[MlpPolicy, CnnPolicy]</td>\n",
       "      <td>[0.9, 0.99]</td>\n",
       "      <td>[1e-05]</td>\n",
       "      <td>[256]</td>\n",
       "      <td>[50000]</td>\n",
       "      <td>[16, 32]</td>\n",
       "      <td>[1]</td>\n",
       "      <td>[0.3, 0.5]</td>\n",
       "      <td>[0.1, 0.2]</td>\n",
       "      <td>[100, 10000]</td>\n",
       "      <td>[{'net_arch': [256, 256]}]</td>\n",
       "      <td>[2]</td>\n",
       "    </tr>\n",
       "    <tr>\n",
       "      <th>0</th>\n",
       "      <td>1</td>\n",
       "      <td>17.983</td>\n",
       "      <td>-22.4</td>\n",
       "      <td>0.0</td>\n",
       "      <td>-22.4</td>\n",
       "      <td>3.919184</td>\n",
       "      <td>0.0</td>\n",
       "      <td>[MlpPolicy, CnnPolicy]</td>\n",
       "      <td>[0.9, 0.99]</td>\n",
       "      <td>[1e-05]</td>\n",
       "      <td>[256]</td>\n",
       "      <td>[50000]</td>\n",
       "      <td>[16, 32]</td>\n",
       "      <td>[1]</td>\n",
       "      <td>[0.3, 0.5]</td>\n",
       "      <td>[0.1, 0.2]</td>\n",
       "      <td>[100, 10000]</td>\n",
       "      <td>[{'net_arch': [256, 256]}]</td>\n",
       "      <td>[2]</td>\n",
       "    </tr>\n",
       "    <tr>\n",
       "      <th>28</th>\n",
       "      <td>29</td>\n",
       "      <td>13.604</td>\n",
       "      <td>-22.5</td>\n",
       "      <td>0.0</td>\n",
       "      <td>-22.5</td>\n",
       "      <td>3.742993</td>\n",
       "      <td>0.0</td>\n",
       "      <td>[MlpPolicy, CnnPolicy]</td>\n",
       "      <td>[0.9, 0.99]</td>\n",
       "      <td>[1e-05]</td>\n",
       "      <td>[256]</td>\n",
       "      <td>[50000]</td>\n",
       "      <td>[16, 32]</td>\n",
       "      <td>[1]</td>\n",
       "      <td>[0.3, 0.5]</td>\n",
       "      <td>[0.1, 0.2]</td>\n",
       "      <td>[100, 10000]</td>\n",
       "      <td>[{'net_arch': [256, 256]}]</td>\n",
       "      <td>[2]</td>\n",
       "    </tr>\n",
       "    <tr>\n",
       "      <th>17</th>\n",
       "      <td>18</td>\n",
       "      <td>19.121</td>\n",
       "      <td>-22.6</td>\n",
       "      <td>0.0</td>\n",
       "      <td>-22.6</td>\n",
       "      <td>2.615339</td>\n",
       "      <td>0.0</td>\n",
       "      <td>[MlpPolicy, CnnPolicy]</td>\n",
       "      <td>[0.9, 0.99]</td>\n",
       "      <td>[1e-05]</td>\n",
       "      <td>[256]</td>\n",
       "      <td>[50000]</td>\n",
       "      <td>[16, 32]</td>\n",
       "      <td>[1]</td>\n",
       "      <td>[0.3, 0.5]</td>\n",
       "      <td>[0.1, 0.2]</td>\n",
       "      <td>[100, 10000]</td>\n",
       "      <td>[{'net_arch': [256, 256]}]</td>\n",
       "      <td>[2]</td>\n",
       "    </tr>\n",
       "  </tbody>\n",
       "</table>\n",
       "</div>"
      ],
      "text/plain": [
       "    Trial  Time in minutes  Mean Episode Rewards  Reward std  Total Rewards  \\\n",
       "26     27           12.722                 -22.1         0.0          -22.1   \n",
       "19     20           18.502                 -22.3         0.0          -22.3   \n",
       "0       1           17.983                 -22.4         0.0          -22.4   \n",
       "28     29           13.604                 -22.5         0.0          -22.5   \n",
       "17     18           19.121                 -22.6         0.0          -22.6   \n",
       "\n",
       "    Mean Steps  Step Std                  policy        gamma learning_rate  \\\n",
       "26    2.624881       0.0  [MlpPolicy, CnnPolicy]  [0.9, 0.99]       [1e-05]   \n",
       "19    0.830662       0.0  [MlpPolicy, CnnPolicy]  [0.9, 0.99]       [1e-05]   \n",
       "0     3.919184       0.0  [MlpPolicy, CnnPolicy]  [0.9, 0.99]       [1e-05]   \n",
       "28    3.742993       0.0  [MlpPolicy, CnnPolicy]  [0.9, 0.99]       [1e-05]   \n",
       "17    2.615339       0.0  [MlpPolicy, CnnPolicy]  [0.9, 0.99]       [1e-05]   \n",
       "\n",
       "   batch_size buffer_size train_freq gradient_steps exploration_fraction  \\\n",
       "26      [256]     [50000]   [16, 32]            [1]           [0.3, 0.5]   \n",
       "19      [256]     [50000]   [16, 32]            [1]           [0.3, 0.5]   \n",
       "0       [256]     [50000]   [16, 32]            [1]           [0.3, 0.5]   \n",
       "28      [256]     [50000]   [16, 32]            [1]           [0.3, 0.5]   \n",
       "17      [256]     [50000]   [16, 32]            [1]           [0.3, 0.5]   \n",
       "\n",
       "   exploration_final_eps target_update_interval               policy_kwargs  \\\n",
       "26            [0.1, 0.2]           [100, 10000]  [{'net_arch': [256, 256]}]   \n",
       "19            [0.1, 0.2]           [100, 10000]  [{'net_arch': [256, 256]}]   \n",
       "0             [0.1, 0.2]           [100, 10000]  [{'net_arch': [256, 256]}]   \n",
       "28            [0.1, 0.2]           [100, 10000]  [{'net_arch': [256, 256]}]   \n",
       "17            [0.1, 0.2]           [100, 10000]  [{'net_arch': [256, 256]}]   \n",
       "\n",
       "   seed  \n",
       "26  [2]  \n",
       "19  [2]  \n",
       "0   [2]  \n",
       "28  [2]  \n",
       "17  [2]  "
      ]
     },
     "execution_count": 5,
     "metadata": {},
     "output_type": "execute_result"
    }
   ],
   "source": [
    "results_df.sort_values('Mean Episode Rewards', ascending = False).head(5)"
   ]
  },
  {
   "cell_type": "code",
   "execution_count": null,
   "metadata": {},
   "outputs": [],
   "source": [
    "'''\n",
    "Hyperparameters for trial 27\n",
    "{'policy': 'MlpPolicy', \n",
    "'gamma': 0.99, 'learning_rate': 1e-05, \n",
    "'batch_size': 256, 'buffer_size': 50000, \n",
    "'train_freq': 32, 'gradient_steps': 1, \n",
    "'exploration_fraction': 0.3, \n",
    "'exploration_final_eps': 0.2, \n",
    "'target_update_interval': 100, \n",
    "'policy_kwargs': {'net_arch': [256, 256]}, 'seed': 2}\n",
    "'''\n"
   ]
  }
 ],
 "metadata": {
  "kernelspec": {
   "display_name": ".venv",
   "language": "python",
   "name": "python3"
  },
  "language_info": {
   "codemirror_mode": {
    "name": "ipython",
    "version": 3
   },
   "file_extension": ".py",
   "mimetype": "text/x-python",
   "name": "python",
   "nbconvert_exporter": "python",
   "pygments_lexer": "ipython3",
   "version": "3.10.12"
  }
 },
 "nbformat": 4,
 "nbformat_minor": 2
}
