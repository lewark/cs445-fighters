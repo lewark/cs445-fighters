{
 "cells": [
  {
   "cell_type": "code",
   "execution_count": 1,
   "metadata": {},
   "outputs": [],
   "source": [
    "from common.reward_function_testing.reward_mods import SF_EXP_3_Test_Modules\n",
    "from common.utils import ExperimentRunner as expr\n",
    "from common.dqn_envs import EXP_3_all_env_functions\n",
    "\n",
    "from common.constants import*\n",
    "# from stable_baselines3.common.callbacks import EvalCallback\n",
    "from stable_baselines3 import DQN\n",
    "import time"
   ]
  },
  {
   "cell_type": "code",
   "execution_count": 2,
   "metadata": {},
   "outputs": [
    {
     "data": {
      "text/plain": [
       "['make_dqn_env']"
      ]
     },
     "execution_count": 2,
     "metadata": {},
     "output_type": "execute_result"
    }
   ],
   "source": [
    "all_env_functions = EXP_3_all_env_functions()\n",
    "all_env_functions"
   ]
  },
  {
   "cell_type": "code",
   "execution_count": 3,
   "metadata": {},
   "outputs": [
    {
     "data": {
      "text/plain": [
       "EXP 3: Reward function modules with movement data: ['SF_New_Movement_Data', 'SF_New_Movement_Data_Frame_Delta']"
      ]
     },
     "execution_count": 3,
     "metadata": {},
     "output_type": "execute_result"
    }
   ],
   "source": [
    "all_test_mods = SF_EXP_3_Test_Modules()\n",
    "all_test_mods"
   ]
  },
  {
   "cell_type": "code",
   "execution_count": 4,
   "metadata": {},
   "outputs": [
    {
     "name": "stdout",
     "output_type": "stream",
     "text": [
      "running experiments on cpu\n"
     ]
    }
   ],
   "source": [
    "expr = expr(DQN, verbose=True)"
   ]
  },
  {
   "cell_type": "code",
   "execution_count": 5,
   "metadata": {},
   "outputs": [],
   "source": [
    "h_params = {'policy': ['MlpPolicy', 'CnnPolicy'],\n",
    " 'seed': [2],\n",
    " 'buffer_size': [50000],\n",
    " 'learning_rate': [1e-05]}"
   ]
  },
  {
   "cell_type": "code",
   "execution_count": 6,
   "metadata": {},
   "outputs": [],
   "source": [
    "from common.utils import build_all_permutations"
   ]
  },
  {
   "cell_type": "code",
   "execution_count": 7,
   "metadata": {},
   "outputs": [
    {
     "data": {
      "text/plain": [
       "[{'policy': 'MlpPolicy',\n",
       "  'seed': 2,\n",
       "  'buffer_size': 50000,\n",
       "  'learning_rate': 1e-05},\n",
       " {'policy': 'CnnPolicy',\n",
       "  'seed': 2,\n",
       "  'buffer_size': 50000,\n",
       "  'learning_rate': 1e-05}]"
      ]
     },
     "execution_count": 7,
     "metadata": {},
     "output_type": "execute_result"
    }
   ],
   "source": [
    "h_params_list = build_all_permutations(h_params)\n",
    "h_params_list"
   ]
  },
  {
   "cell_type": "code",
   "execution_count": 10,
   "metadata": {},
   "outputs": [],
   "source": [
    "expr.set_tran_opts(total_timesteps=500_000, progress_bar=True)"
   ]
  },
  {
   "cell_type": "code",
   "execution_count": 11,
   "metadata": {},
   "outputs": [
    {
     "data": {
      "text/plain": [
       "expr: model: <class 'stable_baselines3.dqn.dqn.DQN'>,\n",
       "base_env_class: None\n",
       "h_parameters: None,\n",
       "model_ops: {'tensorboard_log': './results/board/', 'verbose': 0},\n",
       "model_train_ops: {'total_timesteps': 500000, 'progress_bar': True, 'tb_log_name': 'DQN'},\n",
       "env_builder opts: {'render_mode': None},\n",
       "eval function: evaluate_policy,\n",
       "eval function opts: {'deterministic': False},\n",
       "device: cpu,\n",
       "model current learning timesteps: 0"
      ]
     },
     "execution_count": 11,
     "metadata": {},
     "output_type": "execute_result"
    }
   ],
   "source": [
    "expr.set_env_func_options(render_mode = None, n_procs = 4)\n",
    "expr"
   ]
  },
  {
   "cell_type": "code",
   "execution_count": 13,
   "metadata": {},
   "outputs": [
    {
     "data": {
      "text/plain": [
       "4"
      ]
     },
     "execution_count": 13,
     "metadata": {},
     "output_type": "execute_result"
    }
   ],
   "source": [
    "test = 1\n",
    "total = len(all_test_mods.get_test_modules()) * len(all_env_functions.get_env_func_list()) * len(h_params_list)\n",
    "total"
   ]
  },
  {
   "cell_type": "code",
   "execution_count": 14,
   "metadata": {},
   "outputs": [
    {
     "name": "stdout",
     "output_type": "stream",
     "text": [
      "Test: 1 out of 4\n",
      "{'policy': 'MlpPolicy', 'seed': 2, 'buffer_size': 50000, 'learning_rate': 1e-05}\n",
      "module: SF_New_Movement_Data, env_func: make_dqn_env, policy: MlpPolicy\n",
      "Learning...\n"
     ]
    },
    {
     "data": {
      "application/vnd.jupyter.widget-view+json": {
       "model_id": "66b80d2ec03b49e1b6baedea3e3103a8",
       "version_major": 2,
       "version_minor": 0
      },
      "text/plain": [
       "Output()"
      ]
     },
     "metadata": {},
     "output_type": "display_data"
    },
    {
     "data": {
      "text/html": [
       "<pre style=\"white-space:pre;overflow-x:auto;line-height:normal;font-family:Menlo,'DejaVu Sans Mono',consolas,'Courier New',monospace\"></pre>\n"
      ],
      "text/plain": []
     },
     "metadata": {},
     "output_type": "display_data"
    },
    {
     "data": {
      "text/html": [
       "<pre style=\"white-space:pre;overflow-x:auto;line-height:normal;font-family:Menlo,'DejaVu Sans Mono',consolas,'Courier New',monospace\">\n",
       "</pre>\n"
      ],
      "text/plain": [
       "\n"
      ]
     },
     "metadata": {},
     "output_type": "display_data"
    },
    {
     "name": "stdout",
     "output_type": "stream",
     "text": [
      "Total train time in minutes: 10.61\n",
      "\n",
      "Test: 2 out of 4\n",
      "{'policy': 'CnnPolicy', 'seed': 2, 'buffer_size': 50000, 'learning_rate': 1e-05}\n",
      "module: SF_New_Movement_Data, env_func: make_dqn_env, policy: CnnPolicy\n",
      "Learning...\n"
     ]
    },
    {
     "data": {
      "application/vnd.jupyter.widget-view+json": {
       "model_id": "fb62a247c69b4f9da9f0d179c91b5068",
       "version_major": 2,
       "version_minor": 0
      },
      "text/plain": [
       "Output()"
      ]
     },
     "metadata": {},
     "output_type": "display_data"
    },
    {
     "data": {
      "text/html": [
       "<pre style=\"white-space:pre;overflow-x:auto;line-height:normal;font-family:Menlo,'DejaVu Sans Mono',consolas,'Courier New',monospace\"></pre>\n"
      ],
      "text/plain": []
     },
     "metadata": {},
     "output_type": "display_data"
    },
    {
     "data": {
      "text/html": [
       "<pre style=\"white-space:pre;overflow-x:auto;line-height:normal;font-family:Menlo,'DejaVu Sans Mono',consolas,'Courier New',monospace\">\n",
       "</pre>\n"
      ],
      "text/plain": [
       "\n"
      ]
     },
     "metadata": {},
     "output_type": "display_data"
    },
    {
     "name": "stdout",
     "output_type": "stream",
     "text": [
      "Total train time in minutes: 15.96\n",
      "\n",
      "Test: 3 out of 4\n",
      "{'policy': 'MlpPolicy', 'seed': 2, 'buffer_size': 50000, 'learning_rate': 1e-05}\n",
      "module: SF_New_Movement_Data_Frame_Delta, env_func: make_dqn_env, policy: MlpPolicy\n",
      "Learning...\n"
     ]
    },
    {
     "data": {
      "application/vnd.jupyter.widget-view+json": {
       "model_id": "2486a13011cb47c09c6270dfcc3fbe73",
       "version_major": 2,
       "version_minor": 0
      },
      "text/plain": [
       "Output()"
      ]
     },
     "metadata": {},
     "output_type": "display_data"
    },
    {
     "data": {
      "text/html": [
       "<pre style=\"white-space:pre;overflow-x:auto;line-height:normal;font-family:Menlo,'DejaVu Sans Mono',consolas,'Courier New',monospace\"></pre>\n"
      ],
      "text/plain": []
     },
     "metadata": {},
     "output_type": "display_data"
    },
    {
     "data": {
      "text/html": [
       "<pre style=\"white-space:pre;overflow-x:auto;line-height:normal;font-family:Menlo,'DejaVu Sans Mono',consolas,'Courier New',monospace\">\n",
       "</pre>\n"
      ],
      "text/plain": [
       "\n"
      ]
     },
     "metadata": {},
     "output_type": "display_data"
    },
    {
     "name": "stdout",
     "output_type": "stream",
     "text": [
      "Total train time in minutes: 10.92\n",
      "\n",
      "Test: 4 out of 4\n",
      "{'policy': 'CnnPolicy', 'seed': 2, 'buffer_size': 50000, 'learning_rate': 1e-05}\n",
      "module: SF_New_Movement_Data_Frame_Delta, env_func: make_dqn_env, policy: CnnPolicy\n",
      "Learning...\n"
     ]
    },
    {
     "data": {
      "application/vnd.jupyter.widget-view+json": {
       "model_id": "1d5868173f7844ec9e2de1d155138d88",
       "version_major": 2,
       "version_minor": 0
      },
      "text/plain": [
       "Output()"
      ]
     },
     "metadata": {},
     "output_type": "display_data"
    },
    {
     "data": {
      "text/html": [
       "<pre style=\"white-space:pre;overflow-x:auto;line-height:normal;font-family:Menlo,'DejaVu Sans Mono',consolas,'Courier New',monospace\"></pre>\n"
      ],
      "text/plain": []
     },
     "metadata": {},
     "output_type": "display_data"
    },
    {
     "data": {
      "text/html": [
       "<pre style=\"white-space:pre;overflow-x:auto;line-height:normal;font-family:Menlo,'DejaVu Sans Mono',consolas,'Courier New',monospace\">\n",
       "</pre>\n"
      ],
      "text/plain": [
       "\n"
      ]
     },
     "metadata": {},
     "output_type": "display_data"
    },
    {
     "name": "stdout",
     "output_type": "stream",
     "text": [
      "Total train time in minutes: 15.94\n",
      "\n"
     ]
    },
    {
     "ename": "",
     "evalue": "",
     "output_type": "error",
     "traceback": [
      "\u001b[1;31mThe Kernel crashed while executing code in the current cell or a previous cell. \n",
      "\u001b[1;31mPlease review the code in the cell(s) to identify a possible cause of the failure. \n",
      "\u001b[1;31mClick <a href='https://aka.ms/vscodeJupyterKernelCrash'>here</a> for more info. \n",
      "\u001b[1;31mView Jupyter <a href='command:jupyter.viewOutput'>log</a> for further details."
     ]
    }
   ],
   "source": [
    "for module in all_test_mods.get_test_modules():\n",
    "    for env_func in all_env_functions.get_env_func_list():\n",
    "        for h_param in h_params_list:\n",
    "            \n",
    "            policy = h_param['policy']\n",
    "            test_name = f'module: {str(module.__name__)}, env_func: {env_func.__name__}, policy: {policy}'\n",
    "            expr.set_base_env(module)\n",
    "            expr.set_env_func(env_func)\n",
    "            expr.set_tb_log_name(test_name)\n",
    "            \n",
    "            start = time.time()\n",
    "            print(f'Test: {test} out of {total}')\n",
    "            print(h_param)\n",
    "            print(test_name)\n",
    "            expr.train_model(total_timesteps=500_000, hyper_params=h_param)\n",
    "\n",
    "            end = time.time()\n",
    "            elapsed = round(((end - start) /60), 2)\n",
    "            print(f'Total train time in minutes: {elapsed}')\n",
    "            print()\n",
    "\n",
    "            test += 1\n"
   ]
  }
 ],
 "metadata": {
  "kernelspec": {
   "display_name": ".venv",
   "language": "python",
   "name": "python3"
  },
  "language_info": {
   "codemirror_mode": {
    "name": "ipython",
    "version": 3
   },
   "file_extension": ".py",
   "mimetype": "text/x-python",
   "name": "python",
   "nbconvert_exporter": "python",
   "pygments_lexer": "ipython3",
   "version": "3.10.12"
  }
 },
 "nbformat": 4,
 "nbformat_minor": 2
}
