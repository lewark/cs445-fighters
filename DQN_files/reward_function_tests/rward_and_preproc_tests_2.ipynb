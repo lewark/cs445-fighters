{
 "cells": [
  {
   "cell_type": "code",
   "execution_count": 1,
   "metadata": {},
   "outputs": [],
   "source": [
    "from common.reward_function_testing.reward_mods import SF_EXP_2_Test_Modules\n",
    "from common.utils import ExperimentRunner as expr\n",
    "from common.dqn_envs import EXP_2_all_env_functions\n",
    "\n",
    "from common.constants import*\n",
    "# from stable_baselines3.common.callbacks import EvalCallback\n",
    "from stable_baselines3 import DQN\n",
    "import time"
   ]
  },
  {
   "cell_type": "code",
   "execution_count": 2,
   "metadata": {},
   "outputs": [
    {
     "data": {
      "text/plain": [
       "['make_dqn_env', 'skip_env']"
      ]
     },
     "execution_count": 2,
     "metadata": {},
     "output_type": "execute_result"
    }
   ],
   "source": [
    "all_env_functions = EXP_2_all_env_functions()\n",
    "all_env_functions"
   ]
  },
  {
   "cell_type": "code",
   "execution_count": 3,
   "metadata": {},
   "outputs": [
    {
     "data": {
      "text/plain": [
       "EXP 2: Reward function modules: ['SF_FIRST_REW_FUNC', 'SF_FIRST_REW_FUNC_FRAME_DELTA']"
      ]
     },
     "execution_count": 3,
     "metadata": {},
     "output_type": "execute_result"
    }
   ],
   "source": [
    "all_test_mods = SF_EXP_2_Test_Modules()\n",
    "all_test_mods"
   ]
  },
  {
   "cell_type": "code",
   "execution_count": 4,
   "metadata": {},
   "outputs": [
    {
     "name": "stdout",
     "output_type": "stream",
     "text": [
      "running experiments on cpu\n"
     ]
    }
   ],
   "source": [
    "expr = expr(DQN, verbose=True)"
   ]
  },
  {
   "cell_type": "code",
   "execution_count": 5,
   "metadata": {},
   "outputs": [],
   "source": [
    "h_params = {'policy': ['MlpPolicy', 'CnnPolicy'],\n",
    " 'seed': [2],\n",
    " 'buffer_size': [50000],\n",
    " 'learning_rate': [1e-05]}"
   ]
  },
  {
   "cell_type": "code",
   "execution_count": 6,
   "metadata": {},
   "outputs": [],
   "source": [
    "from common.utils import build_all_permutations"
   ]
  },
  {
   "cell_type": "code",
   "execution_count": 7,
   "metadata": {},
   "outputs": [
    {
     "data": {
      "text/plain": [
       "[{'policy': 'MlpPolicy',\n",
       "  'seed': 2,\n",
       "  'buffer_size': 50000,\n",
       "  'learning_rate': 1e-05},\n",
       " {'policy': 'CnnPolicy',\n",
       "  'seed': 2,\n",
       "  'buffer_size': 50000,\n",
       "  'learning_rate': 1e-05}]"
      ]
     },
     "execution_count": 7,
     "metadata": {},
     "output_type": "execute_result"
    }
   ],
   "source": [
    "h_params_list = build_all_permutations(h_params)\n",
    "h_params_list"
   ]
  },
  {
   "cell_type": "code",
   "execution_count": 10,
   "metadata": {},
   "outputs": [],
   "source": [
    "expr.set_tran_opts(total_timesteps=250_000, progress_bar=True)"
   ]
  },
  {
   "cell_type": "code",
   "execution_count": 11,
   "metadata": {},
   "outputs": [
    {
     "data": {
      "text/plain": [
       "expr: model: <class 'stable_baselines3.dqn.dqn.DQN'>,\n",
       "base_env_class: None\n",
       "h_parameters: None,\n",
       "model_ops: {'tensorboard_log': './results/board/', 'verbose': 0},\n",
       "model_train_ops: {'total_timesteps': 250000, 'progress_bar': True, 'tb_log_name': 'DQN'},\n",
       "env_builder opts: {'render_mode': None},\n",
       "eval function: evaluate_policy,\n",
       "eval function opts: {'deterministic': False},\n",
       "device: cpu,\n",
       "model current learning timesteps: 0"
      ]
     },
     "execution_count": 11,
     "metadata": {},
     "output_type": "execute_result"
    }
   ],
   "source": [
    "expr.set_env_func_options(render_mode = None, n_procs = 8)\n",
    "expr"
   ]
  },
  {
   "cell_type": "code",
   "execution_count": 12,
   "metadata": {},
   "outputs": [
    {
     "data": {
      "text/plain": [
       "8"
      ]
     },
     "execution_count": 12,
     "metadata": {},
     "output_type": "execute_result"
    }
   ],
   "source": [
    "test = 1\n",
    "total = len(all_test_mods.get_test_modules()) * len(all_env_functions.get_env_func_list()) * len(h_params_list)\n",
    "total"
   ]
  },
  {
   "cell_type": "code",
   "execution_count": 13,
   "metadata": {},
   "outputs": [
    {
     "name": "stdout",
     "output_type": "stream",
     "text": [
      "Test: 1 out of 8\n",
      "{'policy': 'MlpPolicy', 'seed': 2, 'buffer_size': 50000, 'learning_rate': 1e-05}\n",
      "module: SF_FIRST_REW_FUNC, env_func: make_dqn_env, policy: MlpPolicy\n",
      "Learning...\n"
     ]
    },
    {
     "data": {
      "application/vnd.jupyter.widget-view+json": {
       "model_id": "cb0176b56aaf465b8918ccae0b938f81",
       "version_major": 2,
       "version_minor": 0
      },
      "text/plain": [
       "Output()"
      ]
     },
     "metadata": {},
     "output_type": "display_data"
    },
    {
     "data": {
      "text/html": [
       "<pre style=\"white-space:pre;overflow-x:auto;line-height:normal;font-family:Menlo,'DejaVu Sans Mono',consolas,'Courier New',monospace\"></pre>\n"
      ],
      "text/plain": []
     },
     "metadata": {},
     "output_type": "display_data"
    },
    {
     "data": {
      "text/html": [
       "<pre style=\"white-space:pre;overflow-x:auto;line-height:normal;font-family:Menlo,'DejaVu Sans Mono',consolas,'Courier New',monospace\">\n",
       "</pre>\n"
      ],
      "text/plain": [
       "\n"
      ]
     },
     "metadata": {},
     "output_type": "display_data"
    },
    {
     "name": "stdout",
     "output_type": "stream",
     "text": [
      "Total train time in minutes: 6.0\n",
      "\n",
      "Test: 2 out of 8\n",
      "{'policy': 'CnnPolicy', 'seed': 2, 'buffer_size': 50000, 'learning_rate': 1e-05}\n",
      "module: SF_FIRST_REW_FUNC, env_func: make_dqn_env, policy: CnnPolicy\n",
      "Learning...\n"
     ]
    },
    {
     "data": {
      "application/vnd.jupyter.widget-view+json": {
       "model_id": "726c0075dbfb4d909dc86dc3ade22f78",
       "version_major": 2,
       "version_minor": 0
      },
      "text/plain": [
       "Output()"
      ]
     },
     "metadata": {},
     "output_type": "display_data"
    },
    {
     "data": {
      "text/html": [
       "<pre style=\"white-space:pre;overflow-x:auto;line-height:normal;font-family:Menlo,'DejaVu Sans Mono',consolas,'Courier New',monospace\"></pre>\n"
      ],
      "text/plain": []
     },
     "metadata": {},
     "output_type": "display_data"
    },
    {
     "data": {
      "text/html": [
       "<pre style=\"white-space:pre;overflow-x:auto;line-height:normal;font-family:Menlo,'DejaVu Sans Mono',consolas,'Courier New',monospace\">\n",
       "</pre>\n"
      ],
      "text/plain": [
       "\n"
      ]
     },
     "metadata": {},
     "output_type": "display_data"
    },
    {
     "name": "stdout",
     "output_type": "stream",
     "text": [
      "Total train time in minutes: 8.46\n",
      "\n",
      "Test: 3 out of 8\n",
      "{'policy': 'MlpPolicy', 'seed': 2, 'buffer_size': 50000, 'learning_rate': 1e-05}\n",
      "module: SF_FIRST_REW_FUNC, env_func: skip_env, policy: MlpPolicy\n",
      "Learning...\n"
     ]
    },
    {
     "data": {
      "application/vnd.jupyter.widget-view+json": {
       "model_id": "24be5689a9c64faaa6b90074fe616491",
       "version_major": 2,
       "version_minor": 0
      },
      "text/plain": [
       "Output()"
      ]
     },
     "metadata": {},
     "output_type": "display_data"
    },
    {
     "data": {
      "text/html": [
       "<pre style=\"white-space:pre;overflow-x:auto;line-height:normal;font-family:Menlo,'DejaVu Sans Mono',consolas,'Courier New',monospace\"></pre>\n"
      ],
      "text/plain": []
     },
     "metadata": {},
     "output_type": "display_data"
    },
    {
     "data": {
      "text/html": [
       "<pre style=\"white-space:pre;overflow-x:auto;line-height:normal;font-family:Menlo,'DejaVu Sans Mono',consolas,'Courier New',monospace\">\n",
       "</pre>\n"
      ],
      "text/plain": [
       "\n"
      ]
     },
     "metadata": {},
     "output_type": "display_data"
    },
    {
     "name": "stdout",
     "output_type": "stream",
     "text": [
      "Total train time in minutes: 8.3\n",
      "\n",
      "Test: 4 out of 8\n",
      "{'policy': 'CnnPolicy', 'seed': 2, 'buffer_size': 50000, 'learning_rate': 1e-05}\n",
      "module: SF_FIRST_REW_FUNC, env_func: skip_env, policy: CnnPolicy\n",
      "Learning...\n"
     ]
    },
    {
     "data": {
      "application/vnd.jupyter.widget-view+json": {
       "model_id": "90b72084f9f84d539012d7b59a13361e",
       "version_major": 2,
       "version_minor": 0
      },
      "text/plain": [
       "Output()"
      ]
     },
     "metadata": {},
     "output_type": "display_data"
    },
    {
     "name": "stderr",
     "output_type": "stream",
     "text": [
      "/home/delta27/csu_spring_2024/project/.venv/lib/python3.10/site-packages/stable_baselines3/common/buffers.py:241: UserWarning: This system does not have apparently enough memory to store the complete replay buffer 2.82GB > 2.10GB\n",
      "  warnings.warn(\n"
     ]
    },
    {
     "data": {
      "text/html": [
       "<pre style=\"white-space:pre;overflow-x:auto;line-height:normal;font-family:Menlo,'DejaVu Sans Mono',consolas,'Courier New',monospace\"></pre>\n"
      ],
      "text/plain": []
     },
     "metadata": {},
     "output_type": "display_data"
    },
    {
     "data": {
      "text/html": [
       "<pre style=\"white-space:pre;overflow-x:auto;line-height:normal;font-family:Menlo,'DejaVu Sans Mono',consolas,'Courier New',monospace\">\n",
       "</pre>\n"
      ],
      "text/plain": [
       "\n"
      ]
     },
     "metadata": {},
     "output_type": "display_data"
    },
    {
     "name": "stdout",
     "output_type": "stream",
     "text": [
      "Total train time in minutes: 11.12\n",
      "\n",
      "Test: 5 out of 8\n",
      "{'policy': 'MlpPolicy', 'seed': 2, 'buffer_size': 50000, 'learning_rate': 1e-05}\n",
      "module: SF_FIRST_REW_FUNC_FRAME_DELTA, env_func: make_dqn_env, policy: MlpPolicy\n",
      "Learning...\n"
     ]
    },
    {
     "data": {
      "application/vnd.jupyter.widget-view+json": {
       "model_id": "41a227267b224be68b2e015cd849c6a5",
       "version_major": 2,
       "version_minor": 0
      },
      "text/plain": [
       "Output()"
      ]
     },
     "metadata": {},
     "output_type": "display_data"
    },
    {
     "data": {
      "text/html": [
       "<pre style=\"white-space:pre;overflow-x:auto;line-height:normal;font-family:Menlo,'DejaVu Sans Mono',consolas,'Courier New',monospace\"></pre>\n"
      ],
      "text/plain": []
     },
     "metadata": {},
     "output_type": "display_data"
    },
    {
     "data": {
      "text/html": [
       "<pre style=\"white-space:pre;overflow-x:auto;line-height:normal;font-family:Menlo,'DejaVu Sans Mono',consolas,'Courier New',monospace\">\n",
       "</pre>\n"
      ],
      "text/plain": [
       "\n"
      ]
     },
     "metadata": {},
     "output_type": "display_data"
    },
    {
     "name": "stdout",
     "output_type": "stream",
     "text": [
      "Total train time in minutes: 5.7\n",
      "\n",
      "Test: 6 out of 8\n",
      "{'policy': 'CnnPolicy', 'seed': 2, 'buffer_size': 50000, 'learning_rate': 1e-05}\n",
      "module: SF_FIRST_REW_FUNC_FRAME_DELTA, env_func: make_dqn_env, policy: CnnPolicy\n",
      "Learning...\n"
     ]
    },
    {
     "data": {
      "application/vnd.jupyter.widget-view+json": {
       "model_id": "52a8de5cc966424eadca22a9cdd1a41f",
       "version_major": 2,
       "version_minor": 0
      },
      "text/plain": [
       "Output()"
      ]
     },
     "metadata": {},
     "output_type": "display_data"
    },
    {
     "data": {
      "text/html": [
       "<pre style=\"white-space:pre;overflow-x:auto;line-height:normal;font-family:Menlo,'DejaVu Sans Mono',consolas,'Courier New',monospace\"></pre>\n"
      ],
      "text/plain": []
     },
     "metadata": {},
     "output_type": "display_data"
    },
    {
     "data": {
      "text/html": [
       "<pre style=\"white-space:pre;overflow-x:auto;line-height:normal;font-family:Menlo,'DejaVu Sans Mono',consolas,'Courier New',monospace\">\n",
       "</pre>\n"
      ],
      "text/plain": [
       "\n"
      ]
     },
     "metadata": {},
     "output_type": "display_data"
    },
    {
     "name": "stdout",
     "output_type": "stream",
     "text": [
      "Total train time in minutes: 8.51\n",
      "\n",
      "Test: 7 out of 8\n",
      "{'policy': 'MlpPolicy', 'seed': 2, 'buffer_size': 50000, 'learning_rate': 1e-05}\n",
      "module: SF_FIRST_REW_FUNC_FRAME_DELTA, env_func: skip_env, policy: MlpPolicy\n",
      "Learning...\n"
     ]
    },
    {
     "data": {
      "application/vnd.jupyter.widget-view+json": {
       "model_id": "20777cf6a0c141bd834f456fb0b1bbe2",
       "version_major": 2,
       "version_minor": 0
      },
      "text/plain": [
       "Output()"
      ]
     },
     "metadata": {},
     "output_type": "display_data"
    },
    {
     "data": {
      "text/html": [
       "<pre style=\"white-space:pre;overflow-x:auto;line-height:normal;font-family:Menlo,'DejaVu Sans Mono',consolas,'Courier New',monospace\"></pre>\n"
      ],
      "text/plain": []
     },
     "metadata": {},
     "output_type": "display_data"
    },
    {
     "data": {
      "text/html": [
       "<pre style=\"white-space:pre;overflow-x:auto;line-height:normal;font-family:Menlo,'DejaVu Sans Mono',consolas,'Courier New',monospace\">\n",
       "</pre>\n"
      ],
      "text/plain": [
       "\n"
      ]
     },
     "metadata": {},
     "output_type": "display_data"
    },
    {
     "name": "stdout",
     "output_type": "stream",
     "text": [
      "Total train time in minutes: 7.93\n",
      "\n",
      "Test: 8 out of 8\n",
      "{'policy': 'CnnPolicy', 'seed': 2, 'buffer_size': 50000, 'learning_rate': 1e-05}\n",
      "module: SF_FIRST_REW_FUNC_FRAME_DELTA, env_func: skip_env, policy: CnnPolicy\n",
      "Learning...\n"
     ]
    },
    {
     "data": {
      "application/vnd.jupyter.widget-view+json": {
       "model_id": "27a41cee50db492d8cce39ca1bb54fff",
       "version_major": 2,
       "version_minor": 0
      },
      "text/plain": [
       "Output()"
      ]
     },
     "metadata": {},
     "output_type": "display_data"
    },
    {
     "name": "stderr",
     "output_type": "stream",
     "text": [
      "/home/delta27/csu_spring_2024/project/.venv/lib/python3.10/site-packages/stable_baselines3/common/buffers.py:241: UserWarning: This system does not have apparently enough memory to store the complete replay buffer 2.82GB > 2.62GB\n",
      "  warnings.warn(\n"
     ]
    },
    {
     "data": {
      "text/html": [
       "<pre style=\"white-space:pre;overflow-x:auto;line-height:normal;font-family:Menlo,'DejaVu Sans Mono',consolas,'Courier New',monospace\"></pre>\n"
      ],
      "text/plain": []
     },
     "metadata": {},
     "output_type": "display_data"
    },
    {
     "data": {
      "text/html": [
       "<pre style=\"white-space:pre;overflow-x:auto;line-height:normal;font-family:Menlo,'DejaVu Sans Mono',consolas,'Courier New',monospace\">\n",
       "</pre>\n"
      ],
      "text/plain": [
       "\n"
      ]
     },
     "metadata": {},
     "output_type": "display_data"
    },
    {
     "name": "stdout",
     "output_type": "stream",
     "text": [
      "Total train time in minutes: 10.55\n",
      "\n"
     ]
    }
   ],
   "source": [
    "for module in all_test_mods.get_test_modules():\n",
    "    for env_func in all_env_functions.get_env_func_list():\n",
    "        for h_param in h_params_list:\n",
    "            \n",
    "            policy = h_param['policy']\n",
    "            test_name = f'module: {str(module.__name__)}, env_func: {env_func.__name__}, policy: {policy}'\n",
    "            expr.set_base_env(module)\n",
    "            expr.set_env_func(env_func)\n",
    "            expr.set_tb_log_name(test_name)\n",
    "            \n",
    "            start = time.time()\n",
    "            print(f'Test: {test} out of {total}')\n",
    "            print(h_param)\n",
    "            print(test_name)\n",
    "            expr.train_model(total_timesteps=250_000, hyper_params=h_param)\n",
    "\n",
    "            end = time.time()\n",
    "            elapsed = round(((end - start) /60), 2)\n",
    "            print(f'Total train time in minutes: {elapsed}')\n",
    "            print()\n",
    "\n",
    "            test += 1\n"
   ]
  }
 ],
 "metadata": {
  "kernelspec": {
   "display_name": ".venv",
   "language": "python",
   "name": "python3"
  },
  "language_info": {
   "codemirror_mode": {
    "name": "ipython",
    "version": 3
   },
   "file_extension": ".py",
   "mimetype": "text/x-python",
   "name": "python",
   "nbconvert_exporter": "python",
   "pygments_lexer": "ipython3",
   "version": "3.10.12"
  }
 },
 "nbformat": 4,
 "nbformat_minor": 2
}
