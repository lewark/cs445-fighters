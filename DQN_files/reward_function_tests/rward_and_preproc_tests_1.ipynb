{
 "cells": [
  {
   "cell_type": "code",
   "execution_count": 1,
   "metadata": {},
   "outputs": [],
   "source": [
    "from common.utils import ExperimentRunner as expr\n",
    "from common.dqn_envs import AllDqnEnvFunctions\n",
    "from common.reward_function_testing.reward_mods import SF_EXP_1_Test_Modules\n",
    "\n",
    "from common.constants import*\n",
    "from stable_baselines3.common.callbacks import EvalCallback\n",
    "from stable_baselines3 import DQN\n",
    "import time"
   ]
  },
  {
   "cell_type": "code",
   "execution_count": 2,
   "metadata": {},
   "outputs": [
    {
     "data": {
      "text/plain": [
       "['skip_env', 'make_dqn_env', 'maxskip_and_clip_env']"
      ]
     },
     "execution_count": 2,
     "metadata": {},
     "output_type": "execute_result"
    }
   ],
   "source": [
    "all_env_functions = AllDqnEnvFunctions()\n",
    "all_env_functions"
   ]
  },
  {
   "cell_type": "code",
   "execution_count": 3,
   "metadata": {},
   "outputs": [
    {
     "data": {
      "text/plain": [
       "EXP 1: Reward function modules: [\"<class 'common.reward_function_testing.reward_mods.SF_Default'>\", \"<class 'common.reward_function_testing.reward_mods.SF_FrameDelta'>\"]"
      ]
     },
     "execution_count": 3,
     "metadata": {},
     "output_type": "execute_result"
    }
   ],
   "source": [
    "all_test_mods = SF_EXP_1_Test_Modules()\n",
    "all_test_mods"
   ]
  },
  {
   "cell_type": "code",
   "execution_count": 4,
   "metadata": {},
   "outputs": [
    {
     "name": "stdout",
     "output_type": "stream",
     "text": [
      "running experiments on cpu\n"
     ]
    }
   ],
   "source": [
    "expr = expr(DQN, verbose=True)"
   ]
  },
  {
   "cell_type": "code",
   "execution_count": 5,
   "metadata": {},
   "outputs": [],
   "source": [
    "h_params = {'policy': ['MlpPolicy', 'CnnPolicy'],\n",
    " 'seed': [2],\n",
    " 'buffer_size': [50000],\n",
    " 'learning_rate': [1e-05]}"
   ]
  },
  {
   "cell_type": "code",
   "execution_count": 6,
   "metadata": {},
   "outputs": [],
   "source": [
    "from common.utils import build_all_permutations"
   ]
  },
  {
   "cell_type": "code",
   "execution_count": 7,
   "metadata": {},
   "outputs": [
    {
     "data": {
      "text/plain": [
       "[{'policy': 'MlpPolicy',\n",
       "  'seed': 2,\n",
       "  'buffer_size': 50000,\n",
       "  'learning_rate': 1e-05},\n",
       " {'policy': 'CnnPolicy',\n",
       "  'seed': 2,\n",
       "  'buffer_size': 50000,\n",
       "  'learning_rate': 1e-05}]"
      ]
     },
     "execution_count": 7,
     "metadata": {},
     "output_type": "execute_result"
    }
   ],
   "source": [
    "h_params_list = build_all_permutations(h_params)\n",
    "h_params_list"
   ]
  },
  {
   "cell_type": "code",
   "execution_count": 8,
   "metadata": {},
   "outputs": [],
   "source": [
    "# from common.callbacks import TensorboardWinCallback"
   ]
  },
  {
   "cell_type": "code",
   "execution_count": 9,
   "metadata": {},
   "outputs": [],
   "source": [
    "# callback = TensorboardWinCallback(verbose=1)"
   ]
  },
  {
   "cell_type": "code",
   "execution_count": 10,
   "metadata": {},
   "outputs": [],
   "source": [
    "expr.set_tran_opts(total_timesteps=500_000, progress_bar=True)"
   ]
  },
  {
   "cell_type": "code",
   "execution_count": 11,
   "metadata": {},
   "outputs": [
    {
     "data": {
      "text/plain": [
       "expr: model: <class 'stable_baselines3.dqn.dqn.DQN'>,\n",
       "base_env_class: None\n",
       "h_parameters: None,\n",
       "model_ops: {'tensorboard_log': './results/board/', 'verbose': 0},\n",
       "model_train_ops: {'total_timesteps': 500000, 'progress_bar': True, 'tb_log_name': 'DQN'},\n",
       "env_builder opts: {'render_mode': None},\n",
       "eval function: evaluate_policy,\n",
       "eval function opts: {'deterministic': False},\n",
       "device: cpu,\n",
       "model current learning timesteps: 0"
      ]
     },
     "execution_count": 11,
     "metadata": {},
     "output_type": "execute_result"
    }
   ],
   "source": [
    "expr.set_env_func_options(render_mode = None, n_procs = 8)\n",
    "expr"
   ]
  },
  {
   "cell_type": "code",
   "execution_count": 12,
   "metadata": {},
   "outputs": [
    {
     "data": {
      "text/plain": [
       "12"
      ]
     },
     "execution_count": 12,
     "metadata": {},
     "output_type": "execute_result"
    }
   ],
   "source": [
    "test = 1\n",
    "total = len(all_test_mods.get_test_modules()) * len(all_env_functions.get_env_func_list()) * len(h_params_list)\n",
    "total"
   ]
  },
  {
   "cell_type": "code",
   "execution_count": null,
   "metadata": {},
   "outputs": [],
   "source": [
    "for module in all_test_mods.get_test_modules():\n",
    "    for env_func in all_env_functions.get_env_func_list():\n",
    "        for h_param in h_params_list:\n",
    "            \n",
    "            policy = h_param['policy']\n",
    "            test_name = f'module: {str(module.__name__)}, env_func: {env_func.__name__}, policy: {policy}'\n",
    "            expr.set_base_env(module)\n",
    "            expr.set_env_func(env_func)\n",
    "            expr.set_tb_log_name(test_name)\n",
    "            \n",
    "            start = time.time()\n",
    "            print(f'Test: {test} out of {total}')\n",
    "            print(h_param)\n",
    "            print(test_name)\n",
    "            expr.train_model(total_timesteps=500_000, hyper_params=h_param)\n",
    "\n",
    "            end = time.time()\n",
    "            elapsed = round(((end - start) /60), 2)\n",
    "            print(f'Total train time in minutes: {elapsed}')\n",
    "            print()\n",
    "\n",
    "            test += 1\n"
   ]
  }
 ],
 "metadata": {
  "kernelspec": {
   "display_name": ".venv",
   "language": "python",
   "name": "python3"
  },
  "language_info": {
   "codemirror_mode": {
    "name": "ipython",
    "version": 3
   },
   "file_extension": ".py",
   "mimetype": "text/x-python",
   "name": "python",
   "nbconvert_exporter": "python",
   "pygments_lexer": "ipython3",
   "version": "3.10.12"
  }
 },
 "nbformat": 4,
 "nbformat_minor": 2
}
