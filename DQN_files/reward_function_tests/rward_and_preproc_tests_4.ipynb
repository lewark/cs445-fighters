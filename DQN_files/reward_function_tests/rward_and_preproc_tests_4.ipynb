{
 "cells": [
  {
   "cell_type": "code",
   "execution_count": 1,
   "metadata": {},
   "outputs": [],
   "source": [
    "from common.reward_function_testing.reward_mods import SF_EXP_4_Test_Modules\n",
    "from common.utils import ExperimentRunner as expr\n",
    "from common.dqn_envs import EXP_4_all_env_functions\n",
    "\n",
    "from common.constants import*\n",
    "# from stable_baselines3.common.callbacks import EvalCallback\n",
    "from stable_baselines3 import DQN\n",
    "import time"
   ]
  },
  {
   "cell_type": "code",
   "execution_count": 2,
   "metadata": {},
   "outputs": [
    {
     "data": {
      "text/plain": [
       "['make_dqn_env']"
      ]
     },
     "execution_count": 2,
     "metadata": {},
     "output_type": "execute_result"
    }
   ],
   "source": [
    "all_env_functions = EXP_4_all_env_functions()\n",
    "all_env_functions"
   ]
  },
  {
   "cell_type": "code",
   "execution_count": 3,
   "metadata": {},
   "outputs": [
    {
     "data": {
      "text/plain": [
       "EXP 4: Reward function modules with movement data and scaled rewards: ['SF_Default', 'SF_New_Movement_Data', 'SF_Default_Scaled_Rewards', 'SF_New_Movement_Data_Scaled_Rewards']"
      ]
     },
     "execution_count": 3,
     "metadata": {},
     "output_type": "execute_result"
    }
   ],
   "source": [
    "all_test_mods = SF_EXP_4_Test_Modules()\n",
    "all_test_mods"
   ]
  },
  {
   "cell_type": "code",
   "execution_count": 4,
   "metadata": {},
   "outputs": [
    {
     "name": "stdout",
     "output_type": "stream",
     "text": [
      "running experiments on cpu\n"
     ]
    }
   ],
   "source": [
    "expr = expr(DQN, verbose=True)"
   ]
  },
  {
   "cell_type": "code",
   "execution_count": 5,
   "metadata": {},
   "outputs": [],
   "source": [
    "#Atari hyper params from RLZoo\n",
    "#https://github.com/DLR-RM/rl-baselines3-zoo/blob/master/hyperparams/dqn.yml\n",
    "\n",
    "# h_params = ( policy: 'CnnPolicy'\n",
    "#   n_timesteps: !!float 1e7\n",
    "#   buffer_size: 100000\n",
    "#   learning_rate: !!float 1e-4\n",
    "#   batch_size: 32\n",
    "#   learning_starts: 100000\n",
    "#   target_update_interval: 1000\n",
    "#   train_freq: 4\n",
    "#   gradient_steps: 1\n",
    "#   exploration_fraction: 0.1\n",
    "#   exploration_final_eps: 0.01,\n",
    "#   seed: 2)"
   ]
  },
  {
   "cell_type": "code",
   "execution_count": 6,
   "metadata": {},
   "outputs": [],
   "source": [
    "h_params = {'policy': ['CnnPolicy'],\n",
    "  'buffer_size': [50_000],\n",
    "  'learning_rate': [0.0001],\n",
    "  'batch_size': [32],\n",
    "  'learning_starts': {100000},\n",
    "  'target_update_interval': [1000],\n",
    "  'train_freq': [4],\n",
    "  'gradient_steps': [1],\n",
    "  'exploration_fraction': [0.1],\n",
    "  'exploration_final_eps': [0.01],\n",
    "  'seed': [2]}"
   ]
  },
  {
   "cell_type": "code",
   "execution_count": 7,
   "metadata": {},
   "outputs": [],
   "source": [
    "from common.utils import build_all_permutations"
   ]
  },
  {
   "cell_type": "code",
   "execution_count": 8,
   "metadata": {},
   "outputs": [
    {
     "data": {
      "text/plain": [
       "[{'policy': 'CnnPolicy',\n",
       "  'buffer_size': 50000,\n",
       "  'learning_rate': 0.0001,\n",
       "  'batch_size': 32,\n",
       "  'learning_starts': 100000,\n",
       "  'target_update_interval': 1000,\n",
       "  'train_freq': 4,\n",
       "  'gradient_steps': 1,\n",
       "  'exploration_fraction': 0.1,\n",
       "  'exploration_final_eps': 0.01,\n",
       "  'seed': 2}]"
      ]
     },
     "execution_count": 8,
     "metadata": {},
     "output_type": "execute_result"
    }
   ],
   "source": [
    "h_params_list = build_all_permutations(h_params)\n",
    "h_params_list"
   ]
  },
  {
   "cell_type": "code",
   "execution_count": 9,
   "metadata": {},
   "outputs": [],
   "source": [
    "expr.set_tran_opts(total_timesteps=3_000_000, progress_bar=True)"
   ]
  },
  {
   "cell_type": "code",
   "execution_count": 10,
   "metadata": {},
   "outputs": [
    {
     "data": {
      "text/plain": [
       "expr: model: <class 'stable_baselines3.dqn.dqn.DQN'>,\n",
       "base_env_class: None\n",
       "h_parameters: None,\n",
       "model_ops: {'tensorboard_log': './results/board/', 'verbose': 0},\n",
       "model_train_ops: {'total_timesteps': 3000000, 'progress_bar': True, 'tb_log_name': 'DQN'},\n",
       "env_builder opts: {'render_mode': None, 'n_procs': 4},\n",
       "eval function: evaluate_policy,\n",
       "eval function opts: {'deterministic': False},\n",
       "device: cpu,\n",
       "model current learning timesteps: 0"
      ]
     },
     "execution_count": 10,
     "metadata": {},
     "output_type": "execute_result"
    }
   ],
   "source": [
    "expr.set_env_func_options(render_mode = None, n_procs = 4)\n",
    "expr"
   ]
  },
  {
   "cell_type": "code",
   "execution_count": 11,
   "metadata": {},
   "outputs": [
    {
     "data": {
      "text/plain": [
       "4"
      ]
     },
     "execution_count": 11,
     "metadata": {},
     "output_type": "execute_result"
    }
   ],
   "source": [
    "test = 1\n",
    "total = len(all_test_mods.get_test_modules()) * len(all_env_functions.get_env_func_list()) * len(h_params_list)\n",
    "total"
   ]
  },
  {
   "cell_type": "code",
   "execution_count": 12,
   "metadata": {},
   "outputs": [],
   "source": [
    "from common.utils import cleanup_device"
   ]
  },
  {
   "cell_type": "code",
   "execution_count": 13,
   "metadata": {},
   "outputs": [
    {
     "name": "stdout",
     "output_type": "stream",
     "text": [
      "Test: 1 out of 4\n",
      "{'policy': 'CnnPolicy', 'buffer_size': 50000, 'learning_rate': 0.0001, 'batch_size': 32, 'learning_starts': 100000, 'target_update_interval': 1000, 'train_freq': 4, 'gradient_steps': 1, 'exploration_fraction': 0.1, 'exploration_final_eps': 0.01, 'seed': 2}\n",
      "module: SF_Default_Scaled_Rewards, env_func: make_dqn_env, policy: CnnPolicy\n",
      "Learning...\n"
     ]
    },
    {
     "data": {
      "application/vnd.jupyter.widget-view+json": {
       "model_id": "37565b83f6094b73848b8a7df2b851bf",
       "version_major": 2,
       "version_minor": 0
      },
      "text/plain": [
       "Output()"
      ]
     },
     "metadata": {},
     "output_type": "display_data"
    },
    {
     "data": {
      "text/html": [
       "<pre style=\"white-space:pre;overflow-x:auto;line-height:normal;font-family:Menlo,'DejaVu Sans Mono',consolas,'Courier New',monospace\"></pre>\n"
      ],
      "text/plain": []
     },
     "metadata": {},
     "output_type": "display_data"
    },
    {
     "data": {
      "text/html": [
       "<pre style=\"white-space:pre;overflow-x:auto;line-height:normal;font-family:Menlo,'DejaVu Sans Mono',consolas,'Courier New',monospace\">\n",
       "</pre>\n"
      ],
      "text/plain": [
       "\n"
      ]
     },
     "metadata": {},
     "output_type": "display_data"
    },
    {
     "name": "stdout",
     "output_type": "stream",
     "text": [
      "Model Saved to: ./results/opt/best_initial_models/SF_Default_Scaled_Rewards_2_000_000_timesteps\n",
      "Total train time in minutes: 109.62\n",
      "\n",
      "Test: 2 out of 4\n",
      "{'policy': 'CnnPolicy', 'buffer_size': 50000, 'learning_rate': 0.0001, 'batch_size': 32, 'learning_starts': 100000, 'target_update_interval': 1000, 'train_freq': 4, 'gradient_steps': 1, 'exploration_fraction': 0.1, 'exploration_final_eps': 0.01, 'seed': 2}\n",
      "module: SF_New_Movement_Data_Scaled_Rewards, env_func: make_dqn_env, policy: CnnPolicy\n",
      "Learning...\n"
     ]
    },
    {
     "data": {
      "application/vnd.jupyter.widget-view+json": {
       "model_id": "030447cb8e5e4c3596950c3fd1c1176c",
       "version_major": 2,
       "version_minor": 0
      },
      "text/plain": [
       "Output()"
      ]
     },
     "metadata": {},
     "output_type": "display_data"
    },
    {
     "data": {
      "text/html": [
       "<pre style=\"white-space:pre;overflow-x:auto;line-height:normal;font-family:Menlo,'DejaVu Sans Mono',consolas,'Courier New',monospace\"></pre>\n"
      ],
      "text/plain": []
     },
     "metadata": {},
     "output_type": "display_data"
    },
    {
     "data": {
      "text/html": [
       "<pre style=\"white-space:pre;overflow-x:auto;line-height:normal;font-family:Menlo,'DejaVu Sans Mono',consolas,'Courier New',monospace\">\n",
       "</pre>\n"
      ],
      "text/plain": [
       "\n"
      ]
     },
     "metadata": {},
     "output_type": "display_data"
    },
    {
     "name": "stdout",
     "output_type": "stream",
     "text": [
      "Model Saved to: ./results/opt/best_initial_models/SF_New_Movement_Data_Scaled_Rewards_2_000_000_timesteps\n",
      "Total train time in minutes: 105.49\n",
      "\n"
     ]
    }
   ],
   "source": [
    "for module in all_test_mods.get_test_modules()[2:]:\n",
    "    for env_func in all_env_functions.get_env_func_list():\n",
    "        for h_param in h_params_list:\n",
    "            \n",
    "            policy = h_param['policy']\n",
    "            test_name = f'module: {str(module.__name__)}, env_func: {env_func.__name__}, policy: {policy}'\n",
    "            expr.set_base_env(module)\n",
    "            expr.set_env_func(env_func)\n",
    "            expr.set_tb_log_name(test_name)\n",
    "            \n",
    "            start = time.time()\n",
    "            print(f'Test: {test} out of {total}')\n",
    "            print(h_param)\n",
    "            print(test_name)\n",
    "            expr.train_model(total_timesteps=3_000_000, hyper_params=h_param)\n",
    "            save_dir = f'{OPT_DIR}best_initial_models/{str(module.__name__)}_2_000_000_timesteps'\n",
    "            expr.save_model(save_dir=save_dir)\n",
    "\n",
    "            end = time.time()\n",
    "            elapsed = round(((end - start) /60), 2)\n",
    "            print(f'Total train time in minutes: {elapsed}')\n",
    "            print()\n",
    "\n",
    "            test += 1\n",
    "\n",
    "            cleanup_device()\n"
   ]
  }
 ],
 "metadata": {
  "kernelspec": {
   "display_name": ".venv",
   "language": "python",
   "name": "python3"
  },
  "language_info": {
   "codemirror_mode": {
    "name": "ipython",
    "version": 3
   },
   "file_extension": ".py",
   "mimetype": "text/x-python",
   "name": "python",
   "nbconvert_exporter": "python",
   "pygments_lexer": "ipython3",
   "version": "3.10.12"
  }
 },
 "nbformat": 4,
 "nbformat_minor": 2
}
